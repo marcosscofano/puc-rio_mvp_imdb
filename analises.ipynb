{
 "cells": [
  {
   "cell_type": "markdown",
   "metadata": {
    "application/vnd.databricks.v1+cell": {
     "cellMetadata": {
      "byteLimit": 2048000,
      "rowLimit": 10000
     },
     "inputWidgets": {},
     "nuid": "915d39a9-1c19-4708-827e-75c8430aa396",
     "showTitle": false,
     "tableResultSettingsMap": {},
     "title": ""
    }
   },
   "source": [
    "\n",
    "# Solução do Problema\n",
    "\n",
    "Seguem abaixo as respostas das questões levantadas no Objetivo do MVP."
   ]
  },
  {
   "cell_type": "markdown",
   "metadata": {
    "application/vnd.databricks.v1+cell": {
     "cellMetadata": {
      "byteLimit": 2048000,
      "rowLimit": 10000
     },
     "inputWidgets": {},
     "nuid": "9b38b212-d888-4cdf-b77a-21fbfa6f7433",
     "showTitle": false,
     "tableResultSettingsMap": {},
     "title": ""
    }
   },
   "source": [
    "\n",
    "## Quais são os 10 filmes que possuem o maior número de avaliações dos usuários?"
   ]
  },
  {
   "cell_type": "code",
   "execution_count": 0,
   "metadata": {
    "application/vnd.databricks.v1+cell": {
     "cellMetadata": {
      "byteLimit": 2048000,
      "implicitDf": true,
      "rowLimit": 10000
     },
     "inputWidgets": {},
     "nuid": "4af5f042-4bfc-4a10-b082-06ce9865f043",
     "showTitle": false,
     "tableResultSettingsMap": {},
     "title": ""
    }
   },
   "outputs": [
    {
     "output_type": "display_data",
     "data": {
      "text/html": [
       "<style scoped>\n",
       "  .table-result-container {\n",
       "    max-height: 300px;\n",
       "    overflow: auto;\n",
       "  }\n",
       "  table, th, td {\n",
       "    border: 1px solid black;\n",
       "    border-collapse: collapse;\n",
       "  }\n",
       "  th, td {\n",
       "    padding: 5px;\n",
       "  }\n",
       "  th {\n",
       "    text-align: left;\n",
       "  }\n",
       "</style><div class='table-result-container'><table class='table-result'><thead style='background-color: white'><tr><th>Identificador da Obra</th><th>Nome do Filme</th><th>Número de Votos</th><th>Link para o Filme</th></tr></thead><tbody><tr><td>tt0111161</td><td>The Shawshank Redemption</td><td>3.023.533</td><td>https://www.imdb.com/pt/title/tt0111161</td></tr><tr><td>tt0468569</td><td>The Dark Knight</td><td>2.999.731</td><td>https://www.imdb.com/pt/title/tt0468569</td></tr><tr><td>tt1375666</td><td>Inception</td><td>2.665.928</td><td>https://www.imdb.com/pt/title/tt1375666</td></tr><tr><td>tt0137523</td><td>Fight Club</td><td>2.445.325</td><td>https://www.imdb.com/pt/title/tt0137523</td></tr><tr><td>tt0109830</td><td>Forrest Gump</td><td>2.363.481</td><td>https://www.imdb.com/pt/title/tt0109830</td></tr><tr><td>tt0110912</td><td>Pulp Fiction</td><td>2.320.063</td><td>https://www.imdb.com/pt/title/tt0110912</td></tr><tr><td>tt0816692</td><td>Interstellar</td><td>2.317.550</td><td>https://www.imdb.com/pt/title/tt0816692</td></tr><tr><td>tt0133093</td><td>The Matrix</td><td>2.142.073</td><td>https://www.imdb.com/pt/title/tt0133093</td></tr><tr><td>tt0068646</td><td>The Godfather</td><td>2.110.101</td><td>https://www.imdb.com/pt/title/tt0068646</td></tr><tr><td>tt0120737</td><td>The Lord of the Rings: The Fellowship of the Ring</td><td>2.094.804</td><td>https://www.imdb.com/pt/title/tt0120737</td></tr></tbody></table></div>"
      ]
     },
     "metadata": {
      "application/vnd.databricks.v1+output": {
       "addedWidgets": {},
       "aggData": [],
       "aggError": "",
       "aggOverflow": false,
       "aggSchema": [],
       "aggSeriesLimitReached": false,
       "aggType": "",
       "arguments": {},
       "columnCustomDisplayInfos": {},
       "data": [
        [
         "tt0111161",
         "The Shawshank Redemption",
         "3.023.533",
         "https://www.imdb.com/pt/title/tt0111161"
        ],
        [
         "tt0468569",
         "The Dark Knight",
         "2.999.731",
         "https://www.imdb.com/pt/title/tt0468569"
        ],
        [
         "tt1375666",
         "Inception",
         "2.665.928",
         "https://www.imdb.com/pt/title/tt1375666"
        ],
        [
         "tt0137523",
         "Fight Club",
         "2.445.325",
         "https://www.imdb.com/pt/title/tt0137523"
        ],
        [
         "tt0109830",
         "Forrest Gump",
         "2.363.481",
         "https://www.imdb.com/pt/title/tt0109830"
        ],
        [
         "tt0110912",
         "Pulp Fiction",
         "2.320.063",
         "https://www.imdb.com/pt/title/tt0110912"
        ],
        [
         "tt0816692",
         "Interstellar",
         "2.317.550",
         "https://www.imdb.com/pt/title/tt0816692"
        ],
        [
         "tt0133093",
         "The Matrix",
         "2.142.073",
         "https://www.imdb.com/pt/title/tt0133093"
        ],
        [
         "tt0068646",
         "The Godfather",
         "2.110.101",
         "https://www.imdb.com/pt/title/tt0068646"
        ],
        [
         "tt0120737",
         "The Lord of the Rings: The Fellowship of the Ring",
         "2.094.804",
         "https://www.imdb.com/pt/title/tt0120737"
        ]
       ],
       "datasetInfos": [],
       "dbfsResultPath": null,
       "isJsonSchema": true,
       "metadata": {},
       "overflow": false,
       "plotOptions": {
        "customPlotOptions": {},
        "displayType": "table",
        "pivotAggregation": null,
        "pivotColumns": null,
        "xColumns": null,
        "yColumns": null
       },
       "removedWidgets": [],
       "schema": [
        {
         "metadata": "{}",
         "name": "Identificador da Obra",
         "type": "\"string\""
        },
        {
         "metadata": "{}",
         "name": "Nome do Filme",
         "type": "\"string\""
        },
        {
         "metadata": "{}",
         "name": "Número de Votos",
         "type": "\"string\""
        },
        {
         "metadata": "{}",
         "name": "Link para o Filme",
         "type": "\"string\""
        }
       ],
       "type": "table"
      }
     },
     "output_type": "display_data"
    }
   ],
   "source": [
    "%sql\n",
    "--Quais são os 10 filmes que possuem o maior número de avaliações dos usuários?\n",
    "SELECT \n",
    "    id_obra AS `Identificador da Obra`,\n",
    "    tx_nome_obra AS `Nome do Filme`,\n",
    "    REGEXP_REPLACE(FORMAT_NUMBER(nu_votos, 0), ',', '.') AS `Número de Votos`,\n",
    "    'https://www.imdb.com/pt/title/' || id_obra as `Link para o Filme`\n",
    "FROM \n",
    "    curado.fato_filmes ff1\n",
    "WHERE \n",
    "    (\n",
    "        SELECT \n",
    "            count(*) \n",
    "        FROM \n",
    "            curado.fato_filmes ff2 \n",
    "        WHERE \n",
    "            ff2.nu_votos > ff1.nu_votos \n",
    "            AND ff2.nu_votos IS NOT null\n",
    "    ) < 10\n",
    "    AND ff1.nu_votos IS NOT null\n",
    "ORDER BY nu_votos DESC;"
   ]
  },
  {
   "cell_type": "markdown",
   "metadata": {
    "application/vnd.databricks.v1+cell": {
     "cellMetadata": {
      "byteLimit": 2048000,
      "rowLimit": 10000
     },
     "inputWidgets": {},
     "nuid": "c444fa52-b4f0-47e7-9d24-1b7a03712a2d",
     "showTitle": false,
     "tableResultSettingsMap": {},
     "title": ""
    }
   },
   "source": [
    "**Comentário:** foram selecionados os 10 filmes que possuem mais votos no IMDB, sendo que foram retirados aqueles sem a informação do número de votos (nulo). Esse ranking é um indicativo da popularidade do filme, uma vez que as avaliações são feitas pelos próprios usuários do IMDB. Não foi utilizado o artifício de limitar o número de linhas do retorno  da _query_ (LIMIT 10), mas sim foi feito o teste usando a própria sintaxe do SQL por uma _subquery_."
   ]
  },
  {
   "cell_type": "markdown",
   "metadata": {
    "application/vnd.databricks.v1+cell": {
     "cellMetadata": {
      "byteLimit": 2048000,
      "rowLimit": 10000
     },
     "inputWidgets": {},
     "nuid": "dc102c30-8ec7-46ad-b92a-157fff003985",
     "showTitle": false,
     "tableResultSettingsMap": {},
     "title": ""
    }
   },
   "source": [
    "## Qual é o ranking dos 20 filmes mais bem avaliados?"
   ]
  },
  {
   "cell_type": "code",
   "execution_count": 0,
   "metadata": {
    "application/vnd.databricks.v1+cell": {
     "cellMetadata": {
      "byteLimit": 2048000,
      "implicitDf": true,
      "rowLimit": 10000
     },
     "inputWidgets": {},
     "nuid": "5f47dca5-a543-4f8c-84af-d866e0f3bd1c",
     "showTitle": false,
     "tableResultSettingsMap": {},
     "title": ""
    }
   },
   "outputs": [
    {
     "output_type": "display_data",
     "data": {
      "text/html": [
       "<style scoped>\n",
       "  .table-result-container {\n",
       "    max-height: 300px;\n",
       "    overflow: auto;\n",
       "  }\n",
       "  table, th, td {\n",
       "    border: 1px solid black;\n",
       "    border-collapse: collapse;\n",
       "  }\n",
       "  th, td {\n",
       "    padding: 5px;\n",
       "  }\n",
       "  th {\n",
       "    text-align: left;\n",
       "  }\n",
       "</style><div class='table-result-container'><table class='table-result'><thead style='background-color: white'><tr><th>Identificador da Obra</th><th>Nome do Filme</th><th>Avaliação</th><th>Número de Votos</th><th>Link para o Filme</th></tr></thead><tbody><tr><td>tt0111161</td><td>The Shawshank Redemption</td><td>9.3</td><td>3.023.533</td><td>https://www.imdb.com/pt/title/tt0111161</td></tr><tr><td>tt0068646</td><td>The Godfather</td><td>9.2</td><td>2.110.101</td><td>https://www.imdb.com/pt/title/tt0068646</td></tr><tr><td>tt0108052</td><td>Schindler's List</td><td>9.0</td><td>1.513.409</td><td>https://www.imdb.com/pt/title/tt0108052</td></tr><tr><td>tt0050083</td><td>12 Angry Men</td><td>9.0</td><td>917.999</td><td>https://www.imdb.com/pt/title/tt0050083</td></tr><tr><td>tt0071562</td><td>The Godfather Part II</td><td>9.0</td><td>1.420.917</td><td>https://www.imdb.com/pt/title/tt0071562</td></tr><tr><td>tt0468569</td><td>The Dark Knight</td><td>9.0</td><td>2.999.731</td><td>https://www.imdb.com/pt/title/tt0468569</td></tr><tr><td>tt0167260</td><td>The Lord of the Rings: The Return of the King</td><td>9.0</td><td>2.065.378</td><td>https://www.imdb.com/pt/title/tt0167260</td></tr><tr><td>tt0110912</td><td>Pulp Fiction</td><td>8.9</td><td>2.320.063</td><td>https://www.imdb.com/pt/title/tt0110912</td></tr><tr><td>tt0120737</td><td>The Lord of the Rings: The Fellowship of the Ring</td><td>8.9</td><td>2.094.804</td><td>https://www.imdb.com/pt/title/tt0120737</td></tr><tr><td>tt0109830</td><td>Forrest Gump</td><td>8.8</td><td>2.363.481</td><td>https://www.imdb.com/pt/title/tt0109830</td></tr><tr><td>tt0137523</td><td>Fight Club</td><td>8.8</td><td>2.445.325</td><td>https://www.imdb.com/pt/title/tt0137523</td></tr><tr><td>tt0167261</td><td>The Lord of the Rings: The Two Towers</td><td>8.8</td><td>1.861.719</td><td>https://www.imdb.com/pt/title/tt0167261</td></tr><tr><td>tt0060196</td><td>The Good, the Bad and the Ugly</td><td>8.8</td><td>847.762</td><td>https://www.imdb.com/pt/title/tt0060196</td></tr><tr><td>tt1375666</td><td>Inception</td><td>8.8</td><td>2.665.928</td><td>https://www.imdb.com/pt/title/tt1375666</td></tr><tr><td>tt23849204</td><td>12th Fail</td><td>8.8</td><td>144.734</td><td>https://www.imdb.com/pt/title/tt23849204</td></tr><tr><td>tt0133093</td><td>The Matrix</td><td>8.7</td><td>2.142.073</td><td>https://www.imdb.com/pt/title/tt0133093</td></tr><tr><td>tt0099685</td><td>Goodfellas</td><td>8.7</td><td>1.316.154</td><td>https://www.imdb.com/pt/title/tt0099685</td></tr><tr><td>tt0816692</td><td>Interstellar</td><td>8.7</td><td>2.317.550</td><td>https://www.imdb.com/pt/title/tt0816692</td></tr><tr><td>tt0080684</td><td>Star Wars: Episode V - The Empire Strikes Back</td><td>8.7</td><td>1.432.180</td><td>https://www.imdb.com/pt/title/tt0080684</td></tr><tr><td>tt0073486</td><td>One Flew Over the Cuckoo's Nest</td><td>8.7</td><td>1.111.032</td><td>https://www.imdb.com/pt/title/tt0073486</td></tr><tr><td>tt10189514</td><td>Soorarai Pottru</td><td>8.7</td><td>127.277</td><td>https://www.imdb.com/pt/title/tt10189514</td></tr><tr><td>tt15097216</td><td>Jai Bhim</td><td>8.7</td><td>224.395</td><td>https://www.imdb.com/pt/title/tt15097216</td></tr></tbody></table></div>"
      ]
     },
     "metadata": {
      "application/vnd.databricks.v1+output": {
       "addedWidgets": {},
       "aggData": [],
       "aggError": "",
       "aggOverflow": false,
       "aggSchema": [],
       "aggSeriesLimitReached": false,
       "aggType": "",
       "arguments": {},
       "columnCustomDisplayInfos": {},
       "data": [
        [
         "tt0111161",
         "The Shawshank Redemption",
         "9.3",
         "3.023.533",
         "https://www.imdb.com/pt/title/tt0111161"
        ],
        [
         "tt0068646",
         "The Godfather",
         "9.2",
         "2.110.101",
         "https://www.imdb.com/pt/title/tt0068646"
        ],
        [
         "tt0108052",
         "Schindler's List",
         "9.0",
         "1.513.409",
         "https://www.imdb.com/pt/title/tt0108052"
        ],
        [
         "tt0050083",
         "12 Angry Men",
         "9.0",
         "917.999",
         "https://www.imdb.com/pt/title/tt0050083"
        ],
        [
         "tt0071562",
         "The Godfather Part II",
         "9.0",
         "1.420.917",
         "https://www.imdb.com/pt/title/tt0071562"
        ],
        [
         "tt0468569",
         "The Dark Knight",
         "9.0",
         "2.999.731",
         "https://www.imdb.com/pt/title/tt0468569"
        ],
        [
         "tt0167260",
         "The Lord of the Rings: The Return of the King",
         "9.0",
         "2.065.378",
         "https://www.imdb.com/pt/title/tt0167260"
        ],
        [
         "tt0110912",
         "Pulp Fiction",
         "8.9",
         "2.320.063",
         "https://www.imdb.com/pt/title/tt0110912"
        ],
        [
         "tt0120737",
         "The Lord of the Rings: The Fellowship of the Ring",
         "8.9",
         "2.094.804",
         "https://www.imdb.com/pt/title/tt0120737"
        ],
        [
         "tt0109830",
         "Forrest Gump",
         "8.8",
         "2.363.481",
         "https://www.imdb.com/pt/title/tt0109830"
        ],
        [
         "tt0137523",
         "Fight Club",
         "8.8",
         "2.445.325",
         "https://www.imdb.com/pt/title/tt0137523"
        ],
        [
         "tt0167261",
         "The Lord of the Rings: The Two Towers",
         "8.8",
         "1.861.719",
         "https://www.imdb.com/pt/title/tt0167261"
        ],
        [
         "tt0060196",
         "The Good, the Bad and the Ugly",
         "8.8",
         "847.762",
         "https://www.imdb.com/pt/title/tt0060196"
        ],
        [
         "tt1375666",
         "Inception",
         "8.8",
         "2.665.928",
         "https://www.imdb.com/pt/title/tt1375666"
        ],
        [
         "tt23849204",
         "12th Fail",
         "8.8",
         "144.734",
         "https://www.imdb.com/pt/title/tt23849204"
        ],
        [
         "tt0133093",
         "The Matrix",
         "8.7",
         "2.142.073",
         "https://www.imdb.com/pt/title/tt0133093"
        ],
        [
         "tt0099685",
         "Goodfellas",
         "8.7",
         "1.316.154",
         "https://www.imdb.com/pt/title/tt0099685"
        ],
        [
         "tt0816692",
         "Interstellar",
         "8.7",
         "2.317.550",
         "https://www.imdb.com/pt/title/tt0816692"
        ],
        [
         "tt0080684",
         "Star Wars: Episode V - The Empire Strikes Back",
         "8.7",
         "1.432.180",
         "https://www.imdb.com/pt/title/tt0080684"
        ],
        [
         "tt0073486",
         "One Flew Over the Cuckoo's Nest",
         "8.7",
         "1.111.032",
         "https://www.imdb.com/pt/title/tt0073486"
        ],
        [
         "tt10189514",
         "Soorarai Pottru",
         "8.7",
         "127.277",
         "https://www.imdb.com/pt/title/tt10189514"
        ],
        [
         "tt15097216",
         "Jai Bhim",
         "8.7",
         "224.395",
         "https://www.imdb.com/pt/title/tt15097216"
        ]
       ],
       "datasetInfos": [],
       "dbfsResultPath": null,
       "isJsonSchema": true,
       "metadata": {},
       "overflow": false,
       "plotOptions": {
        "customPlotOptions": {},
        "displayType": "table",
        "pivotAggregation": null,
        "pivotColumns": null,
        "xColumns": null,
        "yColumns": null
       },
       "removedWidgets": [],
       "schema": [
        {
         "metadata": "{}",
         "name": "Identificador da Obra",
         "type": "\"string\""
        },
        {
         "metadata": "{}",
         "name": "Nome do Filme",
         "type": "\"string\""
        },
        {
         "metadata": "{}",
         "name": "Avaliação",
         "type": "\"string\""
        },
        {
         "metadata": "{}",
         "name": "Número de Votos",
         "type": "\"string\""
        },
        {
         "metadata": "{}",
         "name": "Link para o Filme",
         "type": "\"string\""
        }
       ],
       "type": "table"
      }
     },
     "output_type": "display_data"
    }
   ],
   "source": [
    "%sql\n",
    "--Qual é o ranking dos 20 filmes mais bem avaliados?\n",
    "SELECT \n",
    "    id_obra AS `Identificador da Obra`,\n",
    "    tx_nome_obra AS `Nome do Filme`,\n",
    "    REGEXP_REPLACE(FORMAT_NUMBER(vl_avaliacao_media, 1), ',', '.') AS `Avaliação`,\n",
    "    REGEXP_REPLACE(FORMAT_NUMBER(nu_votos, 0), ',', '.') AS `Número de Votos`,\n",
    "    'https://www.imdb.com/pt/title/' || id_obra AS `Link para o Filme`\n",
    "FROM \n",
    "    curado.fato_filmes ff1\n",
    "where \n",
    "    (\n",
    "            SELECT \n",
    "                COUNT(*)\n",
    "            FROM \n",
    "                curado.fato_filmes ff2\n",
    "            WHERE \n",
    "                ff2.vl_avaliacao_media > ff1.vl_avaliacao_media \n",
    "                AND ff2.nu_votos > 50000 \n",
    "                AND ff2.vl_avaliacao_media IS NOT null\n",
    "    ) < 20\n",
    "    AND ff1.vl_avaliacao_media IS NOT null\n",
    "    AND ff1.nu_votos > 50000\n",
    "ORDER BY \n",
    "    vl_avaliacao_media DESC;"
   ]
  },
  {
   "cell_type": "markdown",
   "metadata": {
    "application/vnd.databricks.v1+cell": {
     "cellMetadata": {
      "byteLimit": 2048000,
      "rowLimit": 10000
     },
     "inputWidgets": {},
     "nuid": "f762c4c5-50d0-4cf9-8085-cff5b790f597",
     "showTitle": false,
     "tableResultSettingsMap": {},
     "title": ""
    }
   },
   "source": [
    "**Comentário:** inicialmente a resposta foi realizada sem o filtro de número do votos (nu_votos > 50000), mas verificou-se uma grande quantidade de títulos bem avaliados, mas com um pequeno número de votos. Dessa forma, para garantir que fossem selecionados filmes mais conhecidos, foi feito arbitrariamente o filtro pelo número de votos. Os pontos negativos dessa estratégia são: penalizar os filmes mais antigos que naturalmente possuem menos votos que os filmes mais recentes e; penalizar filmes realmente bons, mas que estão fora do _mainstream_."
   ]
  },
  {
   "cell_type": "markdown",
   "metadata": {
    "application/vnd.databricks.v1+cell": {
     "cellMetadata": {
      "byteLimit": 2048000,
      "rowLimit": 10000
     },
     "inputWidgets": {},
     "nuid": "afda763e-7d1f-44bc-b8a8-7f788c8df176",
     "showTitle": false,
     "tableResultSettingsMap": {},
     "title": ""
    }
   },
   "source": [
    "## Quais atores e atrizes mais aparecem nos filmes do ranking dos 100 filmes mais bem avaliados?"
   ]
  },
  {
   "cell_type": "code",
   "execution_count": 0,
   "metadata": {
    "application/vnd.databricks.v1+cell": {
     "cellMetadata": {
      "byteLimit": 2048000,
      "implicitDf": true,
      "rowLimit": 10000
     },
     "inputWidgets": {},
     "nuid": "3a99c7d9-33c3-410a-8c17-ab3591711859",
     "showTitle": false,
     "tableResultSettingsMap": {},
     "title": ""
    }
   },
   "outputs": [
    {
     "output_type": "display_data",
     "data": {
      "text/html": [
       "<style scoped>\n",
       "  .table-result-container {\n",
       "    max-height: 300px;\n",
       "    overflow: auto;\n",
       "  }\n",
       "  table, th, td {\n",
       "    border: 1px solid black;\n",
       "    border-collapse: collapse;\n",
       "  }\n",
       "  th, td {\n",
       "    padding: 5px;\n",
       "  }\n",
       "  th {\n",
       "    text-align: left;\n",
       "  }\n",
       "</style><div class='table-result-container'><table class='table-result'><thead style='background-color: white'><tr><th>Identificador do Artista</th><th>Nome do Artista</th><th>Quantidade de Aparições</th><th>Link para o Artista</th></tr></thead><tbody><tr><td>nm0000375</td><td>Robert Downey Jr.</td><td>5</td><td>https://www.imdb.com/pt/name/nm0000375</td></tr><tr><td>nm0000134</td><td>Robert De Niro</td><td>5</td><td>https://www.imdb.com/pt/name/nm0000134</td></tr><tr><td>nm0000158</td><td>Tom Hanks</td><td>5</td><td>https://www.imdb.com/pt/name/nm0000158</td></tr><tr><td>nm0000148</td><td>Harrison Ford</td><td>5</td><td>https://www.imdb.com/pt/name/nm0000148</td></tr><tr><td>nm0424060</td><td>Scarlett Johansson</td><td>5</td><td>https://www.imdb.com/pt/name/nm0424060</td></tr><tr><td>nm0749263</td><td>Mark Ruffalo</td><td>5</td><td>https://www.imdb.com/pt/name/nm0749263</td></tr><tr><td>nm0000151</td><td>Morgan Freeman</td><td>4</td><td>https://www.imdb.com/pt/name/nm0000151</td></tr><tr><td>nm0000122</td><td>Charles Chaplin</td><td>4</td><td>https://www.imdb.com/pt/name/nm0000122</td></tr><tr><td>nm0000332</td><td>Don Cheadle</td><td>4</td><td>https://www.imdb.com/pt/name/nm0000332</td></tr><tr><td>nm0687189</td><td>Suzanne Pleshette</td><td>4</td><td>https://www.imdb.com/pt/name/nm0687189</td></tr><tr><td>nm0000199</td><td>Al Pacino</td><td>4</td><td>https://www.imdb.com/pt/name/nm0000199</td></tr><tr><td>nm0001652</td><td>John Ratzenberger</td><td>4</td><td>https://www.imdb.com/pt/name/nm0001652</td></tr><tr><td>nm0000354</td><td>Matt Damon</td><td>4</td><td>https://www.imdb.com/pt/name/nm0000354</td></tr><tr><td>nm0000704</td><td>Elijah Wood</td><td>4</td><td>https://www.imdb.com/pt/name/nm0000704</td></tr><tr><td>nm0224007</td><td>John DiMaggio</td><td>4</td><td>https://www.imdb.com/pt/name/nm0224007</td></tr><tr><td>nm0262635</td><td>Chris Evans</td><td>4</td><td>https://www.imdb.com/pt/name/nm0262635</td></tr><tr><td>nm1019674</td><td>Sala Baker</td><td>4</td><td>https://www.imdb.com/pt/name/nm1019674</td></tr><tr><td>nm1569276</td><td>Chadwick Boseman</td><td>4</td><td>https://www.imdb.com/pt/name/nm1569276</td></tr><tr><td>nm3818286</td><td>Sushant Singh Rajput</td><td>3</td><td>https://www.imdb.com/pt/name/nm3818286</td></tr><tr><td>nm0000071</td><td>James Stewart</td><td>3</td><td>https://www.imdb.com/pt/name/nm0000071</td></tr><tr><td>nm0000288</td><td>Christian Bale</td><td>3</td><td>https://www.imdb.com/pt/name/nm0000288</td></tr><tr><td>nm0000138</td><td>Leonardo DiCaprio</td><td>3</td><td>https://www.imdb.com/pt/name/nm0000138</td></tr><tr><td>nm0000434</td><td>Mark Hamill</td><td>3</td><td>https://www.imdb.com/pt/name/nm0000434</td></tr><tr><td>nm0000619</td><td>Tim Roth</td><td>3</td><td>https://www.imdb.com/pt/name/nm0000619</td></tr><tr><td>nm0562679</td><td>Peter Mayhew</td><td>3</td><td>https://www.imdb.com/pt/name/nm0562679</td></tr><tr><td>nm0000027</td><td>Alec Guinness</td><td>3</td><td>https://www.imdb.com/pt/name/nm0000027</td></tr><tr><td>nm0793766</td><td>Takashi Shimura</td><td>3</td><td>https://www.imdb.com/pt/name/nm0793766</td></tr><tr><td>nm0375609</td><td>Brigitte Helm</td><td>3</td><td>https://www.imdb.com/pt/name/nm0375609</td></tr><tr><td>nm0000402</td><td>Carrie Fisher</td><td>3</td><td>https://www.imdb.com/pt/name/nm0000402</td></tr><tr><td>nm0451148</td><td>Aamir Khan</td><td>3</td><td>https://www.imdb.com/pt/name/nm0451148</td></tr><tr><td>nm0000198</td><td>Gary Oldman</td><td>3</td><td>https://www.imdb.com/pt/name/nm0000198</td></tr><tr><td>nm0000634</td><td>Peter Sellers</td><td>3</td><td>https://www.imdb.com/pt/name/nm0000634</td></tr><tr><td>nm0000093</td><td>Brad Pitt</td><td>3</td><td>https://www.imdb.com/pt/name/nm0000093</td></tr><tr><td>nm0005212</td><td>Ian McKellen</td><td>3</td><td>https://www.imdb.com/pt/name/nm0005212</td></tr><tr><td>nm0000469</td><td>James Earl Jones</td><td>3</td><td>https://www.imdb.com/pt/name/nm0000469</td></tr><tr><td>nm0000355</td><td>Anthony Daniels</td><td>3</td><td>https://www.imdb.com/pt/name/nm0000355</td></tr><tr><td>nm1306410</td><td>Sahil Vaid</td><td>3</td><td>https://www.imdb.com/pt/name/nm1306410</td></tr><tr><td>nm0000197</td><td>Jack Nicholson</td><td>3</td><td>https://www.imdb.com/pt/name/nm0000197</td></tr><tr><td>nm1421814</td><td>Suriya</td><td>3</td><td>https://www.imdb.com/pt/name/nm1421814</td></tr><tr><td>nm0000380</td><td>Robert Duvall</td><td>3</td><td>https://www.imdb.com/pt/name/nm0000380</td></tr><tr><td>nm0614165</td><td>Cillian Murphy</td><td>3</td><td>https://www.imdb.com/pt/name/nm0614165</td></tr><tr><td>nm0000228</td><td>Kevin Spacey</td><td>3</td><td>https://www.imdb.com/pt/name/nm0000228</td></tr><tr><td>nm0410942</td><td>Yuriko Ishida</td><td>3</td><td>https://www.imdb.com/pt/name/nm0410942</td></tr><tr><td>nm0000244</td><td>Sigourney Weaver</td><td>3</td><td>https://www.imdb.com/pt/name/nm0000244</td></tr><tr><td>nm0000276</td><td>Sean Astin</td><td>3</td><td>https://www.imdb.com/pt/name/nm0000276</td></tr><tr><td>nm0000323</td><td>Michael Caine</td><td>3</td><td>https://www.imdb.com/pt/name/nm0000323</td></tr><tr><td>nm0089217</td><td>Orlando Bloom</td><td>3</td><td>https://www.imdb.com/pt/name/nm0089217</td></tr><tr><td>nm0048652</td><td>Kenny Baker</td><td>3</td><td>https://www.imdb.com/pt/name/nm0048652</td></tr><tr><td>nm0519765</td><td>Theodor Loos</td><td>3</td><td>https://www.imdb.com/pt/name/nm0519765</td></tr><tr><td>nm0001571</td><td>Kim Novak</td><td>2</td><td>https://www.imdb.com/pt/name/nm0001571</td></tr><tr><td>nm5093499</td><td>Jasmine Cephas Jones</td><td>2</td><td>https://www.imdb.com/pt/name/nm5093499</td></tr><tr><td>nm0003424</td><td>Hank Mann</td><td>2</td><td>https://www.imdb.com/pt/name/nm0003424</td></tr><tr><td>nm4907202</td><td>Ravi Raghavendra</td><td>2</td><td>https://www.imdb.com/pt/name/nm4907202</td></tr><tr><td>nm0904967</td><td>Luna Lauren Velez</td><td>2</td><td>https://www.imdb.com/pt/name/nm0904967</td></tr><tr><td>nm6106368</td><td>Munishkanth</td><td>2</td><td>https://www.imdb.com/pt/name/nm6106368</td></tr><tr><td>nm3916460</td><td>Okieriete Onaodowan</td><td>2</td><td>https://www.imdb.com/pt/name/nm3916460</td></tr><tr><td>nm4043618</td><td>Tom Holland</td><td>2</td><td>https://www.imdb.com/pt/name/nm4043618</td></tr><tr><td>nm0000293</td><td>Sean Bean</td><td>2</td><td>https://www.imdb.com/pt/name/nm0000293</td></tr><tr><td>nm0000017</td><td>Marlene Dietrich</td><td>2</td><td>https://www.imdb.com/pt/name/nm0000017</td></tr><tr><td>nm0001557</td><td>Viggo Mortensen</td><td>2</td><td>https://www.imdb.com/pt/name/nm0001557</td></tr><tr><td>nm4377526</td><td>Daveed Diggs</td><td>2</td><td>https://www.imdb.com/pt/name/nm4377526</td></tr><tr><td>nm0001647</td><td>Claude Rains</td><td>2</td><td>https://www.imdb.com/pt/name/nm0001647</td></tr><tr><td>nm0000168</td><td>Samuel L. Jackson</td><td>2</td><td>https://www.imdb.com/pt/name/nm0000168</td></tr><tr><td>nm0001664</td><td>James Remar</td><td>2</td><td>https://www.imdb.com/pt/name/nm0001664</td></tr><tr><td>nm6588867</td><td>Anthony Ramos</td><td>2</td><td>https://www.imdb.com/pt/name/nm6588867</td></tr><tr><td>nm0016641</td><td>Fritz Alberti</td><td>2</td><td>https://www.imdb.com/pt/name/nm0016641</td></tr><tr><td>nm0000172</td><td>Harvey Keitel</td><td>2</td><td>https://www.imdb.com/pt/name/nm0000172</td></tr><tr><td>nm0074186</td><td>Grete Berger</td><td>2</td><td>https://www.imdb.com/pt/name/nm0074186</td></tr><tr><td>nm7829666</td><td>Vasanthi</td><td>2</td><td>https://www.imdb.com/pt/name/nm7829666</td></tr><tr><td>nm0123785</td><td>Ben Burtt</td><td>2</td><td>https://www.imdb.com/pt/name/nm0123785</td></tr><tr><td>nm0000401</td><td>Laurence Fishburne</td><td>2</td><td>https://www.imdb.com/pt/name/nm0000401</td></tr><tr><td>nm0748620</td><td>Paul Rudd</td><td>2</td><td>https://www.imdb.com/pt/name/nm0748620</td></tr><tr><td>nm8612305</td><td>Rashmika Mandanna</td><td>2</td><td>https://www.imdb.com/pt/name/nm8612305</td></tr><tr><td>nm0877185</td><td>Joe Turkel</td><td>2</td><td>https://www.imdb.com/pt/name/nm0877185</td></tr><tr><td>nm0000514</td><td>Michael Madsen</td><td>2</td><td>https://www.imdb.com/pt/name/nm0000514</td></tr><tr><td>nm2794962</td><td>Hailee Steinfeld</td><td>2</td><td>https://www.imdb.com/pt/name/nm2794962</td></tr><tr><td>nm7021807</td><td>Mrunal Thakur</td><td>2</td><td>https://www.imdb.com/pt/name/nm7021807</td></tr><tr><td>nm0000592</td><td>Pete Postlethwaite</td><td>2</td><td>https://www.imdb.com/pt/name/nm0000592</td></tr><tr><td>nm0000411</td><td>Edward Furlong</td><td>2</td><td>https://www.imdb.com/pt/name/nm0000411</td></tr><tr><td>nm0000610</td><td>Giovanni Ribisi</td><td>2</td><td>https://www.imdb.com/pt/name/nm0000610</td></tr><tr><td>nm4271336</td><td>Shameik Moore</td><td>2</td><td>https://www.imdb.com/pt/name/nm4271336</td></tr><tr><td>nm0000995</td><td>Ellen Burstyn</td><td>2</td><td>https://www.imdb.com/pt/name/nm0000995</td></tr><tr><td>nm0000732</td><td>Danny Aiello</td><td>2</td><td>https://www.imdb.com/pt/name/nm0000732</td></tr><tr><td>nm0001280</td><td>Jenette Goldstein</td><td>2</td><td>https://www.imdb.com/pt/name/nm0001280</td></tr><tr><td>nm0000048</td><td>Peter Lorre</td><td>2</td><td>https://www.imdb.com/pt/name/nm0000048</td></tr><tr><td>nm0330687</td><td>Joseph Gordon-Levitt</td><td>2</td><td>https://www.imdb.com/pt/name/nm0330687</td></tr><tr><td>nm0001330</td><td>Sterling Hayden</td><td>2</td><td>https://www.imdb.com/pt/name/nm0001330</td></tr><tr><td>nm0622412</td><td>Mari Natsuki</td><td>2</td><td>https://www.imdb.com/pt/name/nm0622412</td></tr><tr><td>nm0000378</td><td>Minnie Driver</td><td>2</td><td>https://www.imdb.com/pt/name/nm0000378</td></tr><tr><td>nm3109964</td><td>Brian Tyree Henry</td><td>2</td><td>https://www.imdb.com/pt/name/nm3109964</td></tr><tr><td>nm0001728</td><td>Wallace Shawn</td><td>2</td><td>https://www.imdb.com/pt/name/nm0001728</td></tr><tr><td>nm3348178</td><td>Geeta Agrawal Sharma</td><td>2</td><td>https://www.imdb.com/pt/name/nm3348178</td></tr><tr><td>nm0000132</td><td>Claire Danes</td><td>2</td><td>https://www.imdb.com/pt/name/nm0000132</td></tr><tr><td>nm0001744</td><td>Tom Sizemore</td><td>2</td><td>https://www.imdb.com/pt/name/nm0001744</td></tr><tr><td>nm4043111</td><td>Vijay Sethupathi</td><td>2</td><td>https://www.imdb.com/pt/name/nm4043111</td></tr><tr><td>nm0101603</td><td>Lombardo Boyar</td><td>2</td><td>https://www.imdb.com/pt/name/nm0101603</td></tr><tr><td>nm0000582</td><td>Joe Pesci</td><td>2</td><td>https://www.imdb.com/pt/name/nm0000582</td></tr><tr><td>nm0156928</td><td>Minoru Chiaki</td><td>2</td><td>https://www.imdb.com/pt/name/nm0156928</td></tr><tr><td>nm0000719</td><td>F. Murray Abraham</td><td>2</td><td>https://www.imdb.com/pt/name/nm0000719</td></tr><tr><td>nm0218555</td><td>John DeMita</td><td>2</td><td>https://www.imdb.com/pt/name/nm0218555</td></tr><tr><td>nm0000586</td><td>Jada Pinkett Smith</td><td>2</td><td>https://www.imdb.com/pt/name/nm0000586</td></tr><tr><td>nm0383708</td><td>Rumi Hiiragi</td><td>2</td><td>https://www.imdb.com/pt/name/nm0383708</td></tr><tr><td>nm0000008</td><td>Marlon Brando</td><td>2</td><td>https://www.imdb.com/pt/name/nm0000008</td></tr><tr><td>nm0534045</td><td>Fred MacMurray</td><td>2</td><td>https://www.imdb.com/pt/name/nm0534045</td></tr><tr><td>nm0000671</td><td>Billy Bob Thornton</td><td>2</td><td>https://www.imdb.com/pt/name/nm0000671</td></tr><tr><td>nm1323233</td><td>Mustafa Kamel</td><td>2</td><td>https://www.imdb.com/pt/name/nm1323233</td></tr><tr><td>nm0001079</td><td>Scatman Crothers</td><td>2</td><td>https://www.imdb.com/pt/name/nm0001079</td></tr><tr><td>nm0001072</td><td>Joseph Cotten</td><td>2</td><td>https://www.imdb.com/pt/name/nm0001072</td></tr><tr><td>nm0000741</td><td>Tim Allen</td><td>2</td><td>https://www.imdb.com/pt/name/nm0000741</td></tr><tr><td>nm0001190</td><td>David Prowse</td><td>2</td><td>https://www.imdb.com/pt/name/nm0001190</td></tr><tr><td>nm0001663</td><td>Paul Reiser</td><td>2</td><td>https://www.imdb.com/pt/name/nm0001663</td></tr><tr><td>nm0001608</td><td>Barry Pepper</td><td>2</td><td>https://www.imdb.com/pt/name/nm0001608</td></tr><tr><td>nm0000020</td><td>Henry Fonda</td><td>2</td><td>https://www.imdb.com/pt/name/nm0000020</td></tr><tr><td>nm0001679</td><td>Mark Rolston</td><td>2</td><td>https://www.imdb.com/pt/name/nm0001679</td></tr><tr><td>nm0004266</td><td>Anne Hathaway</td><td>2</td><td>https://www.imdb.com/pt/name/nm0004266</td></tr><tr><td>nm0001850</td><td>Billy Dee Williams</td><td>2</td><td>https://www.imdb.com/pt/name/nm0001850</td></tr><tr><td>nm0000568</td><td>Frank Oz</td><td>2</td><td>https://www.imdb.com/pt/name/nm0000568</td></tr><tr><td>nm0362766</td><td>Tom Hardy</td><td>2</td><td>https://www.imdb.com/pt/name/nm0362766</td></tr><tr><td>nm0101710</td><td>Billy Boyd</td><td>2</td><td>https://www.imdb.com/pt/name/nm0101710</td></tr><tr><td>nm0438496</td><td>Rajit Kapoor</td><td>2</td><td>https://www.imdb.com/pt/name/nm0438496</td></tr><tr><td>nm0000473</td><td>Diane Keaton</td><td>2</td><td>https://www.imdb.com/pt/name/nm0000473</td></tr><tr><td>nm0719637</td><td>Jeremy Renner</td><td>2</td><td>https://www.imdb.com/pt/name/nm0719637</td></tr><tr><td>nm0352032</td><td>Kamal Haasan</td><td>2</td><td>https://www.imdb.com/pt/name/nm0352032</td></tr><tr><td>nm0846004</td><td>Vic Tablian</td><td>2</td><td>https://www.imdb.com/pt/name/nm0846004</td></tr><tr><td>nm0001570</td><td>Edward Norton</td><td>2</td><td>https://www.imdb.com/pt/name/nm0001570</td></tr><tr><td>nm10236476</td><td>Saravanan</td><td>2</td><td>https://www.imdb.com/pt/name/nm10236476</td></tr><tr><td>nm0454087</td><td>Isao Kimura</td><td>2</td><td>https://www.imdb.com/pt/name/nm0454087</td></tr><tr><td>nm1212722</td><td>Benedict Cumberbatch</td><td>2</td><td>https://www.imdb.com/pt/name/nm1212722</td></tr><tr><td>nm0000640</td><td>Martin Sheen</td><td>2</td><td>https://www.imdb.com/pt/name/nm0000640</td></tr><tr><td>nm0762557</td><td>Erskine Sanford</td><td>2</td><td>https://www.imdb.com/pt/name/nm0762557</td></tr><tr><td>nm0001536</td><td>Toshirô Mifune</td><td>2</td><td>https://www.imdb.com/pt/name/nm0001536</td></tr><tr><td>nm0797567</td><td>Herbert Siguenza</td><td>2</td><td>https://www.imdb.com/pt/name/nm0797567</td></tr><tr><td>nm0000842</td><td>Martin Balsam</td><td>2</td><td>https://www.imdb.com/pt/name/nm0000842</td></tr><tr><td>nm0819525</td><td>G.D. Spradlin</td><td>2</td><td>https://www.imdb.com/pt/name/nm0819525</td></tr><tr><td>nm0001592</td><td>Joe Pantoliano</td><td>2</td><td>https://www.imdb.com/pt/name/nm0001592</td></tr><tr><td>nm1126340</td><td>Ryûnosuke Kamiki</td><td>2</td><td>https://www.imdb.com/pt/name/nm1126340</td></tr><tr><td>nm0001082</td><td>Billy Crudup</td><td>2</td><td>https://www.imdb.com/pt/name/nm0001082</td></tr><tr><td>nm0677037</td><td>Bob Peterson</td><td>2</td><td>https://www.imdb.com/pt/name/nm0677037</td></tr><tr><td>nm0001812</td><td>Lee Van Cleef</td><td>2</td><td>https://www.imdb.com/pt/name/nm0001812</td></tr><tr><td>nm3127758</td><td>Karleen Griffin</td><td>2</td><td>https://www.imdb.com/pt/name/nm3127758</td></tr><tr><td>nm0032370</td><td>Noel Appleby</td><td>2</td><td>https://www.imdb.com/pt/name/nm0032370</td></tr><tr><td>nm0001618</td><td>Joaquin Phoenix</td><td>2</td><td>https://www.imdb.com/pt/name/nm0001618</td></tr><tr><td>nm0080248</td><td>Santhana Bharathi</td><td>2</td><td>https://www.imdb.com/pt/name/nm0080248</td></tr><tr><td>nm0002104</td><td>Paulette Goddard</td><td>2</td><td>https://www.imdb.com/pt/name/nm0002104</td></tr><tr><td>nm0606658</td><td>John Morris</td><td>2</td><td>https://www.imdb.com/pt/name/nm0606658</td></tr><tr><td>nm0001827</td><td>Ray Walston</td><td>2</td><td>https://www.imdb.com/pt/name/nm0001827</td></tr><tr><td>nm0910607</td><td>Christoph Waltz</td><td>2</td><td>https://www.imdb.com/pt/name/nm0910607</td></tr><tr><td>nm0003248</td><td>Fritz Rasp</td><td>2</td><td>https://www.imdb.com/pt/name/nm0003248</td></tr><tr><td>nm1165110</td><td>Chris Hemsworth</td><td>2</td><td>https://www.imdb.com/pt/name/nm1165110</td></tr><tr><td>nm0005251</td><td>Carrie-Anne Moss</td><td>2</td><td>https://www.imdb.com/pt/name/nm0005251</td></tr><tr><td>nm3154303</td><td>Timothée Chalamet</td><td>2</td><td>https://www.imdb.com/pt/name/nm3154303</td></tr><tr><td>nm0045324</td><td>John Bach</td><td>2</td><td>https://www.imdb.com/pt/name/nm0045324</td></tr><tr><td>nm3289096</td><td>Sidharth Malhotra</td><td>2</td><td>https://www.imdb.com/pt/name/nm3289096</td></tr><tr><td>nm0135044</td><td>Peter Capell</td><td>2</td><td>https://www.imdb.com/pt/name/nm0135044</td></tr><tr><td>nm0191906</td><td>Jim Cummings</td><td>2</td><td>https://www.imdb.com/pt/name/nm0191906</td></tr><tr><td>nm0153738</td><td>Daveigh Chase</td><td>2</td><td>https://www.imdb.com/pt/name/nm0153738</td></tr><tr><td>nm0199787</td><td>Henry Daniell</td><td>2</td><td>https://www.imdb.com/pt/name/nm0199787</td></tr><tr><td>nm0182839</td><td>Marion Cotillard</td><td>2</td><td>https://www.imdb.com/pt/name/nm0182839</td></tr><tr><td>nm0297869</td><td>Kamatari Fujiwara</td><td>2</td><td>https://www.imdb.com/pt/name/nm0297869</td></tr><tr><td>nm0313447</td><td>Heinrich George</td><td>2</td><td>https://www.imdb.com/pt/name/nm0313447</td></tr><tr><td>nm0305087</td><td>Al Ernest Garcia</td><td>2</td><td>https://www.imdb.com/pt/name/nm0305087</td></tr><tr><td>nm0534856</td><td>Madhavan</td><td>2</td><td>https://www.imdb.com/pt/name/nm0534856</td></tr><tr><td>nm0597042</td><td>Clotilde Mollet</td><td>2</td><td>https://www.imdb.com/pt/name/nm0597042</td></tr><tr><td>nm0619938</td><td>Tatsuya Nakadai</td><td>2</td><td>https://www.imdb.com/pt/name/nm0619938</td></tr><tr><td>nm0725543</td><td>Don Rickles</td><td>2</td><td>https://www.imdb.com/pt/name/nm0725543</td></tr><tr><td>nm0785227</td><td>Andy Serkis</td><td>2</td><td>https://www.imdb.com/pt/name/nm0785227</td></tr><tr><td>nm0943978</td><td>Keenan Wynn</td><td>2</td><td>https://www.imdb.com/pt/name/nm0943978</td></tr><tr><td>nm0459030</td><td>Rudolf Klein-Rogge</td><td>2</td><td>https://www.imdb.com/pt/name/nm0459030</td></tr><tr><td>nm2159926</td><td>Jake Johnson</td><td>2</td><td>https://www.imdb.com/pt/name/nm2159926</td></tr><tr><td>nm0000511</td><td>Shirley MacLaine</td><td>1</td><td>https://www.imdb.com/pt/name/nm0000511</td></tr><tr><td>nm3745391</td><td>Park Myeong-hoon</td><td>1</td><td>https://www.imdb.com/pt/name/nm3745391</td></tr><tr><td>nm0001556</td><td>David Morse</td><td>1</td><td>https://www.imdb.com/pt/name/nm0001556</td></tr><tr><td>nm3559559</td><td>Rao Ramesh</td><td>1</td><td>https://www.imdb.com/pt/name/nm3559559</td></tr><tr><td>nm0001602</td><td>Guy Pearce</td><td>1</td><td>https://www.imdb.com/pt/name/nm0001602</td></tr><tr><td>nm3777127</td><td>Chhaya Kadam</td><td>1</td><td>https://www.imdb.com/pt/name/nm3777127</td></tr><tr><td>nm0001727</td><td>Robert Shaw</td><td>1</td><td>https://www.imdb.com/pt/name/nm0001727</td></tr><tr><td>nm3918035</td><td>Zendaya</td><td>1</td><td>https://www.imdb.com/pt/name/nm3918035</td></tr><tr><td>nm0001735</td><td>Talia Shire</td><td>1</td><td>https://www.imdb.com/pt/name/nm0001735</td></tr><tr><td>nm4158239</td><td>Dana Gourrier</td><td>1</td><td>https://www.imdb.com/pt/name/nm4158239</td></tr><tr><td>nm0001852</td><td>Treat Williams</td><td>1</td><td>https://www.imdb.com/pt/name/nm0001852</td></tr><tr><td>nm3684167</td><td>Vishnu Vishal</td><td>1</td><td>https://www.imdb.com/pt/name/nm3684167</td></tr><tr><td>nm0004650</td><td>Marisa Paredes</td><td>1</td><td>https://www.imdb.com/pt/name/nm0004650</td></tr><tr><td>nm4411190</td><td>Kanon Tani</td><td>1</td><td>https://www.imdb.com/pt/name/nm4411190</td></tr><tr><td>nm0005244</td><td>Fernanda Montenegro</td><td>1</td><td>https://www.imdb.com/pt/name/nm0005244</td></tr><tr><td>nm3795810</td><td>Tahir Raj Bhasin</td><td>1</td><td>https://www.imdb.com/pt/name/nm3795810</td></tr><tr><td>nm0037118</td><td>Richmond Arquette</td><td>1</td><td>https://www.imdb.com/pt/name/nm0037118</td></tr><tr><td>nm4725798</td><td>Aruldoss</td><td>1</td><td>https://www.imdb.com/pt/name/nm4725798</td></tr><tr><td>nm0056477</td><td>Byron Barr</td><td>1</td><td>https://www.imdb.com/pt/name/nm0056477</td></tr><tr><td>nm3990647</td><td>Valentina Herszage</td><td>1</td><td>https://www.imdb.com/pt/name/nm3990647</td></tr><tr><td>nm0110480</td><td>Peter Brocco</td><td>1</td><td>https://www.imdb.com/pt/name/nm0110480</td></tr><tr><td>nm5447706</td><td>Vikrant Massey</td><td>1</td><td>https://www.imdb.com/pt/name/nm5447706</td></tr><tr><td>nm0129295</td><td>Niketa Calame-Harris</td><td>1</td><td>https://www.imdb.com/pt/name/nm0129295</td></tr><tr><td>nm4525883</td><td>Jang Hye-jin</td><td>1</td><td>https://www.imdb.com/pt/name/nm4525883</td></tr><tr><td>nm0262745</td><td>Estelle Evans</td><td>1</td><td>https://www.imdb.com/pt/name/nm0262745</td></tr><tr><td>nm6073955</td><td>Florence Pugh</td><td>1</td><td>https://www.imdb.com/pt/name/nm6073955</td></tr><tr><td>nm0297054</td><td>Gustav Fröhlich</td><td>1</td><td>https://www.imdb.com/pt/name/nm0297054</td></tr><tr><td>nm4175221</td><td>Karan Soni</td><td>1</td><td>https://www.imdb.com/pt/name/nm4175221</td></tr><tr><td>nm0412917</td><td>Jaaved Jaaferi</td><td>1</td><td>https://www.imdb.com/pt/name/nm0412917</td></tr><tr><td>nm7621669</td><td>Suhani Bhatnagar</td><td>1</td><td>https://www.imdb.com/pt/name/nm7621669</td></tr><tr><td>nm0437520</td><td>Nobuo Kaneko</td><td>1</td><td>https://www.imdb.com/pt/name/nm0437520</td></tr><tr><td>nm3422941</td><td>Jeremy Leary</td><td>1</td><td>https://www.imdb.com/pt/name/nm3422941</td></tr><tr><td>nm0443016</td><td>Charles Kay</td><td>1</td><td>https://www.imdb.com/pt/name/nm0443016</td></tr><tr><td>nm9862859</td><td>Yordanos Shiferaw</td><td>1</td><td>https://www.imdb.com/pt/name/nm9862859</td></tr><tr><td>nm0447349</td><td>Paul Kemp</td><td>1</td><td>https://www.imdb.com/pt/name/nm0447349</td></tr><tr><td>nm4297610</td><td>Kimia Hosseini</td><td>1</td><td>https://www.imdb.com/pt/name/nm4297610</td></tr><tr><td>nm0515950</td><td>Danny Lloyd</td><td>1</td><td>https://www.imdb.com/pt/name/nm0515950</td></tr><tr><td>nm0000034</td><td>William Holden</td><td>1</td><td>https://www.imdb.com/pt/name/nm0000034</td></tr><tr><td>nm0520859</td><td>Livio Lorenzon</td><td>1</td><td>https://www.imdb.com/pt/name/nm0520859</td></tr><tr><td>nm4655454</td><td>Ahmad Massad</td><td>1</td><td>https://www.imdb.com/pt/name/nm4655454</td></tr><tr><td>nm0559922</td><td>Al Matthews</td><td>1</td><td>https://www.imdb.com/pt/name/nm0559922</td></tr><tr><td>nm0000037</td><td>Gene Kelly</td><td>1</td><td>https://www.imdb.com/pt/name/nm0000037</td></tr><tr><td>nm0585906</td><td>John Mighton</td><td>1</td><td>https://www.imdb.com/pt/name/nm0585906</td></tr><tr><td>nm4336119</td><td>Nate Lang</td><td>1</td><td>https://www.imdb.com/pt/name/nm4336119</td></tr><tr><td>nm0592756</td><td>Masao Mishima</td><td>1</td><td>https://www.imdb.com/pt/name/nm0592756</td></tr><tr><td>nm0000201</td><td>Michelle Pfeiffer</td><td>1</td><td>https://www.imdb.com/pt/name/nm0000201</td></tr><tr><td>nm0730168</td><td>Sam Robards</td><td>1</td><td>https://www.imdb.com/pt/name/nm0730168</td></tr><tr><td>nm4858403</td><td>Nobunaga Shimazaki</td><td>1</td><td>https://www.imdb.com/pt/name/nm4858403</td></tr><tr><td>nm0843213</td><td>William Sylvester</td><td>1</td><td>https://www.imdb.com/pt/name/nm0843213</td></tr><tr><td>nm0000233</td><td>Quentin Tarantino</td><td>1</td><td>https://www.imdb.com/pt/name/nm0000233</td></tr><tr><td>nm0875477</td><td>Keiko Tsushima</td><td>1</td><td>https://www.imdb.com/pt/name/nm0875477</td></tr><tr><td>nm4841645</td><td>Hussein Sami</td><td>1</td><td>https://www.imdb.com/pt/name/nm4841645</td></tr><tr><td>nm0915989</td><td>Hugo Weaving</td><td>1</td><td>https://www.imdb.com/pt/name/nm0915989</td></tr><tr><td>nm0000643</td><td>Tom Skerritt</td><td>1</td><td>https://www.imdb.com/pt/name/nm0000643</td></tr><tr><td>nm10050596</td><td>Sparsh Shrivastava</td><td>1</td><td>https://www.imdb.com/pt/name/nm10050596</td></tr><tr><td>nm4759838</td><td>Mone Kamishiraishi</td><td>1</td><td>https://www.imdb.com/pt/name/nm4759838</td></tr><tr><td>nm1367246</td><td>Kang Hye-jeong</td><td>1</td><td>https://www.imdb.com/pt/name/nm1367246</td></tr><tr><td>nm0000670</td><td>Lea Thompson</td><td>1</td><td>https://www.imdb.com/pt/name/nm0000670</td></tr><tr><td>nm15447157</td><td>Frank W. Miller</td><td>1</td><td>https://www.imdb.com/pt/name/nm15447157</td></tr><tr><td>nm5852535</td><td>'Poo' Ram</td><td>1</td><td>https://www.imdb.com/pt/name/nm5852535</td></tr><tr><td>nm1554735</td><td>Charly Hübner</td><td>1</td><td>https://www.imdb.com/pt/name/nm1554735</td></tr><tr><td>nm0000751</td><td>Suzy Amis</td><td>1</td><td>https://www.imdb.com/pt/name/nm0000751</td></tr><tr><td>nm16217009</td><td>Sachana Namidass</td><td>1</td><td>https://www.imdb.com/pt/name/nm16217009</td></tr><tr><td>nm3994610</td><td>Cyril Mendy</td><td>1</td><td>https://www.imdb.com/pt/name/nm3994610</td></tr><tr><td>nm2031248</td><td>Alba Gaïa Bellugi</td><td>1</td><td>https://www.imdb.com/pt/name/nm2031248</td></tr><tr><td>nm0000984</td><td>Avery Brooks</td><td>1</td><td>https://www.imdb.com/pt/name/nm0000984</td></tr><tr><td>nm2438307</td><td>Dileep Rao</td><td>1</td><td>https://www.imdb.com/pt/name/nm2438307</td></tr><tr><td>nm6079248</td><td>Choi Woo-sik</td><td>1</td><td>https://www.imdb.com/pt/name/nm6079248</td></tr><tr><td>nm2496074</td><td>Jüri Lumiste</td><td>1</td><td>https://www.imdb.com/pt/name/nm2496074</td></tr><tr><td>nm0001001</td><td>James Caan</td><td>1</td><td>https://www.imdb.com/pt/name/nm0001001</td></tr><tr><td>nm4410046</td><td>Yoshio Matsuoka</td><td>1</td><td>https://www.imdb.com/pt/name/nm4410046</td></tr><tr><td>nm4793987</td><td>Issa Rae</td><td>1</td><td>https://www.imdb.com/pt/name/nm4793987</td></tr><tr><td>nm4921260</td><td>Dulquer Salmaan</td><td>1</td><td>https://www.imdb.com/pt/name/nm4921260</td></tr><tr><td>nm0001181</td><td>Jack Elam</td><td>1</td><td>https://www.imdb.com/pt/name/nm0001181</td></tr><tr><td>nm5279916</td><td>Leigh Gill</td><td>1</td><td>https://www.imdb.com/pt/name/nm5279916</td></tr><tr><td>nm7616095</td><td>Jung Ji-so</td><td>1</td><td>https://www.imdb.com/pt/name/nm7616095</td></tr><tr><td>nm0929609</td><td>Fred Willard</td><td>1</td><td>https://www.imdb.com/pt/name/nm0929609</td></tr><tr><td>nm0001394</td><td>Derek Jacobi</td><td>1</td><td>https://www.imdb.com/pt/name/nm0001394</td></tr><tr><td>nm5038871</td><td>Annika Wedderkopp</td><td>1</td><td>https://www.imdb.com/pt/name/nm5038871</td></tr><tr><td>nm0001463</td><td>Janet Leigh</td><td>1</td><td>https://www.imdb.com/pt/name/nm0001463</td></tr><tr><td>nm7934649</td><td>Lijo Mol Jose</td><td>1</td><td>https://www.imdb.com/pt/name/nm7934649</td></tr><tr><td>nm0001467</td><td>Jared Leto</td><td>1</td><td>https://www.imdb.com/pt/name/nm0001467</td></tr><tr><td>nm4841157</td><td>Hamed Najem</td><td>1</td><td>https://www.imdb.com/pt/name/nm4841157</td></tr><tr><td>nm0001512</td><td>Mary Elizabeth Mastrantonio</td><td>1</td><td>https://www.imdb.com/pt/name/nm0001512</td></tr><tr><td>nm8904193</td><td>Manikandan K.</td><td>1</td><td>https://www.imdb.com/pt/name/nm8904193</td></tr><tr><td>nm0001520</td><td>Christopher McDonald</td><td>1</td><td>https://www.imdb.com/pt/name/nm0001520</td></tr><tr><td>nm3569470</td><td>Rajeev Ravindranathan</td><td>1</td><td>https://www.imdb.com/pt/name/nm3569470</td></tr><tr><td>nm0001549</td><td>Rita Moreno</td><td>1</td><td>https://www.imdb.com/pt/name/nm0001549</td></tr><tr><td>nm8910763</td><td>Anant Joshi</td><td>1</td><td>https://www.imdb.com/pt/name/nm8910763</td></tr><tr><td>nm0001590</td><td>Chazz Palminteri</td><td>1</td><td>https://www.imdb.com/pt/name/nm0001590</td></tr><tr><td>nm5164600</td><td>Steen Ordell Guldbrand Jensen</td><td>1</td><td>https://www.imdb.com/pt/name/nm5164600</td></tr><tr><td>nm0001633</td><td>Annie Potts</td><td>1</td><td>https://www.imdb.com/pt/name/nm0001633</td></tr><tr><td>nm0000038</td><td>Grace Kelly</td><td>1</td><td>https://www.imdb.com/pt/name/nm0000038</td></tr><tr><td>nm0001745</td><td>Stellan Skarsgård</td><td>1</td><td>https://www.imdb.com/pt/name/nm0001745</td></tr><tr><td>nm5189611</td><td>Naveen Polishetty</td><td>1</td><td>https://www.imdb.com/pt/name/nm5189611</td></tr><tr><td>nm0001839</td><td>Tuesday Weld</td><td>1</td><td>https://www.imdb.com/pt/name/nm0001839</td></tr><tr><td>nm0000051</td><td>James Mason</td><td>1</td><td>https://www.imdb.com/pt/name/nm0000051</td></tr><tr><td>nm0002108</td><td>Gloria Grahame</td><td>1</td><td>https://www.imdb.com/pt/name/nm0002108</td></tr><tr><td>nm5408141</td><td>Gayathrie</td><td>1</td><td>https://www.imdb.com/pt/name/nm5408141</td></tr><tr><td>nm0002369</td><td>John Williams</td><td>1</td><td>https://www.imdb.com/pt/name/nm0002369</td></tr><tr><td>nm0000120</td><td>Jim Carrey</td><td>1</td><td>https://www.imdb.com/pt/name/nm0000120</td></tr><tr><td>nm0004743</td><td>Gil Bellows</td><td>1</td><td>https://www.imdb.com/pt/name/nm0004743</td></tr><tr><td>nm3423667</td><td>Elie Docter</td><td>1</td><td>https://www.imdb.com/pt/name/nm3423667</td></tr><tr><td>nm0004747</td><td>Wes Bentley</td><td>1</td><td>https://www.imdb.com/pt/name/nm0004747</td></tr><tr><td>nm0000146</td><td>Ralph Fiennes</td><td>1</td><td>https://www.imdb.com/pt/name/nm0000146</td></tr><tr><td>nm0004778</td><td>Adrien Brody</td><td>1</td><td>https://www.imdb.com/pt/name/nm0004778</td></tr><tr><td>nm5623883</td><td>Phillipa Soo</td><td>1</td><td>https://www.imdb.com/pt/name/nm5623883</td></tr><tr><td>nm0005499</td><td>Lily Tomlin</td><td>1</td><td>https://www.imdb.com/pt/name/nm0005499</td></tr><tr><td>nm0000149</td><td>Jodie Foster</td><td>1</td><td>https://www.imdb.com/pt/name/nm0000149</td></tr><tr><td>nm0006471</td><td>Elsa Lanchester</td><td>1</td><td>https://www.imdb.com/pt/name/nm0006471</td></tr><tr><td>nm5511912</td><td>Salimata Kamate</td><td>1</td><td>https://www.imdb.com/pt/name/nm5511912</td></tr><tr><td>nm0017021</td><td>John Albright</td><td>1</td><td>https://www.imdb.com/pt/name/nm0017021</td></tr><tr><td>nm0000150</td><td>Michael J. Fox</td><td>1</td><td>https://www.imdb.com/pt/name/nm0000150</td></tr><tr><td>nm0021600</td><td>Bruce Allpress</td><td>1</td><td>https://www.imdb.com/pt/name/nm0021600</td></tr><tr><td>nm5645519</td><td>Anthony Gonzalez</td><td>1</td><td>https://www.imdb.com/pt/name/nm5645519</td></tr><tr><td>nm0040012</td><td>Ali Astin</td><td>1</td><td>https://www.imdb.com/pt/name/nm0040012</td></tr><tr><td>nm0000249</td><td>James Woods</td><td>1</td><td>https://www.imdb.com/pt/name/nm0000249</td></tr><tr><td>nm0051257</td><td>Kirk Baltz</td><td>1</td><td>https://www.imdb.com/pt/name/nm0051257</td></tr><tr><td>nm4376717</td><td>Anil Charanjeett</td><td>1</td><td>https://www.imdb.com/pt/name/nm4376717</td></tr><tr><td>nm0064235</td><td>Robert Beatty</td><td>1</td><td>https://www.imdb.com/pt/name/nm0064235</td></tr><tr><td>nm0000255</td><td>Ben Affleck</td><td>1</td><td>https://www.imdb.com/pt/name/nm0000255</td></tr><tr><td>nm0071059</td><td>Hubertus Bengsch</td><td>1</td><td>https://www.imdb.com/pt/name/nm0071059</td></tr><tr><td>nm5681967</td><td>Florence Lee</td><td>1</td><td>https://www.imdb.com/pt/name/nm5681967</td></tr><tr><td>nm0112207</td><td>Randy Brooks</td><td>1</td><td>https://www.imdb.com/pt/name/nm0112207</td></tr><tr><td>nm0000297</td><td>Tom Berenger</td><td>1</td><td>https://www.imdb.com/pt/name/nm0000297</td></tr><tr><td>nm0120483</td><td>Edward Bunker</td><td>1</td><td>https://www.imdb.com/pt/name/nm0120483</td></tr><tr><td>nm5584853</td><td>Chemban Vinod Jose</td><td>1</td><td>https://www.imdb.com/pt/name/nm5584853</td></tr><tr><td>nm0127680</td><td>Christina Cabot</td><td>1</td><td>https://www.imdb.com/pt/name/nm0127680</td></tr><tr><td>nm0000307</td><td>Helena Bonham Carter</td><td>1</td><td>https://www.imdb.com/pt/name/nm0000307</td></tr><tr><td>nm0158856</td><td>Choi Min-sik</td><td>1</td><td>https://www.imdb.com/pt/name/nm0158856</td></tr><tr><td>nm5939164</td><td>Zazie Beetz</td><td>1</td><td>https://www.imdb.com/pt/name/nm5939164</td></tr><tr><td>nm0160550</td><td>Dennis Christopher</td><td>1</td><td>https://www.imdb.com/pt/name/nm0160550</td></tr><tr><td>nm0000317</td><td>Clancy Brown</td><td>1</td><td>https://www.imdb.com/pt/name/nm0000317</td></tr><tr><td>nm0201045</td><td>Georgine Darcy</td><td>1</td><td>https://www.imdb.com/pt/name/nm0201045</td></tr><tr><td>nm4299072</td><td>Sarina Farhadi</td><td>1</td><td>https://www.imdb.com/pt/name/nm4299072</td></tr><tr><td>nm0206742</td><td>Charles Dayton</td><td>1</td><td>https://www.imdb.com/pt/name/nm0206742</td></tr><tr><td>nm0000350</td><td>Beverly D'Angelo</td><td>1</td><td>https://www.imdb.com/pt/name/nm0000350</td></tr><tr><td>nm0213354</td><td>Jamel Debbouze</td><td>1</td><td>https://www.imdb.com/pt/name/nm0213354</td></tr><tr><td>nm6269780</td><td>Aparshakti Khurana</td><td>1</td><td>https://www.imdb.com/pt/name/nm6269780</td></tr><tr><td>nm0253020</td><td>Dana Elcar</td><td>1</td><td>https://www.imdb.com/pt/name/nm0253020</td></tr><tr><td>nm0000398</td><td>Sally Field</td><td>1</td><td>https://www.imdb.com/pt/name/nm0000398</td></tr><tr><td>nm0270383</td><td>Russ Fega</td><td>1</td><td>https://www.imdb.com/pt/name/nm0270383</td></tr><tr><td>nm5744538</td><td>Lee Jeong-eun</td><td>1</td><td>https://www.imdb.com/pt/name/nm5744538</td></tr><tr><td>nm0275835</td><td>John Fiedler</td><td>1</td><td>https://www.imdb.com/pt/name/nm0275835</td></tr><tr><td>nm0000569</td><td>Gwyneth Paltrow</td><td>1</td><td>https://www.imdb.com/pt/name/nm0000569</td></tr><tr><td>nm0277975</td><td>Frank Finlay</td><td>1</td><td>https://www.imdb.com/pt/name/nm0277975</td></tr><tr><td>nm7621667</td><td>Sanya Malhotra</td><td>1</td><td>https://www.imdb.com/pt/name/nm7621667</td></tr><tr><td>nm0287825</td><td>Gloria Foster</td><td>1</td><td>https://www.imdb.com/pt/name/nm0287825</td></tr><tr><td>nm0000578</td><td>Anthony Perkins</td><td>1</td><td>https://www.imdb.com/pt/name/nm0000578</td></tr><tr><td>nm0288830</td><td>Douglas Fowley</td><td>1</td><td>https://www.imdb.com/pt/name/nm0288830</td></tr><tr><td>nm4880714</td><td>Sanjana Sanghi</td><td>1</td><td>https://www.imdb.com/pt/name/nm4880714</td></tr><tr><td>nm0293550</td><td>Paul Freeman</td><td>1</td><td>https://www.imdb.com/pt/name/nm0293550</td></tr><tr><td>nm0000649</td><td>Paul Sorvino</td><td>1</td><td>https://www.imdb.com/pt/name/nm0000649</td></tr><tr><td>nm0306786</td><td>Reginald Gardiner</td><td>1</td><td>https://www.imdb.com/pt/name/nm0306786</td></tr><tr><td>nm7621668</td><td>Zaira Wasim</td><td>1</td><td>https://www.imdb.com/pt/name/nm7621668</td></tr><tr><td>nm0332944</td><td>John Gowans</td><td>1</td><td>https://www.imdb.com/pt/name/nm0332944</td></tr><tr><td>nm0000778</td><td>Alfonso Arau</td><td>1</td><td>https://www.imdb.com/pt/name/nm0000778</td></tr><tr><td>nm0340260</td><td>Zach Grenier</td><td>1</td><td>https://www.imdb.com/pt/name/nm0340260</td></tr><tr><td>nm6693723</td><td>Shataf Figar</td><td>1</td><td>https://www.imdb.com/pt/name/nm6693723</td></tr><tr><td>nm0344963</td><td>Herbert Grönemeyer</td><td>1</td><td>https://www.imdb.com/pt/name/nm0344963</td></tr><tr><td>nm0000895</td><td>Barbara Bel Geddes</td><td>1</td><td>https://www.imdb.com/pt/name/nm0000895</td></tr><tr><td>nm0345073</td><td>Gustaf Gründgens</td><td>1</td><td>https://www.imdb.com/pt/name/nm0345073</td></tr><tr><td>nm8995905</td><td>Vivek Prasanna</td><td>1</td><td>https://www.imdb.com/pt/name/nm8995905</td></tr><tr><td>nm0346003</td><td>Castulo Guerra</td><td>1</td><td>https://www.imdb.com/pt/name/nm0346003</td></tr><tr><td>nm0000973</td><td>Benjamin Bratt</td><td>1</td><td>https://www.imdb.com/pt/name/nm0000973</td></tr><tr><td>nm0347842</td><td>Leo Gullotta</td><td>1</td><td>https://www.imdb.com/pt/name/nm0347842</td></tr><tr><td>nm3781410</td><td>Sebastian Bull</td><td>1</td><td>https://www.imdb.com/pt/name/nm3781410</td></tr><tr><td>nm0353405</td><td>Jean Hagen</td><td>1</td><td>https://www.imdb.com/pt/name/nm0353405</td></tr><tr><td>nm0001207</td><td>José Ferrer</td><td>1</td><td>https://www.imdb.com/pt/name/nm0001207</td></tr><tr><td>nm0364748</td><td>Harriet Sansom Harris</td><td>1</td><td>https://www.imdb.com/pt/name/nm0364748</td></tr><tr><td>nm9862860</td><td>Boluwatife Treasure Bankole</td><td>1</td><td>https://www.imdb.com/pt/name/nm9862860</td></tr><tr><td>nm0368049</td><td>Ichirô Nakatani</td><td>1</td><td>https://www.imdb.com/pt/name/nm0368049</td></tr><tr><td>nm0001447</td><td>Nathan Lane</td><td>1</td><td>https://www.imdb.com/pt/name/nm0001447</td></tr><tr><td>nm0383091</td><td>Bokuzen Hidari</td><td>1</td><td>https://www.imdb.com/pt/name/nm0383091</td></tr><tr><td>nm6954008</td><td>Ryo Narita</td><td>1</td><td>https://www.imdb.com/pt/name/nm6954008</td></tr><tr><td>nm0386877</td><td>Patricia Hitchcock</td><td>1</td><td>https://www.imdb.com/pt/name/nm0386877</td></tr><tr><td>nm0001519</td><td>Ian McDiarmid</td><td>1</td><td>https://www.imdb.com/pt/name/nm0001519</td></tr><tr><td>nm0390516</td><td>Hope Holiday</td><td>1</td><td>https://www.imdb.com/pt/name/nm0390516</td></tr><tr><td>nm0000164</td><td>Anthony Hopkins</td><td>1</td><td>https://www.imdb.com/pt/name/nm0000164</td></tr><tr><td>nm0394054</td><td>William Hope</td><td>1</td><td>https://www.imdb.com/pt/name/nm0394054</td></tr><tr><td>nm0001725</td><td>Omar Sharif</td><td>1</td><td>https://www.imdb.com/pt/name/nm0001725</td></tr><tr><td>nm0402011</td><td>Michael Conner Humphreys</td><td>1</td><td>https://www.imdb.com/pt/name/nm0402011</td></tr><tr><td>nm5039026</td><td>Lasse Fogelstrøm</td><td>1</td><td>https://www.imdb.com/pt/name/nm5039026</td></tr><tr><td>nm0407030</td><td>Hisashi Igawa</td><td>1</td><td>https://www.imdb.com/pt/name/nm0407030</td></tr><tr><td>nm0001991</td><td>Leo G. Carroll</td><td>1</td><td>https://www.imdb.com/pt/name/nm0001991</td></tr><tr><td>nm0495495</td><td>Madeleine Lebeau</td><td>1</td><td>https://www.imdb.com/pt/name/nm0495495</td></tr><tr><td>nm0000235</td><td>Uma Thurman</td><td>1</td><td>https://www.imdb.com/pt/name/nm0000235</td></tr><tr><td>nm0518057</td><td>Giuliana Lojodice</td><td>1</td><td>https://www.imdb.com/pt/name/nm0518057</td></tr><tr><td>nm0002134</td><td>Paul Henreid</td><td>1</td><td>https://www.imdb.com/pt/name/nm0002134</td></tr><tr><td>nm0532943</td><td>Bob Mack</td><td>1</td><td>https://www.imdb.com/pt/name/nm0532943</td></tr><tr><td>nm6979973</td><td>Kiyoshi Yanagawa</td><td>1</td><td>https://www.imdb.com/pt/name/nm6979973</td></tr><tr><td>nm0535991</td><td>Pupella Maggio</td><td>1</td><td>https://www.imdb.com/pt/name/nm0535991</td></tr><tr><td>nm0002233</td><td>Erich von Stroheim</td><td>1</td><td>https://www.imdb.com/pt/name/nm0002233</td></tr><tr><td>nm0559444</td><td>Yôji Matsuda</td><td>1</td><td>https://www.imdb.com/pt/name/nm0559444</td></tr><tr><td>nm0000314</td><td>Charles Bronson</td><td>1</td><td>https://www.imdb.com/pt/name/nm0000314</td></tr><tr><td>nm0611889</td><td>Chris Mulkey</td><td>1</td><td>https://www.imdb.com/pt/name/nm0611889</td></tr><tr><td>nm0002546</td><td>Mena Suvari</td><td>1</td><td>https://www.imdb.com/pt/name/nm0002546</td></tr><tr><td>nm0616729</td><td>Harry Myers</td><td>1</td><td>https://www.imdb.com/pt/name/nm0616729</td></tr><tr><td>nm4572244</td><td>Abhinaya</td><td>1</td><td>https://www.imdb.com/pt/name/nm4572244</td></tr><tr><td>nm0619822</td><td>Takashi Naitô</td><td>1</td><td>https://www.imdb.com/pt/name/nm0619822</td></tr><tr><td>nm0003586</td><td>Theo Lingen</td><td>1</td><td>https://www.imdb.com/pt/name/nm0003586</td></tr><tr><td>nm0643211</td><td>Philip Ober</td><td>1</td><td>https://www.imdb.com/pt/name/nm0643211</td></tr><tr><td>nm0000321</td><td>Gabriel Byrne</td><td>1</td><td>https://www.imdb.com/pt/name/nm0000321</td></tr><tr><td>nm0643887</td><td>Miki Odagiri</td><td>1</td><td>https://www.imdb.com/pt/name/nm0643887</td></tr><tr><td>nm0005377</td><td>Sam Rockwell</td><td>1</td><td>https://www.imdb.com/pt/name/nm0005377</td></tr><tr><td>nm0643997</td><td>Fritz Odemar</td><td>1</td><td>https://www.imdb.com/pt/name/nm0643997</td></tr><tr><td>nm7936195</td><td>Aparna Balamurali</td><td>1</td><td>https://www.imdb.com/pt/name/nm7936195</td></tr><tr><td>nm0647970</td><td>Nancy Olson</td><td>1</td><td>https://www.imdb.com/pt/name/nm0647970</td></tr><tr><td>nm0007214</td><td>Frank Albertson</td><td>1</td><td>https://www.imdb.com/pt/name/nm0007214</td></tr><tr><td>nm0669254</td><td>Daniel Zacapa</td><td>1</td><td>https://www.imdb.com/pt/name/nm0669254</td></tr><tr><td>nm0000342</td><td>James Cromwell</td><td>1</td><td>https://www.imdb.com/pt/name/nm0000342</td></tr><tr><td>nm0680983</td><td>Elliot Page</td><td>1</td><td>https://www.imdb.com/pt/name/nm0680983</td></tr><tr><td>nm0009530</td><td>Alon Aboutboul</td><td>1</td><td>https://www.imdb.com/pt/name/nm0009530</td></tr><tr><td>nm0684500</td><td>Dominique Pinon</td><td>1</td><td>https://www.imdb.com/pt/name/nm0684500</td></tr><tr><td>nm6106360</td><td>Kaali Venkat</td><td>1</td><td>https://www.imdb.com/pt/name/nm6106360</td></tr><tr><td>nm0694631</td><td>Tom Powers</td><td>1</td><td>https://www.imdb.com/pt/name/nm0694631</td></tr><tr><td>nm0020041</td><td>William Alland</td><td>1</td><td>https://www.imdb.com/pt/name/nm0020041</td></tr><tr><td>nm0695177</td><td>Prakash Raj</td><td>1</td><td>https://www.imdb.com/pt/name/nm0695177</td></tr><tr><td>nm0000417</td><td>Crispin Glover</td><td>1</td><td>https://www.imdb.com/pt/name/nm0000417</td></tr><tr><td>nm0706937</td><td>Douglas Rain</td><td>1</td><td>https://www.imdb.com/pt/name/nm0706937</td></tr><tr><td>nm0047450</td><td>Raymond Bailey</td><td>1</td><td>https://www.imdb.com/pt/name/nm0047450</td></tr><tr><td>nm0710019</td><td>Jerome Ranft</td><td>1</td><td>https://www.imdb.com/pt/name/nm0710019</td></tr><tr><td>nm8624891</td><td>Ravi Aneja</td><td>1</td><td>https://www.imdb.com/pt/name/nm8624891</td></tr><tr><td>nm0744834</td><td>Eli Roth</td><td>1</td><td>https://www.imdb.com/pt/name/nm0744834</td></tr><tr><td>nm0074788</td><td>Henry Bergman</td><td>1</td><td>https://www.imdb.com/pt/name/nm0074788</td></tr><tr><td>nm0749363</td><td>Rufus</td><td>1</td><td>https://www.imdb.com/pt/name/nm0749363</td></tr><tr><td>nm0000453</td><td>Ian Holm</td><td>1</td><td>https://www.imdb.com/pt/name/nm0000453</td></tr><tr><td>nm0750916</td><td>William Russ</td><td>1</td><td>https://www.imdb.com/pt/name/nm0750916</td></tr><tr><td>nm0091286</td><td>Earl Boen</td><td>1</td><td>https://www.imdb.com/pt/name/nm0091286</td></tr><tr><td>nm0761866</td><td>Tiny Sandford</td><td>1</td><td>https://www.imdb.com/pt/name/nm0761866</td></tr><tr><td>nm3601766</td><td>Shraddha Kapoor</td><td>1</td><td>https://www.imdb.com/pt/name/nm3601766</td></tr><tr><td>nm0774516</td><td>David Schofield</td><td>1</td><td>https://www.imdb.com/pt/name/nm0774516</td></tr><tr><td>nm0111954</td><td>Dean R. Brooks</td><td>1</td><td>https://www.imdb.com/pt/name/nm0111954</td></tr><tr><td>nm0791877</td><td>Suzanne Shepherd</td><td>1</td><td>https://www.imdb.com/pt/name/nm0791877</td></tr><tr><td>nm0000470</td><td>Jeffrey Jones</td><td>1</td><td>https://www.imdb.com/pt/name/nm0000470</td></tr><tr><td>nm0806041</td><td>Everett Sloane</td><td>1</td><td>https://www.imdb.com/pt/name/nm0806041</td></tr><tr><td>nm0113000</td><td>Alonzo Brown</td><td>1</td><td>https://www.imdb.com/pt/name/nm0113000</td></tr><tr><td>nm0807548</td><td>Brooke Smith</td><td>1</td><td>https://www.imdb.com/pt/name/nm0807548</td></tr><tr><td>nm0000060</td><td>Gregory Peck</td><td>1</td><td>https://www.imdb.com/pt/name/nm0000060</td></tr><tr><td>nm0814280</td><td>Song Kang-ho</td><td>1</td><td>https://www.imdb.com/pt/name/nm0814280</td></tr><tr><td>nm0122653</td><td>Edward Burns</td><td>1</td><td>https://www.imdb.com/pt/name/nm0122653</td></tr><tr><td>nm0819320</td><td>Suanne Spoke</td><td>1</td><td>https://www.imdb.com/pt/name/nm0819320</td></tr><tr><td>nm0000497</td><td>Jennifer Lien</td><td>1</td><td>https://www.imdb.com/pt/name/nm0000497</td></tr><tr><td>nm0832104</td><td>Philip Stone</td><td>1</td><td>https://www.imdb.com/pt/name/nm0832104</td></tr><tr><td>nm0123748</td><td>Tony Burton</td><td>1</td><td>https://www.imdb.com/pt/name/nm0123748</td></tr><tr><td>nm0833448</td><td>Lee Strasberg</td><td>1</td><td>https://www.imdb.com/pt/name/nm0833448</td></tr><tr><td>nm6476224</td><td>Park So-dam</td><td>1</td><td>https://www.imdb.com/pt/name/nm6476224</td></tr><tr><td>nm0853392</td><td>Jun Tazaki</td><td>1</td><td>https://www.imdb.com/pt/name/nm0853392</td></tr><tr><td>nm0128326</td><td>Frank Cady</td><td>1</td><td>https://www.imdb.com/pt/name/nm0128326</td></tr><tr><td>nm0879239</td><td>Margaret Tyzack</td><td>1</td><td>https://www.imdb.com/pt/name/nm0879239</td></tr><tr><td>nm0000521</td><td>Sophie Marceau</td><td>1</td><td>https://www.imdb.com/pt/name/nm0000521</td></tr><tr><td>nm0891998</td><td>Conrad Veidt</td><td>1</td><td>https://www.imdb.com/pt/name/nm0891998</td></tr><tr><td>nm0149822</td><td>Mithun Chakraborty</td><td>1</td><td>https://www.imdb.com/pt/name/nm0149822</td></tr><tr><td>nm0893204</td><td>Diane Venora</td><td>1</td><td>https://www.imdb.com/pt/name/nm0893204</td></tr><tr><td>nm0000063</td><td>Anthony Quinn</td><td>1</td><td>https://www.imdb.com/pt/name/nm0000063</td></tr><tr><td>nm0898634</td><td>Frank Vincent</td><td>1</td><td>https://www.imdb.com/pt/name/nm0898634</td></tr><tr><td>nm0199774</td><td>Isa Danieli</td><td>1</td><td>https://www.imdb.com/pt/name/nm0199774</td></tr><tr><td>nm0902184</td><td>Erik von Detten</td><td>1</td><td>https://www.imdb.com/pt/name/nm0902184</td></tr><tr><td>nm0000553</td><td>Liam Neeson</td><td>1</td><td>https://www.imdb.com/pt/name/nm0000553</td></tr><tr><td>nm0929965</td><td>Adam Williams</td><td>1</td><td>https://www.imdb.com/pt/name/nm0929965</td></tr><tr><td>nm0214924</td><td>Carter DeHaven</td><td>1</td><td>https://www.imdb.com/pt/name/nm0214924</td></tr><tr><td>nm0945312</td><td>Akemi Yamaguchi</td><td>1</td><td>https://www.imdb.com/pt/name/nm0945312</td></tr><tr><td>nm5057209</td><td>Ritvik Sahore</td><td>1</td><td>https://www.imdb.com/pt/name/nm5057209</td></tr><tr><td>nm0962577</td><td>Jessica Kate Meyer</td><td>1</td><td>https://www.imdb.com/pt/name/nm0962577</td></tr><tr><td>nm0234541</td><td>Roy Dotrice</td><td>1</td><td>https://www.imdb.com/pt/name/nm0234541</td></tr><tr><td>nm0997115</td><td>Miyu Irino</td><td>1</td><td>https://www.imdb.com/pt/name/nm0997115</td></tr><tr><td>nm0000602</td><td>Robert Redford</td><td>1</td><td>https://www.imdb.com/pt/name/nm0000602</td></tr><tr><td>nm10791162</td><td>Medha Shankr</td><td>1</td><td>https://www.imdb.com/pt/name/nm10791162</td></tr><tr><td>nm0243842</td><td>Giustino Durano</td><td>1</td><td>https://www.imdb.com/pt/name/nm0243842</td></tr><tr><td>nm11882661</td><td>Divya Bharathi</td><td>1</td><td>https://www.imdb.com/pt/name/nm11882661</td></tr><tr><td>nm0000114</td><td>Steve Buscemi</td><td>1</td><td>https://www.imdb.com/pt/name/nm0000114</td></tr><tr><td>nm1208167</td><td>Diane Kruger</td><td>1</td><td>https://www.imdb.com/pt/name/nm1208167</td></tr><tr><td>nm0342241</td><td>Scott Grimes</td><td>1</td><td>https://www.imdb.com/pt/name/nm0342241</td></tr><tr><td>nm1274064</td><td>Maria Manoella</td><td>1</td><td>https://www.imdb.com/pt/name/nm1274064</td></tr><tr><td>nm0000686</td><td>Christopher Walken</td><td>1</td><td>https://www.imdb.com/pt/name/nm0000686</td></tr><tr><td>nm1289434</td><td>Emily Blunt</td><td>1</td><td>https://www.imdb.com/pt/name/nm1289434</td></tr><tr><td>nm0368482</td><td>Anne Louise Hassing</td><td>1</td><td>https://www.imdb.com/pt/name/nm0368482</td></tr><tr><td>nm1368731</td><td>Sumanth</td><td>1</td><td>https://www.imdb.com/pt/name/nm1368731</td></tr><tr><td>nm8135195</td><td>Rajisha Vijayan</td><td>1</td><td>https://www.imdb.com/pt/name/nm8135195</td></tr><tr><td>nm1388463</td><td>Prakash Belawadi</td><td>1</td><td>https://www.imdb.com/pt/name/nm1388463</td></tr><tr><td>nm0413271</td><td>Anne Jackson</td><td>1</td><td>https://www.imdb.com/pt/name/nm0413271</td></tr><tr><td>nm15277914</td><td>B M Giriraj</td><td>1</td><td>https://www.imdb.com/pt/name/nm15277914</td></tr><tr><td>nm0000955</td><td>Ward Bond</td><td>1</td><td>https://www.imdb.com/pt/name/nm0000955</td></tr><tr><td>nm15870575</td><td>Pankaj Sharma</td><td>1</td><td>https://www.imdb.com/pt/name/nm15870575</td></tr><tr><td>nm0459087</td><td>Volkmar Kleinert</td><td>1</td><td>https://www.imdb.com/pt/name/nm0459087</td></tr><tr><td>nm1587175</td><td>Mona Singh</td><td>1</td><td>https://www.imdb.com/pt/name/nm1587175</td></tr><tr><td>nm0000157</td><td>Linda Hamilton</td><td>1</td><td>https://www.imdb.com/pt/name/nm0000157</td></tr><tr><td>nm1934428</td><td>Sarita Joshi</td><td>1</td><td>https://www.imdb.com/pt/name/nm1934428</td></tr><tr><td>nm0459252</td><td>Werner Klemperer</td><td>1</td><td>https://www.imdb.com/pt/name/nm0459252</td></tr><tr><td>nm2346665</td><td>Chinmay Mandlekar</td><td>1</td><td>https://www.imdb.com/pt/name/nm2346665</td></tr><tr><td>nm0000971</td><td>Nicoletta Braschi</td><td>1</td><td>https://www.imdb.com/pt/name/nm0000971</td></tr><tr><td>nm2368789</td><td>Zoë Kravitz</td><td>1</td><td>https://www.imdb.com/pt/name/nm2368789</td></tr><tr><td>nm0472816</td><td>Jack Kruschen</td><td>1</td><td>https://www.imdb.com/pt/name/nm0472816</td></tr><tr><td>nm2540053</td><td>Tanay Chheda</td><td>1</td><td>https://www.imdb.com/pt/name/nm2540053</td></tr><tr><td>nm3898762</td><td>Amala Paul</td><td>1</td><td>https://www.imdb.com/pt/name/nm3898762</td></tr><tr><td>nm2994393</td><td>Pratima Kulkarni</td><td>1</td><td>https://www.imdb.com/pt/name/nm2994393</td></tr><tr><td>nm0476040</td><td>Marcia Jean Kurtz</td><td>1</td><td>https://www.imdb.com/pt/name/nm0476040</td></tr><tr><td>nm2999980</td><td>Joanne Gordon</td><td>1</td><td>https://www.imdb.com/pt/name/nm2999980</td></tr><tr><td>nm0001003</td><td>Simon Callow</td><td>1</td><td>https://www.imdb.com/pt/name/nm0001003</td></tr><tr><td>nm3070408</td><td>Prateik Patil Babbar</td><td>1</td><td>https://www.imdb.com/pt/name/nm3070408</td></tr><tr><td>nm0484737</td><td>Inge Landgut</td><td>1</td><td>https://www.imdb.com/pt/name/nm0484737</td></tr><tr><td>nm0000206</td><td>Keanu Reeves</td><td>1</td><td>https://www.imdb.com/pt/name/nm0000206</td></tr><tr><td>nm0490708</td><td>Liubomiras Laucevicius</td><td>1</td><td>https://www.imdb.com/pt/name/nm0490708</td></tr><tr><td>nm0001260</td><td>John Gavin</td><td>1</td><td>https://www.imdb.com/pt/name/nm0001260</td></tr><tr><td>nm0491259</td><td>Mélanie Laurent</td><td>1</td><td>https://www.imdb.com/pt/name/nm0491259</td></tr><tr><td>nm9103143</td><td>Ammu Abhirami</td><td>1</td><td>https://www.imdb.com/pt/name/nm9103143</td></tr><tr><td>nm0506616</td><td>Shmuel Levy</td><td>1</td><td>https://www.imdb.com/pt/name/nm0506616</td></tr><tr><td>nm0001626</td><td>Christopher Plummer</td><td>1</td><td>https://www.imdb.com/pt/name/nm0001626</td></tr><tr><td>nm0534317</td><td>George Macready</td><td>1</td><td>https://www.imdb.com/pt/name/nm0534317</td></tr><tr><td>nm0000312</td><td>Amy Brenneman</td><td>1</td><td>https://www.imdb.com/pt/name/nm0000312</td></tr><tr><td>nm0566013</td><td>Marc McClure</td><td>1</td><td>https://www.imdb.com/pt/name/nm0566013</td></tr><tr><td>nm0001657</td><td>Oliver Reed</td><td>1</td><td>https://www.imdb.com/pt/name/nm0001657</td></tr><tr><td>nm0587256</td><td>Vera Miles</td><td>1</td><td>https://www.imdb.com/pt/name/nm0587256</td></tr><tr><td>nm5511483</td><td>Absa Diatou Toure</td><td>1</td><td>https://www.imdb.com/pt/name/nm5511483</td></tr><tr><td>nm0608012</td><td>Joe Morton</td><td>1</td><td>https://www.imdb.com/pt/name/nm0608012</td></tr><tr><td>nm0001715</td><td>George C. Scott</td><td>1</td><td>https://www.imdb.com/pt/name/nm0001715</td></tr><tr><td>nm0642988</td><td>Jack Oakie</td><td>1</td><td>https://www.imdb.com/pt/name/nm0642988</td></tr><tr><td>nm0000454</td><td>Dennis Hopper</td><td>1</td><td>https://www.imdb.com/pt/name/nm0000454</td></tr><tr><td>nm0676349</td><td>Brock Peters</td><td>1</td><td>https://www.imdb.com/pt/name/nm0676349</td></tr><tr><td>nm0001815</td><td>Jim Varney</td><td>1</td><td>https://www.imdb.com/pt/name/nm0001815</td></tr><tr><td>nm0709615</td><td>John Randall</td><td>1</td><td>https://www.imdb.com/pt/name/nm0709615</td></tr><tr><td>nm9849994</td><td>Nitanshi Goel</td><td>1</td><td>https://www.imdb.com/pt/name/nm9849994</td></tr><tr><td>nm0765423</td><td>Janet Sarno</td><td>1</td><td>https://www.imdb.com/pt/name/nm0765423</td></tr><tr><td>nm0003817</td><td>Michael Clarke Duncan</td><td>1</td><td>https://www.imdb.com/pt/name/nm0003817</td></tr><tr><td>nm0768005</td><td>Yasuko Sawaguchi</td><td>1</td><td>https://www.imdb.com/pt/name/nm0768005</td></tr><tr><td>nm0000460</td><td>Jeremy Irons</td><td>1</td><td>https://www.imdb.com/pt/name/nm0000460</td></tr><tr><td>nm0786252</td><td>Johnny Seven</td><td>1</td><td>https://www.imdb.com/pt/name/nm0786252</td></tr><tr><td>nm0004423</td><td>Gerry Robert Byrne</td><td>1</td><td>https://www.imdb.com/pt/name/nm0004423</td></tr><tr><td>nm0828653</td><td>Naomi Stevens</td><td>1</td><td>https://www.imdb.com/pt/name/nm0828653</td></tr><tr><td>nm3707487</td><td>Gabriela Carneiro da Cunha</td><td>1</td><td>https://www.imdb.com/pt/name/nm3707487</td></tr><tr><td>nm0836991</td><td>Natarajan Subramaniam</td><td>1</td><td>https://www.imdb.com/pt/name/nm0836991</td></tr><tr><td>nm0005049</td><td>Allison Janney</td><td>1</td><td>https://www.imdb.com/pt/name/nm0005049</td></tr><tr><td>nm0882219</td><td>Urvashi</td><td>1</td><td>https://www.imdb.com/pt/name/nm0882219</td></tr><tr><td>nm0000547</td><td>Alfred Molina</td><td>1</td><td>https://www.imdb.com/pt/name/nm0000547</td></tr><tr><td>nm0908919</td><td>Eli Wallach</td><td>1</td><td>https://www.imdb.com/pt/name/nm0908919</td></tr><tr><td>nm0005132</td><td>Heath Ledger</td><td>1</td><td>https://www.imdb.com/pt/name/nm0005132</td></tr><tr><td>nm0931508</td><td>Rebecca Williams</td><td>1</td><td>https://www.imdb.com/pt/name/nm0931508</td></tr><tr><td>nm0000023</td><td>Judy Garland</td><td>1</td><td>https://www.imdb.com/pt/name/nm0000023</td></tr><tr><td>nm0932112</td><td>Mykelti Williamson</td><td>1</td><td>https://www.imdb.com/pt/name/nm0932112</td></tr><tr><td>nm0005403</td><td>Jason Schwartzman</td><td>1</td><td>https://www.imdb.com/pt/name/nm0005403</td></tr><tr><td>nm0935653</td><td>Ray Winstone</td><td>1</td><td>https://www.imdb.com/pt/name/nm0935653</td></tr><tr><td>nm0000849</td><td>Javier Bardem</td><td>1</td><td>https://www.imdb.com/pt/name/nm0000849</td></tr><tr><td>nm1035024</td><td>T.S. Alexander</td><td>1</td><td>https://www.imdb.com/pt/name/nm1035024</td></tr><tr><td>nm0006535</td><td>Doug Hutchison</td><td>1</td><td>https://www.imdb.com/pt/name/nm0006535</td></tr><tr><td>nm1045739</td><td>Max Kasch</td><td>1</td><td>https://www.imdb.com/pt/name/nm1045739</td></tr><tr><td>nm5926431</td><td>Sahaarsh Shuklaa</td><td>1</td><td>https://www.imdb.com/pt/name/nm5926431</td></tr><tr><td>nm10637343</td><td>Luiza Kosovski</td><td>1</td><td>https://www.imdb.com/pt/name/nm10637343</td></tr><tr><td>nm0008609</td><td>Johnny Aber</td><td>1</td><td>https://www.imdb.com/pt/name/nm0008609</td></tr><tr><td>nm10700274</td><td>Jung Hyun-jun</td><td>1</td><td>https://www.imdb.com/pt/name/nm10700274</td></tr><tr><td>nm0001021</td><td>Veronica Cartwright</td><td>1</td><td>https://www.imdb.com/pt/name/nm0001021</td></tr><tr><td>nm10995739</td><td>Sam Mohan</td><td>1</td><td>https://www.imdb.com/pt/name/nm10995739</td></tr><tr><td>nm0011038</td><td>Jane Adams</td><td>1</td><td>https://www.imdb.com/pt/name/nm0011038</td></tr><tr><td>nm11045179</td><td>Anshuman Pushkar</td><td>1</td><td>https://www.imdb.com/pt/name/nm11045179</td></tr><tr><td>nm0000061</td><td>Tyrone Power</td><td>1</td><td>https://www.imdb.com/pt/name/nm0000061</td></tr><tr><td>nm1109153</td><td>Audrey Fleurot</td><td>1</td><td>https://www.imdb.com/pt/name/nm1109153</td></tr><tr><td>nm0011625</td><td>Dawn Addams</td><td>1</td><td>https://www.imdb.com/pt/name/nm0011625</td></tr><tr><td>nm11105263</td><td>Baby Monika Siva</td><td>1</td><td>https://www.imdb.com/pt/name/nm11105263</td></tr><tr><td>nm0001167</td><td>Shelley Duvall</td><td>1</td><td>https://www.imdb.com/pt/name/nm0001167</td></tr><tr><td>nm11267331</td><td>Krishnakumar Balasubramanian</td><td>1</td><td>https://www.imdb.com/pt/name/nm11267331</td></tr><tr><td>nm0018685</td><td>Richard Alexander</td><td>1</td><td>https://www.imdb.com/pt/name/nm0018685</td></tr><tr><td>nm11762288</td><td>Rajie Vijay Sarathi</td><td>1</td><td>https://www.imdb.com/pt/name/nm11762288</td></tr><tr><td>nm4297889</td><td>Ali-Asghar Shahbazi</td><td>1</td><td>https://www.imdb.com/pt/name/nm4297889</td></tr><tr><td>nm12329616</td><td>Masahiro Kanetake</td><td>1</td><td>https://www.imdb.com/pt/name/nm12329616</td></tr><tr><td>nm0073415</td><td>Aleksandr Berda</td><td>1</td><td>https://www.imdb.com/pt/name/nm0073415</td></tr><tr><td>nm1372205</td><td>Tôru Takeuchi</td><td>1</td><td>https://www.imdb.com/pt/name/nm1372205</td></tr><tr><td>nm0001173</td><td>Aaron Eckhart</td><td>1</td><td>https://www.imdb.com/pt/name/nm0001173</td></tr><tr><td>nm1390115</td><td>Harish Khanna</td><td>1</td><td>https://www.imdb.com/pt/name/nm1390115</td></tr><tr><td>nm0084430</td><td>Erwin Biswanger</td><td>1</td><td>https://www.imdb.com/pt/name/nm0084430</td></tr><tr><td>nm13947397</td><td>Dhanveerrah</td><td>1</td><td>https://www.imdb.com/pt/name/nm13947397</td></tr><tr><td>nm0000100</td><td>Rowan Atkinson</td><td>1</td><td>https://www.imdb.com/pt/name/nm0000100</td></tr><tr><td>nm1431772</td><td>Kalidas Jayaram</td><td>1</td><td>https://www.imdb.com/pt/name/nm1431772</td></tr><tr><td>nm0086627</td><td>Larry J. Blake</td><td>1</td><td>https://www.imdb.com/pt/name/nm0086627</td></tr><tr><td>nm1525639</td><td>Joséphine de Meaux</td><td>1</td><td>https://www.imdb.com/pt/name/nm1525639</td></tr><tr><td>nm0001235</td><td>William Forsythe</td><td>1</td><td>https://www.imdb.com/pt/name/nm0001235</td></tr><tr><td>nm11319558</td><td>Mohamad Abdellatif</td><td>1</td><td>https://www.imdb.com/pt/name/nm11319558</td></tr><tr><td>nm0098734</td><td>Sam Bottoms</td><td>1</td><td>https://www.imdb.com/pt/name/nm0098734</td></tr><tr><td>nm1178560</td><td>Jonathan Haagensen</td><td>1</td><td>https://www.imdb.com/pt/name/nm1178560</td></tr><tr><td>nm7517010</td><td>Tushar Pandey</td><td>1</td><td>https://www.imdb.com/pt/name/nm7517010</td></tr><tr><td>nm1952830</td><td>Mamta Mohandas</td><td>1</td><td>https://www.imdb.com/pt/name/nm1952830</td></tr><tr><td>nm0103797</td><td>Alice Braga</td><td>1</td><td>https://www.imdb.com/pt/name/nm0103797</td></tr><tr><td>nm1957308</td><td>V. Jayaprakash</td><td>1</td><td>https://www.imdb.com/pt/name/nm1957308</td></tr><tr><td>nm0001282</td><td>Tony Goldwyn</td><td>1</td><td>https://www.imdb.com/pt/name/nm0001282</td></tr><tr><td>nm2180792</td><td>Collette Wolfe</td><td>1</td><td>https://www.imdb.com/pt/name/nm2180792</td></tr><tr><td>nm0117709</td><td>Daniel Brühl</td><td>1</td><td>https://www.imdb.com/pt/name/nm0117709</td></tr><tr><td>nm2264184</td><td>Elissa Knight</td><td>1</td><td>https://www.imdb.com/pt/name/nm2264184</td></tr><tr><td>nm0000174</td><td>Val Kilmer</td><td>1</td><td>https://www.imdb.com/pt/name/nm0000174</td></tr><tr><td>nm2594301</td><td>Darsheel Safary</td><td>1</td><td>https://www.imdb.com/pt/name/nm2594301</td></tr><tr><td>nm0144710</td><td>Richard S. Castellano</td><td>1</td><td>https://www.imdb.com/pt/name/nm0144710</td></tr><tr><td>nm2887354</td><td>Girija Oak</td><td>1</td><td>https://www.imdb.com/pt/name/nm2887354</td></tr><tr><td>nm0001285</td><td>Elliott Gould</td><td>1</td><td>https://www.imdb.com/pt/name/nm0001285</td></tr><tr><td>nm3271473</td><td>Austin Stowell</td><td>1</td><td>https://www.imdb.com/pt/name/nm3271473</td></tr><tr><td>nm0155043</td><td>Jack Creley</td><td>1</td><td>https://www.imdb.com/pt/name/nm0155043</td></tr><tr><td>nm3905156</td><td>Sangili Murugan</td><td>1</td><td>https://www.imdb.com/pt/name/nm3905156</td></tr><tr><td>nm0172615</td><td>Ray Collins</td><td>1</td><td>https://www.imdb.com/pt/name/nm0172615</td></tr><tr><td>nm0001371</td><td>Tom Hulce</td><td>1</td><td>https://www.imdb.com/pt/name/nm0001371</td></tr><tr><td>nm0263393</td><td>Judith Evelyn</td><td>1</td><td>https://www.imdb.com/pt/name/nm0263393</td></tr><tr><td>nm0000237</td><td>John Travolta</td><td>1</td><td>https://www.imdb.com/pt/name/nm0000237</td></tr><tr><td>nm0267916</td><td>Franklyn Farnum</td><td>1</td><td>https://www.imdb.com/pt/name/nm0267916</td></tr><tr><td>nm0001426</td><td>Ben Kingsley</td><td>1</td><td>https://www.imdb.com/pt/name/nm0001426</td></tr><tr><td>nm0284997</td><td>Amerigo Fontani</td><td>1</td><td>https://www.imdb.com/pt/name/nm0284997</td></tr><tr><td>nm8752948</td><td>Nanda Gopal</td><td>1</td><td>https://www.imdb.com/pt/name/nm8752948</td></tr><tr><td>nm0305558</td><td>Gael García Bernal</td><td>1</td><td>https://www.imdb.com/pt/name/nm0305558</td></tr><tr><td>nm0001526</td><td>Patrick McGoohan</td><td>1</td><td>https://www.imdb.com/pt/name/nm0001526</td></tr><tr><td>nm0311476</td><td>Martina Gedeck</td><td>1</td><td>https://www.imdb.com/pt/name/nm0311476</td></tr><tr><td>nm0000301</td><td>Thora Birch</td><td>1</td><td>https://www.imdb.com/pt/name/nm0000301</td></tr><tr><td>nm0320721</td><td>Rémy Girard</td><td>1</td><td>https://www.imdb.com/pt/name/nm0320721</td></tr><tr><td>nm0001598</td><td>Robert Patrick</td><td>1</td><td>https://www.imdb.com/pt/name/nm0001598</td></tr><tr><td>nm0324658</td><td>Walton Goggins</td><td>1</td><td>https://www.imdb.com/pt/name/nm0324658</td></tr><tr><td>nm4367928</td><td>Misha Ghoshal</td><td>1</td><td>https://www.imdb.com/pt/name/nm4367928</td></tr><tr><td>nm0325989</td><td>Renée Elise Goldsberry</td><td>1</td><td>https://www.imdb.com/pt/name/nm0325989</td></tr><tr><td>nm0001709</td><td>Til Schweiger</td><td>1</td><td>https://www.imdb.com/pt/name/nm0001709</td></tr><tr><td>nm0356004</td><td>Porter Hall</td><td>1</td><td>https://www.imdb.com/pt/name/nm0356004</td></tr><tr><td>nm0000349</td><td>Joan Cusack</td><td>1</td><td>https://www.imdb.com/pt/name/nm0000349</td></tr><tr><td>nm0368689</td><td>Leila Hatami</td><td>1</td><td>https://www.imdb.com/pt/name/nm0368689</td></tr><tr><td>nm0001766</td><td>Barbara Stanwyck</td><td>1</td><td>https://www.imdb.com/pt/name/nm0001766</td></tr><tr><td>nm0370747</td><td>James Hayden</td><td>1</td><td>https://www.imdb.com/pt/name/nm0370747</td></tr><tr><td>nm9061357</td><td>Shatru</td><td>1</td><td>https://www.imdb.com/pt/name/nm9061357</td></tr><tr><td>nm0381041</td><td>Harold G. Herthum</td><td>1</td><td>https://www.imdb.com/pt/name/nm0381041</td></tr><tr><td>nm0002113</td><td>Sydney Greenstreet</td><td>1</td><td>https://www.imdb.com/pt/name/nm0002113</td></tr><tr><td>nm0407101</td><td>Gabriel Iglesias</td><td>1</td><td>https://www.imdb.com/pt/name/nm0407101</td></tr><tr><td>nm0000362</td><td>Danny DeVito</td><td>1</td><td>https://www.imdb.com/pt/name/nm0000362</td></tr><tr><td>nm0410968</td><td>Akira Ishihama</td><td>1</td><td>https://www.imdb.com/pt/name/nm0410968</td></tr><tr><td>nm0002154</td><td>Alfred Abel</td><td>1</td><td>https://www.imdb.com/pt/name/nm0002154</td></tr><tr><td>nm0411539</td><td>Puneet Issar</td><td>1</td><td>https://www.imdb.com/pt/name/nm0411539</td></tr><tr><td>nm4159861</td><td>Shirin Yazdanbakhsh</td><td>1</td><td>https://www.imdb.com/pt/name/nm4159861</td></tr><tr><td>nm0411980</td><td>Mark Ivanir</td><td>1</td><td>https://www.imdb.com/pt/name/nm0411980</td></tr><tr><td>nm0004626</td><td>Kareena Kapoor</td><td>1</td><td>https://www.imdb.com/pt/name/nm0004626</td></tr><tr><td>nm0441961</td><td>Daisuke Katô</td><td>1</td><td>https://www.imdb.com/pt/name/nm0441961</td></tr><tr><td>nm0000379</td><td>Kirsten Dunst</td><td>1</td><td>https://www.imdb.com/pt/name/nm0000379</td></tr><tr><td>nm0443286</td><td>David Kaye</td><td>1</td><td>https://www.imdb.com/pt/name/nm0443286</td></tr><tr><td>nm0005148</td><td>Delroy Lindo</td><td>1</td><td>https://www.imdb.com/pt/name/nm0005148</td></tr><tr><td>nm0446702</td><td>Moira Kelly</td><td>1</td><td>https://www.imdb.com/pt/name/nm0446702</td></tr><tr><td>nm9115333</td><td>Sibi Thomas</td><td>1</td><td>https://www.imdb.com/pt/name/nm9115333</td></tr><tr><td>nm0451561</td><td>Sachin Khedekar</td><td>1</td><td>https://www.imdb.com/pt/name/nm0451561</td></tr><tr><td>nm0005513</td><td>Alanna Ubach</td><td>1</td><td>https://www.imdb.com/pt/name/nm0005513</td></tr><tr><td>nm0474604</td><td>Mrinal Kulkarni</td><td>1</td><td>https://www.imdb.com/pt/name/nm0474604</td></tr><tr><td>nm0000474</td><td>Michael Keaton</td><td>1</td><td>https://www.imdb.com/pt/name/nm0000474</td></tr><tr><td>nm0482851</td><td>Phil LaMarr</td><td>1</td><td>https://www.imdb.com/pt/name/nm0482851</td></tr><tr><td>nm0026841</td><td>James Anderson</td><td>1</td><td>https://www.imdb.com/pt/name/nm0026841</td></tr><tr><td>nm0489837</td><td>Louise Lasser</td><td>1</td><td>https://www.imdb.com/pt/name/nm0489837</td></tr><tr><td>nm5056902</td><td>Tharun Bhascker Dhaassyam</td><td>1</td><td>https://www.imdb.com/pt/name/nm5056902</td></tr><tr><td>nm0513520</td><td>Maureen Lipman</td><td>1</td><td>https://www.imdb.com/pt/name/nm0513520</td></tr><tr><td>nm0032962</td><td>Tomas Arana</td><td>1</td><td>https://www.imdb.com/pt/name/nm0032962</td></tr><tr><td>nm0522503</td><td>Laura Lovelace</td><td>1</td><td>https://www.imdb.com/pt/name/nm0522503</td></tr><tr><td>nm0000493</td><td>Jack Lemmon</td><td>1</td><td>https://www.imdb.com/pt/name/nm0000493</td></tr><tr><td>nm0565494</td><td>Colleen McCauley</td><td>1</td><td>https://www.imdb.com/pt/name/nm0565494</td></tr><tr><td>nm0045993</td><td>Bolaji Badejo</td><td>1</td><td>https://www.imdb.com/pt/name/nm0045993</td></tr><tr><td>nm0592135</td><td>Lin-Manuel Miranda</td><td>1</td><td>https://www.imdb.com/pt/name/nm0592135</td></tr><tr><td>nm0000018</td><td>Kirk Douglas</td><td>1</td><td>https://www.imdb.com/pt/name/nm0000018</td></tr><tr><td>nm0593612</td><td>Millard Mitchell</td><td>1</td><td>https://www.imdb.com/pt/name/nm0593612</td></tr><tr><td>nm0046575</td><td>Vladas Bagdonas</td><td>1</td><td>https://www.imdb.com/pt/name/nm0046575</td></tr><tr><td>nm0595934</td><td>Mohan Babu</td><td>1</td><td>https://www.imdb.com/pt/name/nm0595934</td></tr><tr><td>nm0000606</td><td>Jean Reno</td><td>1</td><td>https://www.imdb.com/pt/name/nm0000606</td></tr><tr><td>nm0606998</td><td>Wayne Morris</td><td>1</td><td>https://www.imdb.com/pt/name/nm0606998</td></tr><tr><td>nm0061830</td><td>Hans-Uwe Bauer</td><td>1</td><td>https://www.imdb.com/pt/name/nm0061830</td></tr><tr><td>nm0614677</td><td>Rosemary Murphy</td><td>1</td><td>https://www.imdb.com/pt/name/nm0614677</td></tr><tr><td>nm4299147</td><td>Sareh Bayat</td><td>1</td><td>https://www.imdb.com/pt/name/nm4299147</td></tr><tr><td>nm0618690</td><td>Matheus Nachtergaele</td><td>1</td><td>https://www.imdb.com/pt/name/nm0618690</td></tr><tr><td>nm0077543</td><td>Frank Berry</td><td>1</td><td>https://www.imdb.com/pt/name/nm0077543</td></tr><tr><td>nm0665886</td><td>Lee Patrick</td><td>1</td><td>https://www.imdb.com/pt/name/nm0665886</td></tr><tr><td>nm0000641</td><td>Gary Sinise</td><td>1</td><td>https://www.imdb.com/pt/name/nm0000641</td></tr><tr><td>nm0713469</td><td>Julia Rayner</td><td>1</td><td>https://www.imdb.com/pt/name/nm0713469</td></tr><tr><td>nm0093769</td><td>Fortunio Bonanova</td><td>1</td><td>https://www.imdb.com/pt/name/nm0093769</td></tr><tr><td>nm0757064</td><td>S.Z. Sakall</td><td>1</td><td>https://www.imdb.com/pt/name/nm0757064</td></tr><tr><td>nm0000026</td><td>Cary Grant</td><td>1</td><td>https://www.imdb.com/pt/name/nm0000026</td></tr><tr><td>nm0757855</td><td>Zoe Saldaña</td><td>1</td><td>https://www.imdb.com/pt/name/nm0757855</td></tr><tr><td>nm0094163</td><td>Eugenie Bondurant</td><td>1</td><td>https://www.imdb.com/pt/name/nm0094163</td></tr><tr><td>nm0760778</td><td>Fatima Sana Shaikh</td><td>1</td><td>https://www.imdb.com/pt/name/nm0760778</td></tr><tr><td>nm0000701</td><td>Kate Winslet</td><td>1</td><td>https://www.imdb.com/pt/name/nm0000701</td></tr><tr><td>nm0779685</td><td>Randolph Scott</td><td>1</td><td>https://www.imdb.com/pt/name/nm0779685</td></tr><tr><td>nm0119988</td><td>Peter Bull</td><td>1</td><td>https://www.imdb.com/pt/name/nm0119988</td></tr><tr><td>nm0790064</td><td>Joan Shawlee</td><td>1</td><td>https://www.imdb.com/pt/name/nm0790064</td></tr><tr><td>nm5481013</td><td>Kaito Ishikawa</td><td>1</td><td>https://www.imdb.com/pt/name/nm5481013</td></tr><tr><td>nm0791502</td><td>Paul Shenar</td><td>1</td><td>https://www.imdb.com/pt/name/nm0791502</td></tr><tr><td>nm0121972</td><td>Gedeon Burkhard</td><td>1</td><td>https://www.imdb.com/pt/name/nm0121972</td></tr><tr><td>nm0795344</td><td>John Shrapnel</td><td>1</td><td>https://www.imdb.com/pt/name/nm0795344</td></tr><tr><td>nm0000799</td><td>Edward Asner</td><td>1</td><td>https://www.imdb.com/pt/name/nm0000799</td></tr><tr><td>nm0799777</td><td>J.K. Simmons</td><td>1</td><td>https://www.imdb.com/pt/name/nm0799777</td></tr><tr><td>nm0131781</td><td>Jaime Camil</td><td>1</td><td>https://www.imdb.com/pt/name/nm0131781</td></tr><tr><td>nm0823563</td><td>Mike Starr</td><td>1</td><td>https://www.imdb.com/pt/name/nm0823563</td></tr><tr><td>nm0000044</td><td>Burt Lancaster</td><td>1</td><td>https://www.imdb.com/pt/name/nm0000044</td></tr><tr><td>nm0839486</td><td>Ethan Suplee</td><td>1</td><td>https://www.imdb.com/pt/name/nm0839486</td></tr><tr><td>nm0131966</td><td>Bill Camp</td><td>1</td><td>https://www.imdb.com/pt/name/nm0131966</td></tr><tr><td>nm0851427</td><td>Bernd Tauber</td><td>1</td><td>https://www.imdb.com/pt/name/nm0851427</td></tr><tr><td>nm0000966</td><td>Lorraine Bracco</td><td>1</td><td>https://www.imdb.com/pt/name/nm0000966</td></tr><tr><td>nm0868639</td><td>Fernanda Torres</td><td>1</td><td>https://www.imdb.com/pt/name/nm0868639</td></tr><tr><td>nm0173125</td><td>Miriam Colon</td><td>1</td><td>https://www.imdb.com/pt/name/nm0173125</td></tr><tr><td>nm0912478</td><td>H.B. Warner</td><td>1</td><td>https://www.imdb.com/pt/name/nm0912478</td></tr><tr><td>nm4733752</td><td>Kimiko Glenn</td><td>1</td><td>https://www.imdb.com/pt/name/nm4733752</td></tr><tr><td>nm0926235</td><td>James Whitmore</td><td>1</td><td>https://www.imdb.com/pt/name/nm0926235</td></tr><tr><td>nm0177528</td><td>Danny Cooksey</td><td>1</td><td>https://www.imdb.com/pt/name/nm0177528</td></tr><tr><td>nm0933330</td><td>Dooley Wilson</td><td>1</td><td>https://www.imdb.com/pt/name/nm0933330</td></tr><tr><td>nm0001012</td><td>Claudia Cardinale</td><td>1</td><td>https://www.imdb.com/pt/name/nm0001012</td></tr><tr><td>nm0938052</td><td>Ian Wolfe</td><td>1</td><td>https://www.imdb.com/pt/name/nm0938052</td></tr><tr><td>nm0180984</td><td>Kevin Corrigan</td><td>1</td><td>https://www.imdb.com/pt/name/nm0180984</td></tr><tr><td>nm1033907</td><td>Victor Alexander</td><td>1</td><td>https://www.imdb.com/pt/name/nm1033907</td></tr><tr><td>nm0000080</td><td>Orson Welles</td><td>1</td><td>https://www.imdb.com/pt/name/nm0000080</td></tr><tr><td>nm1046521</td><td>Lars Ranthe</td><td>1</td><td>https://www.imdb.com/pt/name/nm1046521</td></tr><tr><td>nm0201700</td><td>Tony Darrow</td><td>1</td><td>https://www.imdb.com/pt/name/nm0201700</td></tr><tr><td>nm1064352</td><td>Tracy Reed</td><td>1</td><td>https://www.imdb.com/pt/name/nm1064352</td></tr><tr><td>nm0001110</td><td>Embeth Davidtz</td><td>1</td><td>https://www.imdb.com/pt/name/nm0001110</td></tr><tr><td>nm1111054</td><td>Masaki Terasoma</td><td>1</td><td>https://www.imdb.com/pt/name/nm1111054</td></tr><tr><td>nm0212939</td><td>Ron Dean</td><td>1</td><td>https://www.imdb.com/pt/name/nm0212939</td></tr><tr><td>nm11319525</td><td>Mohammad Al Abdallah</td><td>1</td><td>https://www.imdb.com/pt/name/nm11319525</td></tr><tr><td>nm6442009</td><td>Kiara Advani</td><td>1</td><td>https://www.imdb.com/pt/name/nm6442009</td></tr><tr><td>nm1224082</td><td>Boman Irani</td><td>1</td><td>https://www.imdb.com/pt/name/nm1224082</td></tr><tr><td>nm0233391</td><td>Matt Doran</td><td>1</td><td>https://www.imdb.com/pt/name/nm0233391</td></tr><tr><td>nm12449815</td><td>Abhishek Sengupta</td><td>1</td><td>https://www.imdb.com/pt/name/nm12449815</td></tr><tr><td>nm0001125</td><td>Benicio Del Toro</td><td>1</td><td>https://www.imdb.com/pt/name/nm0001125</td></tr><tr><td>nm1366028</td><td>Kim Byeong-Ok</td><td>1</td><td>https://www.imdb.com/pt/name/nm1366028</td></tr><tr><td>nm0242562</td><td>Emma Dunn</td><td>1</td><td>https://www.imdb.com/pt/name/nm0242562</td></tr><tr><td>nm1502434</td><td>Leslie Odom Jr.</td><td>1</td><td>https://www.imdb.com/pt/name/nm1502434</td></tr><tr><td>nm0000103</td><td>Fairuza Balk</td><td>1</td><td>https://www.imdb.com/pt/name/nm0000103</td></tr><tr><td>nm0501435</td><td>Kasi Lemmons</td><td>1</td><td>https://www.imdb.com/pt/name/nm0501435</td></tr><tr><td>nm0267812</td><td>Vera Farmiga</td><td>1</td><td>https://www.imdb.com/pt/name/nm0267812</td></tr><tr><td>nm0991810</td><td>Mahershala Ali</td><td>1</td><td>https://www.imdb.com/pt/name/nm0991810</td></tr><tr><td>nm0001295</td><td>Graham Greene</td><td>1</td><td>https://www.imdb.com/pt/name/nm0001295</td></tr><tr><td>nm15809251</td><td>Geetha</td><td>1</td><td>https://www.imdb.com/pt/name/nm15809251</td></tr><tr><td>nm0275213</td><td>Gabriele Ferzetti</td><td>1</td><td>https://www.imdb.com/pt/name/nm0275213</td></tr><tr><td>nm1856097</td><td>Cho Yeo-jeong</td><td>1</td><td>https://www.imdb.com/pt/name/nm1856097</td></tr><tr><td>nm5607349</td><td>Varun Sharma</td><td>1</td><td>https://www.imdb.com/pt/name/nm5607349</td></tr><tr><td>nm1862960</td><td>Chris Jackson</td><td>1</td><td>https://www.imdb.com/pt/name/nm1862960</td></tr><tr><td>nm0289080</td><td>Jorja Fox</td><td>1</td><td>https://www.imdb.com/pt/name/nm0289080</td></tr><tr><td>nm1881661</td><td>Yoo Yeon-seok</td><td>1</td><td>https://www.imdb.com/pt/name/nm1881661</td></tr><tr><td>nm0001527</td><td>Elizabeth McGovern</td><td>1</td><td>https://www.imdb.com/pt/name/nm0001527</td></tr><tr><td>nm2195817</td><td>Samantha Mahurin</td><td>1</td><td>https://www.imdb.com/pt/name/nm2195817</td></tr><tr><td>nm0301348</td><td>Richard Gaines</td><td>1</td><td>https://www.imdb.com/pt/name/nm0301348</td></tr><tr><td>nm2403277</td><td>Alden Ehrenreich</td><td>1</td><td>https://www.imdb.com/pt/name/nm2403277</td></tr><tr><td>nm0000124</td><td>Jennifer Connelly</td><td>1</td><td>https://www.imdb.com/pt/name/nm0000124</td></tr><tr><td>nm2976492</td><td>Aoi Yûki</td><td>1</td><td>https://www.imdb.com/pt/name/nm2976492</td></tr><tr><td>nm0309945</td><td>Maxim Gaudette</td><td>1</td><td>https://www.imdb.com/pt/name/nm0309945</td></tr><tr><td>nm3237775</td><td>Mackenzie Foy</td><td>1</td><td>https://www.imdb.com/pt/name/nm3237775</td></tr><tr><td>nm0001562</td><td>Kathy Najimy</td><td>1</td><td>https://www.imdb.com/pt/name/nm0001562</td></tr><tr><td>nm0311155</td><td>Michael V. Gazzo</td><td>1</td><td>https://www.imdb.com/pt/name/nm0311155</td></tr><tr><td>nm6678966</td><td>Vinodhini Vaidynathan</td><td>1</td><td>https://www.imdb.com/pt/name/nm6678966</td></tr><tr><td>nm0321798</td><td>Keith A. Glascoe</td><td>1</td><td>https://www.imdb.com/pt/name/nm0321798</td></tr><tr><td>nm0001625</td><td>Amanda Plummer</td><td>1</td><td>https://www.imdb.com/pt/name/nm0001625</td></tr><tr><td>nm0332390</td><td>Harold Gould</td><td>1</td><td>https://www.imdb.com/pt/name/nm0332390</td></tr><tr><td>nm0000285</td><td>Alec Baldwin</td><td>1</td><td>https://www.imdb.com/pt/name/nm0000285</td></tr><tr><td>nm0350454</td><td>Maggie Gyllenhaal</td><td>1</td><td>https://www.imdb.com/pt/name/nm0350454</td></tr><tr><td>nm0001629</td><td>Kevin Pollak</td><td>1</td><td>https://www.imdb.com/pt/name/nm0001629</td></tr><tr><td>nm0354916</td><td>Grace Hayle</td><td>1</td><td>https://www.imdb.com/pt/name/nm0354916</td></tr><tr><td>nm5626435</td><td>Guru Somasundaram</td><td>1</td><td>https://www.imdb.com/pt/name/nm5626435</td></tr><tr><td>nm0369513</td><td>Cole Hauser</td><td>1</td><td>https://www.imdb.com/pt/name/nm0369513</td></tr><tr><td>nm0001693</td><td>Eva Marie Saint</td><td>1</td><td>https://www.imdb.com/pt/name/nm0001693</td></tr><tr><td>nm0372217</td><td>Anthony Heald</td><td>1</td><td>https://www.imdb.com/pt/name/nm0372217</td></tr><tr><td>nm0000286</td><td>Stephen Baldwin</td><td>1</td><td>https://www.imdb.com/pt/name/nm0000286</td></tr><tr><td>nm0375738</td><td>Tom Helmore</td><td>1</td><td>https://www.imdb.com/pt/name/nm0375738</td></tr><tr><td>nm0001703</td><td>Maximilian Schell</td><td>1</td><td>https://www.imdb.com/pt/name/nm0001703</td></tr><tr><td>nm0385443</td><td>Shin'ichi Himori</td><td>1</td><td>https://www.imdb.com/pt/name/nm0385443</td></tr><tr><td>nm7084461</td><td>Pranay Pachauri</td><td>1</td><td>https://www.imdb.com/pt/name/nm7084461</td></tr><tr><td>nm0428216</td><td>Henry Jones</td><td>1</td><td>https://www.imdb.com/pt/name/nm0428216</td></tr><tr><td>nm0001847</td><td>Richard Widmark</td><td>1</td><td>https://www.imdb.com/pt/name/nm0001847</td></tr><tr><td>nm0434593</td><td>Kyôko Kagawa</td><td>1</td><td>https://www.imdb.com/pt/name/nm0434593</td></tr><tr><td>nm0000448</td><td>Lance Henriksen</td><td>1</td><td>https://www.imdb.com/pt/name/nm0000448</td></tr><tr><td>nm0434759</td><td>Wolf Kahler</td><td>1</td><td>https://www.imdb.com/pt/name/nm0434759</td></tr><tr><td>nm0002011</td><td>Lee J. Cobb</td><td>1</td><td>https://www.imdb.com/pt/name/nm0002011</td></tr><tr><td>nm0444955</td><td>Jack Kehoe</td><td>1</td><td>https://www.imdb.com/pt/name/nm0444955</td></tr><tr><td>nm5765775</td><td>Fadi Yousef</td><td>1</td><td>https://www.imdb.com/pt/name/nm5765775</td></tr><tr><td>nm0451600</td><td>Anupam Kher</td><td>1</td><td>https://www.imdb.com/pt/name/nm0451600</td></tr><tr><td>nm0002017</td><td>Richard Conte</td><td>1</td><td>https://www.imdb.com/pt/name/nm0002017</td></tr><tr><td>nm0462182</td><td>Makoto Kobori</td><td>1</td><td>https://www.imdb.com/pt/name/nm0462182</td></tr><tr><td>nm0000501</td><td>Ray Liotta</td><td>1</td><td>https://www.imdb.com/pt/name/nm0000501</td></tr><tr><td>nm0484829</td><td>Jessie Royce Landis</td><td>1</td><td>https://www.imdb.com/pt/name/nm0484829</td></tr><tr><td>nm0005023</td><td>Djimon Hounsou</td><td>1</td><td>https://www.imdb.com/pt/name/nm0005023</td></tr><tr><td>nm0516972</td><td>Gary Lockwood</td><td>1</td><td>https://www.imdb.com/pt/name/nm0516972</td></tr><tr><td>nm9508122</td><td>Nalneesh Neel</td><td>1</td><td>https://www.imdb.com/pt/name/nm9508122</td></tr><tr><td>nm0522797</td><td>Chuck Low</td><td>1</td><td>https://www.imdb.com/pt/name/nm0522797</td></tr><tr><td>nm0026364</td><td>Anthony Anderson</td><td>1</td><td>https://www.imdb.com/pt/name/nm0026364</td></tr><tr><td>nm0565133</td><td>Francis X. McCarthy</td><td>1</td><td>https://www.imdb.com/pt/name/nm0565133</td></tr><tr><td>nm0000564</td><td>Peter O'Toole</td><td>1</td><td>https://www.imdb.com/pt/name/nm0000564</td></tr><tr><td>nm0570615</td><td>John McIntire</td><td>1</td><td>https://www.imdb.com/pt/name/nm0570615</td></tr><tr><td>nm0028625</td><td>David Andrews</td><td>1</td><td>https://www.imdb.com/pt/name/nm0028625</td></tr><tr><td>nm0573299</td><td>Kenneth McMillan</td><td>1</td><td>https://www.imdb.com/pt/name/nm0573299</td></tr><tr><td>nm6323449</td><td>Usha Elizabeth</td><td>1</td><td>https://www.imdb.com/pt/name/nm6323449</td></tr><tr><td>nm0586227</td><td>Tatsuya Mihashi</td><td>1</td><td>https://www.imdb.com/pt/name/nm0586227</td></tr><tr><td>nm0032810</td><td>Julian Arahanga</td><td>1</td><td>https://www.imdb.com/pt/name/nm0032810</td></tr><tr><td>nm0593775</td><td>Thomas Mitchell</td><td>1</td><td>https://www.imdb.com/pt/name/nm0593775</td></tr><tr><td>nm0000836</td><td>Scott Bakula</td><td>1</td><td>https://www.imdb.com/pt/name/nm0000836</td></tr><tr><td>nm0621008</td><td>Charles Napier</td><td>1</td><td>https://www.imdb.com/pt/name/nm0621008</td></tr><tr><td>nm0041066</td><td>Antonella Attili</td><td>1</td><td>https://www.imdb.com/pt/name/nm0041066</td></tr><tr><td>nm0640547</td><td>Una O'Connor</td><td>1</td><td>https://www.imdb.com/pt/name/nm0640547</td></tr><tr><td>nm9862858</td><td>Zain Al Rafeea</td><td>1</td><td>https://www.imdb.com/pt/name/nm9862858</td></tr><tr><td>nm0672225</td><td>Bob Penny</td><td>1</td><td>https://www.imdb.com/pt/name/nm0672225</td></tr><tr><td>nm0045937</td><td>Michael Badalucco</td><td>1</td><td>https://www.imdb.com/pt/name/nm0045937</td></tr><tr><td>nm0686857</td><td>Edward Platt</td><td>1</td><td>https://www.imdb.com/pt/name/nm0686857</td></tr><tr><td>nm0000885</td><td>Ned Beatty</td><td>1</td><td>https://www.imdb.com/pt/name/nm0000885</td></tr><tr><td>nm0694101</td><td>Eddie Powell</td><td>1</td><td>https://www.imdb.com/pt/name/nm0694101</td></tr><tr><td>nm0046564</td><td>Ross Bagdasarian</td><td>1</td><td>https://www.imdb.com/pt/name/nm0046564</td></tr><tr><td>nm0719678</td><td>Callum Keith Rennie</td><td>1</td><td>https://www.imdb.com/pt/name/nm0719678</td></tr><tr><td>nm8168516</td><td>Shyam Renganathan</td><td>1</td><td>https://www.imdb.com/pt/name/nm8168516</td></tr><tr><td>nm0721637</td><td>Cecil Reynolds</td><td>1</td><td>https://www.imdb.com/pt/name/nm0721637</td></tr><tr><td>nm0058384</td><td>John Bartha</td><td>1</td><td>https://www.imdb.com/pt/name/nm0058384</td></tr><tr><td>nm0728812</td><td>Thelma Ritter</td><td>1</td><td>https://www.imdb.com/pt/name/nm0728812</td></tr><tr><td>nm0000905</td><td>Roberto Benigni</td><td>1</td><td>https://www.imdb.com/pt/name/nm0000905</td></tr><tr><td>nm0757774</td><td>Ángel Salazar</td><td>1</td><td>https://www.imdb.com/pt/name/nm0757774</td></tr><tr><td>nm0076700</td><td>Sara Berner</td><td>1</td><td>https://www.imdb.com/pt/name/nm0076700</td></tr><tr><td>nm0769116</td><td>Claudio Scarchilli</td><td>1</td><td>https://www.imdb.com/pt/name/nm0769116</td></tr><tr><td>nm0000006</td><td>Ingrid Bergman</td><td>1</td><td>https://www.imdb.com/pt/name/nm0000006</td></tr><tr><td>nm0783847</td><td>Martin Semmelrogge</td><td>1</td><td>https://www.imdb.com/pt/name/nm0783847</td></tr><tr><td>nm0082979</td><td>Sergio Bini Bustric</td><td>1</td><td>https://www.imdb.com/pt/name/nm0082979</td></tr><tr><td>nm0790164</td><td>Konstantin Shayne</td><td>1</td><td>https://www.imdb.com/pt/name/nm0790164</td></tr><tr><td>nm0000906</td><td>Annette Bening</td><td>1</td><td>https://www.imdb.com/pt/name/nm0000906</td></tr><tr><td>nm0793616</td><td>Yukiko Shimazaki</td><td>1</td><td>https://www.imdb.com/pt/name/nm0793616</td></tr><tr><td>nm0104594</td><td>Larry Brandenburg</td><td>1</td><td>https://www.imdb.com/pt/name/nm0104594</td></tr><tr><td>nm0829717</td><td>Paul Stewart</td><td>1</td><td>https://www.imdb.com/pt/name/nm0829717</td></tr><tr><td>nm9500800</td><td>Bárbara Luz</td><td>1</td><td>https://www.imdb.com/pt/name/nm9500800</td></tr><tr><td>nm0834754</td><td>Woody Strode</td><td>1</td><td>https://www.imdb.com/pt/name/nm0834754</td></tr><tr><td>nm0109175</td><td>Richard Bright</td><td>1</td><td>https://www.imdb.com/pt/name/nm0109175</td></tr><tr><td>nm0841797</td><td>Gloria Swanson</td><td>1</td><td>https://www.imdb.com/pt/name/nm0841797</td></tr><tr><td>nm0000982</td><td>Josh Brolin</td><td>1</td><td>https://www.imdb.com/pt/name/nm0000982</td></tr><tr><td>nm0848984</td><td>Haruo Tanaka</td><td>1</td><td>https://www.imdb.com/pt/name/nm0848984</td></tr><tr><td>nm0114436</td><td>Phil Brown</td><td>1</td><td>https://www.imdb.com/pt/name/nm0114436</td></tr><tr><td>nm0876300</td><td>Ulrich Tukur</td><td>1</td><td>https://www.imdb.com/pt/name/nm0876300</td></tr><tr><td>nm0000007</td><td>Humphrey Bogart</td><td>1</td><td>https://www.imdb.com/pt/name/nm0000007</td></tr><tr><td>nm0913095</td><td>Ruth Warrick</td><td>1</td><td>https://www.imdb.com/pt/name/nm0913095</td></tr><tr><td>nm0143150</td><td>Salvatore Cascio</td><td>1</td><td>https://www.imdb.com/pt/name/nm0143150</td></tr><tr><td>nm0921044</td><td>Klaus Wennemann</td><td>1</td><td>https://www.imdb.com/pt/name/nm0921044</td></tr><tr><td>nm0001050</td><td>Montgomery Clift</td><td>1</td><td>https://www.imdb.com/pt/name/nm0001050</td></tr><tr><td>nm0953423</td><td>Merila Zare'i</td><td>1</td><td>https://www.imdb.com/pt/name/nm0953423</td></tr><tr><td>nm0146146</td><td>Reg E. Cathey</td><td>1</td><td>https://www.imdb.com/pt/name/nm0146146</td></tr><tr><td>nm1010931</td><td>Monique Gabriela Curnen</td><td>1</td><td>https://www.imdb.com/pt/name/nm1010931</td></tr><tr><td>nm0000056</td><td>Paul Newman</td><td>1</td><td>https://www.imdb.com/pt/name/nm0000056</td></tr><tr><td>nm10285613</td><td>Atul Singh Verma</td><td>1</td><td>https://www.imdb.com/pt/name/nm10285613</td></tr><tr><td>nm0173827</td><td>Dorothy Comingore</td><td>1</td><td>https://www.imdb.com/pt/name/nm0173827</td></tr><tr><td>nm1055413</td><td>Michael Fassbender</td><td>1</td><td>https://www.imdb.com/pt/name/nm1055413</td></tr><tr><td>nm0001088</td><td>Peter Cushing</td><td>1</td><td>https://www.imdb.com/pt/name/nm0001088</td></tr><tr><td>nm1069587</td><td>Darshan Kumaar</td><td>1</td><td>https://www.imdb.com/pt/name/nm1069587</td></tr><tr><td>nm0174682</td><td>Chester Conklin</td><td>1</td><td>https://www.imdb.com/pt/name/nm0174682</td></tr><tr><td>nm11660556</td><td>Sunit Tandon</td><td>1</td><td>https://www.imdb.com/pt/name/nm11660556</td></tr><tr><td>nm0000075</td><td>Spencer Tracy</td><td>1</td><td>https://www.imdb.com/pt/name/nm0000075</td></tr><tr><td>nm1176985</td><td>Dave Bautista</td><td>1</td><td>https://www.imdb.com/pt/name/nm1176985</td></tr><tr><td>nm0204425</td><td>Daniel Davis</td><td>1</td><td>https://www.imdb.com/pt/name/nm0204425</td></tr><tr><td>nm1179683</td><td>Douglas Silva</td><td>1</td><td>https://www.imdb.com/pt/name/nm1179683</td></tr><tr><td>nm0001321</td><td>Richard Harris</td><td>1</td><td>https://www.imdb.com/pt/name/nm0001321</td></tr><tr><td>nm1203041</td><td>Ji Dae-han</td><td>1</td><td>https://www.imdb.com/pt/name/nm1203041</td></tr><tr><td>nm0269709</td><td>Frank Faylen</td><td>1</td><td>https://www.imdb.com/pt/name/nm0269709</td></tr><tr><td>nm1335704</td><td>Fahadh Faasil</td><td>1</td><td>https://www.imdb.com/pt/name/nm1335704</td></tr><tr><td>nm0000064</td><td>Edward G. Robinson</td><td>1</td><td>https://www.imdb.com/pt/name/nm0000064</td></tr><tr><td>nm1360441</td><td>Sayaka Ôhara</td><td>1</td><td>https://www.imdb.com/pt/name/nm1360441</td></tr><tr><td>nm0280707</td><td>Paul Fix</td><td>1</td><td>https://www.imdb.com/pt/name/nm0280707</td></tr><tr><td>nm13716647</td><td>Satendra Soni</td><td>1</td><td>https://www.imdb.com/pt/name/nm13716647</td></tr><tr><td>nm0001430</td><td>Jack Klugman</td><td>1</td><td>https://www.imdb.com/pt/name/nm0001430</td></tr><tr><td>nm1420619</td><td>Karunas</td><td>1</td><td>https://www.imdb.com/pt/name/nm1420619</td></tr><tr><td>nm0281909</td><td>Glenn Fleshler</td><td>1</td><td>https://www.imdb.com/pt/name/nm0281909</td></tr><tr><td>nm0711502</td><td>Rada Rassimov</td><td>1</td><td>https://www.imdb.com/pt/name/nm0711502</td></tr><tr><td>nm0000142</td><td>Clint Eastwood</td><td>1</td><td>https://www.imdb.com/pt/name/nm0000142</td></tr><tr><td>nm12329614</td><td>Kôzô Hashida</td><td>1</td><td>https://www.imdb.com/pt/name/nm12329614</td></tr><tr><td>nm0311343</td><td>Malgorzata Gebel</td><td>1</td><td>https://www.imdb.com/pt/name/nm0311343</td></tr><tr><td>nm1248280</td><td>Emerson Gomes</td><td>1</td><td>https://www.imdb.com/pt/name/nm1248280</td></tr><tr><td>nm0001445</td><td>Martin Landau</td><td>1</td><td>https://www.imdb.com/pt/name/nm0001445</td></tr><tr><td>nm1367681</td><td>Oh Dal-su</td><td>1</td><td>https://www.imdb.com/pt/name/nm1367681</td></tr><tr><td>nm0317970</td><td>Billy Gilbert</td><td>1</td><td>https://www.imdb.com/pt/name/nm0317970</td></tr><tr><td>nm1825214</td><td>John Mulaney</td><td>1</td><td>https://www.imdb.com/pt/name/nm1825214</td></tr><tr><td>nm0000111</td><td>Matthew Broderick</td><td>1</td><td>https://www.imdb.com/pt/name/nm0000111</td></tr><tr><td>nm1886602</td><td>Miles Teller</td><td>1</td><td>https://www.imdb.com/pt/name/nm1886602</td></tr><tr><td>nm0321294</td><td>Aldo Giuffrè</td><td>1</td><td>https://www.imdb.com/pt/name/nm0321294</td></tr><tr><td>nm2275012</td><td>Karthik Kumar</td><td>1</td><td>https://www.imdb.com/pt/name/nm2275012</td></tr><tr><td>nm0001533</td><td>Meat Loaf</td><td>1</td><td>https://www.imdb.com/pt/name/nm0001533</td></tr><tr><td>nm2973712</td><td>Jordan Nagai</td><td>1</td><td>https://www.imdb.com/pt/name/nm2973712</td></tr><tr><td>nm0323479</td><td>Friedrich Gnaß</td><td>1</td><td>https://www.imdb.com/pt/name/nm0323479</td></tr><tr><td>nm3222518</td><td>Sachet Engineer</td><td>1</td><td>https://www.imdb.com/pt/name/nm3222518</td></tr><tr><td>nm0000154</td><td>Mel Gibson</td><td>1</td><td>https://www.imdb.com/pt/name/nm0000154</td></tr><tr><td>nm0347039</td><td>Robert Guillaume</td><td>1</td><td>https://www.imdb.com/pt/name/nm0347039</td></tr><tr><td>nm0001567</td><td>Connie Nielsen</td><td>1</td><td>https://www.imdb.com/pt/name/nm0001567</td></tr><tr><td>nm0364680</td><td>Estelle Harris</td><td>1</td><td>https://www.imdb.com/pt/name/nm0364680</td></tr><tr><td>nm0000128</td><td>Russell Crowe</td><td>1</td><td>https://www.imdb.com/pt/name/nm0000128</td></tr><tr><td>nm0412615</td><td>Shima Iwashita</td><td>1</td><td>https://www.imdb.com/pt/name/nm0412615</td></tr><tr><td>nm0001765</td><td>Harry Dean Stanton</td><td>1</td><td>https://www.imdb.com/pt/name/nm0001765</td></tr><tr><td>nm0413168</td><td>Hugh Jackman</td><td>1</td><td>https://www.imdb.com/pt/name/nm0413168</td></tr><tr><td>nm0000190</td><td>Matthew McConaughey</td><td>1</td><td>https://www.imdb.com/pt/name/nm0000190</td></tr><tr><td>nm0439307</td><td>Babak Karimi</td><td>1</td><td>https://www.imdb.com/pt/name/nm0439307</td></tr><tr><td>nm0001891</td><td>Anthony Higgins</td><td>1</td><td>https://www.imdb.com/pt/name/nm0001891</td></tr><tr><td>nm0441399</td><td>Takeshi Katô</td><td>1</td><td>https://www.imdb.com/pt/name/nm0441399</td></tr><tr><td>nm0000155</td><td>Whoopi Goldberg</td><td>1</td><td>https://www.imdb.com/pt/name/nm0000155</td></tr><tr><td>nm0460578</td><td>Herbert Knaup</td><td>1</td><td>https://www.imdb.com/pt/name/nm0460578</td></tr><tr><td>nm0003225</td><td>Ed Begley</td><td>1</td><td>https://www.imdb.com/pt/name/nm0003225</td></tr><tr><td>nm0462407</td><td>Sebastian Koch</td><td>1</td><td>https://www.imdb.com/pt/name/nm0462407</td></tr><tr><td>nm0000216</td><td>Arnold Schwarzenegger</td><td>1</td><td>https://www.imdb.com/pt/name/nm0000216</td></tr><tr><td>nm0467566</td><td>Yoshio Kosugi</td><td>1</td><td>https://www.imdb.com/pt/name/nm0467566</td></tr><tr><td>nm0005171</td><td>Angus Macfadyen</td><td>1</td><td>https://www.imdb.com/pt/name/nm0005171</td></tr><tr><td>nm0470981</td><td>Thomas Kretschmann</td><td>1</td><td>https://www.imdb.com/pt/name/nm0470981</td></tr><tr><td>nm0000171</td><td>Ashley Judd</td><td>1</td><td>https://www.imdb.com/pt/name/nm0000171</td></tr><tr><td>nm0479951</td><td>Ronald Lacey</td><td>1</td><td>https://www.imdb.com/pt/name/nm0479951</td></tr><tr><td>nm0005541</td><td>Marlon Wayans</td><td>1</td><td>https://www.imdb.com/pt/name/nm0005541</td></tr><tr><td>nm0504803</td><td>Al Lettieri</td><td>1</td><td>https://www.imdb.com/pt/name/nm0504803</td></tr><tr><td>nm0000242</td><td>Mark Wahlberg</td><td>1</td><td>https://www.imdb.com/pt/name/nm0000242</td></tr><tr><td>nm0505971</td><td>Ted Levine</td><td>1</td><td>https://www.imdb.com/pt/name/nm0505971</td></tr><tr><td>nm0027323</td><td>Richard Anderson</td><td>1</td><td>https://www.imdb.com/pt/name/nm0027323</td></tr><tr><td>nm0533247</td><td>Kenneth MacKenna</td><td>1</td><td>https://www.imdb.com/pt/name/nm0533247</td></tr><tr><td>nm0000200</td><td>Bill Paxton</td><td>1</td><td>https://www.imdb.com/pt/name/nm0000200</td></tr><tr><td>nm0550855</td><td>E.G. Marshall</td><td>1</td><td>https://www.imdb.com/pt/name/nm0550855</td></tr><tr><td>nm0044073</td><td>Lubna Azabal</td><td>1</td><td>https://www.imdb.com/pt/name/nm0044073</td></tr><tr><td>nm0561158</td><td>Claire Maurier</td><td>1</td><td>https://www.imdb.com/pt/name/nm0561158</td></tr><tr><td>nm0000299</td><td>Michael Biehn</td><td>1</td><td>https://www.imdb.com/pt/name/nm0000299</td></tr><tr><td>nm0562056</td><td>Martin May</td><td>1</td><td>https://www.imdb.com/pt/name/nm0562056</td></tr><tr><td>nm0067672</td><td>Lia Beldam</td><td>1</td><td>https://www.imdb.com/pt/name/nm0067672</td></tr><tr><td>nm0576127</td><td>Ralph Meeker</td><td>1</td><td>https://www.imdb.com/pt/name/nm0576127</td></tr><tr><td>nm0000204</td><td>Natalie Portman</td><td>1</td><td>https://www.imdb.com/pt/name/nm0000204</td></tr><tr><td>nm0580436</td><td>Matt Mercier</td><td>1</td><td>https://www.imdb.com/pt/name/nm0580436</td></tr><tr><td>nm0089112</td><td>Willi One Blood</td><td>1</td><td>https://www.imdb.com/pt/name/nm0089112</td></tr><tr><td>nm0581014</td><td>Serge Merlin</td><td>1</td><td>https://www.imdb.com/pt/name/nm0581014</td></tr><tr><td>nm0000309</td><td>David Bowie</td><td>1</td><td>https://www.imdb.com/pt/name/nm0000309</td></tr><tr><td>nm0620964</td><td>Isabelle Nanty</td><td>1</td><td>https://www.imdb.com/pt/name/nm0620964</td></tr><tr><td>nm0094135</td><td>Beulah Bondi</td><td>1</td><td>https://www.imdb.com/pt/name/nm0094135</td></tr><tr><td>nm0643000</td><td>Simon Oakland</td><td>1</td><td>https://www.imdb.com/pt/name/nm0643000</td></tr><tr><td>nm0000209</td><td>Tim Robbins</td><td>1</td><td>https://www.imdb.com/pt/name/nm0000209</td></tr><tr><td>nm0722636</td><td>John Rhys-Davies</td><td>1</td><td>https://www.imdb.com/pt/name/nm0722636</td></tr><tr><td>nm0134073</td><td>Enzo Cannavale</td><td>1</td><td>https://www.imdb.com/pt/name/nm0134073</td></tr><tr><td>nm0725220</td><td>Daniel Richter</td><td>1</td><td>https://www.imdb.com/pt/name/nm0725220</td></tr><tr><td>nm0000457</td><td>John Hurt</td><td>1</td><td>https://www.imdb.com/pt/name/nm0000457</td></tr><tr><td>nm0752876</td><td>Thomas Jay Ryan</td><td>1</td><td>https://www.imdb.com/pt/name/nm0752876</td></tr><tr><td>nm0144307</td><td>John Cassini</td><td>1</td><td>https://www.imdb.com/pt/name/nm0144307</td></tr><tr><td>nm0803370</td><td>Frank Sivero</td><td>1</td><td>https://www.imdb.com/pt/name/nm0803370</td></tr><tr><td>nm0000245</td><td>Robin Williams</td><td>1</td><td>https://www.imdb.com/pt/name/nm0000245</td></tr><tr><td>nm0848533</td><td>Tetsurô Tanba</td><td>1</td><td>https://www.imdb.com/pt/name/nm0848533</td></tr><tr><td>nm0154653</td><td>Bhoomika Chawla</td><td>1</td><td>https://www.imdb.com/pt/name/nm0154653</td></tr><tr><td>nm0851582</td><td>Audrey Tautou</td><td>1</td><td>https://www.imdb.com/pt/name/nm0851582</td></tr><tr><td>nm0000546</td><td>Matthew Modine</td><td>1</td><td>https://www.imdb.com/pt/name/nm0000546</td></tr><tr><td>nm0871287</td><td>Henry Travers</td><td>1</td><td>https://www.imdb.com/pt/name/nm0871287</td></tr><tr><td>nm0159059</td><td>Marcus Chong</td><td>1</td><td>https://www.imdb.com/pt/name/nm0159059</td></tr><tr><td>nm0889540</td><td>Norma Varden</td><td>1</td><td>https://www.imdb.com/pt/name/nm0889540</td></tr><tr><td>nm0000246</td><td>Bruce Willis</td><td>1</td><td>https://www.imdb.com/pt/name/nm0000246</td></tr><tr><td>nm0896149</td><td>Renee Victor</td><td>1</td><td>https://www.imdb.com/pt/name/nm0896149</td></tr><tr><td>nm0175814</td><td>Frances Conroy</td><td>1</td><td>https://www.imdb.com/pt/name/nm0175814</td></tr><tr><td>nm0924154</td><td>Shea Whigham</td><td>1</td><td>https://www.imdb.com/pt/name/nm0924154</td></tr><tr><td>nm0000685</td><td>Jon Voight</td><td>1</td><td>https://www.imdb.com/pt/name/nm0000685</td></tr><tr><td>nm0925418</td><td>Ruth White</td><td>1</td><td>https://www.imdb.com/pt/name/nm0925418</td></tr><tr><td>nm0179819</td><td>Wendell Corey</td><td>1</td><td>https://www.imdb.com/pt/name/nm0179819</td></tr><tr><td>nm10293260</td><td>Ashwin Hassan</td><td>1</td><td>https://www.imdb.com/pt/name/nm10293260</td></tr><tr><td>nm0000261</td><td>Karen Allen</td><td>1</td><td>https://www.imdb.com/pt/name/nm0000261</td></tr><tr><td>nm10476840</td><td>Rachna Gupta</td><td>1</td><td>https://www.imdb.com/pt/name/nm10476840</td></tr><tr><td>nm0189144</td><td>David Cross</td><td>1</td><td>https://www.imdb.com/pt/name/nm0189144</td></tr><tr><td>nm1179580</td><td>Seu Jorge</td><td>1</td><td>https://www.imdb.com/pt/name/nm1179580</td></tr><tr><td>nm0000705</td><td>Robin Wright</td><td>1</td><td>https://www.imdb.com/pt/name/nm0000705</td></tr><tr><td>nm12220302</td><td>Raj Vermaa Saurav</td><td>1</td><td>https://www.imdb.com/pt/name/nm12220302</td></tr><tr><td>nm0191442</td><td>Brett Cullen</td><td>1</td><td>https://www.imdb.com/pt/name/nm0191442</td></tr><tr><td>nm0644905</td><td>Oh Tae-kyung</td><td>1</td><td>https://www.imdb.com/pt/name/nm0644905</td></tr><tr><td>nm0000445</td><td>Dan Hedaya</td><td>1</td><td>https://www.imdb.com/pt/name/nm0000445</td></tr><tr><td>nm0954076</td><td>Michal Zebrowski</td><td>1</td><td>https://www.imdb.com/pt/name/nm0954076</td></tr><tr><td>nm0225191</td><td>George DiCenzo</td><td>1</td><td>https://www.imdb.com/pt/name/nm0225191</td></tr><tr><td>nm1209966</td><td>Oscar Isaac</td><td>1</td><td>https://www.imdb.com/pt/name/nm1209966</td></tr><tr><td>nm0000859</td><td>Lionel Barrymore</td><td>1</td><td>https://www.imdb.com/pt/name/nm0000859</td></tr><tr><td>nm1249574</td><td>Phellipe Haagensen</td><td>1</td><td>https://www.imdb.com/pt/name/nm1249574</td></tr><tr><td>nm0240239</td><td>William Duell</td><td>1</td><td>https://www.imdb.com/pt/name/nm0240239</td></tr><tr><td>nm2028276</td><td>Subbalakshmi</td><td>1</td><td>https://www.imdb.com/pt/name/nm2028276</td></tr><tr><td>nm0000502</td><td>Christopher Lloyd</td><td>1</td><td>https://www.imdb.com/pt/name/nm0000502</td></tr><tr><td>nm2366974</td><td>Raj Arjun</td><td>1</td><td>https://www.imdb.com/pt/name/nm2366974</td></tr><tr><td>nm0272581</td><td>Rebecca Ferguson</td><td>1</td><td>https://www.imdb.com/pt/name/nm0272581</td></tr><tr><td>nm2581521</td><td>Austin Butler</td><td>1</td><td>https://www.imdb.com/pt/name/nm2581521</td></tr><tr><td>nm0000931</td><td>Elizabeth Berridge</td><td>1</td><td>https://www.imdb.com/pt/name/nm0000931</td></tr><tr><td>nm2676147</td><td>Jonathan Groff</td><td>1</td><td>https://www.imdb.com/pt/name/nm2676147</td></tr><tr><td>nm0328751</td><td>Caroline Goodall</td><td>1</td><td>https://www.imdb.com/pt/name/nm0328751</td></tr><tr><td>nm0000638</td><td>William Shatner</td><td>1</td><td>https://www.imdb.com/pt/name/nm0000638</td></tr><tr><td>nm0348409</td><td>Bob Gunton</td><td>1</td><td>https://www.imdb.com/pt/name/nm0348409</td></tr><tr><td>nm0001030</td><td>John Cazale</td><td>1</td><td>https://www.imdb.com/pt/name/nm0001030</td></tr><tr><td>nm0356017</td><td>Rebecca Hall</td><td>1</td><td>https://www.imdb.com/pt/name/nm0356017</td></tr><tr><td>nm0000729</td><td>Casey Affleck</td><td>1</td><td>https://www.imdb.com/pt/name/nm0000729</td></tr><tr><td>nm0372742</td><td>Jean Heather</td><td>1</td><td>https://www.imdb.com/pt/name/nm0372742</td></tr><tr><td>nm0001343</td><td>Carrie Henn</td><td>1</td><td>https://www.imdb.com/pt/name/nm0001343</td></tr><tr><td>nm0397102</td><td>Alan Howard</td><td>1</td><td>https://www.imdb.com/pt/name/nm0397102</td></tr><tr><td>nm0000832</td><td>Diane Baker</td><td>1</td><td>https://www.imdb.com/pt/name/nm0000832</td></tr><tr><td>nm0440604</td><td>Anurag Kashyap</td><td>1</td><td>https://www.imdb.com/pt/name/nm0440604</td></tr><tr><td>nm0001372</td><td>Bonnie Hunt</td><td>1</td><td>https://www.imdb.com/pt/name/nm0001372</td></tr><tr><td>nm0447913</td><td>Arthur Kennedy</td><td>1</td><td>https://www.imdb.com/pt/name/nm0447913</td></tr><tr><td>nm0000874</td><td>Steven Bauer</td><td>1</td><td>https://www.imdb.com/pt/name/nm0000874</td></tr><tr><td>nm0451898</td><td>Elias Khoury</td><td>1</td><td>https://www.imdb.com/pt/name/nm0451898</td></tr><tr><td>nm0001475</td><td>John Lithgow</td><td>1</td><td>https://www.imdb.com/pt/name/nm0001475</td></tr><tr><td>nm0457410</td><td>Ravi Kishan</td><td>1</td><td>https://www.imdb.com/pt/name/nm0457410</td></tr><tr><td>nm0000949</td><td>Cate Blanchett</td><td>1</td><td>https://www.imdb.com/pt/name/nm0000949</td></tr><tr><td>nm0463282</td><td>Kurt Koehler</td><td>1</td><td>https://www.imdb.com/pt/name/nm0463282</td></tr><tr><td>nm0001547</td><td>Agnes Moorehead</td><td>1</td><td>https://www.imdb.com/pt/name/nm0001547</td></tr><tr><td>nm0473583</td><td>Christiane Kubrick</td><td>1</td><td>https://www.imdb.com/pt/name/nm0473583</td></tr><tr><td>nm0000994</td><td>Raymond Burr</td><td>1</td><td>https://www.imdb.com/pt/name/nm0000994</td></tr><tr><td>nm0494504</td><td>Anne Le Ny</td><td>1</td><td>https://www.imdb.com/pt/name/nm0494504</td></tr><tr><td>nm0001638</td><td>Jürgen Prochnow</td><td>1</td><td>https://www.imdb.com/pt/name/nm0001638</td></tr><tr><td>nm0496441</td><td>Erwin Leder</td><td>1</td><td>https://www.imdb.com/pt/name/nm0496441</td></tr><tr><td>nm0001101</td><td>Ted Danson</td><td>1</td><td>https://www.imdb.com/pt/name/nm0001101</td></tr><tr><td>nm0507081</td><td>David Lewis</td><td>1</td><td>https://www.imdb.com/pt/name/nm0507081</td></tr><tr><td>nm0001656</td><td>Donna Reed</td><td>1</td><td>https://www.imdb.com/pt/name/nm0001656</td></tr><tr><td>nm0536574</td><td>George Maguire</td><td>1</td><td>https://www.imdb.com/pt/name/nm0536574</td></tr><tr><td>nm0001111</td><td>Jeremy Davies</td><td>1</td><td>https://www.imdb.com/pt/name/nm0001111</td></tr><tr><td>nm0569336</td><td>Sean McGinley</td><td>1</td><td>https://www.imdb.com/pt/name/nm0569336</td></tr><tr><td>nm0001666</td><td>Debbie Reynolds</td><td>1</td><td>https://www.imdb.com/pt/name/nm0001666</td></tr><tr><td>nm0578080</td><td>Selton Mello</td><td>1</td><td>https://www.imdb.com/pt/name/nm0578080</td></tr><tr><td>nm0001158</td><td>Keir Dullea</td><td>1</td><td>https://www.imdb.com/pt/name/nm0001158</td></tr><tr><td>nm0580924</td><td>S. Epatha Merkerson</td><td>1</td><td>https://www.imdb.com/pt/name/nm0580924</td></tr><tr><td>nm0001825</td><td>Andrew Kevin Walker</td><td>1</td><td>https://www.imdb.com/pt/name/nm0001825</td></tr><tr><td>nm0582418</td><td>Laurie Metcalf</td><td>1</td><td>https://www.imdb.com/pt/name/nm0582418</td></tr><tr><td>nm0001164</td><td>Charles Durning</td><td>1</td><td>https://www.imdb.com/pt/name/nm0001164</td></tr><tr><td>nm0608373</td><td>Maurice Moscovitch</td><td>1</td><td>https://www.imdb.com/pt/name/nm0608373</td></tr><tr><td>nm0001998</td><td>Cyd Charisse</td><td>1</td><td>https://www.imdb.com/pt/name/nm0001998</td></tr><tr><td>nm0625729</td><td>Sandy Nelson</td><td>1</td><td>https://www.imdb.com/pt/name/nm0625729</td></tr><tr><td>nm0001186</td><td>Denholm Elliott</td><td>1</td><td>https://www.imdb.com/pt/name/nm0001186</td></tr><tr><td>nm0640307</td><td>Donald O'Connor</td><td>1</td><td>https://www.imdb.com/pt/name/nm0640307</td></tr><tr><td>nm0002056</td><td>Christine Ebersole</td><td>1</td><td>https://www.imdb.com/pt/name/nm0002056</td></tr><tr><td>nm0654648</td><td>David Oyelowo</td><td>1</td><td>https://www.imdb.com/pt/name/nm0654648</td></tr><tr><td>nm0001221</td><td>Louise Fletcher</td><td>1</td><td>https://www.imdb.com/pt/name/nm0001221</td></tr><tr><td>nm0656929</td><td>Josh Pais</td><td>1</td><td>https://www.imdb.com/pt/name/nm0656929</td></tr><tr><td>nm0002064</td><td>Giancarlo Esposito</td><td>1</td><td>https://www.imdb.com/pt/name/nm0002064</td></tr><tr><td>nm0668110</td><td>Collin Wilcox Paxton</td><td>1</td><td>https://www.imdb.com/pt/name/nm0668110</td></tr><tr><td>nm0001251</td><td>Peter Gallagher</td><td>1</td><td>https://www.imdb.com/pt/name/nm0001251</td></tr><tr><td>nm0677654</td><td>Enzo Petito</td><td>1</td><td>https://www.imdb.com/pt/name/nm0677654</td></tr><tr><td>nm0002078</td><td>Frederic Forrest</td><td>1</td><td>https://www.imdb.com/pt/name/nm0002078</td></tr><tr><td>nm0703033</td><td>Anthony Quayle</td><td>1</td><td>https://www.imdb.com/pt/name/nm0703033</td></tr><tr><td>nm0001277</td><td>Scott Glenn</td><td>1</td><td>https://www.imdb.com/pt/name/nm0001277</td></tr><tr><td>nm0712546</td><td>Paresh Rawal</td><td>1</td><td>https://www.imdb.com/pt/name/nm0712546</td></tr><tr><td>nm0004874</td><td>Vin Diesel</td><td>1</td><td>https://www.imdb.com/pt/name/nm0004874</td></tr><tr><td>nm0744436</td><td>Leonard Rossiter</td><td>1</td><td>https://www.imdb.com/pt/name/nm0744436</td></tr><tr><td>nm0001433</td><td>Yaphet Kotto</td><td>1</td><td>https://www.imdb.com/pt/name/nm0001433</td></tr><tr><td>nm0794002</td><td>Yoshiko Shinohara</td><td>1</td><td>https://www.imdb.com/pt/name/nm0794002</td></tr><tr><td>nm0004937</td><td>Jamie Foxx</td><td>1</td><td>https://www.imdb.com/pt/name/nm0004937</td></tr><tr><td>nm0824741</td><td>David Steen</td><td>1</td><td>https://www.imdb.com/pt/name/nm0824741</td></tr><tr><td>nm0001452</td><td>Charles Laughton</td><td>1</td><td>https://www.imdb.com/pt/name/nm0001452</td></tr><tr><td>nm0824882</td><td>Burr Steers</td><td>1</td><td>https://www.imdb.com/pt/name/nm0824882</td></tr><tr><td>nm0005052</td><td>Michael Jeter</td><td>1</td><td>https://www.imdb.com/pt/name/nm0005052</td></tr><tr><td>nm0849100</td><td>Yûko Tanaka</td><td>1</td><td>https://www.imdb.com/pt/name/nm0849100</td></tr><tr><td>nm0001606</td><td>Chris Penn</td><td>1</td><td>https://www.imdb.com/pt/name/nm0001606</td></tr><tr><td>nm0854367</td><td>Evgeniy Tilicheev</td><td>1</td><td>https://www.imdb.com/pt/name/nm0854367</td></tr><tr><td>nm0005078</td><td>Stacy Keach</td><td>1</td><td>https://www.imdb.com/pt/name/nm0005078</td></tr><tr><td>nm0912001</td><td>Jack Warden</td><td>1</td><td>https://www.imdb.com/pt/name/nm0912001</td></tr><tr><td>nm0001620</td><td>Slim Pickens</td><td>1</td><td>https://www.imdb.com/pt/name/nm0001620</td></tr><tr><td>nm0916131</td><td>Jack Webb</td><td>1</td><td>https://www.imdb.com/pt/name/nm0916131</td></tr><tr><td>nm0006669</td><td>William Sadler</td><td>1</td><td>https://www.imdb.com/pt/name/nm0006669</td></tr><tr><td>nm0921532</td><td>Otto Wernicke</td><td>1</td><td>https://www.imdb.com/pt/name/nm0921532</td></tr><tr><td>nm0001673</td><td>Jason Robards</td><td>1</td><td>https://www.imdb.com/pt/name/nm0001673</td></tr><tr><td>nm0929489</td><td>Tom Wilkinson</td><td>1</td><td>https://www.imdb.com/pt/name/nm0929489</td></tr><tr><td>nm0013866</td><td>David Ahdar</td><td>1</td><td>https://www.imdb.com/pt/name/nm0013866</td></tr><tr><td>nm0938231</td><td>Frank Wolff</td><td>1</td><td>https://www.imdb.com/pt/name/nm0938231</td></tr><tr><td>nm0001844</td><td>Frank Whaley</td><td>1</td><td>https://www.imdb.com/pt/name/nm0001844</td></tr><tr><td>nm0945253</td><td>Minosuke Yamada</td><td>1</td><td>https://www.imdb.com/pt/name/nm0945253</td></tr><tr><td>nm0032216</td><td>Peter Appel</td><td>1</td><td>https://www.imdb.com/pt/name/nm0032216</td></tr><tr><td>nm0950867</td><td>Harris Yulin</td><td>1</td><td>https://www.imdb.com/pt/name/nm0950867</td></tr><tr><td>nm0001855</td><td>Tom Wilson</td><td>1</td><td>https://www.imdb.com/pt/name/nm0001855</td></tr><tr><td>nm10201625</td><td>Kawsar Al Haddad</td><td>1</td><td>https://www.imdb.com/pt/name/nm10201625</td></tr><tr><td>nm0040058</td><td>David Aston</td><td>1</td><td>https://www.imdb.com/pt/name/nm0040058</td></tr><tr><td>nm10201627</td><td>Alaa Chouchnieh</td><td>1</td><td>https://www.imdb.com/pt/name/nm10201627</td></tr><tr><td>nm0001976</td><td>Horst Buchholz</td><td>1</td><td>https://www.imdb.com/pt/name/nm0001976</td></tr><tr><td>nm1024101</td><td>Priyanshu Chatterjee</td><td>1</td><td>https://www.imdb.com/pt/name/nm1024101</td></tr><tr><td>nm0095478</td><td>Mark Boone Junior</td><td>1</td><td>https://www.imdb.com/pt/name/nm0095478</td></tr><tr><td>nm10635577</td><td>Michael Muthu</td><td>1</td><td>https://www.imdb.com/pt/name/nm10635577</td></tr><tr><td>nm0004965</td><td>Adam Goldberg</td><td>1</td><td>https://www.imdb.com/pt/name/nm0004965</td></tr><tr><td>nm10735745</td><td>Masayo Sakai</td><td>1</td><td>https://www.imdb.com/pt/name/nm10735745</td></tr><tr><td>nm0107495</td><td>Matthias Brenner</td><td>1</td><td>https://www.imdb.com/pt/name/nm0107495</td></tr><tr><td>nm10944488</td><td>Rohit Chauhan</td><td>1</td><td>https://www.imdb.com/pt/name/nm10944488</td></tr><tr><td>nm0005162</td><td>Robert Loggia</td><td>1</td><td>https://www.imdb.com/pt/name/nm0005162</td></tr><tr><td>nm1099597</td><td>Radha Ravi</td><td>1</td><td>https://www.imdb.com/pt/name/nm1099597</td></tr><tr><td>nm0108436</td><td>Dominique Briand</td><td>1</td><td>https://www.imdb.com/pt/name/nm0108436</td></tr><tr><td>nm11383103</td><td>Pratibha Ranta</td><td>1</td><td>https://www.imdb.com/pt/name/nm11383103</td></tr><tr><td>nm0005305</td><td>Piper Perabo</td><td>1</td><td>https://www.imdb.com/pt/name/nm0005305</td></tr><tr><td>nm11789096</td><td>Muralidaran</td><td>1</td><td>https://www.imdb.com/pt/name/nm11789096</td></tr><tr><td>nm0163939</td><td>Fred Clark</td><td>1</td><td>https://www.imdb.com/pt/name/nm0163939</td></tr><tr><td>nm1230844</td><td>Narain</td><td>1</td><td>https://www.imdb.com/pt/name/nm1230844</td></tr><tr><td>nm0019145</td><td>Lidia Alfonsi</td><td>1</td><td>https://www.imdb.com/pt/name/nm0019145</td></tr><tr><td>nm1334512</td><td>Ravi Khanvilkar</td><td>1</td><td>https://www.imdb.com/pt/name/nm1334512</td></tr><tr><td>nm0164809</td><td>Jason Clarke</td><td>1</td><td>https://www.imdb.com/pt/name/nm0164809</td></tr><tr><td>nm1384413</td><td>Saswata Chatterjee</td><td>1</td><td>https://www.imdb.com/pt/name/nm1384413</td></tr><tr><td>nm0077720</td><td>Michael Berryman</td><td>1</td><td>https://www.imdb.com/pt/name/nm0077720</td></tr><tr><td>nm1403603</td><td>Jefechander Suplino</td><td>1</td><td>https://www.imdb.com/pt/name/nm1403603</td></tr><tr><td>nm0186677</td><td>Lorella Cravotta</td><td>1</td><td>https://www.imdb.com/pt/name/nm0186677</td></tr><tr><td>nm1486911</td><td>Shahab Hosseini</td><td>1</td><td>https://www.imdb.com/pt/name/nm1486911</td></tr><tr><td>nm0083081</td><td>Edward Binns</td><td>1</td><td>https://www.imdb.com/pt/name/nm0083081</td></tr><tr><td>nm1538116</td><td>Tisca Chopra</td><td>1</td><td>https://www.imdb.com/pt/name/nm1538116</td></tr><tr><td>nm0188598</td><td>Peter Crombie</td><td>1</td><td>https://www.imdb.com/pt/name/nm0188598</td></tr><tr><td>nm15809263</td><td>Nagaratna Bhat</td><td>1</td><td>https://www.imdb.com/pt/name/nm15809263</td></tr><tr><td>nm0090008</td><td>Stanley Blystone</td><td>1</td><td>https://www.imdb.com/pt/name/nm0090008</td></tr><tr><td>nm0818274</td><td>Wendie Jo Sperber</td><td>1</td><td>https://www.imdb.com/pt/name/nm0818274</td></tr><tr><td>nm0191784</td><td>Mwako Cumbuka</td><td>1</td><td>https://www.imdb.com/pt/name/nm0191784</td></tr><tr><td>nm16200610</td><td>Guilherme Silveira</td><td>1</td><td>https://www.imdb.com/pt/name/nm16200610</td></tr><tr><td>nm0107281</td><td>Eileen Brennan</td><td>1</td><td>https://www.imdb.com/pt/name/nm0107281</td></tr><tr><td>nm1702868</td><td>Jisshu Sengupta</td><td>1</td><td>https://www.imdb.com/pt/name/nm1702868</td></tr><tr><td>nm0246386</td><td>Mélissa Désormeaux-Poulin</td><td>1</td><td>https://www.imdb.com/pt/name/nm0246386</td></tr><tr><td>nm1840093</td><td>Frédéric Paquet</td><td>1</td><td>https://www.imdb.com/pt/name/nm1840093</td></tr><tr><td>nm0134493</td><td>Giorgio Cantarini</td><td>1</td><td>https://www.imdb.com/pt/name/nm0134493</td></tr><tr><td>nm2257207</td><td>Daniel Kaluuya</td><td>1</td><td>https://www.imdb.com/pt/name/nm2257207</td></tr><tr><td>nm0307531</td><td>Jeff Garlin</td><td>1</td><td>https://www.imdb.com/pt/name/nm0307531</td></tr><tr><td>nm2971390</td><td>Girish Kulkarni</td><td>1</td><td>https://www.imdb.com/pt/name/nm2971390</td></tr><tr><td>nm0156039</td><td>Virginia Cherrill</td><td>1</td><td>https://www.imdb.com/pt/name/nm0156039</td></tr><tr><td>nm3050831</td><td>MacInTalk</td><td>1</td><td>https://www.imdb.com/pt/name/nm3050831</td></tr><tr><td>nm0309107</td><td>Tatsuya Gashûin</td><td>1</td><td>https://www.imdb.com/pt/name/nm0309107</td></tr><tr><td>nm3054665</td><td>Swastika Mukherjee</td><td>1</td><td>https://www.imdb.com/pt/name/nm3054665</td></tr><tr><td>nm0167388</td><td>François Cluzet</td><td>1</td><td>https://www.imdb.com/pt/name/nm0167388</td></tr><tr><td>nm0332221</td><td>Lloyd Gough</td><td>1</td><td>https://www.imdb.com/pt/name/nm0332221</td></tr><tr><td>nm0177933</td><td>Chris Cooper</td><td>1</td><td>https://www.imdb.com/pt/name/nm0177933</td></tr><tr><td>nm0348515</td><td>Damon Gupton</td><td>1</td><td>https://www.imdb.com/pt/name/nm0348515</td></tr><tr><td>nm0179289</td><td>Ellen Corby</td><td>1</td><td>https://www.imdb.com/pt/name/nm0179289</td></tr><tr><td>nm0369617</td><td>Jerry Hausner</td><td>1</td><td>https://www.imdb.com/pt/name/nm0369617</td></tr><tr><td>nm0181920</td><td>James Cosmo</td><td>1</td><td>https://www.imdb.com/pt/name/nm0181920</td></tr><tr><td>nm0370144</td><td>Jack Hawkins</td><td>1</td><td>https://www.imdb.com/pt/name/nm0370144</td></tr><tr><td>nm0187199</td><td>Don Creech</td><td>1</td><td>https://www.imdb.com/pt/name/nm0187199</td></tr><tr><td>nm0373570</td><td>John Heffernan</td><td>1</td><td>https://www.imdb.com/pt/name/nm0373570</td></tr><tr><td>nm0218810</td><td>Jeffrey DeMunn</td><td>1</td><td>https://www.imdb.com/pt/name/nm0218810</td></tr><tr><td>nm0388517</td><td>Heinz Hoenig</td><td>1</td><td>https://www.imdb.com/pt/name/nm0388517</td></tr><tr><td>nm0288976</td><td>Emilia Fox</td><td>1</td><td>https://www.imdb.com/pt/name/nm0288976</td></tr><tr><td>nm0404360</td><td>Josephine Hutchinson</td><td>1</td><td>https://www.imdb.com/pt/name/nm0404360</td></tr><tr><td>nm0355278</td><td>Albert Hall</td><td>1</td><td>https://www.imdb.com/pt/name/nm0355278</td></tr><tr><td>nm0430809</td><td>Pallavi Joshi</td><td>1</td><td>https://www.imdb.com/pt/name/nm0430809</td></tr><tr><td>nm0395600</td><td>Helen Horton</td><td>1</td><td>https://www.imdb.com/pt/name/nm0395600</td></tr><tr><td>nm0430817</td><td>Sharman Joshi</td><td>1</td><td>https://www.imdb.com/pt/name/nm0430817</td></tr><tr><td>nm0408343</td><td>Yoshio Inaba</td><td>1</td><td>https://www.imdb.com/pt/name/nm0408343</td></tr><tr><td>nm0440913</td><td>Mathieu Kassovitz</td><td>1</td><td>https://www.imdb.com/pt/name/nm0440913</td></tr><tr><td>nm0409287</td><td>Kazuhiko Inoue</td><td>1</td><td>https://www.imdb.com/pt/name/nm0409287</td></tr><tr><td>nm0451307</td><td>Saif Ali Khan</td><td>1</td><td>https://www.imdb.com/pt/name/nm0451307</td></tr><tr><td>nm0411146</td><td>Kenjirô Ishiyama</td><td>1</td><td>https://www.imdb.com/pt/name/nm0411146</td></tr><tr><td>nm0470385</td><td>Aleksey Kravchenko</td><td>1</td><td>https://www.imdb.com/pt/name/nm0470385</td></tr><tr><td>nm0446404</td><td>George Kelly</td><td>1</td><td>https://www.imdb.com/pt/name/nm0446404</td></tr><tr><td>nm0488917</td><td>Thomas Bo Larsen</td><td>1</td><td>https://www.imdb.com/pt/name/nm0488917</td></tr><tr><td>nm0465777</td><td>Kim Kopf</td><td>1</td><td>https://www.imdb.com/pt/name/nm0465777</td></tr><tr><td>nm0492566</td><td>Sean Lawlor</td><td>1</td><td>https://www.imdb.com/pt/name/nm0492566</td></tr><tr><td>nm0502813</td><td>Marco Leonardi</td><td>1</td><td>https://www.imdb.com/pt/name/nm0502813</td></tr><tr><td>nm0502073</td><td>Thomas Lennon</td><td>1</td><td>https://www.imdb.com/pt/name/nm0502073</td></tr><tr><td>nm0576345</td><td>John Megna</td><td>1</td><td>https://www.imdb.com/pt/name/nm0576345</td></tr><tr><td>nm0520660</td><td>Viktors Lorencs</td><td>1</td><td>https://www.imdb.com/pt/name/nm0520660</td></tr><tr><td>nm0579663</td><td>Adolphe Menjou</td><td>1</td><td>https://www.imdb.com/pt/name/nm0579663</td></tr><tr><td>nm0534151</td><td>Béatrice Macola</td><td>1</td><td>https://www.imdb.com/pt/name/nm0534151</td></tr><tr><td>nm0592500</td><td>Olga Mironova</td><td>1</td><td>https://www.imdb.com/pt/name/nm0592500</td></tr><tr><td>nm0538259</td><td>Rachel Majorowski</td><td>1</td><td>https://www.imdb.com/pt/name/nm0538259</td></tr><tr><td>nm0618057</td><td>Ulrich Mühe</td><td>1</td><td>https://www.imdb.com/pt/name/nm0618057</td></tr><tr><td>nm0549134</td><td>John Marley</td><td>1</td><td>https://www.imdb.com/pt/name/nm0549134</td></tr><tr><td>nm0634159</td><td>Philippe Noiret</td><td>1</td><td>https://www.imdb.com/pt/name/nm0634159</td></tr><tr><td>nm0564589</td><td>Frances Lee McCain</td><td>1</td><td>https://www.imdb.com/pt/name/nm0564589</td></tr><tr><td>nm0653942</td><td>Frank Overton</td><td>1</td><td>https://www.imdb.com/pt/name/nm0653942</td></tr><tr><td>nm0565883</td><td>Belinda McClory</td><td>1</td><td>https://www.imdb.com/pt/name/nm0565883</td></tr><tr><td>nm0685559</td><td>Luigi Pistilli</td><td>1</td><td>https://www.imdb.com/pt/name/nm0685559</td></tr><tr><td>nm0586568</td><td>Mads Mikkelsen</td><td>1</td><td>https://www.imdb.com/pt/name/nm0586568</td></tr><tr><td>nm0732703</td><td>James Robinson</td><td>1</td><td>https://www.imdb.com/pt/name/nm0732703</td></tr><tr><td>nm0594348</td><td>Seiji Miyaguchi</td><td>1</td><td>https://www.imdb.com/pt/name/nm0594348</td></tr><tr><td>nm0766225</td><td>Kei Satô</td><td>1</td><td>https://www.imdb.com/pt/name/nm0766225</td></tr><tr><td>nm0611148</td><td>Wanja Mues</td><td>1</td><td>https://www.imdb.com/pt/name/nm0611148</td></tr><tr><td>nm0789970</td><td>Sebastian Shaw</td><td>1</td><td>https://www.imdb.com/pt/name/nm0789970</td></tr><tr><td>nm0620919</td><td>Agnese Nano</td><td>1</td><td>https://www.imdb.com/pt/name/nm0620919</td></tr><tr><td>nm0832380</td><td>Ed Stoppard</td><td>1</td><td>https://www.imdb.com/pt/name/nm0832380</td></tr><tr><td>nm0625167</td><td>Barry Nelson</td><td>1</td><td>https://www.imdb.com/pt/name/nm0625167</td></tr><tr><td>nm0838330</td><td>Sean Sullivan</td><td>1</td><td>https://www.imdb.com/pt/name/nm0838330</td></tr><tr><td>nm0643805</td><td>Uwe Ochsenknecht</td><td>1</td><td>https://www.imdb.com/pt/name/nm0643805</td></tr><tr><td>nm0842137</td><td>Joseph Sweeney</td><td>1</td><td>https://www.imdb.com/pt/name/nm0842137</td></tr><tr><td>nm0680139</td><td>John Philliber</td><td>1</td><td>https://www.imdb.com/pt/name/nm0680139</td></tr><tr><td>nm0848100</td><td>Alan Tall</td><td>1</td><td>https://www.imdb.com/pt/name/nm0848100</td></tr><tr><td>nm0704859</td><td>Kazimir Rabetsky</td><td>1</td><td>https://www.imdb.com/pt/name/nm0704859</td></tr><tr><td>nm0853299</td><td>Vaughn Taylor</td><td>1</td><td>https://www.imdb.com/pt/name/nm0853299</td></tr><tr><td>nm0710658</td><td>Alexandra Rapaport</td><td>1</td><td>https://www.imdb.com/pt/name/nm0710658</td></tr><tr><td>nm0910145</td><td>Tracey Walter</td><td>1</td><td>https://www.imdb.com/pt/name/nm0910145</td></tr><tr><td>nm0755974</td><td>Jonathan Sagall</td><td>1</td><td>https://www.imdb.com/pt/name/nm0755974</td></tr><tr><td>nm0913488</td><td>Kerry Washington</td><td>1</td><td>https://www.imdb.com/pt/name/nm0913488</td></tr><tr><td>nm0756378</td><td>Parikshit Sahni</td><td>1</td><td>https://www.imdb.com/pt/name/nm0756378</td></tr><tr><td>nm0913822</td><td>Ken Watanabe</td><td>1</td><td>https://www.imdb.com/pt/name/nm0913822</td></tr><tr><td>nm0794186</td><td>Ayano Shiraishi</td><td>1</td><td>https://www.imdb.com/pt/name/nm0794186</td></tr><tr><td>nm0927145</td><td>Ellen Widmann</td><td>1</td><td>https://www.imdb.com/pt/name/nm0927145</td></tr><tr><td>nm0801264</td><td>Simran</td><td>1</td><td>https://www.imdb.com/pt/name/nm0801264</td></tr><tr><td>nm0949350</td><td>Burt Young</td><td>1</td><td>https://www.imdb.com/pt/name/nm0949350</td></tr><tr><td>nm0832375</td><td>Paolo Stoppa</td><td>1</td><td>https://www.imdb.com/pt/name/nm0832375</td></tr><tr><td>nm1033905</td><td>Jack Alexander</td><td>1</td><td>https://www.imdb.com/pt/name/nm1033905</td></tr><tr><td>nm0836071</td><td>Wes Studi</td><td>1</td><td>https://www.imdb.com/pt/name/nm0836071</td></tr><tr><td>nm10538078</td><td>Dharmendra Aras</td><td>1</td><td>https://www.imdb.com/pt/name/nm10538078</td></tr><tr><td>nm0851302</td><td>Tsutomu Tatsumi</td><td>1</td><td>https://www.imdb.com/pt/name/nm0851302</td></tr><tr><td>nm1082477</td><td>Omar Sy</td><td>1</td><td>https://www.imdb.com/pt/name/nm1082477</td></tr><tr><td>nm0857147</td><td>Torin Thatcher</td><td>1</td><td>https://www.imdb.com/pt/name/nm0857147</td></tr><tr><td>nm1112144</td><td>Yumi Tamai</td><td>1</td><td>https://www.imdb.com/pt/name/nm1112144</td></tr><tr><td>nm0857998</td><td>Thomas Thieme</td><td>1</td><td>https://www.imdb.com/pt/name/nm0857998</td></tr><tr><td>nm11697865</td><td>Bhasha Sumbli</td><td>1</td><td>https://www.imdb.com/pt/name/nm11697865</td></tr><tr><td>nm0862937</td><td>Lawrence Tierney</td><td>1</td><td>https://www.imdb.com/pt/name/nm0862937</td></tr><tr><td>nm1179105</td><td>Alexandre Rodrigues</td><td>1</td><td>https://www.imdb.com/pt/name/nm1179105</td></tr><tr><td>nm0864997</td><td>Stephen Tobolowsky</td><td>1</td><td>https://www.imdb.com/pt/name/nm0864997</td></tr><tr><td>nm1437925</td><td>Omi Vaidya</td><td>1</td><td>https://www.imdb.com/pt/name/nm1437925</td></tr><tr><td>nm0872689</td><td>Leopoldo Trieste</td><td>1</td><td>https://www.imdb.com/pt/name/nm0872689</td></tr><tr><td>nm0755403</td><td>Yutaka Sada</td><td>1</td><td>https://www.imdb.com/pt/name/nm0755403</td></tr><tr><td>nm0892736</td><td>G. Velts</td><td>1</td><td>https://www.imdb.com/pt/name/nm0892736</td></tr><tr><td>nm0949167</td><td>Yoo Ji-tae</td><td>1</td><td>https://www.imdb.com/pt/name/nm0949167</td></tr><tr><td>nm0920148</td><td>Claudia Wells</td><td>1</td><td>https://www.imdb.com/pt/name/nm0920148</td></tr><tr><td>nm1310525</td><td>Lee Sun-kyun</td><td>1</td><td>https://www.imdb.com/pt/name/nm1310525</td></tr><tr><td>nm0937622</td><td>Susse Wold</td><td>1</td><td>https://www.imdb.com/pt/name/nm0937622</td></tr><tr><td>nm1366317</td><td>Abhirami</td><td>1</td><td>https://www.imdb.com/pt/name/nm1366317</td></tr><tr><td>nm0938372</td><td>Donald Wolfit</td><td>1</td><td>https://www.imdb.com/pt/name/nm0938372</td></tr><tr><td>nm1517134</td><td>Yoon Jin-seo</td><td>1</td><td>https://www.imdb.com/pt/name/nm1517134</td></tr><tr><td>nm10201626</td><td>Cedra Izzam</td><td>1</td><td>https://www.imdb.com/pt/name/nm10201626</td></tr><tr><td>nm15870574</td><td>Abeer Sandeep Jain</td><td>1</td><td>https://www.imdb.com/pt/name/nm15870574</td></tr><tr><td>nm1129884</td><td>Leandro Firmino</td><td>1</td><td>https://www.imdb.com/pt/name/nm1129884</td></tr><tr><td>nm1800416</td><td>Seung-shin Lee</td><td>1</td><td>https://www.imdb.com/pt/name/nm1800416</td></tr><tr><td>nm11593436</td><td>Vijay Meenu</td><td>1</td><td>https://www.imdb.com/pt/name/nm11593436</td></tr><tr><td>nm1818216</td><td>Payman Maadi</td><td>1</td><td>https://www.imdb.com/pt/name/nm1818216</td></tr><tr><td>nm11753810</td><td>Mahantesh Hiremath</td><td>1</td><td>https://www.imdb.com/pt/name/nm11753810</td></tr><tr><td>nm2244205</td><td>Léa Seydoux</td><td>1</td><td>https://www.imdb.com/pt/name/nm2244205</td></tr><tr><td>nm12329615</td><td>Kazumi Nozaki</td><td>1</td><td>https://www.imdb.com/pt/name/nm12329615</td></tr><tr><td>nm2799219</td><td>Sakshi Tanwar</td><td>1</td><td>https://www.imdb.com/pt/name/nm2799219</td></tr><tr><td>nm1479650</td><td>Vipin Sharma</td><td>1</td><td>https://www.imdb.com/pt/name/nm1479650</td></tr><tr><td>nm1567113</td><td>Jessica Chastain</td><td>1</td><td>https://www.imdb.com/pt/name/nm1567113</td></tr><tr><td>nm15809255</td><td>Agratha Ashok</td><td>1</td><td>https://www.imdb.com/pt/name/nm15809255</td></tr><tr><td>nm1597010</td><td>Marjorie Estiano</td><td>1</td><td>https://www.imdb.com/pt/name/nm1597010</td></tr><tr><td>nm14653472</td><td>Vikas Divyakirti</td><td>1</td><td>https://www.imdb.com/pt/name/nm14653472</td></tr><tr><td>nm15809256</td><td>Anand Babu</td><td>1</td><td>https://www.imdb.com/pt/name/nm15809256</td></tr><tr><td>nm1717985</td><td>Olivier Lafont</td><td>1</td><td>https://www.imdb.com/pt/name/nm1717985</td></tr><tr><td>nm1784515</td><td>Jacky Ido</td><td>1</td><td>https://www.imdb.com/pt/name/nm1784515</td></tr><tr><td>nm2132667</td><td>M.S. Bhaskar</td><td>1</td><td>https://www.imdb.com/pt/name/nm2132667</td></tr><tr><td>nm2552034</td><td>Melissa Benoist</td><td>1</td><td>https://www.imdb.com/pt/name/nm2552034</td></tr><tr><td>nm2670388</td><td>Singampuli</td><td>1</td><td>https://www.imdb.com/pt/name/nm2670388</td></tr><tr><td>nm2896015</td><td>Lalitha Lajmi</td><td>1</td><td>https://www.imdb.com/pt/name/nm2896015</td></tr><tr><td>nm3109407</td><td>Shiv Panditt</td><td>1</td><td>https://www.imdb.com/pt/name/nm3109407</td></tr></tbody></table></div>"
      ]
     },
     "metadata": {
      "application/vnd.databricks.v1+output": {
       "addedWidgets": {},
       "aggData": [],
       "aggError": "",
       "aggOverflow": false,
       "aggSchema": [],
       "aggSeriesLimitReached": false,
       "aggType": "",
       "arguments": {},
       "columnCustomDisplayInfos": {},
       "data": [
        [
         "nm0000375",
         "Robert Downey Jr.",
         5,
         "https://www.imdb.com/pt/name/nm0000375"
        ],
        [
         "nm0000134",
         "Robert De Niro",
         5,
         "https://www.imdb.com/pt/name/nm0000134"
        ],
        [
         "nm0000158",
         "Tom Hanks",
         5,
         "https://www.imdb.com/pt/name/nm0000158"
        ],
        [
         "nm0000148",
         "Harrison Ford",
         5,
         "https://www.imdb.com/pt/name/nm0000148"
        ],
        [
         "nm0424060",
         "Scarlett Johansson",
         5,
         "https://www.imdb.com/pt/name/nm0424060"
        ],
        [
         "nm0749263",
         "Mark Ruffalo",
         5,
         "https://www.imdb.com/pt/name/nm0749263"
        ],
        [
         "nm0000151",
         "Morgan Freeman",
         4,
         "https://www.imdb.com/pt/name/nm0000151"
        ],
        [
         "nm0000122",
         "Charles Chaplin",
         4,
         "https://www.imdb.com/pt/name/nm0000122"
        ],
        [
         "nm0000332",
         "Don Cheadle",
         4,
         "https://www.imdb.com/pt/name/nm0000332"
        ],
        [
         "nm0687189",
         "Suzanne Pleshette",
         4,
         "https://www.imdb.com/pt/name/nm0687189"
        ],
        [
         "nm0000199",
         "Al Pacino",
         4,
         "https://www.imdb.com/pt/name/nm0000199"
        ],
        [
         "nm0001652",
         "John Ratzenberger",
         4,
         "https://www.imdb.com/pt/name/nm0001652"
        ],
        [
         "nm0000354",
         "Matt Damon",
         4,
         "https://www.imdb.com/pt/name/nm0000354"
        ],
        [
         "nm0000704",
         "Elijah Wood",
         4,
         "https://www.imdb.com/pt/name/nm0000704"
        ],
        [
         "nm0224007",
         "John DiMaggio",
         4,
         "https://www.imdb.com/pt/name/nm0224007"
        ],
        [
         "nm0262635",
         "Chris Evans",
         4,
         "https://www.imdb.com/pt/name/nm0262635"
        ],
        [
         "nm1019674",
         "Sala Baker",
         4,
         "https://www.imdb.com/pt/name/nm1019674"
        ],
        [
         "nm1569276",
         "Chadwick Boseman",
         4,
         "https://www.imdb.com/pt/name/nm1569276"
        ],
        [
         "nm3818286",
         "Sushant Singh Rajput",
         3,
         "https://www.imdb.com/pt/name/nm3818286"
        ],
        [
         "nm0000071",
         "James Stewart",
         3,
         "https://www.imdb.com/pt/name/nm0000071"
        ],
        [
         "nm0000288",
         "Christian Bale",
         3,
         "https://www.imdb.com/pt/name/nm0000288"
        ],
        [
         "nm0000138",
         "Leonardo DiCaprio",
         3,
         "https://www.imdb.com/pt/name/nm0000138"
        ],
        [
         "nm0000434",
         "Mark Hamill",
         3,
         "https://www.imdb.com/pt/name/nm0000434"
        ],
        [
         "nm0000619",
         "Tim Roth",
         3,
         "https://www.imdb.com/pt/name/nm0000619"
        ],
        [
         "nm0562679",
         "Peter Mayhew",
         3,
         "https://www.imdb.com/pt/name/nm0562679"
        ],
        [
         "nm0000027",
         "Alec Guinness",
         3,
         "https://www.imdb.com/pt/name/nm0000027"
        ],
        [
         "nm0793766",
         "Takashi Shimura",
         3,
         "https://www.imdb.com/pt/name/nm0793766"
        ],
        [
         "nm0375609",
         "Brigitte Helm",
         3,
         "https://www.imdb.com/pt/name/nm0375609"
        ],
        [
         "nm0000402",
         "Carrie Fisher",
         3,
         "https://www.imdb.com/pt/name/nm0000402"
        ],
        [
         "nm0451148",
         "Aamir Khan",
         3,
         "https://www.imdb.com/pt/name/nm0451148"
        ],
        [
         "nm0000198",
         "Gary Oldman",
         3,
         "https://www.imdb.com/pt/name/nm0000198"
        ],
        [
         "nm0000634",
         "Peter Sellers",
         3,
         "https://www.imdb.com/pt/name/nm0000634"
        ],
        [
         "nm0000093",
         "Brad Pitt",
         3,
         "https://www.imdb.com/pt/name/nm0000093"
        ],
        [
         "nm0005212",
         "Ian McKellen",
         3,
         "https://www.imdb.com/pt/name/nm0005212"
        ],
        [
         "nm0000469",
         "James Earl Jones",
         3,
         "https://www.imdb.com/pt/name/nm0000469"
        ],
        [
         "nm0000355",
         "Anthony Daniels",
         3,
         "https://www.imdb.com/pt/name/nm0000355"
        ],
        [
         "nm1306410",
         "Sahil Vaid",
         3,
         "https://www.imdb.com/pt/name/nm1306410"
        ],
        [
         "nm0000197",
         "Jack Nicholson",
         3,
         "https://www.imdb.com/pt/name/nm0000197"
        ],
        [
         "nm1421814",
         "Suriya",
         3,
         "https://www.imdb.com/pt/name/nm1421814"
        ],
        [
         "nm0000380",
         "Robert Duvall",
         3,
         "https://www.imdb.com/pt/name/nm0000380"
        ],
        [
         "nm0614165",
         "Cillian Murphy",
         3,
         "https://www.imdb.com/pt/name/nm0614165"
        ],
        [
         "nm0000228",
         "Kevin Spacey",
         3,
         "https://www.imdb.com/pt/name/nm0000228"
        ],
        [
         "nm0410942",
         "Yuriko Ishida",
         3,
         "https://www.imdb.com/pt/name/nm0410942"
        ],
        [
         "nm0000244",
         "Sigourney Weaver",
         3,
         "https://www.imdb.com/pt/name/nm0000244"
        ],
        [
         "nm0000276",
         "Sean Astin",
         3,
         "https://www.imdb.com/pt/name/nm0000276"
        ],
        [
         "nm0000323",
         "Michael Caine",
         3,
         "https://www.imdb.com/pt/name/nm0000323"
        ],
        [
         "nm0089217",
         "Orlando Bloom",
         3,
         "https://www.imdb.com/pt/name/nm0089217"
        ],
        [
         "nm0048652",
         "Kenny Baker",
         3,
         "https://www.imdb.com/pt/name/nm0048652"
        ],
        [
         "nm0519765",
         "Theodor Loos",
         3,
         "https://www.imdb.com/pt/name/nm0519765"
        ],
        [
         "nm0001571",
         "Kim Novak",
         2,
         "https://www.imdb.com/pt/name/nm0001571"
        ],
        [
         "nm5093499",
         "Jasmine Cephas Jones",
         2,
         "https://www.imdb.com/pt/name/nm5093499"
        ],
        [
         "nm0003424",
         "Hank Mann",
         2,
         "https://www.imdb.com/pt/name/nm0003424"
        ],
        [
         "nm4907202",
         "Ravi Raghavendra",
         2,
         "https://www.imdb.com/pt/name/nm4907202"
        ],
        [
         "nm0904967",
         "Luna Lauren Velez",
         2,
         "https://www.imdb.com/pt/name/nm0904967"
        ],
        [
         "nm6106368",
         "Munishkanth",
         2,
         "https://www.imdb.com/pt/name/nm6106368"
        ],
        [
         "nm3916460",
         "Okieriete Onaodowan",
         2,
         "https://www.imdb.com/pt/name/nm3916460"
        ],
        [
         "nm4043618",
         "Tom Holland",
         2,
         "https://www.imdb.com/pt/name/nm4043618"
        ],
        [
         "nm0000293",
         "Sean Bean",
         2,
         "https://www.imdb.com/pt/name/nm0000293"
        ],
        [
         "nm0000017",
         "Marlene Dietrich",
         2,
         "https://www.imdb.com/pt/name/nm0000017"
        ],
        [
         "nm0001557",
         "Viggo Mortensen",
         2,
         "https://www.imdb.com/pt/name/nm0001557"
        ],
        [
         "nm4377526",
         "Daveed Diggs",
         2,
         "https://www.imdb.com/pt/name/nm4377526"
        ],
        [
         "nm0001647",
         "Claude Rains",
         2,
         "https://www.imdb.com/pt/name/nm0001647"
        ],
        [
         "nm0000168",
         "Samuel L. Jackson",
         2,
         "https://www.imdb.com/pt/name/nm0000168"
        ],
        [
         "nm0001664",
         "James Remar",
         2,
         "https://www.imdb.com/pt/name/nm0001664"
        ],
        [
         "nm6588867",
         "Anthony Ramos",
         2,
         "https://www.imdb.com/pt/name/nm6588867"
        ],
        [
         "nm0016641",
         "Fritz Alberti",
         2,
         "https://www.imdb.com/pt/name/nm0016641"
        ],
        [
         "nm0000172",
         "Harvey Keitel",
         2,
         "https://www.imdb.com/pt/name/nm0000172"
        ],
        [
         "nm0074186",
         "Grete Berger",
         2,
         "https://www.imdb.com/pt/name/nm0074186"
        ],
        [
         "nm7829666",
         "Vasanthi",
         2,
         "https://www.imdb.com/pt/name/nm7829666"
        ],
        [
         "nm0123785",
         "Ben Burtt",
         2,
         "https://www.imdb.com/pt/name/nm0123785"
        ],
        [
         "nm0000401",
         "Laurence Fishburne",
         2,
         "https://www.imdb.com/pt/name/nm0000401"
        ],
        [
         "nm0748620",
         "Paul Rudd",
         2,
         "https://www.imdb.com/pt/name/nm0748620"
        ],
        [
         "nm8612305",
         "Rashmika Mandanna",
         2,
         "https://www.imdb.com/pt/name/nm8612305"
        ],
        [
         "nm0877185",
         "Joe Turkel",
         2,
         "https://www.imdb.com/pt/name/nm0877185"
        ],
        [
         "nm0000514",
         "Michael Madsen",
         2,
         "https://www.imdb.com/pt/name/nm0000514"
        ],
        [
         "nm2794962",
         "Hailee Steinfeld",
         2,
         "https://www.imdb.com/pt/name/nm2794962"
        ],
        [
         "nm7021807",
         "Mrunal Thakur",
         2,
         "https://www.imdb.com/pt/name/nm7021807"
        ],
        [
         "nm0000592",
         "Pete Postlethwaite",
         2,
         "https://www.imdb.com/pt/name/nm0000592"
        ],
        [
         "nm0000411",
         "Edward Furlong",
         2,
         "https://www.imdb.com/pt/name/nm0000411"
        ],
        [
         "nm0000610",
         "Giovanni Ribisi",
         2,
         "https://www.imdb.com/pt/name/nm0000610"
        ],
        [
         "nm4271336",
         "Shameik Moore",
         2,
         "https://www.imdb.com/pt/name/nm4271336"
        ],
        [
         "nm0000995",
         "Ellen Burstyn",
         2,
         "https://www.imdb.com/pt/name/nm0000995"
        ],
        [
         "nm0000732",
         "Danny Aiello",
         2,
         "https://www.imdb.com/pt/name/nm0000732"
        ],
        [
         "nm0001280",
         "Jenette Goldstein",
         2,
         "https://www.imdb.com/pt/name/nm0001280"
        ],
        [
         "nm0000048",
         "Peter Lorre",
         2,
         "https://www.imdb.com/pt/name/nm0000048"
        ],
        [
         "nm0330687",
         "Joseph Gordon-Levitt",
         2,
         "https://www.imdb.com/pt/name/nm0330687"
        ],
        [
         "nm0001330",
         "Sterling Hayden",
         2,
         "https://www.imdb.com/pt/name/nm0001330"
        ],
        [
         "nm0622412",
         "Mari Natsuki",
         2,
         "https://www.imdb.com/pt/name/nm0622412"
        ],
        [
         "nm0000378",
         "Minnie Driver",
         2,
         "https://www.imdb.com/pt/name/nm0000378"
        ],
        [
         "nm3109964",
         "Brian Tyree Henry",
         2,
         "https://www.imdb.com/pt/name/nm3109964"
        ],
        [
         "nm0001728",
         "Wallace Shawn",
         2,
         "https://www.imdb.com/pt/name/nm0001728"
        ],
        [
         "nm3348178",
         "Geeta Agrawal Sharma",
         2,
         "https://www.imdb.com/pt/name/nm3348178"
        ],
        [
         "nm0000132",
         "Claire Danes",
         2,
         "https://www.imdb.com/pt/name/nm0000132"
        ],
        [
         "nm0001744",
         "Tom Sizemore",
         2,
         "https://www.imdb.com/pt/name/nm0001744"
        ],
        [
         "nm4043111",
         "Vijay Sethupathi",
         2,
         "https://www.imdb.com/pt/name/nm4043111"
        ],
        [
         "nm0101603",
         "Lombardo Boyar",
         2,
         "https://www.imdb.com/pt/name/nm0101603"
        ],
        [
         "nm0000582",
         "Joe Pesci",
         2,
         "https://www.imdb.com/pt/name/nm0000582"
        ],
        [
         "nm0156928",
         "Minoru Chiaki",
         2,
         "https://www.imdb.com/pt/name/nm0156928"
        ],
        [
         "nm0000719",
         "F. Murray Abraham",
         2,
         "https://www.imdb.com/pt/name/nm0000719"
        ],
        [
         "nm0218555",
         "John DeMita",
         2,
         "https://www.imdb.com/pt/name/nm0218555"
        ],
        [
         "nm0000586",
         "Jada Pinkett Smith",
         2,
         "https://www.imdb.com/pt/name/nm0000586"
        ],
        [
         "nm0383708",
         "Rumi Hiiragi",
         2,
         "https://www.imdb.com/pt/name/nm0383708"
        ],
        [
         "nm0000008",
         "Marlon Brando",
         2,
         "https://www.imdb.com/pt/name/nm0000008"
        ],
        [
         "nm0534045",
         "Fred MacMurray",
         2,
         "https://www.imdb.com/pt/name/nm0534045"
        ],
        [
         "nm0000671",
         "Billy Bob Thornton",
         2,
         "https://www.imdb.com/pt/name/nm0000671"
        ],
        [
         "nm1323233",
         "Mustafa Kamel",
         2,
         "https://www.imdb.com/pt/name/nm1323233"
        ],
        [
         "nm0001079",
         "Scatman Crothers",
         2,
         "https://www.imdb.com/pt/name/nm0001079"
        ],
        [
         "nm0001072",
         "Joseph Cotten",
         2,
         "https://www.imdb.com/pt/name/nm0001072"
        ],
        [
         "nm0000741",
         "Tim Allen",
         2,
         "https://www.imdb.com/pt/name/nm0000741"
        ],
        [
         "nm0001190",
         "David Prowse",
         2,
         "https://www.imdb.com/pt/name/nm0001190"
        ],
        [
         "nm0001663",
         "Paul Reiser",
         2,
         "https://www.imdb.com/pt/name/nm0001663"
        ],
        [
         "nm0001608",
         "Barry Pepper",
         2,
         "https://www.imdb.com/pt/name/nm0001608"
        ],
        [
         "nm0000020",
         "Henry Fonda",
         2,
         "https://www.imdb.com/pt/name/nm0000020"
        ],
        [
         "nm0001679",
         "Mark Rolston",
         2,
         "https://www.imdb.com/pt/name/nm0001679"
        ],
        [
         "nm0004266",
         "Anne Hathaway",
         2,
         "https://www.imdb.com/pt/name/nm0004266"
        ],
        [
         "nm0001850",
         "Billy Dee Williams",
         2,
         "https://www.imdb.com/pt/name/nm0001850"
        ],
        [
         "nm0000568",
         "Frank Oz",
         2,
         "https://www.imdb.com/pt/name/nm0000568"
        ],
        [
         "nm0362766",
         "Tom Hardy",
         2,
         "https://www.imdb.com/pt/name/nm0362766"
        ],
        [
         "nm0101710",
         "Billy Boyd",
         2,
         "https://www.imdb.com/pt/name/nm0101710"
        ],
        [
         "nm0438496",
         "Rajit Kapoor",
         2,
         "https://www.imdb.com/pt/name/nm0438496"
        ],
        [
         "nm0000473",
         "Diane Keaton",
         2,
         "https://www.imdb.com/pt/name/nm0000473"
        ],
        [
         "nm0719637",
         "Jeremy Renner",
         2,
         "https://www.imdb.com/pt/name/nm0719637"
        ],
        [
         "nm0352032",
         "Kamal Haasan",
         2,
         "https://www.imdb.com/pt/name/nm0352032"
        ],
        [
         "nm0846004",
         "Vic Tablian",
         2,
         "https://www.imdb.com/pt/name/nm0846004"
        ],
        [
         "nm0001570",
         "Edward Norton",
         2,
         "https://www.imdb.com/pt/name/nm0001570"
        ],
        [
         "nm10236476",
         "Saravanan",
         2,
         "https://www.imdb.com/pt/name/nm10236476"
        ],
        [
         "nm0454087",
         "Isao Kimura",
         2,
         "https://www.imdb.com/pt/name/nm0454087"
        ],
        [
         "nm1212722",
         "Benedict Cumberbatch",
         2,
         "https://www.imdb.com/pt/name/nm1212722"
        ],
        [
         "nm0000640",
         "Martin Sheen",
         2,
         "https://www.imdb.com/pt/name/nm0000640"
        ],
        [
         "nm0762557",
         "Erskine Sanford",
         2,
         "https://www.imdb.com/pt/name/nm0762557"
        ],
        [
         "nm0001536",
         "Toshirô Mifune",
         2,
         "https://www.imdb.com/pt/name/nm0001536"
        ],
        [
         "nm0797567",
         "Herbert Siguenza",
         2,
         "https://www.imdb.com/pt/name/nm0797567"
        ],
        [
         "nm0000842",
         "Martin Balsam",
         2,
         "https://www.imdb.com/pt/name/nm0000842"
        ],
        [
         "nm0819525",
         "G.D. Spradlin",
         2,
         "https://www.imdb.com/pt/name/nm0819525"
        ],
        [
         "nm0001592",
         "Joe Pantoliano",
         2,
         "https://www.imdb.com/pt/name/nm0001592"
        ],
        [
         "nm1126340",
         "Ryûnosuke Kamiki",
         2,
         "https://www.imdb.com/pt/name/nm1126340"
        ],
        [
         "nm0001082",
         "Billy Crudup",
         2,
         "https://www.imdb.com/pt/name/nm0001082"
        ],
        [
         "nm0677037",
         "Bob Peterson",
         2,
         "https://www.imdb.com/pt/name/nm0677037"
        ],
        [
         "nm0001812",
         "Lee Van Cleef",
         2,
         "https://www.imdb.com/pt/name/nm0001812"
        ],
        [
         "nm3127758",
         "Karleen Griffin",
         2,
         "https://www.imdb.com/pt/name/nm3127758"
        ],
        [
         "nm0032370",
         "Noel Appleby",
         2,
         "https://www.imdb.com/pt/name/nm0032370"
        ],
        [
         "nm0001618",
         "Joaquin Phoenix",
         2,
         "https://www.imdb.com/pt/name/nm0001618"
        ],
        [
         "nm0080248",
         "Santhana Bharathi",
         2,
         "https://www.imdb.com/pt/name/nm0080248"
        ],
        [
         "nm0002104",
         "Paulette Goddard",
         2,
         "https://www.imdb.com/pt/name/nm0002104"
        ],
        [
         "nm0606658",
         "John Morris",
         2,
         "https://www.imdb.com/pt/name/nm0606658"
        ],
        [
         "nm0001827",
         "Ray Walston",
         2,
         "https://www.imdb.com/pt/name/nm0001827"
        ],
        [
         "nm0910607",
         "Christoph Waltz",
         2,
         "https://www.imdb.com/pt/name/nm0910607"
        ],
        [
         "nm0003248",
         "Fritz Rasp",
         2,
         "https://www.imdb.com/pt/name/nm0003248"
        ],
        [
         "nm1165110",
         "Chris Hemsworth",
         2,
         "https://www.imdb.com/pt/name/nm1165110"
        ],
        [
         "nm0005251",
         "Carrie-Anne Moss",
         2,
         "https://www.imdb.com/pt/name/nm0005251"
        ],
        [
         "nm3154303",
         "Timothée Chalamet",
         2,
         "https://www.imdb.com/pt/name/nm3154303"
        ],
        [
         "nm0045324",
         "John Bach",
         2,
         "https://www.imdb.com/pt/name/nm0045324"
        ],
        [
         "nm3289096",
         "Sidharth Malhotra",
         2,
         "https://www.imdb.com/pt/name/nm3289096"
        ],
        [
         "nm0135044",
         "Peter Capell",
         2,
         "https://www.imdb.com/pt/name/nm0135044"
        ],
        [
         "nm0191906",
         "Jim Cummings",
         2,
         "https://www.imdb.com/pt/name/nm0191906"
        ],
        [
         "nm0153738",
         "Daveigh Chase",
         2,
         "https://www.imdb.com/pt/name/nm0153738"
        ],
        [
         "nm0199787",
         "Henry Daniell",
         2,
         "https://www.imdb.com/pt/name/nm0199787"
        ],
        [
         "nm0182839",
         "Marion Cotillard",
         2,
         "https://www.imdb.com/pt/name/nm0182839"
        ],
        [
         "nm0297869",
         "Kamatari Fujiwara",
         2,
         "https://www.imdb.com/pt/name/nm0297869"
        ],
        [
         "nm0313447",
         "Heinrich George",
         2,
         "https://www.imdb.com/pt/name/nm0313447"
        ],
        [
         "nm0305087",
         "Al Ernest Garcia",
         2,
         "https://www.imdb.com/pt/name/nm0305087"
        ],
        [
         "nm0534856",
         "Madhavan",
         2,
         "https://www.imdb.com/pt/name/nm0534856"
        ],
        [
         "nm0597042",
         "Clotilde Mollet",
         2,
         "https://www.imdb.com/pt/name/nm0597042"
        ],
        [
         "nm0619938",
         "Tatsuya Nakadai",
         2,
         "https://www.imdb.com/pt/name/nm0619938"
        ],
        [
         "nm0725543",
         "Don Rickles",
         2,
         "https://www.imdb.com/pt/name/nm0725543"
        ],
        [
         "nm0785227",
         "Andy Serkis",
         2,
         "https://www.imdb.com/pt/name/nm0785227"
        ],
        [
         "nm0943978",
         "Keenan Wynn",
         2,
         "https://www.imdb.com/pt/name/nm0943978"
        ],
        [
         "nm0459030",
         "Rudolf Klein-Rogge",
         2,
         "https://www.imdb.com/pt/name/nm0459030"
        ],
        [
         "nm2159926",
         "Jake Johnson",
         2,
         "https://www.imdb.com/pt/name/nm2159926"
        ],
        [
         "nm0000511",
         "Shirley MacLaine",
         1,
         "https://www.imdb.com/pt/name/nm0000511"
        ],
        [
         "nm3745391",
         "Park Myeong-hoon",
         1,
         "https://www.imdb.com/pt/name/nm3745391"
        ],
        [
         "nm0001556",
         "David Morse",
         1,
         "https://www.imdb.com/pt/name/nm0001556"
        ],
        [
         "nm3559559",
         "Rao Ramesh",
         1,
         "https://www.imdb.com/pt/name/nm3559559"
        ],
        [
         "nm0001602",
         "Guy Pearce",
         1,
         "https://www.imdb.com/pt/name/nm0001602"
        ],
        [
         "nm3777127",
         "Chhaya Kadam",
         1,
         "https://www.imdb.com/pt/name/nm3777127"
        ],
        [
         "nm0001727",
         "Robert Shaw",
         1,
         "https://www.imdb.com/pt/name/nm0001727"
        ],
        [
         "nm3918035",
         "Zendaya",
         1,
         "https://www.imdb.com/pt/name/nm3918035"
        ],
        [
         "nm0001735",
         "Talia Shire",
         1,
         "https://www.imdb.com/pt/name/nm0001735"
        ],
        [
         "nm4158239",
         "Dana Gourrier",
         1,
         "https://www.imdb.com/pt/name/nm4158239"
        ],
        [
         "nm0001852",
         "Treat Williams",
         1,
         "https://www.imdb.com/pt/name/nm0001852"
        ],
        [
         "nm3684167",
         "Vishnu Vishal",
         1,
         "https://www.imdb.com/pt/name/nm3684167"
        ],
        [
         "nm0004650",
         "Marisa Paredes",
         1,
         "https://www.imdb.com/pt/name/nm0004650"
        ],
        [
         "nm4411190",
         "Kanon Tani",
         1,
         "https://www.imdb.com/pt/name/nm4411190"
        ],
        [
         "nm0005244",
         "Fernanda Montenegro",
         1,
         "https://www.imdb.com/pt/name/nm0005244"
        ],
        [
         "nm3795810",
         "Tahir Raj Bhasin",
         1,
         "https://www.imdb.com/pt/name/nm3795810"
        ],
        [
         "nm0037118",
         "Richmond Arquette",
         1,
         "https://www.imdb.com/pt/name/nm0037118"
        ],
        [
         "nm4725798",
         "Aruldoss",
         1,
         "https://www.imdb.com/pt/name/nm4725798"
        ],
        [
         "nm0056477",
         "Byron Barr",
         1,
         "https://www.imdb.com/pt/name/nm0056477"
        ],
        [
         "nm3990647",
         "Valentina Herszage",
         1,
         "https://www.imdb.com/pt/name/nm3990647"
        ],
        [
         "nm0110480",
         "Peter Brocco",
         1,
         "https://www.imdb.com/pt/name/nm0110480"
        ],
        [
         "nm5447706",
         "Vikrant Massey",
         1,
         "https://www.imdb.com/pt/name/nm5447706"
        ],
        [
         "nm0129295",
         "Niketa Calame-Harris",
         1,
         "https://www.imdb.com/pt/name/nm0129295"
        ],
        [
         "nm4525883",
         "Jang Hye-jin",
         1,
         "https://www.imdb.com/pt/name/nm4525883"
        ],
        [
         "nm0262745",
         "Estelle Evans",
         1,
         "https://www.imdb.com/pt/name/nm0262745"
        ],
        [
         "nm6073955",
         "Florence Pugh",
         1,
         "https://www.imdb.com/pt/name/nm6073955"
        ],
        [
         "nm0297054",
         "Gustav Fröhlich",
         1,
         "https://www.imdb.com/pt/name/nm0297054"
        ],
        [
         "nm4175221",
         "Karan Soni",
         1,
         "https://www.imdb.com/pt/name/nm4175221"
        ],
        [
         "nm0412917",
         "Jaaved Jaaferi",
         1,
         "https://www.imdb.com/pt/name/nm0412917"
        ],
        [
         "nm7621669",
         "Suhani Bhatnagar",
         1,
         "https://www.imdb.com/pt/name/nm7621669"
        ],
        [
         "nm0437520",
         "Nobuo Kaneko",
         1,
         "https://www.imdb.com/pt/name/nm0437520"
        ],
        [
         "nm3422941",
         "Jeremy Leary",
         1,
         "https://www.imdb.com/pt/name/nm3422941"
        ],
        [
         "nm0443016",
         "Charles Kay",
         1,
         "https://www.imdb.com/pt/name/nm0443016"
        ],
        [
         "nm9862859",
         "Yordanos Shiferaw",
         1,
         "https://www.imdb.com/pt/name/nm9862859"
        ],
        [
         "nm0447349",
         "Paul Kemp",
         1,
         "https://www.imdb.com/pt/name/nm0447349"
        ],
        [
         "nm4297610",
         "Kimia Hosseini",
         1,
         "https://www.imdb.com/pt/name/nm4297610"
        ],
        [
         "nm0515950",
         "Danny Lloyd",
         1,
         "https://www.imdb.com/pt/name/nm0515950"
        ],
        [
         "nm0000034",
         "William Holden",
         1,
         "https://www.imdb.com/pt/name/nm0000034"
        ],
        [
         "nm0520859",
         "Livio Lorenzon",
         1,
         "https://www.imdb.com/pt/name/nm0520859"
        ],
        [
         "nm4655454",
         "Ahmad Massad",
         1,
         "https://www.imdb.com/pt/name/nm4655454"
        ],
        [
         "nm0559922",
         "Al Matthews",
         1,
         "https://www.imdb.com/pt/name/nm0559922"
        ],
        [
         "nm0000037",
         "Gene Kelly",
         1,
         "https://www.imdb.com/pt/name/nm0000037"
        ],
        [
         "nm0585906",
         "John Mighton",
         1,
         "https://www.imdb.com/pt/name/nm0585906"
        ],
        [
         "nm4336119",
         "Nate Lang",
         1,
         "https://www.imdb.com/pt/name/nm4336119"
        ],
        [
         "nm0592756",
         "Masao Mishima",
         1,
         "https://www.imdb.com/pt/name/nm0592756"
        ],
        [
         "nm0000201",
         "Michelle Pfeiffer",
         1,
         "https://www.imdb.com/pt/name/nm0000201"
        ],
        [
         "nm0730168",
         "Sam Robards",
         1,
         "https://www.imdb.com/pt/name/nm0730168"
        ],
        [
         "nm4858403",
         "Nobunaga Shimazaki",
         1,
         "https://www.imdb.com/pt/name/nm4858403"
        ],
        [
         "nm0843213",
         "William Sylvester",
         1,
         "https://www.imdb.com/pt/name/nm0843213"
        ],
        [
         "nm0000233",
         "Quentin Tarantino",
         1,
         "https://www.imdb.com/pt/name/nm0000233"
        ],
        [
         "nm0875477",
         "Keiko Tsushima",
         1,
         "https://www.imdb.com/pt/name/nm0875477"
        ],
        [
         "nm4841645",
         "Hussein Sami",
         1,
         "https://www.imdb.com/pt/name/nm4841645"
        ],
        [
         "nm0915989",
         "Hugo Weaving",
         1,
         "https://www.imdb.com/pt/name/nm0915989"
        ],
        [
         "nm0000643",
         "Tom Skerritt",
         1,
         "https://www.imdb.com/pt/name/nm0000643"
        ],
        [
         "nm10050596",
         "Sparsh Shrivastava",
         1,
         "https://www.imdb.com/pt/name/nm10050596"
        ],
        [
         "nm4759838",
         "Mone Kamishiraishi",
         1,
         "https://www.imdb.com/pt/name/nm4759838"
        ],
        [
         "nm1367246",
         "Kang Hye-jeong",
         1,
         "https://www.imdb.com/pt/name/nm1367246"
        ],
        [
         "nm0000670",
         "Lea Thompson",
         1,
         "https://www.imdb.com/pt/name/nm0000670"
        ],
        [
         "nm15447157",
         "Frank W. Miller",
         1,
         "https://www.imdb.com/pt/name/nm15447157"
        ],
        [
         "nm5852535",
         "'Poo' Ram",
         1,
         "https://www.imdb.com/pt/name/nm5852535"
        ],
        [
         "nm1554735",
         "Charly Hübner",
         1,
         "https://www.imdb.com/pt/name/nm1554735"
        ],
        [
         "nm0000751",
         "Suzy Amis",
         1,
         "https://www.imdb.com/pt/name/nm0000751"
        ],
        [
         "nm16217009",
         "Sachana Namidass",
         1,
         "https://www.imdb.com/pt/name/nm16217009"
        ],
        [
         "nm3994610",
         "Cyril Mendy",
         1,
         "https://www.imdb.com/pt/name/nm3994610"
        ],
        [
         "nm2031248",
         "Alba Gaïa Bellugi",
         1,
         "https://www.imdb.com/pt/name/nm2031248"
        ],
        [
         "nm0000984",
         "Avery Brooks",
         1,
         "https://www.imdb.com/pt/name/nm0000984"
        ],
        [
         "nm2438307",
         "Dileep Rao",
         1,
         "https://www.imdb.com/pt/name/nm2438307"
        ],
        [
         "nm6079248",
         "Choi Woo-sik",
         1,
         "https://www.imdb.com/pt/name/nm6079248"
        ],
        [
         "nm2496074",
         "Jüri Lumiste",
         1,
         "https://www.imdb.com/pt/name/nm2496074"
        ],
        [
         "nm0001001",
         "James Caan",
         1,
         "https://www.imdb.com/pt/name/nm0001001"
        ],
        [
         "nm4410046",
         "Yoshio Matsuoka",
         1,
         "https://www.imdb.com/pt/name/nm4410046"
        ],
        [
         "nm4793987",
         "Issa Rae",
         1,
         "https://www.imdb.com/pt/name/nm4793987"
        ],
        [
         "nm4921260",
         "Dulquer Salmaan",
         1,
         "https://www.imdb.com/pt/name/nm4921260"
        ],
        [
         "nm0001181",
         "Jack Elam",
         1,
         "https://www.imdb.com/pt/name/nm0001181"
        ],
        [
         "nm5279916",
         "Leigh Gill",
         1,
         "https://www.imdb.com/pt/name/nm5279916"
        ],
        [
         "nm7616095",
         "Jung Ji-so",
         1,
         "https://www.imdb.com/pt/name/nm7616095"
        ],
        [
         "nm0929609",
         "Fred Willard",
         1,
         "https://www.imdb.com/pt/name/nm0929609"
        ],
        [
         "nm0001394",
         "Derek Jacobi",
         1,
         "https://www.imdb.com/pt/name/nm0001394"
        ],
        [
         "nm5038871",
         "Annika Wedderkopp",
         1,
         "https://www.imdb.com/pt/name/nm5038871"
        ],
        [
         "nm0001463",
         "Janet Leigh",
         1,
         "https://www.imdb.com/pt/name/nm0001463"
        ],
        [
         "nm7934649",
         "Lijo Mol Jose",
         1,
         "https://www.imdb.com/pt/name/nm7934649"
        ],
        [
         "nm0001467",
         "Jared Leto",
         1,
         "https://www.imdb.com/pt/name/nm0001467"
        ],
        [
         "nm4841157",
         "Hamed Najem",
         1,
         "https://www.imdb.com/pt/name/nm4841157"
        ],
        [
         "nm0001512",
         "Mary Elizabeth Mastrantonio",
         1,
         "https://www.imdb.com/pt/name/nm0001512"
        ],
        [
         "nm8904193",
         "Manikandan K.",
         1,
         "https://www.imdb.com/pt/name/nm8904193"
        ],
        [
         "nm0001520",
         "Christopher McDonald",
         1,
         "https://www.imdb.com/pt/name/nm0001520"
        ],
        [
         "nm3569470",
         "Rajeev Ravindranathan",
         1,
         "https://www.imdb.com/pt/name/nm3569470"
        ],
        [
         "nm0001549",
         "Rita Moreno",
         1,
         "https://www.imdb.com/pt/name/nm0001549"
        ],
        [
         "nm8910763",
         "Anant Joshi",
         1,
         "https://www.imdb.com/pt/name/nm8910763"
        ],
        [
         "nm0001590",
         "Chazz Palminteri",
         1,
         "https://www.imdb.com/pt/name/nm0001590"
        ],
        [
         "nm5164600",
         "Steen Ordell Guldbrand Jensen",
         1,
         "https://www.imdb.com/pt/name/nm5164600"
        ],
        [
         "nm0001633",
         "Annie Potts",
         1,
         "https://www.imdb.com/pt/name/nm0001633"
        ],
        [
         "nm0000038",
         "Grace Kelly",
         1,
         "https://www.imdb.com/pt/name/nm0000038"
        ],
        [
         "nm0001745",
         "Stellan Skarsgård",
         1,
         "https://www.imdb.com/pt/name/nm0001745"
        ],
        [
         "nm5189611",
         "Naveen Polishetty",
         1,
         "https://www.imdb.com/pt/name/nm5189611"
        ],
        [
         "nm0001839",
         "Tuesday Weld",
         1,
         "https://www.imdb.com/pt/name/nm0001839"
        ],
        [
         "nm0000051",
         "James Mason",
         1,
         "https://www.imdb.com/pt/name/nm0000051"
        ],
        [
         "nm0002108",
         "Gloria Grahame",
         1,
         "https://www.imdb.com/pt/name/nm0002108"
        ],
        [
         "nm5408141",
         "Gayathrie",
         1,
         "https://www.imdb.com/pt/name/nm5408141"
        ],
        [
         "nm0002369",
         "John Williams",
         1,
         "https://www.imdb.com/pt/name/nm0002369"
        ],
        [
         "nm0000120",
         "Jim Carrey",
         1,
         "https://www.imdb.com/pt/name/nm0000120"
        ],
        [
         "nm0004743",
         "Gil Bellows",
         1,
         "https://www.imdb.com/pt/name/nm0004743"
        ],
        [
         "nm3423667",
         "Elie Docter",
         1,
         "https://www.imdb.com/pt/name/nm3423667"
        ],
        [
         "nm0004747",
         "Wes Bentley",
         1,
         "https://www.imdb.com/pt/name/nm0004747"
        ],
        [
         "nm0000146",
         "Ralph Fiennes",
         1,
         "https://www.imdb.com/pt/name/nm0000146"
        ],
        [
         "nm0004778",
         "Adrien Brody",
         1,
         "https://www.imdb.com/pt/name/nm0004778"
        ],
        [
         "nm5623883",
         "Phillipa Soo",
         1,
         "https://www.imdb.com/pt/name/nm5623883"
        ],
        [
         "nm0005499",
         "Lily Tomlin",
         1,
         "https://www.imdb.com/pt/name/nm0005499"
        ],
        [
         "nm0000149",
         "Jodie Foster",
         1,
         "https://www.imdb.com/pt/name/nm0000149"
        ],
        [
         "nm0006471",
         "Elsa Lanchester",
         1,
         "https://www.imdb.com/pt/name/nm0006471"
        ],
        [
         "nm5511912",
         "Salimata Kamate",
         1,
         "https://www.imdb.com/pt/name/nm5511912"
        ],
        [
         "nm0017021",
         "John Albright",
         1,
         "https://www.imdb.com/pt/name/nm0017021"
        ],
        [
         "nm0000150",
         "Michael J. Fox",
         1,
         "https://www.imdb.com/pt/name/nm0000150"
        ],
        [
         "nm0021600",
         "Bruce Allpress",
         1,
         "https://www.imdb.com/pt/name/nm0021600"
        ],
        [
         "nm5645519",
         "Anthony Gonzalez",
         1,
         "https://www.imdb.com/pt/name/nm5645519"
        ],
        [
         "nm0040012",
         "Ali Astin",
         1,
         "https://www.imdb.com/pt/name/nm0040012"
        ],
        [
         "nm0000249",
         "James Woods",
         1,
         "https://www.imdb.com/pt/name/nm0000249"
        ],
        [
         "nm0051257",
         "Kirk Baltz",
         1,
         "https://www.imdb.com/pt/name/nm0051257"
        ],
        [
         "nm4376717",
         "Anil Charanjeett",
         1,
         "https://www.imdb.com/pt/name/nm4376717"
        ],
        [
         "nm0064235",
         "Robert Beatty",
         1,
         "https://www.imdb.com/pt/name/nm0064235"
        ],
        [
         "nm0000255",
         "Ben Affleck",
         1,
         "https://www.imdb.com/pt/name/nm0000255"
        ],
        [
         "nm0071059",
         "Hubertus Bengsch",
         1,
         "https://www.imdb.com/pt/name/nm0071059"
        ],
        [
         "nm5681967",
         "Florence Lee",
         1,
         "https://www.imdb.com/pt/name/nm5681967"
        ],
        [
         "nm0112207",
         "Randy Brooks",
         1,
         "https://www.imdb.com/pt/name/nm0112207"
        ],
        [
         "nm0000297",
         "Tom Berenger",
         1,
         "https://www.imdb.com/pt/name/nm0000297"
        ],
        [
         "nm0120483",
         "Edward Bunker",
         1,
         "https://www.imdb.com/pt/name/nm0120483"
        ],
        [
         "nm5584853",
         "Chemban Vinod Jose",
         1,
         "https://www.imdb.com/pt/name/nm5584853"
        ],
        [
         "nm0127680",
         "Christina Cabot",
         1,
         "https://www.imdb.com/pt/name/nm0127680"
        ],
        [
         "nm0000307",
         "Helena Bonham Carter",
         1,
         "https://www.imdb.com/pt/name/nm0000307"
        ],
        [
         "nm0158856",
         "Choi Min-sik",
         1,
         "https://www.imdb.com/pt/name/nm0158856"
        ],
        [
         "nm5939164",
         "Zazie Beetz",
         1,
         "https://www.imdb.com/pt/name/nm5939164"
        ],
        [
         "nm0160550",
         "Dennis Christopher",
         1,
         "https://www.imdb.com/pt/name/nm0160550"
        ],
        [
         "nm0000317",
         "Clancy Brown",
         1,
         "https://www.imdb.com/pt/name/nm0000317"
        ],
        [
         "nm0201045",
         "Georgine Darcy",
         1,
         "https://www.imdb.com/pt/name/nm0201045"
        ],
        [
         "nm4299072",
         "Sarina Farhadi",
         1,
         "https://www.imdb.com/pt/name/nm4299072"
        ],
        [
         "nm0206742",
         "Charles Dayton",
         1,
         "https://www.imdb.com/pt/name/nm0206742"
        ],
        [
         "nm0000350",
         "Beverly D'Angelo",
         1,
         "https://www.imdb.com/pt/name/nm0000350"
        ],
        [
         "nm0213354",
         "Jamel Debbouze",
         1,
         "https://www.imdb.com/pt/name/nm0213354"
        ],
        [
         "nm6269780",
         "Aparshakti Khurana",
         1,
         "https://www.imdb.com/pt/name/nm6269780"
        ],
        [
         "nm0253020",
         "Dana Elcar",
         1,
         "https://www.imdb.com/pt/name/nm0253020"
        ],
        [
         "nm0000398",
         "Sally Field",
         1,
         "https://www.imdb.com/pt/name/nm0000398"
        ],
        [
         "nm0270383",
         "Russ Fega",
         1,
         "https://www.imdb.com/pt/name/nm0270383"
        ],
        [
         "nm5744538",
         "Lee Jeong-eun",
         1,
         "https://www.imdb.com/pt/name/nm5744538"
        ],
        [
         "nm0275835",
         "John Fiedler",
         1,
         "https://www.imdb.com/pt/name/nm0275835"
        ],
        [
         "nm0000569",
         "Gwyneth Paltrow",
         1,
         "https://www.imdb.com/pt/name/nm0000569"
        ],
        [
         "nm0277975",
         "Frank Finlay",
         1,
         "https://www.imdb.com/pt/name/nm0277975"
        ],
        [
         "nm7621667",
         "Sanya Malhotra",
         1,
         "https://www.imdb.com/pt/name/nm7621667"
        ],
        [
         "nm0287825",
         "Gloria Foster",
         1,
         "https://www.imdb.com/pt/name/nm0287825"
        ],
        [
         "nm0000578",
         "Anthony Perkins",
         1,
         "https://www.imdb.com/pt/name/nm0000578"
        ],
        [
         "nm0288830",
         "Douglas Fowley",
         1,
         "https://www.imdb.com/pt/name/nm0288830"
        ],
        [
         "nm4880714",
         "Sanjana Sanghi",
         1,
         "https://www.imdb.com/pt/name/nm4880714"
        ],
        [
         "nm0293550",
         "Paul Freeman",
         1,
         "https://www.imdb.com/pt/name/nm0293550"
        ],
        [
         "nm0000649",
         "Paul Sorvino",
         1,
         "https://www.imdb.com/pt/name/nm0000649"
        ],
        [
         "nm0306786",
         "Reginald Gardiner",
         1,
         "https://www.imdb.com/pt/name/nm0306786"
        ],
        [
         "nm7621668",
         "Zaira Wasim",
         1,
         "https://www.imdb.com/pt/name/nm7621668"
        ],
        [
         "nm0332944",
         "John Gowans",
         1,
         "https://www.imdb.com/pt/name/nm0332944"
        ],
        [
         "nm0000778",
         "Alfonso Arau",
         1,
         "https://www.imdb.com/pt/name/nm0000778"
        ],
        [
         "nm0340260",
         "Zach Grenier",
         1,
         "https://www.imdb.com/pt/name/nm0340260"
        ],
        [
         "nm6693723",
         "Shataf Figar",
         1,
         "https://www.imdb.com/pt/name/nm6693723"
        ],
        [
         "nm0344963",
         "Herbert Grönemeyer",
         1,
         "https://www.imdb.com/pt/name/nm0344963"
        ],
        [
         "nm0000895",
         "Barbara Bel Geddes",
         1,
         "https://www.imdb.com/pt/name/nm0000895"
        ],
        [
         "nm0345073",
         "Gustaf Gründgens",
         1,
         "https://www.imdb.com/pt/name/nm0345073"
        ],
        [
         "nm8995905",
         "Vivek Prasanna",
         1,
         "https://www.imdb.com/pt/name/nm8995905"
        ],
        [
         "nm0346003",
         "Castulo Guerra",
         1,
         "https://www.imdb.com/pt/name/nm0346003"
        ],
        [
         "nm0000973",
         "Benjamin Bratt",
         1,
         "https://www.imdb.com/pt/name/nm0000973"
        ],
        [
         "nm0347842",
         "Leo Gullotta",
         1,
         "https://www.imdb.com/pt/name/nm0347842"
        ],
        [
         "nm3781410",
         "Sebastian Bull",
         1,
         "https://www.imdb.com/pt/name/nm3781410"
        ],
        [
         "nm0353405",
         "Jean Hagen",
         1,
         "https://www.imdb.com/pt/name/nm0353405"
        ],
        [
         "nm0001207",
         "José Ferrer",
         1,
         "https://www.imdb.com/pt/name/nm0001207"
        ],
        [
         "nm0364748",
         "Harriet Sansom Harris",
         1,
         "https://www.imdb.com/pt/name/nm0364748"
        ],
        [
         "nm9862860",
         "Boluwatife Treasure Bankole",
         1,
         "https://www.imdb.com/pt/name/nm9862860"
        ],
        [
         "nm0368049",
         "Ichirô Nakatani",
         1,
         "https://www.imdb.com/pt/name/nm0368049"
        ],
        [
         "nm0001447",
         "Nathan Lane",
         1,
         "https://www.imdb.com/pt/name/nm0001447"
        ],
        [
         "nm0383091",
         "Bokuzen Hidari",
         1,
         "https://www.imdb.com/pt/name/nm0383091"
        ],
        [
         "nm6954008",
         "Ryo Narita",
         1,
         "https://www.imdb.com/pt/name/nm6954008"
        ],
        [
         "nm0386877",
         "Patricia Hitchcock",
         1,
         "https://www.imdb.com/pt/name/nm0386877"
        ],
        [
         "nm0001519",
         "Ian McDiarmid",
         1,
         "https://www.imdb.com/pt/name/nm0001519"
        ],
        [
         "nm0390516",
         "Hope Holiday",
         1,
         "https://www.imdb.com/pt/name/nm0390516"
        ],
        [
         "nm0000164",
         "Anthony Hopkins",
         1,
         "https://www.imdb.com/pt/name/nm0000164"
        ],
        [
         "nm0394054",
         "William Hope",
         1,
         "https://www.imdb.com/pt/name/nm0394054"
        ],
        [
         "nm0001725",
         "Omar Sharif",
         1,
         "https://www.imdb.com/pt/name/nm0001725"
        ],
        [
         "nm0402011",
         "Michael Conner Humphreys",
         1,
         "https://www.imdb.com/pt/name/nm0402011"
        ],
        [
         "nm5039026",
         "Lasse Fogelstrøm",
         1,
         "https://www.imdb.com/pt/name/nm5039026"
        ],
        [
         "nm0407030",
         "Hisashi Igawa",
         1,
         "https://www.imdb.com/pt/name/nm0407030"
        ],
        [
         "nm0001991",
         "Leo G. Carroll",
         1,
         "https://www.imdb.com/pt/name/nm0001991"
        ],
        [
         "nm0495495",
         "Madeleine Lebeau",
         1,
         "https://www.imdb.com/pt/name/nm0495495"
        ],
        [
         "nm0000235",
         "Uma Thurman",
         1,
         "https://www.imdb.com/pt/name/nm0000235"
        ],
        [
         "nm0518057",
         "Giuliana Lojodice",
         1,
         "https://www.imdb.com/pt/name/nm0518057"
        ],
        [
         "nm0002134",
         "Paul Henreid",
         1,
         "https://www.imdb.com/pt/name/nm0002134"
        ],
        [
         "nm0532943",
         "Bob Mack",
         1,
         "https://www.imdb.com/pt/name/nm0532943"
        ],
        [
         "nm6979973",
         "Kiyoshi Yanagawa",
         1,
         "https://www.imdb.com/pt/name/nm6979973"
        ],
        [
         "nm0535991",
         "Pupella Maggio",
         1,
         "https://www.imdb.com/pt/name/nm0535991"
        ],
        [
         "nm0002233",
         "Erich von Stroheim",
         1,
         "https://www.imdb.com/pt/name/nm0002233"
        ],
        [
         "nm0559444",
         "Yôji Matsuda",
         1,
         "https://www.imdb.com/pt/name/nm0559444"
        ],
        [
         "nm0000314",
         "Charles Bronson",
         1,
         "https://www.imdb.com/pt/name/nm0000314"
        ],
        [
         "nm0611889",
         "Chris Mulkey",
         1,
         "https://www.imdb.com/pt/name/nm0611889"
        ],
        [
         "nm0002546",
         "Mena Suvari",
         1,
         "https://www.imdb.com/pt/name/nm0002546"
        ],
        [
         "nm0616729",
         "Harry Myers",
         1,
         "https://www.imdb.com/pt/name/nm0616729"
        ],
        [
         "nm4572244",
         "Abhinaya",
         1,
         "https://www.imdb.com/pt/name/nm4572244"
        ],
        [
         "nm0619822",
         "Takashi Naitô",
         1,
         "https://www.imdb.com/pt/name/nm0619822"
        ],
        [
         "nm0003586",
         "Theo Lingen",
         1,
         "https://www.imdb.com/pt/name/nm0003586"
        ],
        [
         "nm0643211",
         "Philip Ober",
         1,
         "https://www.imdb.com/pt/name/nm0643211"
        ],
        [
         "nm0000321",
         "Gabriel Byrne",
         1,
         "https://www.imdb.com/pt/name/nm0000321"
        ],
        [
         "nm0643887",
         "Miki Odagiri",
         1,
         "https://www.imdb.com/pt/name/nm0643887"
        ],
        [
         "nm0005377",
         "Sam Rockwell",
         1,
         "https://www.imdb.com/pt/name/nm0005377"
        ],
        [
         "nm0643997",
         "Fritz Odemar",
         1,
         "https://www.imdb.com/pt/name/nm0643997"
        ],
        [
         "nm7936195",
         "Aparna Balamurali",
         1,
         "https://www.imdb.com/pt/name/nm7936195"
        ],
        [
         "nm0647970",
         "Nancy Olson",
         1,
         "https://www.imdb.com/pt/name/nm0647970"
        ],
        [
         "nm0007214",
         "Frank Albertson",
         1,
         "https://www.imdb.com/pt/name/nm0007214"
        ],
        [
         "nm0669254",
         "Daniel Zacapa",
         1,
         "https://www.imdb.com/pt/name/nm0669254"
        ],
        [
         "nm0000342",
         "James Cromwell",
         1,
         "https://www.imdb.com/pt/name/nm0000342"
        ],
        [
         "nm0680983",
         "Elliot Page",
         1,
         "https://www.imdb.com/pt/name/nm0680983"
        ],
        [
         "nm0009530",
         "Alon Aboutboul",
         1,
         "https://www.imdb.com/pt/name/nm0009530"
        ],
        [
         "nm0684500",
         "Dominique Pinon",
         1,
         "https://www.imdb.com/pt/name/nm0684500"
        ],
        [
         "nm6106360",
         "Kaali Venkat",
         1,
         "https://www.imdb.com/pt/name/nm6106360"
        ],
        [
         "nm0694631",
         "Tom Powers",
         1,
         "https://www.imdb.com/pt/name/nm0694631"
        ],
        [
         "nm0020041",
         "William Alland",
         1,
         "https://www.imdb.com/pt/name/nm0020041"
        ],
        [
         "nm0695177",
         "Prakash Raj",
         1,
         "https://www.imdb.com/pt/name/nm0695177"
        ],
        [
         "nm0000417",
         "Crispin Glover",
         1,
         "https://www.imdb.com/pt/name/nm0000417"
        ],
        [
         "nm0706937",
         "Douglas Rain",
         1,
         "https://www.imdb.com/pt/name/nm0706937"
        ],
        [
         "nm0047450",
         "Raymond Bailey",
         1,
         "https://www.imdb.com/pt/name/nm0047450"
        ],
        [
         "nm0710019",
         "Jerome Ranft",
         1,
         "https://www.imdb.com/pt/name/nm0710019"
        ],
        [
         "nm8624891",
         "Ravi Aneja",
         1,
         "https://www.imdb.com/pt/name/nm8624891"
        ],
        [
         "nm0744834",
         "Eli Roth",
         1,
         "https://www.imdb.com/pt/name/nm0744834"
        ],
        [
         "nm0074788",
         "Henry Bergman",
         1,
         "https://www.imdb.com/pt/name/nm0074788"
        ],
        [
         "nm0749363",
         "Rufus",
         1,
         "https://www.imdb.com/pt/name/nm0749363"
        ],
        [
         "nm0000453",
         "Ian Holm",
         1,
         "https://www.imdb.com/pt/name/nm0000453"
        ],
        [
         "nm0750916",
         "William Russ",
         1,
         "https://www.imdb.com/pt/name/nm0750916"
        ],
        [
         "nm0091286",
         "Earl Boen",
         1,
         "https://www.imdb.com/pt/name/nm0091286"
        ],
        [
         "nm0761866",
         "Tiny Sandford",
         1,
         "https://www.imdb.com/pt/name/nm0761866"
        ],
        [
         "nm3601766",
         "Shraddha Kapoor",
         1,
         "https://www.imdb.com/pt/name/nm3601766"
        ],
        [
         "nm0774516",
         "David Schofield",
         1,
         "https://www.imdb.com/pt/name/nm0774516"
        ],
        [
         "nm0111954",
         "Dean R. Brooks",
         1,
         "https://www.imdb.com/pt/name/nm0111954"
        ],
        [
         "nm0791877",
         "Suzanne Shepherd",
         1,
         "https://www.imdb.com/pt/name/nm0791877"
        ],
        [
         "nm0000470",
         "Jeffrey Jones",
         1,
         "https://www.imdb.com/pt/name/nm0000470"
        ],
        [
         "nm0806041",
         "Everett Sloane",
         1,
         "https://www.imdb.com/pt/name/nm0806041"
        ],
        [
         "nm0113000",
         "Alonzo Brown",
         1,
         "https://www.imdb.com/pt/name/nm0113000"
        ],
        [
         "nm0807548",
         "Brooke Smith",
         1,
         "https://www.imdb.com/pt/name/nm0807548"
        ],
        [
         "nm0000060",
         "Gregory Peck",
         1,
         "https://www.imdb.com/pt/name/nm0000060"
        ],
        [
         "nm0814280",
         "Song Kang-ho",
         1,
         "https://www.imdb.com/pt/name/nm0814280"
        ],
        [
         "nm0122653",
         "Edward Burns",
         1,
         "https://www.imdb.com/pt/name/nm0122653"
        ],
        [
         "nm0819320",
         "Suanne Spoke",
         1,
         "https://www.imdb.com/pt/name/nm0819320"
        ],
        [
         "nm0000497",
         "Jennifer Lien",
         1,
         "https://www.imdb.com/pt/name/nm0000497"
        ],
        [
         "nm0832104",
         "Philip Stone",
         1,
         "https://www.imdb.com/pt/name/nm0832104"
        ],
        [
         "nm0123748",
         "Tony Burton",
         1,
         "https://www.imdb.com/pt/name/nm0123748"
        ],
        [
         "nm0833448",
         "Lee Strasberg",
         1,
         "https://www.imdb.com/pt/name/nm0833448"
        ],
        [
         "nm6476224",
         "Park So-dam",
         1,
         "https://www.imdb.com/pt/name/nm6476224"
        ],
        [
         "nm0853392",
         "Jun Tazaki",
         1,
         "https://www.imdb.com/pt/name/nm0853392"
        ],
        [
         "nm0128326",
         "Frank Cady",
         1,
         "https://www.imdb.com/pt/name/nm0128326"
        ],
        [
         "nm0879239",
         "Margaret Tyzack",
         1,
         "https://www.imdb.com/pt/name/nm0879239"
        ],
        [
         "nm0000521",
         "Sophie Marceau",
         1,
         "https://www.imdb.com/pt/name/nm0000521"
        ],
        [
         "nm0891998",
         "Conrad Veidt",
         1,
         "https://www.imdb.com/pt/name/nm0891998"
        ],
        [
         "nm0149822",
         "Mithun Chakraborty",
         1,
         "https://www.imdb.com/pt/name/nm0149822"
        ],
        [
         "nm0893204",
         "Diane Venora",
         1,
         "https://www.imdb.com/pt/name/nm0893204"
        ],
        [
         "nm0000063",
         "Anthony Quinn",
         1,
         "https://www.imdb.com/pt/name/nm0000063"
        ],
        [
         "nm0898634",
         "Frank Vincent",
         1,
         "https://www.imdb.com/pt/name/nm0898634"
        ],
        [
         "nm0199774",
         "Isa Danieli",
         1,
         "https://www.imdb.com/pt/name/nm0199774"
        ],
        [
         "nm0902184",
         "Erik von Detten",
         1,
         "https://www.imdb.com/pt/name/nm0902184"
        ],
        [
         "nm0000553",
         "Liam Neeson",
         1,
         "https://www.imdb.com/pt/name/nm0000553"
        ],
        [
         "nm0929965",
         "Adam Williams",
         1,
         "https://www.imdb.com/pt/name/nm0929965"
        ],
        [
         "nm0214924",
         "Carter DeHaven",
         1,
         "https://www.imdb.com/pt/name/nm0214924"
        ],
        [
         "nm0945312",
         "Akemi Yamaguchi",
         1,
         "https://www.imdb.com/pt/name/nm0945312"
        ],
        [
         "nm5057209",
         "Ritvik Sahore",
         1,
         "https://www.imdb.com/pt/name/nm5057209"
        ],
        [
         "nm0962577",
         "Jessica Kate Meyer",
         1,
         "https://www.imdb.com/pt/name/nm0962577"
        ],
        [
         "nm0234541",
         "Roy Dotrice",
         1,
         "https://www.imdb.com/pt/name/nm0234541"
        ],
        [
         "nm0997115",
         "Miyu Irino",
         1,
         "https://www.imdb.com/pt/name/nm0997115"
        ],
        [
         "nm0000602",
         "Robert Redford",
         1,
         "https://www.imdb.com/pt/name/nm0000602"
        ],
        [
         "nm10791162",
         "Medha Shankr",
         1,
         "https://www.imdb.com/pt/name/nm10791162"
        ],
        [
         "nm0243842",
         "Giustino Durano",
         1,
         "https://www.imdb.com/pt/name/nm0243842"
        ],
        [
         "nm11882661",
         "Divya Bharathi",
         1,
         "https://www.imdb.com/pt/name/nm11882661"
        ],
        [
         "nm0000114",
         "Steve Buscemi",
         1,
         "https://www.imdb.com/pt/name/nm0000114"
        ],
        [
         "nm1208167",
         "Diane Kruger",
         1,
         "https://www.imdb.com/pt/name/nm1208167"
        ],
        [
         "nm0342241",
         "Scott Grimes",
         1,
         "https://www.imdb.com/pt/name/nm0342241"
        ],
        [
         "nm1274064",
         "Maria Manoella",
         1,
         "https://www.imdb.com/pt/name/nm1274064"
        ],
        [
         "nm0000686",
         "Christopher Walken",
         1,
         "https://www.imdb.com/pt/name/nm0000686"
        ],
        [
         "nm1289434",
         "Emily Blunt",
         1,
         "https://www.imdb.com/pt/name/nm1289434"
        ],
        [
         "nm0368482",
         "Anne Louise Hassing",
         1,
         "https://www.imdb.com/pt/name/nm0368482"
        ],
        [
         "nm1368731",
         "Sumanth",
         1,
         "https://www.imdb.com/pt/name/nm1368731"
        ],
        [
         "nm8135195",
         "Rajisha Vijayan",
         1,
         "https://www.imdb.com/pt/name/nm8135195"
        ],
        [
         "nm1388463",
         "Prakash Belawadi",
         1,
         "https://www.imdb.com/pt/name/nm1388463"
        ],
        [
         "nm0413271",
         "Anne Jackson",
         1,
         "https://www.imdb.com/pt/name/nm0413271"
        ],
        [
         "nm15277914",
         "B M Giriraj",
         1,
         "https://www.imdb.com/pt/name/nm15277914"
        ],
        [
         "nm0000955",
         "Ward Bond",
         1,
         "https://www.imdb.com/pt/name/nm0000955"
        ],
        [
         "nm15870575",
         "Pankaj Sharma",
         1,
         "https://www.imdb.com/pt/name/nm15870575"
        ],
        [
         "nm0459087",
         "Volkmar Kleinert",
         1,
         "https://www.imdb.com/pt/name/nm0459087"
        ],
        [
         "nm1587175",
         "Mona Singh",
         1,
         "https://www.imdb.com/pt/name/nm1587175"
        ],
        [
         "nm0000157",
         "Linda Hamilton",
         1,
         "https://www.imdb.com/pt/name/nm0000157"
        ],
        [
         "nm1934428",
         "Sarita Joshi",
         1,
         "https://www.imdb.com/pt/name/nm1934428"
        ],
        [
         "nm0459252",
         "Werner Klemperer",
         1,
         "https://www.imdb.com/pt/name/nm0459252"
        ],
        [
         "nm2346665",
         "Chinmay Mandlekar",
         1,
         "https://www.imdb.com/pt/name/nm2346665"
        ],
        [
         "nm0000971",
         "Nicoletta Braschi",
         1,
         "https://www.imdb.com/pt/name/nm0000971"
        ],
        [
         "nm2368789",
         "Zoë Kravitz",
         1,
         "https://www.imdb.com/pt/name/nm2368789"
        ],
        [
         "nm0472816",
         "Jack Kruschen",
         1,
         "https://www.imdb.com/pt/name/nm0472816"
        ],
        [
         "nm2540053",
         "Tanay Chheda",
         1,
         "https://www.imdb.com/pt/name/nm2540053"
        ],
        [
         "nm3898762",
         "Amala Paul",
         1,
         "https://www.imdb.com/pt/name/nm3898762"
        ],
        [
         "nm2994393",
         "Pratima Kulkarni",
         1,
         "https://www.imdb.com/pt/name/nm2994393"
        ],
        [
         "nm0476040",
         "Marcia Jean Kurtz",
         1,
         "https://www.imdb.com/pt/name/nm0476040"
        ],
        [
         "nm2999980",
         "Joanne Gordon",
         1,
         "https://www.imdb.com/pt/name/nm2999980"
        ],
        [
         "nm0001003",
         "Simon Callow",
         1,
         "https://www.imdb.com/pt/name/nm0001003"
        ],
        [
         "nm3070408",
         "Prateik Patil Babbar",
         1,
         "https://www.imdb.com/pt/name/nm3070408"
        ],
        [
         "nm0484737",
         "Inge Landgut",
         1,
         "https://www.imdb.com/pt/name/nm0484737"
        ],
        [
         "nm0000206",
         "Keanu Reeves",
         1,
         "https://www.imdb.com/pt/name/nm0000206"
        ],
        [
         "nm0490708",
         "Liubomiras Laucevicius",
         1,
         "https://www.imdb.com/pt/name/nm0490708"
        ],
        [
         "nm0001260",
         "John Gavin",
         1,
         "https://www.imdb.com/pt/name/nm0001260"
        ],
        [
         "nm0491259",
         "Mélanie Laurent",
         1,
         "https://www.imdb.com/pt/name/nm0491259"
        ],
        [
         "nm9103143",
         "Ammu Abhirami",
         1,
         "https://www.imdb.com/pt/name/nm9103143"
        ],
        [
         "nm0506616",
         "Shmuel Levy",
         1,
         "https://www.imdb.com/pt/name/nm0506616"
        ],
        [
         "nm0001626",
         "Christopher Plummer",
         1,
         "https://www.imdb.com/pt/name/nm0001626"
        ],
        [
         "nm0534317",
         "George Macready",
         1,
         "https://www.imdb.com/pt/name/nm0534317"
        ],
        [
         "nm0000312",
         "Amy Brenneman",
         1,
         "https://www.imdb.com/pt/name/nm0000312"
        ],
        [
         "nm0566013",
         "Marc McClure",
         1,
         "https://www.imdb.com/pt/name/nm0566013"
        ],
        [
         "nm0001657",
         "Oliver Reed",
         1,
         "https://www.imdb.com/pt/name/nm0001657"
        ],
        [
         "nm0587256",
         "Vera Miles",
         1,
         "https://www.imdb.com/pt/name/nm0587256"
        ],
        [
         "nm5511483",
         "Absa Diatou Toure",
         1,
         "https://www.imdb.com/pt/name/nm5511483"
        ],
        [
         "nm0608012",
         "Joe Morton",
         1,
         "https://www.imdb.com/pt/name/nm0608012"
        ],
        [
         "nm0001715",
         "George C. Scott",
         1,
         "https://www.imdb.com/pt/name/nm0001715"
        ],
        [
         "nm0642988",
         "Jack Oakie",
         1,
         "https://www.imdb.com/pt/name/nm0642988"
        ],
        [
         "nm0000454",
         "Dennis Hopper",
         1,
         "https://www.imdb.com/pt/name/nm0000454"
        ],
        [
         "nm0676349",
         "Brock Peters",
         1,
         "https://www.imdb.com/pt/name/nm0676349"
        ],
        [
         "nm0001815",
         "Jim Varney",
         1,
         "https://www.imdb.com/pt/name/nm0001815"
        ],
        [
         "nm0709615",
         "John Randall",
         1,
         "https://www.imdb.com/pt/name/nm0709615"
        ],
        [
         "nm9849994",
         "Nitanshi Goel",
         1,
         "https://www.imdb.com/pt/name/nm9849994"
        ],
        [
         "nm0765423",
         "Janet Sarno",
         1,
         "https://www.imdb.com/pt/name/nm0765423"
        ],
        [
         "nm0003817",
         "Michael Clarke Duncan",
         1,
         "https://www.imdb.com/pt/name/nm0003817"
        ],
        [
         "nm0768005",
         "Yasuko Sawaguchi",
         1,
         "https://www.imdb.com/pt/name/nm0768005"
        ],
        [
         "nm0000460",
         "Jeremy Irons",
         1,
         "https://www.imdb.com/pt/name/nm0000460"
        ],
        [
         "nm0786252",
         "Johnny Seven",
         1,
         "https://www.imdb.com/pt/name/nm0786252"
        ],
        [
         "nm0004423",
         "Gerry Robert Byrne",
         1,
         "https://www.imdb.com/pt/name/nm0004423"
        ],
        [
         "nm0828653",
         "Naomi Stevens",
         1,
         "https://www.imdb.com/pt/name/nm0828653"
        ],
        [
         "nm3707487",
         "Gabriela Carneiro da Cunha",
         1,
         "https://www.imdb.com/pt/name/nm3707487"
        ],
        [
         "nm0836991",
         "Natarajan Subramaniam",
         1,
         "https://www.imdb.com/pt/name/nm0836991"
        ],
        [
         "nm0005049",
         "Allison Janney",
         1,
         "https://www.imdb.com/pt/name/nm0005049"
        ],
        [
         "nm0882219",
         "Urvashi",
         1,
         "https://www.imdb.com/pt/name/nm0882219"
        ],
        [
         "nm0000547",
         "Alfred Molina",
         1,
         "https://www.imdb.com/pt/name/nm0000547"
        ],
        [
         "nm0908919",
         "Eli Wallach",
         1,
         "https://www.imdb.com/pt/name/nm0908919"
        ],
        [
         "nm0005132",
         "Heath Ledger",
         1,
         "https://www.imdb.com/pt/name/nm0005132"
        ],
        [
         "nm0931508",
         "Rebecca Williams",
         1,
         "https://www.imdb.com/pt/name/nm0931508"
        ],
        [
         "nm0000023",
         "Judy Garland",
         1,
         "https://www.imdb.com/pt/name/nm0000023"
        ],
        [
         "nm0932112",
         "Mykelti Williamson",
         1,
         "https://www.imdb.com/pt/name/nm0932112"
        ],
        [
         "nm0005403",
         "Jason Schwartzman",
         1,
         "https://www.imdb.com/pt/name/nm0005403"
        ],
        [
         "nm0935653",
         "Ray Winstone",
         1,
         "https://www.imdb.com/pt/name/nm0935653"
        ],
        [
         "nm0000849",
         "Javier Bardem",
         1,
         "https://www.imdb.com/pt/name/nm0000849"
        ],
        [
         "nm1035024",
         "T.S. Alexander",
         1,
         "https://www.imdb.com/pt/name/nm1035024"
        ],
        [
         "nm0006535",
         "Doug Hutchison",
         1,
         "https://www.imdb.com/pt/name/nm0006535"
        ],
        [
         "nm1045739",
         "Max Kasch",
         1,
         "https://www.imdb.com/pt/name/nm1045739"
        ],
        [
         "nm5926431",
         "Sahaarsh Shuklaa",
         1,
         "https://www.imdb.com/pt/name/nm5926431"
        ],
        [
         "nm10637343",
         "Luiza Kosovski",
         1,
         "https://www.imdb.com/pt/name/nm10637343"
        ],
        [
         "nm0008609",
         "Johnny Aber",
         1,
         "https://www.imdb.com/pt/name/nm0008609"
        ],
        [
         "nm10700274",
         "Jung Hyun-jun",
         1,
         "https://www.imdb.com/pt/name/nm10700274"
        ],
        [
         "nm0001021",
         "Veronica Cartwright",
         1,
         "https://www.imdb.com/pt/name/nm0001021"
        ],
        [
         "nm10995739",
         "Sam Mohan",
         1,
         "https://www.imdb.com/pt/name/nm10995739"
        ],
        [
         "nm0011038",
         "Jane Adams",
         1,
         "https://www.imdb.com/pt/name/nm0011038"
        ],
        [
         "nm11045179",
         "Anshuman Pushkar",
         1,
         "https://www.imdb.com/pt/name/nm11045179"
        ],
        [
         "nm0000061",
         "Tyrone Power",
         1,
         "https://www.imdb.com/pt/name/nm0000061"
        ],
        [
         "nm1109153",
         "Audrey Fleurot",
         1,
         "https://www.imdb.com/pt/name/nm1109153"
        ],
        [
         "nm0011625",
         "Dawn Addams",
         1,
         "https://www.imdb.com/pt/name/nm0011625"
        ],
        [
         "nm11105263",
         "Baby Monika Siva",
         1,
         "https://www.imdb.com/pt/name/nm11105263"
        ],
        [
         "nm0001167",
         "Shelley Duvall",
         1,
         "https://www.imdb.com/pt/name/nm0001167"
        ],
        [
         "nm11267331",
         "Krishnakumar Balasubramanian",
         1,
         "https://www.imdb.com/pt/name/nm11267331"
        ],
        [
         "nm0018685",
         "Richard Alexander",
         1,
         "https://www.imdb.com/pt/name/nm0018685"
        ],
        [
         "nm11762288",
         "Rajie Vijay Sarathi",
         1,
         "https://www.imdb.com/pt/name/nm11762288"
        ],
        [
         "nm4297889",
         "Ali-Asghar Shahbazi",
         1,
         "https://www.imdb.com/pt/name/nm4297889"
        ],
        [
         "nm12329616",
         "Masahiro Kanetake",
         1,
         "https://www.imdb.com/pt/name/nm12329616"
        ],
        [
         "nm0073415",
         "Aleksandr Berda",
         1,
         "https://www.imdb.com/pt/name/nm0073415"
        ],
        [
         "nm1372205",
         "Tôru Takeuchi",
         1,
         "https://www.imdb.com/pt/name/nm1372205"
        ],
        [
         "nm0001173",
         "Aaron Eckhart",
         1,
         "https://www.imdb.com/pt/name/nm0001173"
        ],
        [
         "nm1390115",
         "Harish Khanna",
         1,
         "https://www.imdb.com/pt/name/nm1390115"
        ],
        [
         "nm0084430",
         "Erwin Biswanger",
         1,
         "https://www.imdb.com/pt/name/nm0084430"
        ],
        [
         "nm13947397",
         "Dhanveerrah",
         1,
         "https://www.imdb.com/pt/name/nm13947397"
        ],
        [
         "nm0000100",
         "Rowan Atkinson",
         1,
         "https://www.imdb.com/pt/name/nm0000100"
        ],
        [
         "nm1431772",
         "Kalidas Jayaram",
         1,
         "https://www.imdb.com/pt/name/nm1431772"
        ],
        [
         "nm0086627",
         "Larry J. Blake",
         1,
         "https://www.imdb.com/pt/name/nm0086627"
        ],
        [
         "nm1525639",
         "Joséphine de Meaux",
         1,
         "https://www.imdb.com/pt/name/nm1525639"
        ],
        [
         "nm0001235",
         "William Forsythe",
         1,
         "https://www.imdb.com/pt/name/nm0001235"
        ],
        [
         "nm11319558",
         "Mohamad Abdellatif",
         1,
         "https://www.imdb.com/pt/name/nm11319558"
        ],
        [
         "nm0098734",
         "Sam Bottoms",
         1,
         "https://www.imdb.com/pt/name/nm0098734"
        ],
        [
         "nm1178560",
         "Jonathan Haagensen",
         1,
         "https://www.imdb.com/pt/name/nm1178560"
        ],
        [
         "nm7517010",
         "Tushar Pandey",
         1,
         "https://www.imdb.com/pt/name/nm7517010"
        ],
        [
         "nm1952830",
         "Mamta Mohandas",
         1,
         "https://www.imdb.com/pt/name/nm1952830"
        ],
        [
         "nm0103797",
         "Alice Braga",
         1,
         "https://www.imdb.com/pt/name/nm0103797"
        ],
        [
         "nm1957308",
         "V. Jayaprakash",
         1,
         "https://www.imdb.com/pt/name/nm1957308"
        ],
        [
         "nm0001282",
         "Tony Goldwyn",
         1,
         "https://www.imdb.com/pt/name/nm0001282"
        ],
        [
         "nm2180792",
         "Collette Wolfe",
         1,
         "https://www.imdb.com/pt/name/nm2180792"
        ],
        [
         "nm0117709",
         "Daniel Brühl",
         1,
         "https://www.imdb.com/pt/name/nm0117709"
        ],
        [
         "nm2264184",
         "Elissa Knight",
         1,
         "https://www.imdb.com/pt/name/nm2264184"
        ],
        [
         "nm0000174",
         "Val Kilmer",
         1,
         "https://www.imdb.com/pt/name/nm0000174"
        ],
        [
         "nm2594301",
         "Darsheel Safary",
         1,
         "https://www.imdb.com/pt/name/nm2594301"
        ],
        [
         "nm0144710",
         "Richard S. Castellano",
         1,
         "https://www.imdb.com/pt/name/nm0144710"
        ],
        [
         "nm2887354",
         "Girija Oak",
         1,
         "https://www.imdb.com/pt/name/nm2887354"
        ],
        [
         "nm0001285",
         "Elliott Gould",
         1,
         "https://www.imdb.com/pt/name/nm0001285"
        ],
        [
         "nm3271473",
         "Austin Stowell",
         1,
         "https://www.imdb.com/pt/name/nm3271473"
        ],
        [
         "nm0155043",
         "Jack Creley",
         1,
         "https://www.imdb.com/pt/name/nm0155043"
        ],
        [
         "nm3905156",
         "Sangili Murugan",
         1,
         "https://www.imdb.com/pt/name/nm3905156"
        ],
        [
         "nm0172615",
         "Ray Collins",
         1,
         "https://www.imdb.com/pt/name/nm0172615"
        ],
        [
         "nm0001371",
         "Tom Hulce",
         1,
         "https://www.imdb.com/pt/name/nm0001371"
        ],
        [
         "nm0263393",
         "Judith Evelyn",
         1,
         "https://www.imdb.com/pt/name/nm0263393"
        ],
        [
         "nm0000237",
         "John Travolta",
         1,
         "https://www.imdb.com/pt/name/nm0000237"
        ],
        [
         "nm0267916",
         "Franklyn Farnum",
         1,
         "https://www.imdb.com/pt/name/nm0267916"
        ],
        [
         "nm0001426",
         "Ben Kingsley",
         1,
         "https://www.imdb.com/pt/name/nm0001426"
        ],
        [
         "nm0284997",
         "Amerigo Fontani",
         1,
         "https://www.imdb.com/pt/name/nm0284997"
        ],
        [
         "nm8752948",
         "Nanda Gopal",
         1,
         "https://www.imdb.com/pt/name/nm8752948"
        ],
        [
         "nm0305558",
         "Gael García Bernal",
         1,
         "https://www.imdb.com/pt/name/nm0305558"
        ],
        [
         "nm0001526",
         "Patrick McGoohan",
         1,
         "https://www.imdb.com/pt/name/nm0001526"
        ],
        [
         "nm0311476",
         "Martina Gedeck",
         1,
         "https://www.imdb.com/pt/name/nm0311476"
        ],
        [
         "nm0000301",
         "Thora Birch",
         1,
         "https://www.imdb.com/pt/name/nm0000301"
        ],
        [
         "nm0320721",
         "Rémy Girard",
         1,
         "https://www.imdb.com/pt/name/nm0320721"
        ],
        [
         "nm0001598",
         "Robert Patrick",
         1,
         "https://www.imdb.com/pt/name/nm0001598"
        ],
        [
         "nm0324658",
         "Walton Goggins",
         1,
         "https://www.imdb.com/pt/name/nm0324658"
        ],
        [
         "nm4367928",
         "Misha Ghoshal",
         1,
         "https://www.imdb.com/pt/name/nm4367928"
        ],
        [
         "nm0325989",
         "Renée Elise Goldsberry",
         1,
         "https://www.imdb.com/pt/name/nm0325989"
        ],
        [
         "nm0001709",
         "Til Schweiger",
         1,
         "https://www.imdb.com/pt/name/nm0001709"
        ],
        [
         "nm0356004",
         "Porter Hall",
         1,
         "https://www.imdb.com/pt/name/nm0356004"
        ],
        [
         "nm0000349",
         "Joan Cusack",
         1,
         "https://www.imdb.com/pt/name/nm0000349"
        ],
        [
         "nm0368689",
         "Leila Hatami",
         1,
         "https://www.imdb.com/pt/name/nm0368689"
        ],
        [
         "nm0001766",
         "Barbara Stanwyck",
         1,
         "https://www.imdb.com/pt/name/nm0001766"
        ],
        [
         "nm0370747",
         "James Hayden",
         1,
         "https://www.imdb.com/pt/name/nm0370747"
        ],
        [
         "nm9061357",
         "Shatru",
         1,
         "https://www.imdb.com/pt/name/nm9061357"
        ],
        [
         "nm0381041",
         "Harold G. Herthum",
         1,
         "https://www.imdb.com/pt/name/nm0381041"
        ],
        [
         "nm0002113",
         "Sydney Greenstreet",
         1,
         "https://www.imdb.com/pt/name/nm0002113"
        ],
        [
         "nm0407101",
         "Gabriel Iglesias",
         1,
         "https://www.imdb.com/pt/name/nm0407101"
        ],
        [
         "nm0000362",
         "Danny DeVito",
         1,
         "https://www.imdb.com/pt/name/nm0000362"
        ],
        [
         "nm0410968",
         "Akira Ishihama",
         1,
         "https://www.imdb.com/pt/name/nm0410968"
        ],
        [
         "nm0002154",
         "Alfred Abel",
         1,
         "https://www.imdb.com/pt/name/nm0002154"
        ],
        [
         "nm0411539",
         "Puneet Issar",
         1,
         "https://www.imdb.com/pt/name/nm0411539"
        ],
        [
         "nm4159861",
         "Shirin Yazdanbakhsh",
         1,
         "https://www.imdb.com/pt/name/nm4159861"
        ],
        [
         "nm0411980",
         "Mark Ivanir",
         1,
         "https://www.imdb.com/pt/name/nm0411980"
        ],
        [
         "nm0004626",
         "Kareena Kapoor",
         1,
         "https://www.imdb.com/pt/name/nm0004626"
        ],
        [
         "nm0441961",
         "Daisuke Katô",
         1,
         "https://www.imdb.com/pt/name/nm0441961"
        ],
        [
         "nm0000379",
         "Kirsten Dunst",
         1,
         "https://www.imdb.com/pt/name/nm0000379"
        ],
        [
         "nm0443286",
         "David Kaye",
         1,
         "https://www.imdb.com/pt/name/nm0443286"
        ],
        [
         "nm0005148",
         "Delroy Lindo",
         1,
         "https://www.imdb.com/pt/name/nm0005148"
        ],
        [
         "nm0446702",
         "Moira Kelly",
         1,
         "https://www.imdb.com/pt/name/nm0446702"
        ],
        [
         "nm9115333",
         "Sibi Thomas",
         1,
         "https://www.imdb.com/pt/name/nm9115333"
        ],
        [
         "nm0451561",
         "Sachin Khedekar",
         1,
         "https://www.imdb.com/pt/name/nm0451561"
        ],
        [
         "nm0005513",
         "Alanna Ubach",
         1,
         "https://www.imdb.com/pt/name/nm0005513"
        ],
        [
         "nm0474604",
         "Mrinal Kulkarni",
         1,
         "https://www.imdb.com/pt/name/nm0474604"
        ],
        [
         "nm0000474",
         "Michael Keaton",
         1,
         "https://www.imdb.com/pt/name/nm0000474"
        ],
        [
         "nm0482851",
         "Phil LaMarr",
         1,
         "https://www.imdb.com/pt/name/nm0482851"
        ],
        [
         "nm0026841",
         "James Anderson",
         1,
         "https://www.imdb.com/pt/name/nm0026841"
        ],
        [
         "nm0489837",
         "Louise Lasser",
         1,
         "https://www.imdb.com/pt/name/nm0489837"
        ],
        [
         "nm5056902",
         "Tharun Bhascker Dhaassyam",
         1,
         "https://www.imdb.com/pt/name/nm5056902"
        ],
        [
         "nm0513520",
         "Maureen Lipman",
         1,
         "https://www.imdb.com/pt/name/nm0513520"
        ],
        [
         "nm0032962",
         "Tomas Arana",
         1,
         "https://www.imdb.com/pt/name/nm0032962"
        ],
        [
         "nm0522503",
         "Laura Lovelace",
         1,
         "https://www.imdb.com/pt/name/nm0522503"
        ],
        [
         "nm0000493",
         "Jack Lemmon",
         1,
         "https://www.imdb.com/pt/name/nm0000493"
        ],
        [
         "nm0565494",
         "Colleen McCauley",
         1,
         "https://www.imdb.com/pt/name/nm0565494"
        ],
        [
         "nm0045993",
         "Bolaji Badejo",
         1,
         "https://www.imdb.com/pt/name/nm0045993"
        ],
        [
         "nm0592135",
         "Lin-Manuel Miranda",
         1,
         "https://www.imdb.com/pt/name/nm0592135"
        ],
        [
         "nm0000018",
         "Kirk Douglas",
         1,
         "https://www.imdb.com/pt/name/nm0000018"
        ],
        [
         "nm0593612",
         "Millard Mitchell",
         1,
         "https://www.imdb.com/pt/name/nm0593612"
        ],
        [
         "nm0046575",
         "Vladas Bagdonas",
         1,
         "https://www.imdb.com/pt/name/nm0046575"
        ],
        [
         "nm0595934",
         "Mohan Babu",
         1,
         "https://www.imdb.com/pt/name/nm0595934"
        ],
        [
         "nm0000606",
         "Jean Reno",
         1,
         "https://www.imdb.com/pt/name/nm0000606"
        ],
        [
         "nm0606998",
         "Wayne Morris",
         1,
         "https://www.imdb.com/pt/name/nm0606998"
        ],
        [
         "nm0061830",
         "Hans-Uwe Bauer",
         1,
         "https://www.imdb.com/pt/name/nm0061830"
        ],
        [
         "nm0614677",
         "Rosemary Murphy",
         1,
         "https://www.imdb.com/pt/name/nm0614677"
        ],
        [
         "nm4299147",
         "Sareh Bayat",
         1,
         "https://www.imdb.com/pt/name/nm4299147"
        ],
        [
         "nm0618690",
         "Matheus Nachtergaele",
         1,
         "https://www.imdb.com/pt/name/nm0618690"
        ],
        [
         "nm0077543",
         "Frank Berry",
         1,
         "https://www.imdb.com/pt/name/nm0077543"
        ],
        [
         "nm0665886",
         "Lee Patrick",
         1,
         "https://www.imdb.com/pt/name/nm0665886"
        ],
        [
         "nm0000641",
         "Gary Sinise",
         1,
         "https://www.imdb.com/pt/name/nm0000641"
        ],
        [
         "nm0713469",
         "Julia Rayner",
         1,
         "https://www.imdb.com/pt/name/nm0713469"
        ],
        [
         "nm0093769",
         "Fortunio Bonanova",
         1,
         "https://www.imdb.com/pt/name/nm0093769"
        ],
        [
         "nm0757064",
         "S.Z. Sakall",
         1,
         "https://www.imdb.com/pt/name/nm0757064"
        ],
        [
         "nm0000026",
         "Cary Grant",
         1,
         "https://www.imdb.com/pt/name/nm0000026"
        ],
        [
         "nm0757855",
         "Zoe Saldaña",
         1,
         "https://www.imdb.com/pt/name/nm0757855"
        ],
        [
         "nm0094163",
         "Eugenie Bondurant",
         1,
         "https://www.imdb.com/pt/name/nm0094163"
        ],
        [
         "nm0760778",
         "Fatima Sana Shaikh",
         1,
         "https://www.imdb.com/pt/name/nm0760778"
        ],
        [
         "nm0000701",
         "Kate Winslet",
         1,
         "https://www.imdb.com/pt/name/nm0000701"
        ],
        [
         "nm0779685",
         "Randolph Scott",
         1,
         "https://www.imdb.com/pt/name/nm0779685"
        ],
        [
         "nm0119988",
         "Peter Bull",
         1,
         "https://www.imdb.com/pt/name/nm0119988"
        ],
        [
         "nm0790064",
         "Joan Shawlee",
         1,
         "https://www.imdb.com/pt/name/nm0790064"
        ],
        [
         "nm5481013",
         "Kaito Ishikawa",
         1,
         "https://www.imdb.com/pt/name/nm5481013"
        ],
        [
         "nm0791502",
         "Paul Shenar",
         1,
         "https://www.imdb.com/pt/name/nm0791502"
        ],
        [
         "nm0121972",
         "Gedeon Burkhard",
         1,
         "https://www.imdb.com/pt/name/nm0121972"
        ],
        [
         "nm0795344",
         "John Shrapnel",
         1,
         "https://www.imdb.com/pt/name/nm0795344"
        ],
        [
         "nm0000799",
         "Edward Asner",
         1,
         "https://www.imdb.com/pt/name/nm0000799"
        ],
        [
         "nm0799777",
         "J.K. Simmons",
         1,
         "https://www.imdb.com/pt/name/nm0799777"
        ],
        [
         "nm0131781",
         "Jaime Camil",
         1,
         "https://www.imdb.com/pt/name/nm0131781"
        ],
        [
         "nm0823563",
         "Mike Starr",
         1,
         "https://www.imdb.com/pt/name/nm0823563"
        ],
        [
         "nm0000044",
         "Burt Lancaster",
         1,
         "https://www.imdb.com/pt/name/nm0000044"
        ],
        [
         "nm0839486",
         "Ethan Suplee",
         1,
         "https://www.imdb.com/pt/name/nm0839486"
        ],
        [
         "nm0131966",
         "Bill Camp",
         1,
         "https://www.imdb.com/pt/name/nm0131966"
        ],
        [
         "nm0851427",
         "Bernd Tauber",
         1,
         "https://www.imdb.com/pt/name/nm0851427"
        ],
        [
         "nm0000966",
         "Lorraine Bracco",
         1,
         "https://www.imdb.com/pt/name/nm0000966"
        ],
        [
         "nm0868639",
         "Fernanda Torres",
         1,
         "https://www.imdb.com/pt/name/nm0868639"
        ],
        [
         "nm0173125",
         "Miriam Colon",
         1,
         "https://www.imdb.com/pt/name/nm0173125"
        ],
        [
         "nm0912478",
         "H.B. Warner",
         1,
         "https://www.imdb.com/pt/name/nm0912478"
        ],
        [
         "nm4733752",
         "Kimiko Glenn",
         1,
         "https://www.imdb.com/pt/name/nm4733752"
        ],
        [
         "nm0926235",
         "James Whitmore",
         1,
         "https://www.imdb.com/pt/name/nm0926235"
        ],
        [
         "nm0177528",
         "Danny Cooksey",
         1,
         "https://www.imdb.com/pt/name/nm0177528"
        ],
        [
         "nm0933330",
         "Dooley Wilson",
         1,
         "https://www.imdb.com/pt/name/nm0933330"
        ],
        [
         "nm0001012",
         "Claudia Cardinale",
         1,
         "https://www.imdb.com/pt/name/nm0001012"
        ],
        [
         "nm0938052",
         "Ian Wolfe",
         1,
         "https://www.imdb.com/pt/name/nm0938052"
        ],
        [
         "nm0180984",
         "Kevin Corrigan",
         1,
         "https://www.imdb.com/pt/name/nm0180984"
        ],
        [
         "nm1033907",
         "Victor Alexander",
         1,
         "https://www.imdb.com/pt/name/nm1033907"
        ],
        [
         "nm0000080",
         "Orson Welles",
         1,
         "https://www.imdb.com/pt/name/nm0000080"
        ],
        [
         "nm1046521",
         "Lars Ranthe",
         1,
         "https://www.imdb.com/pt/name/nm1046521"
        ],
        [
         "nm0201700",
         "Tony Darrow",
         1,
         "https://www.imdb.com/pt/name/nm0201700"
        ],
        [
         "nm1064352",
         "Tracy Reed",
         1,
         "https://www.imdb.com/pt/name/nm1064352"
        ],
        [
         "nm0001110",
         "Embeth Davidtz",
         1,
         "https://www.imdb.com/pt/name/nm0001110"
        ],
        [
         "nm1111054",
         "Masaki Terasoma",
         1,
         "https://www.imdb.com/pt/name/nm1111054"
        ],
        [
         "nm0212939",
         "Ron Dean",
         1,
         "https://www.imdb.com/pt/name/nm0212939"
        ],
        [
         "nm11319525",
         "Mohammad Al Abdallah",
         1,
         "https://www.imdb.com/pt/name/nm11319525"
        ],
        [
         "nm6442009",
         "Kiara Advani",
         1,
         "https://www.imdb.com/pt/name/nm6442009"
        ],
        [
         "nm1224082",
         "Boman Irani",
         1,
         "https://www.imdb.com/pt/name/nm1224082"
        ],
        [
         "nm0233391",
         "Matt Doran",
         1,
         "https://www.imdb.com/pt/name/nm0233391"
        ],
        [
         "nm12449815",
         "Abhishek Sengupta",
         1,
         "https://www.imdb.com/pt/name/nm12449815"
        ],
        [
         "nm0001125",
         "Benicio Del Toro",
         1,
         "https://www.imdb.com/pt/name/nm0001125"
        ],
        [
         "nm1366028",
         "Kim Byeong-Ok",
         1,
         "https://www.imdb.com/pt/name/nm1366028"
        ],
        [
         "nm0242562",
         "Emma Dunn",
         1,
         "https://www.imdb.com/pt/name/nm0242562"
        ],
        [
         "nm1502434",
         "Leslie Odom Jr.",
         1,
         "https://www.imdb.com/pt/name/nm1502434"
        ],
        [
         "nm0000103",
         "Fairuza Balk",
         1,
         "https://www.imdb.com/pt/name/nm0000103"
        ],
        [
         "nm0501435",
         "Kasi Lemmons",
         1,
         "https://www.imdb.com/pt/name/nm0501435"
        ],
        [
         "nm0267812",
         "Vera Farmiga",
         1,
         "https://www.imdb.com/pt/name/nm0267812"
        ],
        [
         "nm0991810",
         "Mahershala Ali",
         1,
         "https://www.imdb.com/pt/name/nm0991810"
        ],
        [
         "nm0001295",
         "Graham Greene",
         1,
         "https://www.imdb.com/pt/name/nm0001295"
        ],
        [
         "nm15809251",
         "Geetha",
         1,
         "https://www.imdb.com/pt/name/nm15809251"
        ],
        [
         "nm0275213",
         "Gabriele Ferzetti",
         1,
         "https://www.imdb.com/pt/name/nm0275213"
        ],
        [
         "nm1856097",
         "Cho Yeo-jeong",
         1,
         "https://www.imdb.com/pt/name/nm1856097"
        ],
        [
         "nm5607349",
         "Varun Sharma",
         1,
         "https://www.imdb.com/pt/name/nm5607349"
        ],
        [
         "nm1862960",
         "Chris Jackson",
         1,
         "https://www.imdb.com/pt/name/nm1862960"
        ],
        [
         "nm0289080",
         "Jorja Fox",
         1,
         "https://www.imdb.com/pt/name/nm0289080"
        ],
        [
         "nm1881661",
         "Yoo Yeon-seok",
         1,
         "https://www.imdb.com/pt/name/nm1881661"
        ],
        [
         "nm0001527",
         "Elizabeth McGovern",
         1,
         "https://www.imdb.com/pt/name/nm0001527"
        ],
        [
         "nm2195817",
         "Samantha Mahurin",
         1,
         "https://www.imdb.com/pt/name/nm2195817"
        ],
        [
         "nm0301348",
         "Richard Gaines",
         1,
         "https://www.imdb.com/pt/name/nm0301348"
        ],
        [
         "nm2403277",
         "Alden Ehrenreich",
         1,
         "https://www.imdb.com/pt/name/nm2403277"
        ],
        [
         "nm0000124",
         "Jennifer Connelly",
         1,
         "https://www.imdb.com/pt/name/nm0000124"
        ],
        [
         "nm2976492",
         "Aoi Yûki",
         1,
         "https://www.imdb.com/pt/name/nm2976492"
        ],
        [
         "nm0309945",
         "Maxim Gaudette",
         1,
         "https://www.imdb.com/pt/name/nm0309945"
        ],
        [
         "nm3237775",
         "Mackenzie Foy",
         1,
         "https://www.imdb.com/pt/name/nm3237775"
        ],
        [
         "nm0001562",
         "Kathy Najimy",
         1,
         "https://www.imdb.com/pt/name/nm0001562"
        ],
        [
         "nm0311155",
         "Michael V. Gazzo",
         1,
         "https://www.imdb.com/pt/name/nm0311155"
        ],
        [
         "nm6678966",
         "Vinodhini Vaidynathan",
         1,
         "https://www.imdb.com/pt/name/nm6678966"
        ],
        [
         "nm0321798",
         "Keith A. Glascoe",
         1,
         "https://www.imdb.com/pt/name/nm0321798"
        ],
        [
         "nm0001625",
         "Amanda Plummer",
         1,
         "https://www.imdb.com/pt/name/nm0001625"
        ],
        [
         "nm0332390",
         "Harold Gould",
         1,
         "https://www.imdb.com/pt/name/nm0332390"
        ],
        [
         "nm0000285",
         "Alec Baldwin",
         1,
         "https://www.imdb.com/pt/name/nm0000285"
        ],
        [
         "nm0350454",
         "Maggie Gyllenhaal",
         1,
         "https://www.imdb.com/pt/name/nm0350454"
        ],
        [
         "nm0001629",
         "Kevin Pollak",
         1,
         "https://www.imdb.com/pt/name/nm0001629"
        ],
        [
         "nm0354916",
         "Grace Hayle",
         1,
         "https://www.imdb.com/pt/name/nm0354916"
        ],
        [
         "nm5626435",
         "Guru Somasundaram",
         1,
         "https://www.imdb.com/pt/name/nm5626435"
        ],
        [
         "nm0369513",
         "Cole Hauser",
         1,
         "https://www.imdb.com/pt/name/nm0369513"
        ],
        [
         "nm0001693",
         "Eva Marie Saint",
         1,
         "https://www.imdb.com/pt/name/nm0001693"
        ],
        [
         "nm0372217",
         "Anthony Heald",
         1,
         "https://www.imdb.com/pt/name/nm0372217"
        ],
        [
         "nm0000286",
         "Stephen Baldwin",
         1,
         "https://www.imdb.com/pt/name/nm0000286"
        ],
        [
         "nm0375738",
         "Tom Helmore",
         1,
         "https://www.imdb.com/pt/name/nm0375738"
        ],
        [
         "nm0001703",
         "Maximilian Schell",
         1,
         "https://www.imdb.com/pt/name/nm0001703"
        ],
        [
         "nm0385443",
         "Shin'ichi Himori",
         1,
         "https://www.imdb.com/pt/name/nm0385443"
        ],
        [
         "nm7084461",
         "Pranay Pachauri",
         1,
         "https://www.imdb.com/pt/name/nm7084461"
        ],
        [
         "nm0428216",
         "Henry Jones",
         1,
         "https://www.imdb.com/pt/name/nm0428216"
        ],
        [
         "nm0001847",
         "Richard Widmark",
         1,
         "https://www.imdb.com/pt/name/nm0001847"
        ],
        [
         "nm0434593",
         "Kyôko Kagawa",
         1,
         "https://www.imdb.com/pt/name/nm0434593"
        ],
        [
         "nm0000448",
         "Lance Henriksen",
         1,
         "https://www.imdb.com/pt/name/nm0000448"
        ],
        [
         "nm0434759",
         "Wolf Kahler",
         1,
         "https://www.imdb.com/pt/name/nm0434759"
        ],
        [
         "nm0002011",
         "Lee J. Cobb",
         1,
         "https://www.imdb.com/pt/name/nm0002011"
        ],
        [
         "nm0444955",
         "Jack Kehoe",
         1,
         "https://www.imdb.com/pt/name/nm0444955"
        ],
        [
         "nm5765775",
         "Fadi Yousef",
         1,
         "https://www.imdb.com/pt/name/nm5765775"
        ],
        [
         "nm0451600",
         "Anupam Kher",
         1,
         "https://www.imdb.com/pt/name/nm0451600"
        ],
        [
         "nm0002017",
         "Richard Conte",
         1,
         "https://www.imdb.com/pt/name/nm0002017"
        ],
        [
         "nm0462182",
         "Makoto Kobori",
         1,
         "https://www.imdb.com/pt/name/nm0462182"
        ],
        [
         "nm0000501",
         "Ray Liotta",
         1,
         "https://www.imdb.com/pt/name/nm0000501"
        ],
        [
         "nm0484829",
         "Jessie Royce Landis",
         1,
         "https://www.imdb.com/pt/name/nm0484829"
        ],
        [
         "nm0005023",
         "Djimon Hounsou",
         1,
         "https://www.imdb.com/pt/name/nm0005023"
        ],
        [
         "nm0516972",
         "Gary Lockwood",
         1,
         "https://www.imdb.com/pt/name/nm0516972"
        ],
        [
         "nm9508122",
         "Nalneesh Neel",
         1,
         "https://www.imdb.com/pt/name/nm9508122"
        ],
        [
         "nm0522797",
         "Chuck Low",
         1,
         "https://www.imdb.com/pt/name/nm0522797"
        ],
        [
         "nm0026364",
         "Anthony Anderson",
         1,
         "https://www.imdb.com/pt/name/nm0026364"
        ],
        [
         "nm0565133",
         "Francis X. McCarthy",
         1,
         "https://www.imdb.com/pt/name/nm0565133"
        ],
        [
         "nm0000564",
         "Peter O'Toole",
         1,
         "https://www.imdb.com/pt/name/nm0000564"
        ],
        [
         "nm0570615",
         "John McIntire",
         1,
         "https://www.imdb.com/pt/name/nm0570615"
        ],
        [
         "nm0028625",
         "David Andrews",
         1,
         "https://www.imdb.com/pt/name/nm0028625"
        ],
        [
         "nm0573299",
         "Kenneth McMillan",
         1,
         "https://www.imdb.com/pt/name/nm0573299"
        ],
        [
         "nm6323449",
         "Usha Elizabeth",
         1,
         "https://www.imdb.com/pt/name/nm6323449"
        ],
        [
         "nm0586227",
         "Tatsuya Mihashi",
         1,
         "https://www.imdb.com/pt/name/nm0586227"
        ],
        [
         "nm0032810",
         "Julian Arahanga",
         1,
         "https://www.imdb.com/pt/name/nm0032810"
        ],
        [
         "nm0593775",
         "Thomas Mitchell",
         1,
         "https://www.imdb.com/pt/name/nm0593775"
        ],
        [
         "nm0000836",
         "Scott Bakula",
         1,
         "https://www.imdb.com/pt/name/nm0000836"
        ],
        [
         "nm0621008",
         "Charles Napier",
         1,
         "https://www.imdb.com/pt/name/nm0621008"
        ],
        [
         "nm0041066",
         "Antonella Attili",
         1,
         "https://www.imdb.com/pt/name/nm0041066"
        ],
        [
         "nm0640547",
         "Una O'Connor",
         1,
         "https://www.imdb.com/pt/name/nm0640547"
        ],
        [
         "nm9862858",
         "Zain Al Rafeea",
         1,
         "https://www.imdb.com/pt/name/nm9862858"
        ],
        [
         "nm0672225",
         "Bob Penny",
         1,
         "https://www.imdb.com/pt/name/nm0672225"
        ],
        [
         "nm0045937",
         "Michael Badalucco",
         1,
         "https://www.imdb.com/pt/name/nm0045937"
        ],
        [
         "nm0686857",
         "Edward Platt",
         1,
         "https://www.imdb.com/pt/name/nm0686857"
        ],
        [
         "nm0000885",
         "Ned Beatty",
         1,
         "https://www.imdb.com/pt/name/nm0000885"
        ],
        [
         "nm0694101",
         "Eddie Powell",
         1,
         "https://www.imdb.com/pt/name/nm0694101"
        ],
        [
         "nm0046564",
         "Ross Bagdasarian",
         1,
         "https://www.imdb.com/pt/name/nm0046564"
        ],
        [
         "nm0719678",
         "Callum Keith Rennie",
         1,
         "https://www.imdb.com/pt/name/nm0719678"
        ],
        [
         "nm8168516",
         "Shyam Renganathan",
         1,
         "https://www.imdb.com/pt/name/nm8168516"
        ],
        [
         "nm0721637",
         "Cecil Reynolds",
         1,
         "https://www.imdb.com/pt/name/nm0721637"
        ],
        [
         "nm0058384",
         "John Bartha",
         1,
         "https://www.imdb.com/pt/name/nm0058384"
        ],
        [
         "nm0728812",
         "Thelma Ritter",
         1,
         "https://www.imdb.com/pt/name/nm0728812"
        ],
        [
         "nm0000905",
         "Roberto Benigni",
         1,
         "https://www.imdb.com/pt/name/nm0000905"
        ],
        [
         "nm0757774",
         "Ángel Salazar",
         1,
         "https://www.imdb.com/pt/name/nm0757774"
        ],
        [
         "nm0076700",
         "Sara Berner",
         1,
         "https://www.imdb.com/pt/name/nm0076700"
        ],
        [
         "nm0769116",
         "Claudio Scarchilli",
         1,
         "https://www.imdb.com/pt/name/nm0769116"
        ],
        [
         "nm0000006",
         "Ingrid Bergman",
         1,
         "https://www.imdb.com/pt/name/nm0000006"
        ],
        [
         "nm0783847",
         "Martin Semmelrogge",
         1,
         "https://www.imdb.com/pt/name/nm0783847"
        ],
        [
         "nm0082979",
         "Sergio Bini Bustric",
         1,
         "https://www.imdb.com/pt/name/nm0082979"
        ],
        [
         "nm0790164",
         "Konstantin Shayne",
         1,
         "https://www.imdb.com/pt/name/nm0790164"
        ],
        [
         "nm0000906",
         "Annette Bening",
         1,
         "https://www.imdb.com/pt/name/nm0000906"
        ],
        [
         "nm0793616",
         "Yukiko Shimazaki",
         1,
         "https://www.imdb.com/pt/name/nm0793616"
        ],
        [
         "nm0104594",
         "Larry Brandenburg",
         1,
         "https://www.imdb.com/pt/name/nm0104594"
        ],
        [
         "nm0829717",
         "Paul Stewart",
         1,
         "https://www.imdb.com/pt/name/nm0829717"
        ],
        [
         "nm9500800",
         "Bárbara Luz",
         1,
         "https://www.imdb.com/pt/name/nm9500800"
        ],
        [
         "nm0834754",
         "Woody Strode",
         1,
         "https://www.imdb.com/pt/name/nm0834754"
        ],
        [
         "nm0109175",
         "Richard Bright",
         1,
         "https://www.imdb.com/pt/name/nm0109175"
        ],
        [
         "nm0841797",
         "Gloria Swanson",
         1,
         "https://www.imdb.com/pt/name/nm0841797"
        ],
        [
         "nm0000982",
         "Josh Brolin",
         1,
         "https://www.imdb.com/pt/name/nm0000982"
        ],
        [
         "nm0848984",
         "Haruo Tanaka",
         1,
         "https://www.imdb.com/pt/name/nm0848984"
        ],
        [
         "nm0114436",
         "Phil Brown",
         1,
         "https://www.imdb.com/pt/name/nm0114436"
        ],
        [
         "nm0876300",
         "Ulrich Tukur",
         1,
         "https://www.imdb.com/pt/name/nm0876300"
        ],
        [
         "nm0000007",
         "Humphrey Bogart",
         1,
         "https://www.imdb.com/pt/name/nm0000007"
        ],
        [
         "nm0913095",
         "Ruth Warrick",
         1,
         "https://www.imdb.com/pt/name/nm0913095"
        ],
        [
         "nm0143150",
         "Salvatore Cascio",
         1,
         "https://www.imdb.com/pt/name/nm0143150"
        ],
        [
         "nm0921044",
         "Klaus Wennemann",
         1,
         "https://www.imdb.com/pt/name/nm0921044"
        ],
        [
         "nm0001050",
         "Montgomery Clift",
         1,
         "https://www.imdb.com/pt/name/nm0001050"
        ],
        [
         "nm0953423",
         "Merila Zare'i",
         1,
         "https://www.imdb.com/pt/name/nm0953423"
        ],
        [
         "nm0146146",
         "Reg E. Cathey",
         1,
         "https://www.imdb.com/pt/name/nm0146146"
        ],
        [
         "nm1010931",
         "Monique Gabriela Curnen",
         1,
         "https://www.imdb.com/pt/name/nm1010931"
        ],
        [
         "nm0000056",
         "Paul Newman",
         1,
         "https://www.imdb.com/pt/name/nm0000056"
        ],
        [
         "nm10285613",
         "Atul Singh Verma",
         1,
         "https://www.imdb.com/pt/name/nm10285613"
        ],
        [
         "nm0173827",
         "Dorothy Comingore",
         1,
         "https://www.imdb.com/pt/name/nm0173827"
        ],
        [
         "nm1055413",
         "Michael Fassbender",
         1,
         "https://www.imdb.com/pt/name/nm1055413"
        ],
        [
         "nm0001088",
         "Peter Cushing",
         1,
         "https://www.imdb.com/pt/name/nm0001088"
        ],
        [
         "nm1069587",
         "Darshan Kumaar",
         1,
         "https://www.imdb.com/pt/name/nm1069587"
        ],
        [
         "nm0174682",
         "Chester Conklin",
         1,
         "https://www.imdb.com/pt/name/nm0174682"
        ],
        [
         "nm11660556",
         "Sunit Tandon",
         1,
         "https://www.imdb.com/pt/name/nm11660556"
        ],
        [
         "nm0000075",
         "Spencer Tracy",
         1,
         "https://www.imdb.com/pt/name/nm0000075"
        ],
        [
         "nm1176985",
         "Dave Bautista",
         1,
         "https://www.imdb.com/pt/name/nm1176985"
        ],
        [
         "nm0204425",
         "Daniel Davis",
         1,
         "https://www.imdb.com/pt/name/nm0204425"
        ],
        [
         "nm1179683",
         "Douglas Silva",
         1,
         "https://www.imdb.com/pt/name/nm1179683"
        ],
        [
         "nm0001321",
         "Richard Harris",
         1,
         "https://www.imdb.com/pt/name/nm0001321"
        ],
        [
         "nm1203041",
         "Ji Dae-han",
         1,
         "https://www.imdb.com/pt/name/nm1203041"
        ],
        [
         "nm0269709",
         "Frank Faylen",
         1,
         "https://www.imdb.com/pt/name/nm0269709"
        ],
        [
         "nm1335704",
         "Fahadh Faasil",
         1,
         "https://www.imdb.com/pt/name/nm1335704"
        ],
        [
         "nm0000064",
         "Edward G. Robinson",
         1,
         "https://www.imdb.com/pt/name/nm0000064"
        ],
        [
         "nm1360441",
         "Sayaka Ôhara",
         1,
         "https://www.imdb.com/pt/name/nm1360441"
        ],
        [
         "nm0280707",
         "Paul Fix",
         1,
         "https://www.imdb.com/pt/name/nm0280707"
        ],
        [
         "nm13716647",
         "Satendra Soni",
         1,
         "https://www.imdb.com/pt/name/nm13716647"
        ],
        [
         "nm0001430",
         "Jack Klugman",
         1,
         "https://www.imdb.com/pt/name/nm0001430"
        ],
        [
         "nm1420619",
         "Karunas",
         1,
         "https://www.imdb.com/pt/name/nm1420619"
        ],
        [
         "nm0281909",
         "Glenn Fleshler",
         1,
         "https://www.imdb.com/pt/name/nm0281909"
        ],
        [
         "nm0711502",
         "Rada Rassimov",
         1,
         "https://www.imdb.com/pt/name/nm0711502"
        ],
        [
         "nm0000142",
         "Clint Eastwood",
         1,
         "https://www.imdb.com/pt/name/nm0000142"
        ],
        [
         "nm12329614",
         "Kôzô Hashida",
         1,
         "https://www.imdb.com/pt/name/nm12329614"
        ],
        [
         "nm0311343",
         "Malgorzata Gebel",
         1,
         "https://www.imdb.com/pt/name/nm0311343"
        ],
        [
         "nm1248280",
         "Emerson Gomes",
         1,
         "https://www.imdb.com/pt/name/nm1248280"
        ],
        [
         "nm0001445",
         "Martin Landau",
         1,
         "https://www.imdb.com/pt/name/nm0001445"
        ],
        [
         "nm1367681",
         "Oh Dal-su",
         1,
         "https://www.imdb.com/pt/name/nm1367681"
        ],
        [
         "nm0317970",
         "Billy Gilbert",
         1,
         "https://www.imdb.com/pt/name/nm0317970"
        ],
        [
         "nm1825214",
         "John Mulaney",
         1,
         "https://www.imdb.com/pt/name/nm1825214"
        ],
        [
         "nm0000111",
         "Matthew Broderick",
         1,
         "https://www.imdb.com/pt/name/nm0000111"
        ],
        [
         "nm1886602",
         "Miles Teller",
         1,
         "https://www.imdb.com/pt/name/nm1886602"
        ],
        [
         "nm0321294",
         "Aldo Giuffrè",
         1,
         "https://www.imdb.com/pt/name/nm0321294"
        ],
        [
         "nm2275012",
         "Karthik Kumar",
         1,
         "https://www.imdb.com/pt/name/nm2275012"
        ],
        [
         "nm0001533",
         "Meat Loaf",
         1,
         "https://www.imdb.com/pt/name/nm0001533"
        ],
        [
         "nm2973712",
         "Jordan Nagai",
         1,
         "https://www.imdb.com/pt/name/nm2973712"
        ],
        [
         "nm0323479",
         "Friedrich Gnaß",
         1,
         "https://www.imdb.com/pt/name/nm0323479"
        ],
        [
         "nm3222518",
         "Sachet Engineer",
         1,
         "https://www.imdb.com/pt/name/nm3222518"
        ],
        [
         "nm0000154",
         "Mel Gibson",
         1,
         "https://www.imdb.com/pt/name/nm0000154"
        ],
        [
         "nm0347039",
         "Robert Guillaume",
         1,
         "https://www.imdb.com/pt/name/nm0347039"
        ],
        [
         "nm0001567",
         "Connie Nielsen",
         1,
         "https://www.imdb.com/pt/name/nm0001567"
        ],
        [
         "nm0364680",
         "Estelle Harris",
         1,
         "https://www.imdb.com/pt/name/nm0364680"
        ],
        [
         "nm0000128",
         "Russell Crowe",
         1,
         "https://www.imdb.com/pt/name/nm0000128"
        ],
        [
         "nm0412615",
         "Shima Iwashita",
         1,
         "https://www.imdb.com/pt/name/nm0412615"
        ],
        [
         "nm0001765",
         "Harry Dean Stanton",
         1,
         "https://www.imdb.com/pt/name/nm0001765"
        ],
        [
         "nm0413168",
         "Hugh Jackman",
         1,
         "https://www.imdb.com/pt/name/nm0413168"
        ],
        [
         "nm0000190",
         "Matthew McConaughey",
         1,
         "https://www.imdb.com/pt/name/nm0000190"
        ],
        [
         "nm0439307",
         "Babak Karimi",
         1,
         "https://www.imdb.com/pt/name/nm0439307"
        ],
        [
         "nm0001891",
         "Anthony Higgins",
         1,
         "https://www.imdb.com/pt/name/nm0001891"
        ],
        [
         "nm0441399",
         "Takeshi Katô",
         1,
         "https://www.imdb.com/pt/name/nm0441399"
        ],
        [
         "nm0000155",
         "Whoopi Goldberg",
         1,
         "https://www.imdb.com/pt/name/nm0000155"
        ],
        [
         "nm0460578",
         "Herbert Knaup",
         1,
         "https://www.imdb.com/pt/name/nm0460578"
        ],
        [
         "nm0003225",
         "Ed Begley",
         1,
         "https://www.imdb.com/pt/name/nm0003225"
        ],
        [
         "nm0462407",
         "Sebastian Koch",
         1,
         "https://www.imdb.com/pt/name/nm0462407"
        ],
        [
         "nm0000216",
         "Arnold Schwarzenegger",
         1,
         "https://www.imdb.com/pt/name/nm0000216"
        ],
        [
         "nm0467566",
         "Yoshio Kosugi",
         1,
         "https://www.imdb.com/pt/name/nm0467566"
        ],
        [
         "nm0005171",
         "Angus Macfadyen",
         1,
         "https://www.imdb.com/pt/name/nm0005171"
        ],
        [
         "nm0470981",
         "Thomas Kretschmann",
         1,
         "https://www.imdb.com/pt/name/nm0470981"
        ],
        [
         "nm0000171",
         "Ashley Judd",
         1,
         "https://www.imdb.com/pt/name/nm0000171"
        ],
        [
         "nm0479951",
         "Ronald Lacey",
         1,
         "https://www.imdb.com/pt/name/nm0479951"
        ],
        [
         "nm0005541",
         "Marlon Wayans",
         1,
         "https://www.imdb.com/pt/name/nm0005541"
        ],
        [
         "nm0504803",
         "Al Lettieri",
         1,
         "https://www.imdb.com/pt/name/nm0504803"
        ],
        [
         "nm0000242",
         "Mark Wahlberg",
         1,
         "https://www.imdb.com/pt/name/nm0000242"
        ],
        [
         "nm0505971",
         "Ted Levine",
         1,
         "https://www.imdb.com/pt/name/nm0505971"
        ],
        [
         "nm0027323",
         "Richard Anderson",
         1,
         "https://www.imdb.com/pt/name/nm0027323"
        ],
        [
         "nm0533247",
         "Kenneth MacKenna",
         1,
         "https://www.imdb.com/pt/name/nm0533247"
        ],
        [
         "nm0000200",
         "Bill Paxton",
         1,
         "https://www.imdb.com/pt/name/nm0000200"
        ],
        [
         "nm0550855",
         "E.G. Marshall",
         1,
         "https://www.imdb.com/pt/name/nm0550855"
        ],
        [
         "nm0044073",
         "Lubna Azabal",
         1,
         "https://www.imdb.com/pt/name/nm0044073"
        ],
        [
         "nm0561158",
         "Claire Maurier",
         1,
         "https://www.imdb.com/pt/name/nm0561158"
        ],
        [
         "nm0000299",
         "Michael Biehn",
         1,
         "https://www.imdb.com/pt/name/nm0000299"
        ],
        [
         "nm0562056",
         "Martin May",
         1,
         "https://www.imdb.com/pt/name/nm0562056"
        ],
        [
         "nm0067672",
         "Lia Beldam",
         1,
         "https://www.imdb.com/pt/name/nm0067672"
        ],
        [
         "nm0576127",
         "Ralph Meeker",
         1,
         "https://www.imdb.com/pt/name/nm0576127"
        ],
        [
         "nm0000204",
         "Natalie Portman",
         1,
         "https://www.imdb.com/pt/name/nm0000204"
        ],
        [
         "nm0580436",
         "Matt Mercier",
         1,
         "https://www.imdb.com/pt/name/nm0580436"
        ],
        [
         "nm0089112",
         "Willi One Blood",
         1,
         "https://www.imdb.com/pt/name/nm0089112"
        ],
        [
         "nm0581014",
         "Serge Merlin",
         1,
         "https://www.imdb.com/pt/name/nm0581014"
        ],
        [
         "nm0000309",
         "David Bowie",
         1,
         "https://www.imdb.com/pt/name/nm0000309"
        ],
        [
         "nm0620964",
         "Isabelle Nanty",
         1,
         "https://www.imdb.com/pt/name/nm0620964"
        ],
        [
         "nm0094135",
         "Beulah Bondi",
         1,
         "https://www.imdb.com/pt/name/nm0094135"
        ],
        [
         "nm0643000",
         "Simon Oakland",
         1,
         "https://www.imdb.com/pt/name/nm0643000"
        ],
        [
         "nm0000209",
         "Tim Robbins",
         1,
         "https://www.imdb.com/pt/name/nm0000209"
        ],
        [
         "nm0722636",
         "John Rhys-Davies",
         1,
         "https://www.imdb.com/pt/name/nm0722636"
        ],
        [
         "nm0134073",
         "Enzo Cannavale",
         1,
         "https://www.imdb.com/pt/name/nm0134073"
        ],
        [
         "nm0725220",
         "Daniel Richter",
         1,
         "https://www.imdb.com/pt/name/nm0725220"
        ],
        [
         "nm0000457",
         "John Hurt",
         1,
         "https://www.imdb.com/pt/name/nm0000457"
        ],
        [
         "nm0752876",
         "Thomas Jay Ryan",
         1,
         "https://www.imdb.com/pt/name/nm0752876"
        ],
        [
         "nm0144307",
         "John Cassini",
         1,
         "https://www.imdb.com/pt/name/nm0144307"
        ],
        [
         "nm0803370",
         "Frank Sivero",
         1,
         "https://www.imdb.com/pt/name/nm0803370"
        ],
        [
         "nm0000245",
         "Robin Williams",
         1,
         "https://www.imdb.com/pt/name/nm0000245"
        ],
        [
         "nm0848533",
         "Tetsurô Tanba",
         1,
         "https://www.imdb.com/pt/name/nm0848533"
        ],
        [
         "nm0154653",
         "Bhoomika Chawla",
         1,
         "https://www.imdb.com/pt/name/nm0154653"
        ],
        [
         "nm0851582",
         "Audrey Tautou",
         1,
         "https://www.imdb.com/pt/name/nm0851582"
        ],
        [
         "nm0000546",
         "Matthew Modine",
         1,
         "https://www.imdb.com/pt/name/nm0000546"
        ],
        [
         "nm0871287",
         "Henry Travers",
         1,
         "https://www.imdb.com/pt/name/nm0871287"
        ],
        [
         "nm0159059",
         "Marcus Chong",
         1,
         "https://www.imdb.com/pt/name/nm0159059"
        ],
        [
         "nm0889540",
         "Norma Varden",
         1,
         "https://www.imdb.com/pt/name/nm0889540"
        ],
        [
         "nm0000246",
         "Bruce Willis",
         1,
         "https://www.imdb.com/pt/name/nm0000246"
        ],
        [
         "nm0896149",
         "Renee Victor",
         1,
         "https://www.imdb.com/pt/name/nm0896149"
        ],
        [
         "nm0175814",
         "Frances Conroy",
         1,
         "https://www.imdb.com/pt/name/nm0175814"
        ],
        [
         "nm0924154",
         "Shea Whigham",
         1,
         "https://www.imdb.com/pt/name/nm0924154"
        ],
        [
         "nm0000685",
         "Jon Voight",
         1,
         "https://www.imdb.com/pt/name/nm0000685"
        ],
        [
         "nm0925418",
         "Ruth White",
         1,
         "https://www.imdb.com/pt/name/nm0925418"
        ],
        [
         "nm0179819",
         "Wendell Corey",
         1,
         "https://www.imdb.com/pt/name/nm0179819"
        ],
        [
         "nm10293260",
         "Ashwin Hassan",
         1,
         "https://www.imdb.com/pt/name/nm10293260"
        ],
        [
         "nm0000261",
         "Karen Allen",
         1,
         "https://www.imdb.com/pt/name/nm0000261"
        ],
        [
         "nm10476840",
         "Rachna Gupta",
         1,
         "https://www.imdb.com/pt/name/nm10476840"
        ],
        [
         "nm0189144",
         "David Cross",
         1,
         "https://www.imdb.com/pt/name/nm0189144"
        ],
        [
         "nm1179580",
         "Seu Jorge",
         1,
         "https://www.imdb.com/pt/name/nm1179580"
        ],
        [
         "nm0000705",
         "Robin Wright",
         1,
         "https://www.imdb.com/pt/name/nm0000705"
        ],
        [
         "nm12220302",
         "Raj Vermaa Saurav",
         1,
         "https://www.imdb.com/pt/name/nm12220302"
        ],
        [
         "nm0191442",
         "Brett Cullen",
         1,
         "https://www.imdb.com/pt/name/nm0191442"
        ],
        [
         "nm0644905",
         "Oh Tae-kyung",
         1,
         "https://www.imdb.com/pt/name/nm0644905"
        ],
        [
         "nm0000445",
         "Dan Hedaya",
         1,
         "https://www.imdb.com/pt/name/nm0000445"
        ],
        [
         "nm0954076",
         "Michal Zebrowski",
         1,
         "https://www.imdb.com/pt/name/nm0954076"
        ],
        [
         "nm0225191",
         "George DiCenzo",
         1,
         "https://www.imdb.com/pt/name/nm0225191"
        ],
        [
         "nm1209966",
         "Oscar Isaac",
         1,
         "https://www.imdb.com/pt/name/nm1209966"
        ],
        [
         "nm0000859",
         "Lionel Barrymore",
         1,
         "https://www.imdb.com/pt/name/nm0000859"
        ],
        [
         "nm1249574",
         "Phellipe Haagensen",
         1,
         "https://www.imdb.com/pt/name/nm1249574"
        ],
        [
         "nm0240239",
         "William Duell",
         1,
         "https://www.imdb.com/pt/name/nm0240239"
        ],
        [
         "nm2028276",
         "Subbalakshmi",
         1,
         "https://www.imdb.com/pt/name/nm2028276"
        ],
        [
         "nm0000502",
         "Christopher Lloyd",
         1,
         "https://www.imdb.com/pt/name/nm0000502"
        ],
        [
         "nm2366974",
         "Raj Arjun",
         1,
         "https://www.imdb.com/pt/name/nm2366974"
        ],
        [
         "nm0272581",
         "Rebecca Ferguson",
         1,
         "https://www.imdb.com/pt/name/nm0272581"
        ],
        [
         "nm2581521",
         "Austin Butler",
         1,
         "https://www.imdb.com/pt/name/nm2581521"
        ],
        [
         "nm0000931",
         "Elizabeth Berridge",
         1,
         "https://www.imdb.com/pt/name/nm0000931"
        ],
        [
         "nm2676147",
         "Jonathan Groff",
         1,
         "https://www.imdb.com/pt/name/nm2676147"
        ],
        [
         "nm0328751",
         "Caroline Goodall",
         1,
         "https://www.imdb.com/pt/name/nm0328751"
        ],
        [
         "nm0000638",
         "William Shatner",
         1,
         "https://www.imdb.com/pt/name/nm0000638"
        ],
        [
         "nm0348409",
         "Bob Gunton",
         1,
         "https://www.imdb.com/pt/name/nm0348409"
        ],
        [
         "nm0001030",
         "John Cazale",
         1,
         "https://www.imdb.com/pt/name/nm0001030"
        ],
        [
         "nm0356017",
         "Rebecca Hall",
         1,
         "https://www.imdb.com/pt/name/nm0356017"
        ],
        [
         "nm0000729",
         "Casey Affleck",
         1,
         "https://www.imdb.com/pt/name/nm0000729"
        ],
        [
         "nm0372742",
         "Jean Heather",
         1,
         "https://www.imdb.com/pt/name/nm0372742"
        ],
        [
         "nm0001343",
         "Carrie Henn",
         1,
         "https://www.imdb.com/pt/name/nm0001343"
        ],
        [
         "nm0397102",
         "Alan Howard",
         1,
         "https://www.imdb.com/pt/name/nm0397102"
        ],
        [
         "nm0000832",
         "Diane Baker",
         1,
         "https://www.imdb.com/pt/name/nm0000832"
        ],
        [
         "nm0440604",
         "Anurag Kashyap",
         1,
         "https://www.imdb.com/pt/name/nm0440604"
        ],
        [
         "nm0001372",
         "Bonnie Hunt",
         1,
         "https://www.imdb.com/pt/name/nm0001372"
        ],
        [
         "nm0447913",
         "Arthur Kennedy",
         1,
         "https://www.imdb.com/pt/name/nm0447913"
        ],
        [
         "nm0000874",
         "Steven Bauer",
         1,
         "https://www.imdb.com/pt/name/nm0000874"
        ],
        [
         "nm0451898",
         "Elias Khoury",
         1,
         "https://www.imdb.com/pt/name/nm0451898"
        ],
        [
         "nm0001475",
         "John Lithgow",
         1,
         "https://www.imdb.com/pt/name/nm0001475"
        ],
        [
         "nm0457410",
         "Ravi Kishan",
         1,
         "https://www.imdb.com/pt/name/nm0457410"
        ],
        [
         "nm0000949",
         "Cate Blanchett",
         1,
         "https://www.imdb.com/pt/name/nm0000949"
        ],
        [
         "nm0463282",
         "Kurt Koehler",
         1,
         "https://www.imdb.com/pt/name/nm0463282"
        ],
        [
         "nm0001547",
         "Agnes Moorehead",
         1,
         "https://www.imdb.com/pt/name/nm0001547"
        ],
        [
         "nm0473583",
         "Christiane Kubrick",
         1,
         "https://www.imdb.com/pt/name/nm0473583"
        ],
        [
         "nm0000994",
         "Raymond Burr",
         1,
         "https://www.imdb.com/pt/name/nm0000994"
        ],
        [
         "nm0494504",
         "Anne Le Ny",
         1,
         "https://www.imdb.com/pt/name/nm0494504"
        ],
        [
         "nm0001638",
         "Jürgen Prochnow",
         1,
         "https://www.imdb.com/pt/name/nm0001638"
        ],
        [
         "nm0496441",
         "Erwin Leder",
         1,
         "https://www.imdb.com/pt/name/nm0496441"
        ],
        [
         "nm0001101",
         "Ted Danson",
         1,
         "https://www.imdb.com/pt/name/nm0001101"
        ],
        [
         "nm0507081",
         "David Lewis",
         1,
         "https://www.imdb.com/pt/name/nm0507081"
        ],
        [
         "nm0001656",
         "Donna Reed",
         1,
         "https://www.imdb.com/pt/name/nm0001656"
        ],
        [
         "nm0536574",
         "George Maguire",
         1,
         "https://www.imdb.com/pt/name/nm0536574"
        ],
        [
         "nm0001111",
         "Jeremy Davies",
         1,
         "https://www.imdb.com/pt/name/nm0001111"
        ],
        [
         "nm0569336",
         "Sean McGinley",
         1,
         "https://www.imdb.com/pt/name/nm0569336"
        ],
        [
         "nm0001666",
         "Debbie Reynolds",
         1,
         "https://www.imdb.com/pt/name/nm0001666"
        ],
        [
         "nm0578080",
         "Selton Mello",
         1,
         "https://www.imdb.com/pt/name/nm0578080"
        ],
        [
         "nm0001158",
         "Keir Dullea",
         1,
         "https://www.imdb.com/pt/name/nm0001158"
        ],
        [
         "nm0580924",
         "S. Epatha Merkerson",
         1,
         "https://www.imdb.com/pt/name/nm0580924"
        ],
        [
         "nm0001825",
         "Andrew Kevin Walker",
         1,
         "https://www.imdb.com/pt/name/nm0001825"
        ],
        [
         "nm0582418",
         "Laurie Metcalf",
         1,
         "https://www.imdb.com/pt/name/nm0582418"
        ],
        [
         "nm0001164",
         "Charles Durning",
         1,
         "https://www.imdb.com/pt/name/nm0001164"
        ],
        [
         "nm0608373",
         "Maurice Moscovitch",
         1,
         "https://www.imdb.com/pt/name/nm0608373"
        ],
        [
         "nm0001998",
         "Cyd Charisse",
         1,
         "https://www.imdb.com/pt/name/nm0001998"
        ],
        [
         "nm0625729",
         "Sandy Nelson",
         1,
         "https://www.imdb.com/pt/name/nm0625729"
        ],
        [
         "nm0001186",
         "Denholm Elliott",
         1,
         "https://www.imdb.com/pt/name/nm0001186"
        ],
        [
         "nm0640307",
         "Donald O'Connor",
         1,
         "https://www.imdb.com/pt/name/nm0640307"
        ],
        [
         "nm0002056",
         "Christine Ebersole",
         1,
         "https://www.imdb.com/pt/name/nm0002056"
        ],
        [
         "nm0654648",
         "David Oyelowo",
         1,
         "https://www.imdb.com/pt/name/nm0654648"
        ],
        [
         "nm0001221",
         "Louise Fletcher",
         1,
         "https://www.imdb.com/pt/name/nm0001221"
        ],
        [
         "nm0656929",
         "Josh Pais",
         1,
         "https://www.imdb.com/pt/name/nm0656929"
        ],
        [
         "nm0002064",
         "Giancarlo Esposito",
         1,
         "https://www.imdb.com/pt/name/nm0002064"
        ],
        [
         "nm0668110",
         "Collin Wilcox Paxton",
         1,
         "https://www.imdb.com/pt/name/nm0668110"
        ],
        [
         "nm0001251",
         "Peter Gallagher",
         1,
         "https://www.imdb.com/pt/name/nm0001251"
        ],
        [
         "nm0677654",
         "Enzo Petito",
         1,
         "https://www.imdb.com/pt/name/nm0677654"
        ],
        [
         "nm0002078",
         "Frederic Forrest",
         1,
         "https://www.imdb.com/pt/name/nm0002078"
        ],
        [
         "nm0703033",
         "Anthony Quayle",
         1,
         "https://www.imdb.com/pt/name/nm0703033"
        ],
        [
         "nm0001277",
         "Scott Glenn",
         1,
         "https://www.imdb.com/pt/name/nm0001277"
        ],
        [
         "nm0712546",
         "Paresh Rawal",
         1,
         "https://www.imdb.com/pt/name/nm0712546"
        ],
        [
         "nm0004874",
         "Vin Diesel",
         1,
         "https://www.imdb.com/pt/name/nm0004874"
        ],
        [
         "nm0744436",
         "Leonard Rossiter",
         1,
         "https://www.imdb.com/pt/name/nm0744436"
        ],
        [
         "nm0001433",
         "Yaphet Kotto",
         1,
         "https://www.imdb.com/pt/name/nm0001433"
        ],
        [
         "nm0794002",
         "Yoshiko Shinohara",
         1,
         "https://www.imdb.com/pt/name/nm0794002"
        ],
        [
         "nm0004937",
         "Jamie Foxx",
         1,
         "https://www.imdb.com/pt/name/nm0004937"
        ],
        [
         "nm0824741",
         "David Steen",
         1,
         "https://www.imdb.com/pt/name/nm0824741"
        ],
        [
         "nm0001452",
         "Charles Laughton",
         1,
         "https://www.imdb.com/pt/name/nm0001452"
        ],
        [
         "nm0824882",
         "Burr Steers",
         1,
         "https://www.imdb.com/pt/name/nm0824882"
        ],
        [
         "nm0005052",
         "Michael Jeter",
         1,
         "https://www.imdb.com/pt/name/nm0005052"
        ],
        [
         "nm0849100",
         "Yûko Tanaka",
         1,
         "https://www.imdb.com/pt/name/nm0849100"
        ],
        [
         "nm0001606",
         "Chris Penn",
         1,
         "https://www.imdb.com/pt/name/nm0001606"
        ],
        [
         "nm0854367",
         "Evgeniy Tilicheev",
         1,
         "https://www.imdb.com/pt/name/nm0854367"
        ],
        [
         "nm0005078",
         "Stacy Keach",
         1,
         "https://www.imdb.com/pt/name/nm0005078"
        ],
        [
         "nm0912001",
         "Jack Warden",
         1,
         "https://www.imdb.com/pt/name/nm0912001"
        ],
        [
         "nm0001620",
         "Slim Pickens",
         1,
         "https://www.imdb.com/pt/name/nm0001620"
        ],
        [
         "nm0916131",
         "Jack Webb",
         1,
         "https://www.imdb.com/pt/name/nm0916131"
        ],
        [
         "nm0006669",
         "William Sadler",
         1,
         "https://www.imdb.com/pt/name/nm0006669"
        ],
        [
         "nm0921532",
         "Otto Wernicke",
         1,
         "https://www.imdb.com/pt/name/nm0921532"
        ],
        [
         "nm0001673",
         "Jason Robards",
         1,
         "https://www.imdb.com/pt/name/nm0001673"
        ],
        [
         "nm0929489",
         "Tom Wilkinson",
         1,
         "https://www.imdb.com/pt/name/nm0929489"
        ],
        [
         "nm0013866",
         "David Ahdar",
         1,
         "https://www.imdb.com/pt/name/nm0013866"
        ],
        [
         "nm0938231",
         "Frank Wolff",
         1,
         "https://www.imdb.com/pt/name/nm0938231"
        ],
        [
         "nm0001844",
         "Frank Whaley",
         1,
         "https://www.imdb.com/pt/name/nm0001844"
        ],
        [
         "nm0945253",
         "Minosuke Yamada",
         1,
         "https://www.imdb.com/pt/name/nm0945253"
        ],
        [
         "nm0032216",
         "Peter Appel",
         1,
         "https://www.imdb.com/pt/name/nm0032216"
        ],
        [
         "nm0950867",
         "Harris Yulin",
         1,
         "https://www.imdb.com/pt/name/nm0950867"
        ],
        [
         "nm0001855",
         "Tom Wilson",
         1,
         "https://www.imdb.com/pt/name/nm0001855"
        ],
        [
         "nm10201625",
         "Kawsar Al Haddad",
         1,
         "https://www.imdb.com/pt/name/nm10201625"
        ],
        [
         "nm0040058",
         "David Aston",
         1,
         "https://www.imdb.com/pt/name/nm0040058"
        ],
        [
         "nm10201627",
         "Alaa Chouchnieh",
         1,
         "https://www.imdb.com/pt/name/nm10201627"
        ],
        [
         "nm0001976",
         "Horst Buchholz",
         1,
         "https://www.imdb.com/pt/name/nm0001976"
        ],
        [
         "nm1024101",
         "Priyanshu Chatterjee",
         1,
         "https://www.imdb.com/pt/name/nm1024101"
        ],
        [
         "nm0095478",
         "Mark Boone Junior",
         1,
         "https://www.imdb.com/pt/name/nm0095478"
        ],
        [
         "nm10635577",
         "Michael Muthu",
         1,
         "https://www.imdb.com/pt/name/nm10635577"
        ],
        [
         "nm0004965",
         "Adam Goldberg",
         1,
         "https://www.imdb.com/pt/name/nm0004965"
        ],
        [
         "nm10735745",
         "Masayo Sakai",
         1,
         "https://www.imdb.com/pt/name/nm10735745"
        ],
        [
         "nm0107495",
         "Matthias Brenner",
         1,
         "https://www.imdb.com/pt/name/nm0107495"
        ],
        [
         "nm10944488",
         "Rohit Chauhan",
         1,
         "https://www.imdb.com/pt/name/nm10944488"
        ],
        [
         "nm0005162",
         "Robert Loggia",
         1,
         "https://www.imdb.com/pt/name/nm0005162"
        ],
        [
         "nm1099597",
         "Radha Ravi",
         1,
         "https://www.imdb.com/pt/name/nm1099597"
        ],
        [
         "nm0108436",
         "Dominique Briand",
         1,
         "https://www.imdb.com/pt/name/nm0108436"
        ],
        [
         "nm11383103",
         "Pratibha Ranta",
         1,
         "https://www.imdb.com/pt/name/nm11383103"
        ],
        [
         "nm0005305",
         "Piper Perabo",
         1,
         "https://www.imdb.com/pt/name/nm0005305"
        ],
        [
         "nm11789096",
         "Muralidaran",
         1,
         "https://www.imdb.com/pt/name/nm11789096"
        ],
        [
         "nm0163939",
         "Fred Clark",
         1,
         "https://www.imdb.com/pt/name/nm0163939"
        ],
        [
         "nm1230844",
         "Narain",
         1,
         "https://www.imdb.com/pt/name/nm1230844"
        ],
        [
         "nm0019145",
         "Lidia Alfonsi",
         1,
         "https://www.imdb.com/pt/name/nm0019145"
        ],
        [
         "nm1334512",
         "Ravi Khanvilkar",
         1,
         "https://www.imdb.com/pt/name/nm1334512"
        ],
        [
         "nm0164809",
         "Jason Clarke",
         1,
         "https://www.imdb.com/pt/name/nm0164809"
        ],
        [
         "nm1384413",
         "Saswata Chatterjee",
         1,
         "https://www.imdb.com/pt/name/nm1384413"
        ],
        [
         "nm0077720",
         "Michael Berryman",
         1,
         "https://www.imdb.com/pt/name/nm0077720"
        ],
        [
         "nm1403603",
         "Jefechander Suplino",
         1,
         "https://www.imdb.com/pt/name/nm1403603"
        ],
        [
         "nm0186677",
         "Lorella Cravotta",
         1,
         "https://www.imdb.com/pt/name/nm0186677"
        ],
        [
         "nm1486911",
         "Shahab Hosseini",
         1,
         "https://www.imdb.com/pt/name/nm1486911"
        ],
        [
         "nm0083081",
         "Edward Binns",
         1,
         "https://www.imdb.com/pt/name/nm0083081"
        ],
        [
         "nm1538116",
         "Tisca Chopra",
         1,
         "https://www.imdb.com/pt/name/nm1538116"
        ],
        [
         "nm0188598",
         "Peter Crombie",
         1,
         "https://www.imdb.com/pt/name/nm0188598"
        ],
        [
         "nm15809263",
         "Nagaratna Bhat",
         1,
         "https://www.imdb.com/pt/name/nm15809263"
        ],
        [
         "nm0090008",
         "Stanley Blystone",
         1,
         "https://www.imdb.com/pt/name/nm0090008"
        ],
        [
         "nm0818274",
         "Wendie Jo Sperber",
         1,
         "https://www.imdb.com/pt/name/nm0818274"
        ],
        [
         "nm0191784",
         "Mwako Cumbuka",
         1,
         "https://www.imdb.com/pt/name/nm0191784"
        ],
        [
         "nm16200610",
         "Guilherme Silveira",
         1,
         "https://www.imdb.com/pt/name/nm16200610"
        ],
        [
         "nm0107281",
         "Eileen Brennan",
         1,
         "https://www.imdb.com/pt/name/nm0107281"
        ],
        [
         "nm1702868",
         "Jisshu Sengupta",
         1,
         "https://www.imdb.com/pt/name/nm1702868"
        ],
        [
         "nm0246386",
         "Mélissa Désormeaux-Poulin",
         1,
         "https://www.imdb.com/pt/name/nm0246386"
        ],
        [
         "nm1840093",
         "Frédéric Paquet",
         1,
         "https://www.imdb.com/pt/name/nm1840093"
        ],
        [
         "nm0134493",
         "Giorgio Cantarini",
         1,
         "https://www.imdb.com/pt/name/nm0134493"
        ],
        [
         "nm2257207",
         "Daniel Kaluuya",
         1,
         "https://www.imdb.com/pt/name/nm2257207"
        ],
        [
         "nm0307531",
         "Jeff Garlin",
         1,
         "https://www.imdb.com/pt/name/nm0307531"
        ],
        [
         "nm2971390",
         "Girish Kulkarni",
         1,
         "https://www.imdb.com/pt/name/nm2971390"
        ],
        [
         "nm0156039",
         "Virginia Cherrill",
         1,
         "https://www.imdb.com/pt/name/nm0156039"
        ],
        [
         "nm3050831",
         "MacInTalk",
         1,
         "https://www.imdb.com/pt/name/nm3050831"
        ],
        [
         "nm0309107",
         "Tatsuya Gashûin",
         1,
         "https://www.imdb.com/pt/name/nm0309107"
        ],
        [
         "nm3054665",
         "Swastika Mukherjee",
         1,
         "https://www.imdb.com/pt/name/nm3054665"
        ],
        [
         "nm0167388",
         "François Cluzet",
         1,
         "https://www.imdb.com/pt/name/nm0167388"
        ],
        [
         "nm0332221",
         "Lloyd Gough",
         1,
         "https://www.imdb.com/pt/name/nm0332221"
        ],
        [
         "nm0177933",
         "Chris Cooper",
         1,
         "https://www.imdb.com/pt/name/nm0177933"
        ],
        [
         "nm0348515",
         "Damon Gupton",
         1,
         "https://www.imdb.com/pt/name/nm0348515"
        ],
        [
         "nm0179289",
         "Ellen Corby",
         1,
         "https://www.imdb.com/pt/name/nm0179289"
        ],
        [
         "nm0369617",
         "Jerry Hausner",
         1,
         "https://www.imdb.com/pt/name/nm0369617"
        ],
        [
         "nm0181920",
         "James Cosmo",
         1,
         "https://www.imdb.com/pt/name/nm0181920"
        ],
        [
         "nm0370144",
         "Jack Hawkins",
         1,
         "https://www.imdb.com/pt/name/nm0370144"
        ],
        [
         "nm0187199",
         "Don Creech",
         1,
         "https://www.imdb.com/pt/name/nm0187199"
        ],
        [
         "nm0373570",
         "John Heffernan",
         1,
         "https://www.imdb.com/pt/name/nm0373570"
        ],
        [
         "nm0218810",
         "Jeffrey DeMunn",
         1,
         "https://www.imdb.com/pt/name/nm0218810"
        ],
        [
         "nm0388517",
         "Heinz Hoenig",
         1,
         "https://www.imdb.com/pt/name/nm0388517"
        ],
        [
         "nm0288976",
         "Emilia Fox",
         1,
         "https://www.imdb.com/pt/name/nm0288976"
        ],
        [
         "nm0404360",
         "Josephine Hutchinson",
         1,
         "https://www.imdb.com/pt/name/nm0404360"
        ],
        [
         "nm0355278",
         "Albert Hall",
         1,
         "https://www.imdb.com/pt/name/nm0355278"
        ],
        [
         "nm0430809",
         "Pallavi Joshi",
         1,
         "https://www.imdb.com/pt/name/nm0430809"
        ],
        [
         "nm0395600",
         "Helen Horton",
         1,
         "https://www.imdb.com/pt/name/nm0395600"
        ],
        [
         "nm0430817",
         "Sharman Joshi",
         1,
         "https://www.imdb.com/pt/name/nm0430817"
        ],
        [
         "nm0408343",
         "Yoshio Inaba",
         1,
         "https://www.imdb.com/pt/name/nm0408343"
        ],
        [
         "nm0440913",
         "Mathieu Kassovitz",
         1,
         "https://www.imdb.com/pt/name/nm0440913"
        ],
        [
         "nm0409287",
         "Kazuhiko Inoue",
         1,
         "https://www.imdb.com/pt/name/nm0409287"
        ],
        [
         "nm0451307",
         "Saif Ali Khan",
         1,
         "https://www.imdb.com/pt/name/nm0451307"
        ],
        [
         "nm0411146",
         "Kenjirô Ishiyama",
         1,
         "https://www.imdb.com/pt/name/nm0411146"
        ],
        [
         "nm0470385",
         "Aleksey Kravchenko",
         1,
         "https://www.imdb.com/pt/name/nm0470385"
        ],
        [
         "nm0446404",
         "George Kelly",
         1,
         "https://www.imdb.com/pt/name/nm0446404"
        ],
        [
         "nm0488917",
         "Thomas Bo Larsen",
         1,
         "https://www.imdb.com/pt/name/nm0488917"
        ],
        [
         "nm0465777",
         "Kim Kopf",
         1,
         "https://www.imdb.com/pt/name/nm0465777"
        ],
        [
         "nm0492566",
         "Sean Lawlor",
         1,
         "https://www.imdb.com/pt/name/nm0492566"
        ],
        [
         "nm0502813",
         "Marco Leonardi",
         1,
         "https://www.imdb.com/pt/name/nm0502813"
        ],
        [
         "nm0502073",
         "Thomas Lennon",
         1,
         "https://www.imdb.com/pt/name/nm0502073"
        ],
        [
         "nm0576345",
         "John Megna",
         1,
         "https://www.imdb.com/pt/name/nm0576345"
        ],
        [
         "nm0520660",
         "Viktors Lorencs",
         1,
         "https://www.imdb.com/pt/name/nm0520660"
        ],
        [
         "nm0579663",
         "Adolphe Menjou",
         1,
         "https://www.imdb.com/pt/name/nm0579663"
        ],
        [
         "nm0534151",
         "Béatrice Macola",
         1,
         "https://www.imdb.com/pt/name/nm0534151"
        ],
        [
         "nm0592500",
         "Olga Mironova",
         1,
         "https://www.imdb.com/pt/name/nm0592500"
        ],
        [
         "nm0538259",
         "Rachel Majorowski",
         1,
         "https://www.imdb.com/pt/name/nm0538259"
        ],
        [
         "nm0618057",
         "Ulrich Mühe",
         1,
         "https://www.imdb.com/pt/name/nm0618057"
        ],
        [
         "nm0549134",
         "John Marley",
         1,
         "https://www.imdb.com/pt/name/nm0549134"
        ],
        [
         "nm0634159",
         "Philippe Noiret",
         1,
         "https://www.imdb.com/pt/name/nm0634159"
        ],
        [
         "nm0564589",
         "Frances Lee McCain",
         1,
         "https://www.imdb.com/pt/name/nm0564589"
        ],
        [
         "nm0653942",
         "Frank Overton",
         1,
         "https://www.imdb.com/pt/name/nm0653942"
        ],
        [
         "nm0565883",
         "Belinda McClory",
         1,
         "https://www.imdb.com/pt/name/nm0565883"
        ],
        [
         "nm0685559",
         "Luigi Pistilli",
         1,
         "https://www.imdb.com/pt/name/nm0685559"
        ],
        [
         "nm0586568",
         "Mads Mikkelsen",
         1,
         "https://www.imdb.com/pt/name/nm0586568"
        ],
        [
         "nm0732703",
         "James Robinson",
         1,
         "https://www.imdb.com/pt/name/nm0732703"
        ],
        [
         "nm0594348",
         "Seiji Miyaguchi",
         1,
         "https://www.imdb.com/pt/name/nm0594348"
        ],
        [
         "nm0766225",
         "Kei Satô",
         1,
         "https://www.imdb.com/pt/name/nm0766225"
        ],
        [
         "nm0611148",
         "Wanja Mues",
         1,
         "https://www.imdb.com/pt/name/nm0611148"
        ],
        [
         "nm0789970",
         "Sebastian Shaw",
         1,
         "https://www.imdb.com/pt/name/nm0789970"
        ],
        [
         "nm0620919",
         "Agnese Nano",
         1,
         "https://www.imdb.com/pt/name/nm0620919"
        ],
        [
         "nm0832380",
         "Ed Stoppard",
         1,
         "https://www.imdb.com/pt/name/nm0832380"
        ],
        [
         "nm0625167",
         "Barry Nelson",
         1,
         "https://www.imdb.com/pt/name/nm0625167"
        ],
        [
         "nm0838330",
         "Sean Sullivan",
         1,
         "https://www.imdb.com/pt/name/nm0838330"
        ],
        [
         "nm0643805",
         "Uwe Ochsenknecht",
         1,
         "https://www.imdb.com/pt/name/nm0643805"
        ],
        [
         "nm0842137",
         "Joseph Sweeney",
         1,
         "https://www.imdb.com/pt/name/nm0842137"
        ],
        [
         "nm0680139",
         "John Philliber",
         1,
         "https://www.imdb.com/pt/name/nm0680139"
        ],
        [
         "nm0848100",
         "Alan Tall",
         1,
         "https://www.imdb.com/pt/name/nm0848100"
        ],
        [
         "nm0704859",
         "Kazimir Rabetsky",
         1,
         "https://www.imdb.com/pt/name/nm0704859"
        ],
        [
         "nm0853299",
         "Vaughn Taylor",
         1,
         "https://www.imdb.com/pt/name/nm0853299"
        ],
        [
         "nm0710658",
         "Alexandra Rapaport",
         1,
         "https://www.imdb.com/pt/name/nm0710658"
        ],
        [
         "nm0910145",
         "Tracey Walter",
         1,
         "https://www.imdb.com/pt/name/nm0910145"
        ],
        [
         "nm0755974",
         "Jonathan Sagall",
         1,
         "https://www.imdb.com/pt/name/nm0755974"
        ],
        [
         "nm0913488",
         "Kerry Washington",
         1,
         "https://www.imdb.com/pt/name/nm0913488"
        ],
        [
         "nm0756378",
         "Parikshit Sahni",
         1,
         "https://www.imdb.com/pt/name/nm0756378"
        ],
        [
         "nm0913822",
         "Ken Watanabe",
         1,
         "https://www.imdb.com/pt/name/nm0913822"
        ],
        [
         "nm0794186",
         "Ayano Shiraishi",
         1,
         "https://www.imdb.com/pt/name/nm0794186"
        ],
        [
         "nm0927145",
         "Ellen Widmann",
         1,
         "https://www.imdb.com/pt/name/nm0927145"
        ],
        [
         "nm0801264",
         "Simran",
         1,
         "https://www.imdb.com/pt/name/nm0801264"
        ],
        [
         "nm0949350",
         "Burt Young",
         1,
         "https://www.imdb.com/pt/name/nm0949350"
        ],
        [
         "nm0832375",
         "Paolo Stoppa",
         1,
         "https://www.imdb.com/pt/name/nm0832375"
        ],
        [
         "nm1033905",
         "Jack Alexander",
         1,
         "https://www.imdb.com/pt/name/nm1033905"
        ],
        [
         "nm0836071",
         "Wes Studi",
         1,
         "https://www.imdb.com/pt/name/nm0836071"
        ],
        [
         "nm10538078",
         "Dharmendra Aras",
         1,
         "https://www.imdb.com/pt/name/nm10538078"
        ],
        [
         "nm0851302",
         "Tsutomu Tatsumi",
         1,
         "https://www.imdb.com/pt/name/nm0851302"
        ],
        [
         "nm1082477",
         "Omar Sy",
         1,
         "https://www.imdb.com/pt/name/nm1082477"
        ],
        [
         "nm0857147",
         "Torin Thatcher",
         1,
         "https://www.imdb.com/pt/name/nm0857147"
        ],
        [
         "nm1112144",
         "Yumi Tamai",
         1,
         "https://www.imdb.com/pt/name/nm1112144"
        ],
        [
         "nm0857998",
         "Thomas Thieme",
         1,
         "https://www.imdb.com/pt/name/nm0857998"
        ],
        [
         "nm11697865",
         "Bhasha Sumbli",
         1,
         "https://www.imdb.com/pt/name/nm11697865"
        ],
        [
         "nm0862937",
         "Lawrence Tierney",
         1,
         "https://www.imdb.com/pt/name/nm0862937"
        ],
        [
         "nm1179105",
         "Alexandre Rodrigues",
         1,
         "https://www.imdb.com/pt/name/nm1179105"
        ],
        [
         "nm0864997",
         "Stephen Tobolowsky",
         1,
         "https://www.imdb.com/pt/name/nm0864997"
        ],
        [
         "nm1437925",
         "Omi Vaidya",
         1,
         "https://www.imdb.com/pt/name/nm1437925"
        ],
        [
         "nm0872689",
         "Leopoldo Trieste",
         1,
         "https://www.imdb.com/pt/name/nm0872689"
        ],
        [
         "nm0755403",
         "Yutaka Sada",
         1,
         "https://www.imdb.com/pt/name/nm0755403"
        ],
        [
         "nm0892736",
         "G. Velts",
         1,
         "https://www.imdb.com/pt/name/nm0892736"
        ],
        [
         "nm0949167",
         "Yoo Ji-tae",
         1,
         "https://www.imdb.com/pt/name/nm0949167"
        ],
        [
         "nm0920148",
         "Claudia Wells",
         1,
         "https://www.imdb.com/pt/name/nm0920148"
        ],
        [
         "nm1310525",
         "Lee Sun-kyun",
         1,
         "https://www.imdb.com/pt/name/nm1310525"
        ],
        [
         "nm0937622",
         "Susse Wold",
         1,
         "https://www.imdb.com/pt/name/nm0937622"
        ],
        [
         "nm1366317",
         "Abhirami",
         1,
         "https://www.imdb.com/pt/name/nm1366317"
        ],
        [
         "nm0938372",
         "Donald Wolfit",
         1,
         "https://www.imdb.com/pt/name/nm0938372"
        ],
        [
         "nm1517134",
         "Yoon Jin-seo",
         1,
         "https://www.imdb.com/pt/name/nm1517134"
        ],
        [
         "nm10201626",
         "Cedra Izzam",
         1,
         "https://www.imdb.com/pt/name/nm10201626"
        ],
        [
         "nm15870574",
         "Abeer Sandeep Jain",
         1,
         "https://www.imdb.com/pt/name/nm15870574"
        ],
        [
         "nm1129884",
         "Leandro Firmino",
         1,
         "https://www.imdb.com/pt/name/nm1129884"
        ],
        [
         "nm1800416",
         "Seung-shin Lee",
         1,
         "https://www.imdb.com/pt/name/nm1800416"
        ],
        [
         "nm11593436",
         "Vijay Meenu",
         1,
         "https://www.imdb.com/pt/name/nm11593436"
        ],
        [
         "nm1818216",
         "Payman Maadi",
         1,
         "https://www.imdb.com/pt/name/nm1818216"
        ],
        [
         "nm11753810",
         "Mahantesh Hiremath",
         1,
         "https://www.imdb.com/pt/name/nm11753810"
        ],
        [
         "nm2244205",
         "Léa Seydoux",
         1,
         "https://www.imdb.com/pt/name/nm2244205"
        ],
        [
         "nm12329615",
         "Kazumi Nozaki",
         1,
         "https://www.imdb.com/pt/name/nm12329615"
        ],
        [
         "nm2799219",
         "Sakshi Tanwar",
         1,
         "https://www.imdb.com/pt/name/nm2799219"
        ],
        [
         "nm1479650",
         "Vipin Sharma",
         1,
         "https://www.imdb.com/pt/name/nm1479650"
        ],
        [
         "nm1567113",
         "Jessica Chastain",
         1,
         "https://www.imdb.com/pt/name/nm1567113"
        ],
        [
         "nm15809255",
         "Agratha Ashok",
         1,
         "https://www.imdb.com/pt/name/nm15809255"
        ],
        [
         "nm1597010",
         "Marjorie Estiano",
         1,
         "https://www.imdb.com/pt/name/nm1597010"
        ],
        [
         "nm14653472",
         "Vikas Divyakirti",
         1,
         "https://www.imdb.com/pt/name/nm14653472"
        ],
        [
         "nm15809256",
         "Anand Babu",
         1,
         "https://www.imdb.com/pt/name/nm15809256"
        ],
        [
         "nm1717985",
         "Olivier Lafont",
         1,
         "https://www.imdb.com/pt/name/nm1717985"
        ],
        [
         "nm1784515",
         "Jacky Ido",
         1,
         "https://www.imdb.com/pt/name/nm1784515"
        ],
        [
         "nm2132667",
         "M.S. Bhaskar",
         1,
         "https://www.imdb.com/pt/name/nm2132667"
        ],
        [
         "nm2552034",
         "Melissa Benoist",
         1,
         "https://www.imdb.com/pt/name/nm2552034"
        ],
        [
         "nm2670388",
         "Singampuli",
         1,
         "https://www.imdb.com/pt/name/nm2670388"
        ],
        [
         "nm2896015",
         "Lalitha Lajmi",
         1,
         "https://www.imdb.com/pt/name/nm2896015"
        ],
        [
         "nm3109407",
         "Shiv Panditt",
         1,
         "https://www.imdb.com/pt/name/nm3109407"
        ]
       ],
       "datasetInfos": [],
       "dbfsResultPath": null,
       "isJsonSchema": true,
       "metadata": {},
       "overflow": false,
       "plotOptions": {
        "customPlotOptions": {},
        "displayType": "table",
        "pivotAggregation": null,
        "pivotColumns": null,
        "xColumns": null,
        "yColumns": null
       },
       "removedWidgets": [],
       "schema": [
        {
         "metadata": "{}",
         "name": "Identificador do Artista",
         "type": "\"string\""
        },
        {
         "metadata": "{}",
         "name": "Nome do Artista",
         "type": "\"string\""
        },
        {
         "metadata": "{}",
         "name": "Quantidade de Aparições",
         "type": "\"long\""
        },
        {
         "metadata": "{}",
         "name": "Link para o Artista",
         "type": "\"string\""
        }
       ],
       "type": "table"
      }
     },
     "output_type": "display_data"
    }
   ],
   "source": [
    "%sql\n",
    "--Quais atores e atrizes mais aparecem nos filmes do ranking dos 100 filmes mais bem avaliados?\n",
    "SELECT \n",
    "  art.id_pessoa AS `Identificador do Artista`,\n",
    "  art.tx_nome AS `Nome do Artista`,\n",
    "  COUNT(*) AS `Quantidade de Aparições`,\n",
    "  'https://www.imdb.com/pt/name/' || art.id_pessoa AS `Link para o Artista`\n",
    "FROM\n",
    "  curado.dim_artistas art\n",
    "    INNER JOIN curado.dim_personagens_filmes pers\n",
    "      ON art.id_pessoa = pers.id_pessoa\n",
    "WHERE\n",
    "  pers.id_obra IN\n",
    "    (\n",
    "      SELECT \n",
    "          id_obra\n",
    "      FROM \n",
    "          curado.fato_filmes ff1\n",
    "      WHERE \n",
    "        (\n",
    "          SELECT \n",
    "            COUNT(*) \n",
    "          FROM\n",
    "            curado.fato_filmes ff2 \n",
    "          WHERE \n",
    "            ff2.vl_avaliacao_media > ff1.vl_avaliacao_media \n",
    "            AND ff2.nu_votos > 50000\n",
    "        ) < 100\n",
    "        AND ff1.vl_avaliacao_media is not null\n",
    "        AND ff1.nu_votos > 50000\n",
    "    )\n",
    "GROUP BY \n",
    "  art.id_pessoa, \n",
    "  art.tx_nome, \n",
    "  'https://www.imdb.com/pt/name/' || art.id_pessoa \n",
    "ORDER BY \n",
    "  3 DESC;"
   ]
  },
  {
   "cell_type": "markdown",
   "metadata": {
    "application/vnd.databricks.v1+cell": {
     "cellMetadata": {
      "byteLimit": 2048000,
      "rowLimit": 10000
     },
     "inputWidgets": {},
     "nuid": "6f4c9f44-0851-463c-9963-e4e7496ccb52",
     "showTitle": false,
     "tableResultSettingsMap": {},
     "title": ""
    }
   },
   "source": [
    "**Comentário:** o objetivo dessa análise é relacionar os artistas (atores e atrizes) com os filmes que são bem avaliados pelo público, formando uma lista ordenada de forma decrescente pelo númeor de participações nesses filmes."
   ]
  },
  {
   "cell_type": "markdown",
   "metadata": {
    "application/vnd.databricks.v1+cell": {
     "cellMetadata": {
      "byteLimit": 2048000,
      "rowLimit": 10000
     },
     "inputWidgets": {},
     "nuid": "80bd92e0-14ff-421a-94a5-1ce46b0d0576",
     "showTitle": false,
     "tableResultSettingsMap": {},
     "title": ""
    }
   },
   "source": [
    "#Qual é a distribuição de notas médias dos filmes ao longo das décadas?"
   ]
  },
  {
   "cell_type": "code",
   "execution_count": 0,
   "metadata": {
    "application/vnd.databricks.v1+cell": {
     "cellMetadata": {
      "byteLimit": 2048000,
      "implicitDf": true,
      "rowLimit": 10000
     },
     "inputWidgets": {},
     "nuid": "597a80b3-eaf0-4619-ab5b-afc4f4e54250",
     "showTitle": false,
     "tableResultSettingsMap": {},
     "title": ""
    }
   },
   "outputs": [
    {
     "output_type": "display_data",
     "data": {
      "image/png": "[encoded data removed]"
     },
     "metadata": {
      "application/vnd.databricks.v1+output": {
       "addedWidgets": {},
       "arguments": {},
       "data": "data:image/png;base64,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\n",
       "datasetInfos": [],
       "metadata": {},
       "removedWidgets": [],
       "type": "image"
      }
     },
     "output_type": "display_data"
    },
    {
     "output_type": "display_data",
     "data": {
      "text/html": [
       "<style scoped>\n",
       "  .table-result-container {\n",
       "    max-height: 300px;\n",
       "    overflow: auto;\n",
       "  }\n",
       "  table, th, td {\n",
       "    border: 1px solid black;\n",
       "    border-collapse: collapse;\n",
       "  }\n",
       "  th, td {\n",
       "    padding: 5px;\n",
       "  }\n",
       "  th {\n",
       "    text-align: left;\n",
       "  }\n",
       "</style><div class='table-result-container'><table class='table-result'><thead style='background-color: white'><tr><th>Década</th><th>Avaliação</th><th>Número de Votos</th></tr></thead><tbody><tr><td>1920</td><td>8.1</td><td>993.447</td></tr><tr><td>1930</td><td>7.9</td><td>2.695.855</td></tr><tr><td>1940</td><td>8.0</td><td>4.464.677</td></tr><tr><td>1950</td><td>7.9</td><td>8.916.245</td></tr><tr><td>1960</td><td>7.8</td><td>12.141.664</td></tr><tr><td>1970</td><td>7.5</td><td>24.147.039</td></tr><tr><td>1980</td><td>7.1</td><td>52.824.243</td></tr><tr><td>1990</td><td>6.9</td><td>130.426.620</td></tr><tr><td>2000</td><td>6.7</td><td>263.679.646</td></tr><tr><td>2010</td><td>6.7</td><td>313.672.325</td></tr><tr><td>2020</td><td>6.6</td><td>70.543.428</td></tr></tbody></table></div>"
      ]
     },
     "metadata": {
      "application/vnd.databricks.v1+output": {
       "addedWidgets": {},
       "aggData": [],
       "aggError": "",
       "aggOverflow": false,
       "aggSchema": [],
       "aggSeriesLimitReached": false,
       "aggType": "",
       "arguments": {},
       "columnCustomDisplayInfos": {},
       "data": [
        [
         1920,
         8.1,
         "993.447"
        ],
        [
         1930,
         7.9,
         "2.695.855"
        ],
        [
         1940,
         8.0,
         "4.464.677"
        ],
        [
         1950,
         7.9,
         "8.916.245"
        ],
        [
         1960,
         7.8,
         "12.141.664"
        ],
        [
         1970,
         7.5,
         "24.147.039"
        ],
        [
         1980,
         7.1,
         "52.824.243"
        ],
        [
         1990,
         6.9,
         "130.426.620"
        ],
        [
         2000,
         6.7,
         "263.679.646"
        ],
        [
         2010,
         6.7,
         "313.672.325"
        ],
        [
         2020,
         6.6,
         "70.543.428"
        ]
       ],
       "datasetInfos": [],
       "dbfsResultPath": null,
       "isJsonSchema": true,
       "metadata": {},
       "overflow": false,
       "plotOptions": {
        "customPlotOptions": {},
        "displayType": "table",
        "pivotAggregation": null,
        "pivotColumns": null,
        "xColumns": null,
        "yColumns": null
       },
       "removedWidgets": [],
       "schema": [
        {
         "metadata": "{}",
         "name": "Década",
         "type": "\"integer\""
        },
        {
         "metadata": "{}",
         "name": "Avaliação",
         "type": "\"double\""
        },
        {
         "metadata": "{}",
         "name": "Número de Votos",
         "type": "\"string\""
        }
       ],
       "type": "table"
      }
     },
     "output_type": "display_data"
    }
   ],
   "source": [
    "import matplotlib.pyplot as plt\n",
    "import pandas as pd\n",
    "\n",
    "#Qual é a distribuição de notas médias dos filmes ao longo das décadas?\n",
    "query = \"\"\"\n",
    "SELECT \n",
    "    CAST(ff1.nu_ano_inicial / 10 AS INT) * 10 AS `Década`,\n",
    "    ROUND(AVG(ff1.vl_avaliacao_media),1) AS `Avaliação`,\n",
    "    regexp_replace(format_number(SUM(nu_votos), 0), ',', '.') as `Número de Votos`\n",
    "FROM \n",
    "    curado.fato_filmes ff1\n",
    "WHERE \n",
    "    ff1.vl_avaliacao_media IS NOT NULL\n",
    "    AND ff1.nu_votos > 50000\n",
    "GROUP BY \n",
    "    CAST(ff1.nu_ano_inicial / 10 AS INT) * 10\n",
    "ORDER BY 1 ASC\n",
    "\"\"\"\n",
    "\n",
    "# Executando a query no Databricks\n",
    "_sqldf = spark.sql(query)\n",
    "\n",
    "# Convertendo para Pandas\n",
    "df_pandas = _sqldf.toPandas()\n",
    "\n",
    "# Criando o gráfico de barras\n",
    "plt.figure(figsize=(10, 6))\n",
    "bars = plt.bar(df_pandas['Década'], df_pandas['Avaliação'], color='royalblue', width=8)\n",
    "\n",
    "# Adicionando os labels nas barras\n",
    "for bar in bars:\n",
    "    yval = bar.get_height()\n",
    "    plt.text(bar.get_x() + bar.get_width()/2, yval, f'{yval:.1f}', \n",
    "             ha='center', va='bottom', fontsize=10, color='black')\n",
    "\n",
    "# Personalização do gráfico\n",
    "plt.xlabel('Década')\n",
    "plt.ylabel('Média de Avaliação')\n",
    "plt.title('Distribuição de Notas Médias ao Longo das Décadas')\n",
    "plt.grid(axis='y', linestyle='--', alpha=0.7)\n",
    "\n",
    "# Exibir gráfico\n",
    "plt.show()\n",
    "\n",
    "# Exibir dados\n",
    "display(df_pandas)\n"
   ]
  },
  {
   "cell_type": "markdown",
   "metadata": {
    "application/vnd.databricks.v1+cell": {
     "cellMetadata": {
      "byteLimit": 2048000,
      "rowLimit": 10000
     },
     "inputWidgets": {},
     "nuid": "a0af2420-2141-42ae-bbcc-170bb1fcb9c1",
     "showTitle": false,
     "tableResultSettingsMap": {},
     "title": ""
    }
   },
   "source": [
    "**Comentário:** o objetivo dessa pergunta é analisar qual o sentimento do público ao longo das décadas quanto à qualidade dos filmes. Como o número de votos vai crescendo ao longo das décadas, pode haver um efeito nas notas, pois o IMDB é mais recente que muitos filmes das décadas mais antigas. Dessa forma, pode haver uma falsa percepção que os filmes antigos são melhores que os novos. Outro ponto interessante a observar é que atualmente como há uma grande quantidade de filmes lançados, pode ser difícil escolher aqueles que realmente tem boas histórias a serem contadas."
   ]
  },
  {
   "cell_type": "markdown",
   "metadata": {
    "application/vnd.databricks.v1+cell": {
     "cellMetadata": {
      "byteLimit": 2048000,
      "rowLimit": 10000
     },
     "inputWidgets": {},
     "nuid": "20abf31d-54fd-42fc-984f-27cff698a2d1",
     "showTitle": false,
     "tableResultSettingsMap": {},
     "title": ""
    }
   },
   "source": [
    "##Quais diretores possuem a maior média de avaliação em seus filmes?"
   ]
  },
  {
   "cell_type": "code",
   "execution_count": 0,
   "metadata": {
    "application/vnd.databricks.v1+cell": {
     "cellMetadata": {
      "byteLimit": 2048000,
      "implicitDf": true,
      "rowLimit": 10000
     },
     "inputWidgets": {},
     "nuid": "8c3933d2-4efb-45ea-988e-6dd95168849f",
     "showTitle": false,
     "tableResultSettingsMap": {},
     "title": ""
    }
   },
   "outputs": [
    {
     "output_type": "display_data",
     "data": {
      "text/html": [
       "<style scoped>\n",
       "  .table-result-container {\n",
       "    max-height: 300px;\n",
       "    overflow: auto;\n",
       "  }\n",
       "  table, th, td {\n",
       "    border: 1px solid black;\n",
       "    border-collapse: collapse;\n",
       "  }\n",
       "  th, td {\n",
       "    padding: 5px;\n",
       "  }\n",
       "  th {\n",
       "    text-align: left;\n",
       "  }\n",
       "</style><div class='table-result-container'><table class='table-result'><thead style='background-color: white'><tr><th>Nome do(a) Direto(a)</th><th>Avaliação</th><th>Quantidade de Filmes</th><th>Link para o(a) Diretor(a)</th></tr></thead><tbody><tr><td>Akira Kurosawa</td><td>8.3</td><td>7</td><td>https://www.imdb.com/pt/name/nm0000041</td></tr><tr><td>Charles Chaplin</td><td>8.3</td><td>5</td><td>https://www.imdb.com/pt/name/nm0000122</td></tr><tr><td>Sergio Leone</td><td>8.3</td><td>5</td><td>https://www.imdb.com/pt/name/nm0001466</td></tr><tr><td>Christopher Nolan</td><td>8.2</td><td>12</td><td>https://www.imdb.com/pt/name/nm0634240</td></tr><tr><td>Billy Wilder</td><td>8.2</td><td>7</td><td>https://www.imdb.com/pt/name/nm0000697</td></tr><tr><td>Stanley Kubrick</td><td>8.1</td><td>11</td><td>https://www.imdb.com/pt/name/nm0000040</td></tr><tr><td>Hayao Miyazaki</td><td>8.0</td><td>11</td><td>https://www.imdb.com/pt/name/nm0594503</td></tr><tr><td>Quentin Tarantino</td><td>7.9</td><td>13</td><td>https://www.imdb.com/pt/name/nm0000233</td></tr><tr><td>Denis Villeneuve</td><td>7.9</td><td>8</td><td>https://www.imdb.com/pt/name/nm0898288</td></tr><tr><td>James Cameron</td><td>7.9</td><td>8</td><td>https://www.imdb.com/pt/name/nm0000116</td></tr><tr><td>Sidney Lumet</td><td>7.9</td><td>6</td><td>https://www.imdb.com/pt/name/nm0001486</td></tr><tr><td>Alfred Hitchcock</td><td>7.8</td><td>18</td><td>https://www.imdb.com/pt/name/nm0000033</td></tr><tr><td>Rajkumar Hirani</td><td>7.8</td><td>6</td><td>https://www.imdb.com/pt/name/nm0386246</td></tr><tr><td>Martin Scorsese</td><td>7.7</td><td>21</td><td>https://www.imdb.com/pt/name/nm0000217</td></tr><tr><td>Francis Ford Coppola</td><td>7.7</td><td>9</td><td>https://www.imdb.com/pt/name/nm0000338</td></tr><tr><td>Alejandro G. Iñárritu</td><td>7.7</td><td>6</td><td>https://www.imdb.com/pt/name/nm0327944</td></tr><tr><td>Makoto Shinkai</td><td>7.7</td><td>5</td><td>https://www.imdb.com/pt/name/nm1396121</td></tr><tr><td>Peter Weir</td><td>7.7</td><td>5</td><td>https://www.imdb.com/pt/name/nm0001837</td></tr><tr><td>David Fincher</td><td>7.6</td><td>12</td><td>https://www.imdb.com/pt/name/nm0000399</td></tr><tr><td>Peter Jackson</td><td>7.6</td><td>12</td><td>https://www.imdb.com/pt/name/nm0001392</td></tr><tr><td>Alfonso Cuarón</td><td>7.6</td><td>6</td><td>https://www.imdb.com/pt/name/nm0190859</td></tr><tr><td>Brad Bird</td><td>7.6</td><td>6</td><td>https://www.imdb.com/pt/name/nm0083348</td></tr><tr><td>Pedro Almodóvar</td><td>7.6</td><td>6</td><td>https://www.imdb.com/pt/name/nm0000264</td></tr><tr><td>Alan Parker</td><td>7.6</td><td>5</td><td>https://www.imdb.com/pt/name/nm0000570</td></tr><tr><td>John Huston</td><td>7.6</td><td>5</td><td>https://www.imdb.com/pt/name/nm0001379</td></tr><tr><td>Steven Spielberg</td><td>7.5</td><td>30</td><td>https://www.imdb.com/pt/name/nm0000229</td></tr><tr><td>Richard Linklater</td><td>7.5</td><td>11</td><td>https://www.imdb.com/pt/name/nm0000500</td></tr><tr><td>Rob Reiner</td><td>7.5</td><td>10</td><td>https://www.imdb.com/pt/name/nm0001661</td></tr><tr><td>Sam Mendes</td><td>7.5</td><td>8</td><td>https://www.imdb.com/pt/name/nm0005222</td></tr><tr><td>Roman Polanski</td><td>7.5</td><td>8</td><td>https://www.imdb.com/pt/name/nm0000591</td></tr><tr><td>Bong Joon Ho</td><td>7.5</td><td>7</td><td>https://www.imdb.com/pt/name/nm0094435</td></tr><tr><td>Park Chan-wook</td><td>7.5</td><td>7</td><td>https://www.imdb.com/pt/name/nm0661791</td></tr><tr><td>Chris Sanders</td><td>7.5</td><td>5</td><td>https://www.imdb.com/pt/name/nm0761498</td></tr><tr><td>Taika Waititi</td><td>7.5</td><td>5</td><td>https://www.imdb.com/pt/name/nm0169806</td></tr><tr><td>Wong Kar-Wai</td><td>7.5</td><td>5</td><td>https://www.imdb.com/pt/name/nm0939182</td></tr><tr><td>Wes Anderson</td><td>7.4</td><td>11</td><td>https://www.imdb.com/pt/name/nm0027572</td></tr><tr><td>David Lynch</td><td>7.4</td><td>10</td><td>https://www.imdb.com/pt/name/nm0000186</td></tr><tr><td>Paul Thomas Anderson</td><td>7.4</td><td>9</td><td>https://www.imdb.com/pt/name/nm0000759</td></tr><tr><td>John Musker</td><td>7.4</td><td>7</td><td>https://www.imdb.com/pt/name/nm0615780</td></tr><tr><td>Ron Clements</td><td>7.4</td><td>7</td><td>https://www.imdb.com/pt/name/nm0166256</td></tr><tr><td>Wilfred Jackson</td><td>7.4</td><td>7</td><td>https://www.imdb.com/pt/name/nm0414144</td></tr><tr><td>Edgar Wright</td><td>7.4</td><td>7</td><td>https://www.imdb.com/pt/name/nm0942367</td></tr><tr><td>Joe Russo</td><td>7.4</td><td>6</td><td>https://www.imdb.com/pt/name/nm0751648</td></tr><tr><td>Anthony Russo</td><td>7.4</td><td>6</td><td>https://www.imdb.com/pt/name/nm0751577</td></tr><tr><td>Michael Haneke</td><td>7.4</td><td>6</td><td>https://www.imdb.com/pt/name/nm0359734</td></tr><tr><td>Jean-Pierre Jeunet</td><td>7.4</td><td>5</td><td>https://www.imdb.com/pt/name/nm0000466</td></tr><tr><td>John Lasseter</td><td>7.4</td><td>5</td><td>https://www.imdb.com/pt/name/nm0005124</td></tr><tr><td>Matt Reeves</td><td>7.4</td><td>5</td><td>https://www.imdb.com/pt/name/nm0716257</td></tr><tr><td>Clint Eastwood</td><td>7.3</td><td>24</td><td>https://www.imdb.com/pt/name/nm0000142</td></tr><tr><td>Joel Coen</td><td>7.3</td><td>18</td><td>https://www.imdb.com/pt/name/nm0001054</td></tr><tr><td>Robert Zemeckis</td><td>7.3</td><td>16</td><td>https://www.imdb.com/pt/name/nm0000709</td></tr><tr><td>Danny Boyle</td><td>7.3</td><td>11</td><td>https://www.imdb.com/pt/name/nm0000965</td></tr><tr><td>Bryan Singer</td><td>7.3</td><td>9</td><td>https://www.imdb.com/pt/name/nm0001741</td></tr><tr><td>Darren Aronofsky</td><td>7.3</td><td>8</td><td>https://www.imdb.com/pt/name/nm0004716</td></tr><tr><td>Paul Greengrass</td><td>7.3</td><td>7</td><td>https://www.imdb.com/pt/name/nm0339030</td></tr><tr><td>John Hughes</td><td>7.3</td><td>6</td><td>https://www.imdb.com/pt/name/nm0000455</td></tr><tr><td>J.J. Abrams</td><td>7.3</td><td>6</td><td>https://www.imdb.com/pt/name/nm0009190</td></tr><tr><td>Clyde Geronimi</td><td>7.3</td><td>6</td><td>https://www.imdb.com/pt/name/nm0314671</td></tr><tr><td>James Gunn</td><td>7.3</td><td>6</td><td>https://www.imdb.com/pt/name/nm0348181</td></tr><tr><td>Mel Brooks</td><td>7.3</td><td>6</td><td>https://www.imdb.com/pt/name/nm0000316</td></tr><tr><td>Ben Affleck</td><td>7.3</td><td>5</td><td>https://www.imdb.com/pt/name/nm0000255</td></tr><tr><td>Hamilton Luske</td><td>7.3</td><td>5</td><td>https://www.imdb.com/pt/name/nm0527217</td></tr><tr><td>Stephen Frears</td><td>7.3</td><td>5</td><td>https://www.imdb.com/pt/name/nm0001241</td></tr><tr><td>Terrence Malick</td><td>7.3</td><td>5</td><td>https://www.imdb.com/pt/name/nm0000517</td></tr><tr><td>Guy Ritchie</td><td>7.2</td><td>14</td><td>https://www.imdb.com/pt/name/nm0005363</td></tr><tr><td>James Mangold</td><td>7.2</td><td>12</td><td>https://www.imdb.com/pt/name/nm0003506</td></tr><tr><td>Terry Gilliam</td><td>7.2</td><td>10</td><td>https://www.imdb.com/pt/name/nm0000416</td></tr><tr><td>Lars von Trier</td><td>7.2</td><td>8</td><td>https://www.imdb.com/pt/name/nm0001885</td></tr><tr><td>John McTiernan</td><td>7.2</td><td>8</td><td>https://www.imdb.com/pt/name/nm0001532</td></tr><tr><td>Spike Lee</td><td>7.2</td><td>8</td><td>https://www.imdb.com/pt/name/nm0000490</td></tr><tr><td>Mike Nichols</td><td>7.2</td><td>7</td><td>https://www.imdb.com/pt/name/nm0001566</td></tr><tr><td>Alexander Payne</td><td>7.2</td><td>7</td><td>https://www.imdb.com/pt/name/nm0668247</td></tr><tr><td>Wolfgang Reitherman</td><td>7.2</td><td>7</td><td>https://www.imdb.com/pt/name/nm0718627</td></tr><tr><td>Kathryn Bigelow</td><td>7.2</td><td>6</td><td>https://www.imdb.com/pt/name/nm0000941</td></tr><tr><td>Yorgos Lanthimos</td><td>7.2</td><td>6</td><td>https://www.imdb.com/pt/name/nm0487166</td></tr><tr><td>George Lucas</td><td>7.2</td><td>6</td><td>https://www.imdb.com/pt/name/nm0000184</td></tr><tr><td>Rian Johnson</td><td>7.2</td><td>6</td><td>https://www.imdb.com/pt/name/nm0426059</td></tr><tr><td>J.A. Bayona</td><td>7.2</td><td>5</td><td>https://www.imdb.com/pt/name/nm1291105</td></tr><tr><td>Noah Baumbach</td><td>7.2</td><td>5</td><td>https://www.imdb.com/pt/name/nm0000876</td></tr><tr><td>Todd Haynes</td><td>7.2</td><td>5</td><td>https://www.imdb.com/pt/name/nm0001331</td></tr><tr><td>Gavin O'Connor</td><td>7.2</td><td>5</td><td>https://www.imdb.com/pt/name/nm0640334</td></tr><tr><td>Woody Allen</td><td>7.1</td><td>17</td><td>https://www.imdb.com/pt/name/nm0000095</td></tr><tr><td>Edward Zwick</td><td>7.1</td><td>10</td><td>https://www.imdb.com/pt/name/nm0001880</td></tr><tr><td>Lasse Hallström</td><td>7.1</td><td>10</td><td>https://www.imdb.com/pt/name/nm0002120</td></tr><tr><td>Marc Forster</td><td>7.1</td><td>10</td><td>https://www.imdb.com/pt/name/nm0286975</td></tr><tr><td>David Yates</td><td>7.1</td><td>9</td><td>https://www.imdb.com/pt/name/nm0946734</td></tr><tr><td>Jim Jarmusch</td><td>7.1</td><td>9</td><td>https://www.imdb.com/pt/name/nm0000464</td></tr><tr><td>Matthew Vaughn</td><td>7.1</td><td>8</td><td>https://www.imdb.com/pt/name/nm0891216</td></tr><tr><td>Ethan Coen</td><td>7.1</td><td>8</td><td>https://www.imdb.com/pt/name/nm0001053</td></tr><tr><td>Ang Lee</td><td>7.1</td><td>7</td><td>https://www.imdb.com/pt/name/nm0000487</td></tr><tr><td>Jason Reitman</td><td>7.1</td><td>7</td><td>https://www.imdb.com/pt/name/nm0718646</td></tr><tr><td>Mike Newell</td><td>7.1</td><td>6</td><td>https://www.imdb.com/pt/name/nm0001565</td></tr><tr><td>John Lee Hancock</td><td>7.1</td><td>5</td><td>https://www.imdb.com/pt/name/nm0359387</td></tr><tr><td>Robert Redford</td><td>7.1</td><td>5</td><td>https://www.imdb.com/pt/name/nm0000602</td></tr><tr><td>Baz Luhrmann</td><td>7.1</td><td>5</td><td>https://www.imdb.com/pt/name/nm0525303</td></tr><tr><td>Ridley Scott</td><td>7.0</td><td>25</td><td>https://www.imdb.com/pt/name/nm0000631</td></tr><tr><td>Ron Howard</td><td>7.0</td><td>21</td><td>https://www.imdb.com/pt/name/nm0000165</td></tr><tr><td>Tim Burton</td><td>7.0</td><td>20</td><td>https://www.imdb.com/pt/name/nm0000318</td></tr><tr><td>Sam Raimi</td><td>7.0</td><td>13</td><td>https://www.imdb.com/pt/name/nm0000600</td></tr><tr><td>Guillermo del Toro</td><td>7.0</td><td>11</td><td>https://www.imdb.com/pt/name/nm0868219</td></tr><tr><td>Brian De Palma</td><td>7.0</td><td>10</td><td>https://www.imdb.com/pt/name/nm0000361</td></tr><tr><td>Michael Mann</td><td>7.0</td><td>10</td><td>https://www.imdb.com/pt/name/nm0000520</td></tr><tr><td>Luc Besson</td><td>7.0</td><td>9</td><td>https://www.imdb.com/pt/name/nm0000108</td></tr><tr><td>George Miller</td><td>7.0</td><td>8</td><td>https://www.imdb.com/pt/name/nm0004306</td></tr><tr><td>Jon Favreau</td><td>7.0</td><td>8</td><td>https://www.imdb.com/pt/name/nm0269463</td></tr><tr><td>John Landis</td><td>7.0</td><td>8</td><td>https://www.imdb.com/pt/name/nm0000484</td></tr><tr><td>Barry Levinson</td><td>7.0</td><td>8</td><td>https://www.imdb.com/pt/name/nm0001469</td></tr><tr><td>Adam McKay</td><td>7.0</td><td>8</td><td>https://www.imdb.com/pt/name/nm0570912</td></tr><tr><td>Lilly Wachowski</td><td>7.0</td><td>7</td><td>https://www.imdb.com/pt/name/nm0905152</td></tr><tr><td>David O. Russell</td><td>7.0</td><td>7</td><td>https://www.imdb.com/pt/name/nm0751102</td></tr><tr><td>Gregory Hoblit</td><td>7.0</td><td>6</td><td>https://www.imdb.com/pt/name/nm0387706</td></tr><tr><td>Taylor Hackford</td><td>7.0</td><td>6</td><td>https://www.imdb.com/pt/name/nm0000431</td></tr><tr><td>Curtis Hanson</td><td>7.0</td><td>6</td><td>https://www.imdb.com/pt/name/nm0000436</td></tr><tr><td>Craig Gillespie</td><td>7.0</td><td>6</td><td>https://www.imdb.com/pt/name/nm0318916</td></tr><tr><td>Sydney Pollack</td><td>7.0</td><td>5</td><td>https://www.imdb.com/pt/name/nm0001628</td></tr><tr><td>Joseph Kosinski</td><td>7.0</td><td>5</td><td>https://www.imdb.com/pt/name/nm2676052</td></tr><tr><td>Nick Cassavetes</td><td>7.0</td><td>5</td><td>https://www.imdb.com/pt/name/nm0001024</td></tr><tr><td>David Leitch</td><td>7.0</td><td>5</td><td>https://www.imdb.com/pt/name/nm0500610</td></tr><tr><td>Tom McCarthy</td><td>7.0</td><td>5</td><td>https://www.imdb.com/pt/name/nm0565336</td></tr><tr><td>Gary Ross</td><td>7.0</td><td>5</td><td>https://www.imdb.com/pt/name/nm0002657</td></tr><tr><td>William Friedkin</td><td>7.0</td><td>5</td><td>https://www.imdb.com/pt/name/nm0001243</td></tr><tr><td>Oliver Stone</td><td>6.9</td><td>14</td><td>https://www.imdb.com/pt/name/nm0000231</td></tr><tr><td>Tony Scott</td><td>6.9</td><td>14</td><td>https://www.imdb.com/pt/name/nm0001716</td></tr><tr><td>Richard Donner</td><td>6.9</td><td>14</td><td>https://www.imdb.com/pt/name/nm0001149</td></tr><tr><td>David Cronenberg</td><td>6.9</td><td>12</td><td>https://www.imdb.com/pt/name/nm0000343</td></tr><tr><td>Chris Columbus</td><td>6.9</td><td>11</td><td>https://www.imdb.com/pt/name/nm0001060</td></tr><tr><td>Gore Verbinski</td><td>6.9</td><td>10</td><td>https://www.imdb.com/pt/name/nm0893659</td></tr><tr><td>Wolfgang Petersen</td><td>6.9</td><td>9</td><td>https://www.imdb.com/pt/name/nm0000583</td></tr><tr><td>Francis Lawrence</td><td>6.9</td><td>8</td><td>https://www.imdb.com/pt/name/nm1349376</td></tr><tr><td>Paul Verhoeven</td><td>6.9</td><td>8</td><td>https://www.imdb.com/pt/name/nm0000682</td></tr><tr><td>Gus Van Sant</td><td>6.9</td><td>7</td><td>https://www.imdb.com/pt/name/nm0001814</td></tr><tr><td>Cameron Crowe</td><td>6.9</td><td>7</td><td>https://www.imdb.com/pt/name/nm0001081</td></tr><tr><td>George A. Romero</td><td>6.9</td><td>6</td><td>https://www.imdb.com/pt/name/nm0001681</td></tr><tr><td>Sylvester Stallone</td><td>6.9</td><td>6</td><td>https://www.imdb.com/pt/name/nm0000230</td></tr><tr><td>Jerry Zucker</td><td>6.9</td><td>5</td><td>https://www.imdb.com/pt/name/nm0958387</td></tr><tr><td>Scott Cooper</td><td>6.9</td><td>5</td><td>https://www.imdb.com/pt/name/nm0178376</td></tr><tr><td>Gavin Hood</td><td>6.9</td><td>5</td><td>https://www.imdb.com/pt/name/nm0004303</td></tr><tr><td>Jim Sheridan</td><td>6.9</td><td>5</td><td>https://www.imdb.com/pt/name/nm0006487</td></tr><tr><td>Steven Soderbergh</td><td>6.8</td><td>16</td><td>https://www.imdb.com/pt/name/nm0001752</td></tr><tr><td>John Carpenter</td><td>6.8</td><td>14</td><td>https://www.imdb.com/pt/name/nm0000118</td></tr><tr><td>Antoine Fuqua</td><td>6.8</td><td>13</td><td>https://www.imdb.com/pt/name/nm0298807</td></tr><tr><td>James Wan</td><td>6.8</td><td>11</td><td>https://www.imdb.com/pt/name/nm1490123</td></tr><tr><td>Doug Liman</td><td>6.8</td><td>10</td><td>https://www.imdb.com/pt/name/nm0510731</td></tr><tr><td>Joe Wright</td><td>6.8</td><td>8</td><td>https://www.imdb.com/pt/name/nm0942504</td></tr><tr><td>Frank Oz</td><td>6.8</td><td>8</td><td>https://www.imdb.com/pt/name/nm0000568</td></tr><tr><td>Lana Wachowski</td><td>6.8</td><td>8</td><td>https://www.imdb.com/pt/name/nm0905154</td></tr><tr><td>Nancy Meyers</td><td>6.8</td><td>6</td><td>https://www.imdb.com/pt/name/nm0583600</td></tr><tr><td>Rob Marshall</td><td>6.8</td><td>6</td><td>https://www.imdb.com/pt/name/nm0551128</td></tr><tr><td>Paul Feig</td><td>6.8</td><td>6</td><td>https://www.imdb.com/pt/name/nm0082450</td></tr><tr><td>Brad Anderson</td><td>6.8</td><td>6</td><td>https://www.imdb.com/pt/name/nm0026442</td></tr><tr><td>Jeff Tremaine</td><td>6.8</td><td>6</td><td>https://www.imdb.com/pt/name/nm0871860</td></tr><tr><td>Ric Roman Waugh</td><td>6.8</td><td>5</td><td>https://www.imdb.com/pt/name/nm0006846</td></tr><tr><td>Alex Proyas</td><td>6.8</td><td>5</td><td>https://www.imdb.com/pt/name/nm0001639</td></tr><tr><td>Tom McGrath</td><td>6.8</td><td>5</td><td>https://www.imdb.com/pt/name/nm0569891</td></tr><tr><td>Peter Berg</td><td>6.7</td><td>11</td><td>https://www.imdb.com/pt/name/nm0000916</td></tr><tr><td>Todd Phillips</td><td>6.7</td><td>10</td><td>https://www.imdb.com/pt/name/nm0680846</td></tr><tr><td>F. Gary Gray</td><td>6.7</td><td>9</td><td>https://www.imdb.com/pt/name/nm0336620</td></tr><tr><td>Roger Donaldson</td><td>6.7</td><td>9</td><td>https://www.imdb.com/pt/name/nm0002044</td></tr><tr><td>Kenneth Branagh</td><td>6.7</td><td>9</td><td>https://www.imdb.com/pt/name/nm0000110</td></tr><tr><td>John Woo</td><td>6.7</td><td>8</td><td>https://www.imdb.com/pt/name/nm0000247</td></tr><tr><td>David Zucker</td><td>6.7</td><td>7</td><td>https://www.imdb.com/pt/name/nm0001878</td></tr><tr><td>Chris Renaud</td><td>6.7</td><td>6</td><td>https://www.imdb.com/pt/name/nm0719208</td></tr><tr><td>Andrew Niccol</td><td>6.7</td><td>6</td><td>https://www.imdb.com/pt/name/nm0629272</td></tr><tr><td>George Clooney</td><td>6.7</td><td>5</td><td>https://www.imdb.com/pt/name/nm0000123</td></tr><tr><td>Carlos Saldanha</td><td>6.7</td><td>5</td><td>https://www.imdb.com/pt/name/nm0757858</td></tr><tr><td>David Dobkin</td><td>6.7</td><td>5</td><td>https://www.imdb.com/pt/name/nm0229694</td></tr><tr><td>Sofia Coppola</td><td>6.7</td><td>5</td><td>https://www.imdb.com/pt/name/nm0001068</td></tr><tr><td>Joe Dante</td><td>6.7</td><td>5</td><td>https://www.imdb.com/pt/name/nm0001102</td></tr><tr><td>Eric Darnell</td><td>6.7</td><td>5</td><td>https://www.imdb.com/pt/name/nm0201509</td></tr><tr><td>Zack Snyder</td><td>6.6</td><td>12</td><td>https://www.imdb.com/pt/name/nm0811583</td></tr><tr><td>Kevin Smith</td><td>6.6</td><td>11</td><td>https://www.imdb.com/pt/name/nm0003620</td></tr><tr><td>Jay Roach</td><td>6.6</td><td>9</td><td>https://www.imdb.com/pt/name/nm0005366</td></tr><tr><td>David Ayer</td><td>6.6</td><td>8</td><td>https://www.imdb.com/pt/name/nm0043742</td></tr><tr><td>Joe Johnston</td><td>6.6</td><td>8</td><td>https://www.imdb.com/pt/name/nm0002653</td></tr><tr><td>Martin Campbell</td><td>6.6</td><td>8</td><td>https://www.imdb.com/pt/name/nm0132709</td></tr><tr><td>Wes Craven</td><td>6.6</td><td>7</td><td>https://www.imdb.com/pt/name/nm0000127</td></tr><tr><td>Scott Derrickson</td><td>6.6</td><td>7</td><td>https://www.imdb.com/pt/name/nm0220600</td></tr><tr><td>Harold Ramis</td><td>6.6</td><td>7</td><td>https://www.imdb.com/pt/name/nm0000601</td></tr><tr><td>Andrew Davis</td><td>6.6</td><td>7</td><td>https://www.imdb.com/pt/name/nm0001112</td></tr><tr><td>Ruben Fleischer</td><td>6.6</td><td>6</td><td>https://www.imdb.com/pt/name/nm0281508</td></tr><tr><td>Judd Apatow</td><td>6.6</td><td>6</td><td>https://www.imdb.com/pt/name/nm0031976</td></tr><tr><td>Phillip Noyce</td><td>6.6</td><td>6</td><td>https://www.imdb.com/pt/name/nm0637518</td></tr><tr><td>John Glen</td><td>6.6</td><td>5</td><td>https://www.imdb.com/pt/name/nm0322515</td></tr><tr><td>Robert Rodriguez</td><td>6.5</td><td>16</td><td>https://www.imdb.com/pt/name/nm0001675</td></tr><tr><td>Joel Schumacher</td><td>6.5</td><td>12</td><td>https://www.imdb.com/pt/name/nm0001708</td></tr><tr><td>Peter Farrelly</td><td>6.5</td><td>11</td><td>https://www.imdb.com/pt/name/nm0268380</td></tr><tr><td>Jaume Collet-Serra</td><td>6.5</td><td>10</td><td>https://www.imdb.com/pt/name/nm1429471</td></tr><tr><td>Brett Ratner</td><td>6.5</td><td>9</td><td>https://www.imdb.com/pt/name/nm0711840</td></tr><tr><td>Louis Leterrier</td><td>6.5</td><td>8</td><td>https://www.imdb.com/pt/name/nm0504642</td></tr><tr><td>Jon Turteltaub</td><td>6.5</td><td>8</td><td>https://www.imdb.com/pt/name/nm0005509</td></tr><tr><td>Adrian Lyne</td><td>6.5</td><td>7</td><td>https://www.imdb.com/pt/name/nm0001490</td></tr><tr><td>Mike Flanagan</td><td>6.5</td><td>6</td><td>https://www.imdb.com/pt/name/nm1093039</td></tr><tr><td>Peyton Reed</td><td>6.5</td><td>6</td><td>https://www.imdb.com/pt/name/nm0715636</td></tr><tr><td>Justin Lin</td><td>6.5</td><td>6</td><td>https://www.imdb.com/pt/name/nm0510912</td></tr><tr><td>Nicolas Winding Refn</td><td>6.5</td><td>5</td><td>https://www.imdb.com/pt/name/nm0716347</td></tr><tr><td>Tarsem Singh</td><td>6.5</td><td>5</td><td>https://www.imdb.com/pt/name/nm0802248</td></tr><tr><td>Martin Brest</td><td>6.5</td><td>5</td><td>https://www.imdb.com/pt/name/nm0000976</td></tr><tr><td>Walter Hill</td><td>6.5</td><td>5</td><td>https://www.imdb.com/pt/name/nm0001353</td></tr><tr><td>Michael Bay</td><td>6.4</td><td>15</td><td>https://www.imdb.com/pt/name/nm0000881</td></tr><tr><td>Shawn Levy</td><td>6.4</td><td>13</td><td>https://www.imdb.com/pt/name/nm0506613</td></tr><tr><td>Barry Sonnenfeld</td><td>6.4</td><td>8</td><td>https://www.imdb.com/pt/name/nm0001756</td></tr><tr><td>Bill Condon</td><td>6.4</td><td>7</td><td>https://www.imdb.com/pt/name/nm0174374</td></tr><tr><td>Sean Anders</td><td>6.4</td><td>7</td><td>https://www.imdb.com/pt/name/nm1890845</td></tr><tr><td>Rob Minkoff</td><td>6.4</td><td>6</td><td>https://www.imdb.com/pt/name/nm0591450</td></tr><tr><td>Tom Shadyac</td><td>6.4</td><td>6</td><td>https://www.imdb.com/pt/name/nm0001723</td></tr><tr><td>Ben Stiller</td><td>6.4</td><td>6</td><td>https://www.imdb.com/pt/name/nm0001774</td></tr><tr><td>Nicholas Stoller</td><td>6.4</td><td>6</td><td>https://www.imdb.com/pt/name/nm0831557</td></tr><tr><td>Tyler Gillett</td><td>6.4</td><td>5</td><td>https://www.imdb.com/pt/name/nm2419470</td></tr><tr><td>Rawson Marshall Thurber</td><td>6.4</td><td>5</td><td>https://www.imdb.com/pt/name/nm1098493</td></tr><tr><td>Stephen Sommers</td><td>6.4</td><td>5</td><td>https://www.imdb.com/pt/name/nm0814085</td></tr><tr><td>Matt Bettinelli-Olpin</td><td>6.4</td><td>5</td><td>https://www.imdb.com/pt/name/nm2366012</td></tr><tr><td>John G. Avildsen</td><td>6.4</td><td>5</td><td>https://www.imdb.com/pt/name/nm0000814</td></tr><tr><td>David Koepp</td><td>6.4</td><td>5</td><td>https://www.imdb.com/pt/name/nm0462895</td></tr><tr><td>Ivan Reitman</td><td>6.3</td><td>12</td><td>https://www.imdb.com/pt/name/nm0718645</td></tr><tr><td>Peter Segal</td><td>6.3</td><td>8</td><td>https://www.imdb.com/pt/name/nm0781842</td></tr><tr><td>Mark Waters</td><td>6.3</td><td>7</td><td>https://www.imdb.com/pt/name/nm0914132</td></tr><tr><td>Robert Schwentke</td><td>6.3</td><td>6</td><td>https://www.imdb.com/pt/name/nm0777881</td></tr><tr><td>Simon West</td><td>6.3</td><td>6</td><td>https://www.imdb.com/pt/name/nm0922346</td></tr><tr><td>Neil Marshall</td><td>6.3</td><td>5</td><td>https://www.imdb.com/pt/name/nm0551076</td></tr><tr><td>John Singleton</td><td>6.3</td><td>5</td><td>https://www.imdb.com/pt/name/nm0005436</td></tr><tr><td>Bobby Farrelly</td><td>6.2</td><td>8</td><td>https://www.imdb.com/pt/name/nm0125803</td></tr><tr><td>Garry Marshall</td><td>6.2</td><td>7</td><td>https://www.imdb.com/pt/name/nm0005190</td></tr><tr><td>Jake Kasdan</td><td>6.2</td><td>7</td><td>https://www.imdb.com/pt/name/nm0440458</td></tr><tr><td>Mike Mitchell</td><td>6.2</td><td>7</td><td>https://www.imdb.com/pt/name/nm0593610</td></tr><tr><td>Lee Tamahori</td><td>6.2</td><td>6</td><td>https://www.imdb.com/pt/name/nm0848414</td></tr><tr><td>Alexandre Aja</td><td>6.2</td><td>6</td><td>https://www.imdb.com/pt/name/nm0014960</td></tr><tr><td>D.J. Caruso</td><td>6.2</td><td>6</td><td>https://www.imdb.com/pt/name/nm0142286</td></tr><tr><td>Andy Tennant</td><td>6.2</td><td>5</td><td>https://www.imdb.com/pt/name/nm0855035</td></tr><tr><td>Robert Luketic</td><td>6.2</td><td>5</td><td>https://www.imdb.com/pt/name/nm0525659</td></tr><tr><td>M. Night Shyamalan</td><td>6.1</td><td>14</td><td>https://www.imdb.com/pt/name/nm0796117</td></tr><tr><td>Roland Emmerich</td><td>6.1</td><td>12</td><td>https://www.imdb.com/pt/name/nm0000386</td></tr><tr><td>McG</td><td>6.1</td><td>8</td><td>https://www.imdb.com/pt/name/nm0629334</td></tr><tr><td>David Gordon Green</td><td>6.1</td><td>8</td><td>https://www.imdb.com/pt/name/nm0337773</td></tr><tr><td>Adam Shankman</td><td>6.1</td><td>7</td><td>https://www.imdb.com/pt/name/nm0788202</td></tr><tr><td>Anne Fletcher</td><td>6.1</td><td>5</td><td>https://www.imdb.com/pt/name/nm0281945</td></tr><tr><td>Marc Webb</td><td>6.1</td><td>5</td><td>https://www.imdb.com/pt/name/nm1989536</td></tr><tr><td>Donald Petrie</td><td>6.1</td><td>5</td><td>https://www.imdb.com/pt/name/nm0677953</td></tr><tr><td>Jon M. Chu</td><td>6.0</td><td>8</td><td>https://www.imdb.com/pt/name/nm0160840</td></tr><tr><td>Frank Coraci</td><td>6.0</td><td>8</td><td>https://www.imdb.com/pt/name/nm0178997</td></tr><tr><td>Renny Harlin</td><td>6.0</td><td>8</td><td>https://www.imdb.com/pt/name/nm0001317</td></tr><tr><td>Tim Story</td><td>6.0</td><td>6</td><td>https://www.imdb.com/pt/name/nm1103162</td></tr><tr><td>Rob Letterman</td><td>6.0</td><td>5</td><td>https://www.imdb.com/pt/name/nm1224299</td></tr><tr><td>Eli Roth</td><td>5.9</td><td>9</td><td>https://www.imdb.com/pt/name/nm0744834</td></tr><tr><td>Adam Wingard</td><td>5.9</td><td>6</td><td>https://www.imdb.com/pt/name/nm1417392</td></tr><tr><td>Rob Cohen</td><td>5.9</td><td>6</td><td>https://www.imdb.com/pt/name/nm0003418</td></tr><tr><td>Seth Gordon</td><td>5.9</td><td>5</td><td>https://www.imdb.com/pt/name/nm1164861</td></tr><tr><td>Steve Miner</td><td>5.9</td><td>5</td><td>https://www.imdb.com/pt/name/nm0591171</td></tr><tr><td>Paul W.S. Anderson</td><td>5.8</td><td>12</td><td>https://www.imdb.com/pt/name/nm0027271</td></tr><tr><td>Dennis Dugan</td><td>5.7</td><td>10</td><td>https://www.imdb.com/pt/name/nm0240797</td></tr><tr><td>Jan de Bont</td><td>5.7</td><td>5</td><td>https://www.imdb.com/pt/name/nm0000957</td></tr><tr><td>John Moore</td><td>5.7</td><td>5</td><td>https://www.imdb.com/pt/name/nm0601382</td></tr><tr><td>James Foley</td><td>5.7</td><td>5</td><td>https://www.imdb.com/pt/name/nm0001226</td></tr><tr><td>Steven Brill</td><td>5.5</td><td>8</td><td>https://www.imdb.com/pt/name/nm0109359</td></tr><tr><td>Betty Thomas</td><td>5.4</td><td>5</td><td>https://www.imdb.com/pt/name/nm0858525</td></tr><tr><td>Raja Gosnell</td><td>5.3</td><td>6</td><td>https://www.imdb.com/pt/name/nm0331532</td></tr><tr><td>Aaron Seltzer</td><td>2.7</td><td>5</td><td>https://www.imdb.com/pt/name/nm0783536</td></tr></tbody></table></div>"
      ]
     },
     "metadata": {
      "application/vnd.databricks.v1+output": {
       "addedWidgets": {},
       "aggData": [],
       "aggError": "",
       "aggOverflow": false,
       "aggSchema": [],
       "aggSeriesLimitReached": false,
       "aggType": "",
       "arguments": {},
       "columnCustomDisplayInfos": {},
       "data": [
        [
         "Akira Kurosawa",
         "8.3",
         7,
         "https://www.imdb.com/pt/name/nm0000041"
        ],
        [
         "Charles Chaplin",
         "8.3",
         5,
         "https://www.imdb.com/pt/name/nm0000122"
        ],
        [
         "Sergio Leone",
         "8.3",
         5,
         "https://www.imdb.com/pt/name/nm0001466"
        ],
        [
         "Christopher Nolan",
         "8.2",
         12,
         "https://www.imdb.com/pt/name/nm0634240"
        ],
        [
         "Billy Wilder",
         "8.2",
         7,
         "https://www.imdb.com/pt/name/nm0000697"
        ],
        [
         "Stanley Kubrick",
         "8.1",
         11,
         "https://www.imdb.com/pt/name/nm0000040"
        ],
        [
         "Hayao Miyazaki",
         "8.0",
         11,
         "https://www.imdb.com/pt/name/nm0594503"
        ],
        [
         "Quentin Tarantino",
         "7.9",
         13,
         "https://www.imdb.com/pt/name/nm0000233"
        ],
        [
         "Denis Villeneuve",
         "7.9",
         8,
         "https://www.imdb.com/pt/name/nm0898288"
        ],
        [
         "James Cameron",
         "7.9",
         8,
         "https://www.imdb.com/pt/name/nm0000116"
        ],
        [
         "Sidney Lumet",
         "7.9",
         6,
         "https://www.imdb.com/pt/name/nm0001486"
        ],
        [
         "Alfred Hitchcock",
         "7.8",
         18,
         "https://www.imdb.com/pt/name/nm0000033"
        ],
        [
         "Rajkumar Hirani",
         "7.8",
         6,
         "https://www.imdb.com/pt/name/nm0386246"
        ],
        [
         "Martin Scorsese",
         "7.7",
         21,
         "https://www.imdb.com/pt/name/nm0000217"
        ],
        [
         "Francis Ford Coppola",
         "7.7",
         9,
         "https://www.imdb.com/pt/name/nm0000338"
        ],
        [
         "Alejandro G. Iñárritu",
         "7.7",
         6,
         "https://www.imdb.com/pt/name/nm0327944"
        ],
        [
         "Makoto Shinkai",
         "7.7",
         5,
         "https://www.imdb.com/pt/name/nm1396121"
        ],
        [
         "Peter Weir",
         "7.7",
         5,
         "https://www.imdb.com/pt/name/nm0001837"
        ],
        [
         "David Fincher",
         "7.6",
         12,
         "https://www.imdb.com/pt/name/nm0000399"
        ],
        [
         "Peter Jackson",
         "7.6",
         12,
         "https://www.imdb.com/pt/name/nm0001392"
        ],
        [
         "Alfonso Cuarón",
         "7.6",
         6,
         "https://www.imdb.com/pt/name/nm0190859"
        ],
        [
         "Brad Bird",
         "7.6",
         6,
         "https://www.imdb.com/pt/name/nm0083348"
        ],
        [
         "Pedro Almodóvar",
         "7.6",
         6,
         "https://www.imdb.com/pt/name/nm0000264"
        ],
        [
         "Alan Parker",
         "7.6",
         5,
         "https://www.imdb.com/pt/name/nm0000570"
        ],
        [
         "John Huston",
         "7.6",
         5,
         "https://www.imdb.com/pt/name/nm0001379"
        ],
        [
         "Steven Spielberg",
         "7.5",
         30,
         "https://www.imdb.com/pt/name/nm0000229"
        ],
        [
         "Richard Linklater",
         "7.5",
         11,
         "https://www.imdb.com/pt/name/nm0000500"
        ],
        [
         "Rob Reiner",
         "7.5",
         10,
         "https://www.imdb.com/pt/name/nm0001661"
        ],
        [
         "Sam Mendes",
         "7.5",
         8,
         "https://www.imdb.com/pt/name/nm0005222"
        ],
        [
         "Roman Polanski",
         "7.5",
         8,
         "https://www.imdb.com/pt/name/nm0000591"
        ],
        [
         "Bong Joon Ho",
         "7.5",
         7,
         "https://www.imdb.com/pt/name/nm0094435"
        ],
        [
         "Park Chan-wook",
         "7.5",
         7,
         "https://www.imdb.com/pt/name/nm0661791"
        ],
        [
         "Chris Sanders",
         "7.5",
         5,
         "https://www.imdb.com/pt/name/nm0761498"
        ],
        [
         "Taika Waititi",
         "7.5",
         5,
         "https://www.imdb.com/pt/name/nm0169806"
        ],
        [
         "Wong Kar-Wai",
         "7.5",
         5,
         "https://www.imdb.com/pt/name/nm0939182"
        ],
        [
         "Wes Anderson",
         "7.4",
         11,
         "https://www.imdb.com/pt/name/nm0027572"
        ],
        [
         "David Lynch",
         "7.4",
         10,
         "https://www.imdb.com/pt/name/nm0000186"
        ],
        [
         "Paul Thomas Anderson",
         "7.4",
         9,
         "https://www.imdb.com/pt/name/nm0000759"
        ],
        [
         "John Musker",
         "7.4",
         7,
         "https://www.imdb.com/pt/name/nm0615780"
        ],
        [
         "Ron Clements",
         "7.4",
         7,
         "https://www.imdb.com/pt/name/nm0166256"
        ],
        [
         "Wilfred Jackson",
         "7.4",
         7,
         "https://www.imdb.com/pt/name/nm0414144"
        ],
        [
         "Edgar Wright",
         "7.4",
         7,
         "https://www.imdb.com/pt/name/nm0942367"
        ],
        [
         "Joe Russo",
         "7.4",
         6,
         "https://www.imdb.com/pt/name/nm0751648"
        ],
        [
         "Anthony Russo",
         "7.4",
         6,
         "https://www.imdb.com/pt/name/nm0751577"
        ],
        [
         "Michael Haneke",
         "7.4",
         6,
         "https://www.imdb.com/pt/name/nm0359734"
        ],
        [
         "Jean-Pierre Jeunet",
         "7.4",
         5,
         "https://www.imdb.com/pt/name/nm0000466"
        ],
        [
         "John Lasseter",
         "7.4",
         5,
         "https://www.imdb.com/pt/name/nm0005124"
        ],
        [
         "Matt Reeves",
         "7.4",
         5,
         "https://www.imdb.com/pt/name/nm0716257"
        ],
        [
         "Clint Eastwood",
         "7.3",
         24,
         "https://www.imdb.com/pt/name/nm0000142"
        ],
        [
         "Joel Coen",
         "7.3",
         18,
         "https://www.imdb.com/pt/name/nm0001054"
        ],
        [
         "Robert Zemeckis",
         "7.3",
         16,
         "https://www.imdb.com/pt/name/nm0000709"
        ],
        [
         "Danny Boyle",
         "7.3",
         11,
         "https://www.imdb.com/pt/name/nm0000965"
        ],
        [
         "Bryan Singer",
         "7.3",
         9,
         "https://www.imdb.com/pt/name/nm0001741"
        ],
        [
         "Darren Aronofsky",
         "7.3",
         8,
         "https://www.imdb.com/pt/name/nm0004716"
        ],
        [
         "Paul Greengrass",
         "7.3",
         7,
         "https://www.imdb.com/pt/name/nm0339030"
        ],
        [
         "John Hughes",
         "7.3",
         6,
         "https://www.imdb.com/pt/name/nm0000455"
        ],
        [
         "J.J. Abrams",
         "7.3",
         6,
         "https://www.imdb.com/pt/name/nm0009190"
        ],
        [
         "Clyde Geronimi",
         "7.3",
         6,
         "https://www.imdb.com/pt/name/nm0314671"
        ],
        [
         "James Gunn",
         "7.3",
         6,
         "https://www.imdb.com/pt/name/nm0348181"
        ],
        [
         "Mel Brooks",
         "7.3",
         6,
         "https://www.imdb.com/pt/name/nm0000316"
        ],
        [
         "Ben Affleck",
         "7.3",
         5,
         "https://www.imdb.com/pt/name/nm0000255"
        ],
        [
         "Hamilton Luske",
         "7.3",
         5,
         "https://www.imdb.com/pt/name/nm0527217"
        ],
        [
         "Stephen Frears",
         "7.3",
         5,
         "https://www.imdb.com/pt/name/nm0001241"
        ],
        [
         "Terrence Malick",
         "7.3",
         5,
         "https://www.imdb.com/pt/name/nm0000517"
        ],
        [
         "Guy Ritchie",
         "7.2",
         14,
         "https://www.imdb.com/pt/name/nm0005363"
        ],
        [
         "James Mangold",
         "7.2",
         12,
         "https://www.imdb.com/pt/name/nm0003506"
        ],
        [
         "Terry Gilliam",
         "7.2",
         10,
         "https://www.imdb.com/pt/name/nm0000416"
        ],
        [
         "Lars von Trier",
         "7.2",
         8,
         "https://www.imdb.com/pt/name/nm0001885"
        ],
        [
         "John McTiernan",
         "7.2",
         8,
         "https://www.imdb.com/pt/name/nm0001532"
        ],
        [
         "Spike Lee",
         "7.2",
         8,
         "https://www.imdb.com/pt/name/nm0000490"
        ],
        [
         "Mike Nichols",
         "7.2",
         7,
         "https://www.imdb.com/pt/name/nm0001566"
        ],
        [
         "Alexander Payne",
         "7.2",
         7,
         "https://www.imdb.com/pt/name/nm0668247"
        ],
        [
         "Wolfgang Reitherman",
         "7.2",
         7,
         "https://www.imdb.com/pt/name/nm0718627"
        ],
        [
         "Kathryn Bigelow",
         "7.2",
         6,
         "https://www.imdb.com/pt/name/nm0000941"
        ],
        [
         "Yorgos Lanthimos",
         "7.2",
         6,
         "https://www.imdb.com/pt/name/nm0487166"
        ],
        [
         "George Lucas",
         "7.2",
         6,
         "https://www.imdb.com/pt/name/nm0000184"
        ],
        [
         "Rian Johnson",
         "7.2",
         6,
         "https://www.imdb.com/pt/name/nm0426059"
        ],
        [
         "J.A. Bayona",
         "7.2",
         5,
         "https://www.imdb.com/pt/name/nm1291105"
        ],
        [
         "Noah Baumbach",
         "7.2",
         5,
         "https://www.imdb.com/pt/name/nm0000876"
        ],
        [
         "Todd Haynes",
         "7.2",
         5,
         "https://www.imdb.com/pt/name/nm0001331"
        ],
        [
         "Gavin O'Connor",
         "7.2",
         5,
         "https://www.imdb.com/pt/name/nm0640334"
        ],
        [
         "Woody Allen",
         "7.1",
         17,
         "https://www.imdb.com/pt/name/nm0000095"
        ],
        [
         "Edward Zwick",
         "7.1",
         10,
         "https://www.imdb.com/pt/name/nm0001880"
        ],
        [
         "Lasse Hallström",
         "7.1",
         10,
         "https://www.imdb.com/pt/name/nm0002120"
        ],
        [
         "Marc Forster",
         "7.1",
         10,
         "https://www.imdb.com/pt/name/nm0286975"
        ],
        [
         "David Yates",
         "7.1",
         9,
         "https://www.imdb.com/pt/name/nm0946734"
        ],
        [
         "Jim Jarmusch",
         "7.1",
         9,
         "https://www.imdb.com/pt/name/nm0000464"
        ],
        [
         "Matthew Vaughn",
         "7.1",
         8,
         "https://www.imdb.com/pt/name/nm0891216"
        ],
        [
         "Ethan Coen",
         "7.1",
         8,
         "https://www.imdb.com/pt/name/nm0001053"
        ],
        [
         "Ang Lee",
         "7.1",
         7,
         "https://www.imdb.com/pt/name/nm0000487"
        ],
        [
         "Jason Reitman",
         "7.1",
         7,
         "https://www.imdb.com/pt/name/nm0718646"
        ],
        [
         "Mike Newell",
         "7.1",
         6,
         "https://www.imdb.com/pt/name/nm0001565"
        ],
        [
         "John Lee Hancock",
         "7.1",
         5,
         "https://www.imdb.com/pt/name/nm0359387"
        ],
        [
         "Robert Redford",
         "7.1",
         5,
         "https://www.imdb.com/pt/name/nm0000602"
        ],
        [
         "Baz Luhrmann",
         "7.1",
         5,
         "https://www.imdb.com/pt/name/nm0525303"
        ],
        [
         "Ridley Scott",
         "7.0",
         25,
         "https://www.imdb.com/pt/name/nm0000631"
        ],
        [
         "Ron Howard",
         "7.0",
         21,
         "https://www.imdb.com/pt/name/nm0000165"
        ],
        [
         "Tim Burton",
         "7.0",
         20,
         "https://www.imdb.com/pt/name/nm0000318"
        ],
        [
         "Sam Raimi",
         "7.0",
         13,
         "https://www.imdb.com/pt/name/nm0000600"
        ],
        [
         "Guillermo del Toro",
         "7.0",
         11,
         "https://www.imdb.com/pt/name/nm0868219"
        ],
        [
         "Brian De Palma",
         "7.0",
         10,
         "https://www.imdb.com/pt/name/nm0000361"
        ],
        [
         "Michael Mann",
         "7.0",
         10,
         "https://www.imdb.com/pt/name/nm0000520"
        ],
        [
         "Luc Besson",
         "7.0",
         9,
         "https://www.imdb.com/pt/name/nm0000108"
        ],
        [
         "George Miller",
         "7.0",
         8,
         "https://www.imdb.com/pt/name/nm0004306"
        ],
        [
         "Jon Favreau",
         "7.0",
         8,
         "https://www.imdb.com/pt/name/nm0269463"
        ],
        [
         "John Landis",
         "7.0",
         8,
         "https://www.imdb.com/pt/name/nm0000484"
        ],
        [
         "Barry Levinson",
         "7.0",
         8,
         "https://www.imdb.com/pt/name/nm0001469"
        ],
        [
         "Adam McKay",
         "7.0",
         8,
         "https://www.imdb.com/pt/name/nm0570912"
        ],
        [
         "Lilly Wachowski",
         "7.0",
         7,
         "https://www.imdb.com/pt/name/nm0905152"
        ],
        [
         "David O. Russell",
         "7.0",
         7,
         "https://www.imdb.com/pt/name/nm0751102"
        ],
        [
         "Gregory Hoblit",
         "7.0",
         6,
         "https://www.imdb.com/pt/name/nm0387706"
        ],
        [
         "Taylor Hackford",
         "7.0",
         6,
         "https://www.imdb.com/pt/name/nm0000431"
        ],
        [
         "Curtis Hanson",
         "7.0",
         6,
         "https://www.imdb.com/pt/name/nm0000436"
        ],
        [
         "Craig Gillespie",
         "7.0",
         6,
         "https://www.imdb.com/pt/name/nm0318916"
        ],
        [
         "Sydney Pollack",
         "7.0",
         5,
         "https://www.imdb.com/pt/name/nm0001628"
        ],
        [
         "Joseph Kosinski",
         "7.0",
         5,
         "https://www.imdb.com/pt/name/nm2676052"
        ],
        [
         "Nick Cassavetes",
         "7.0",
         5,
         "https://www.imdb.com/pt/name/nm0001024"
        ],
        [
         "David Leitch",
         "7.0",
         5,
         "https://www.imdb.com/pt/name/nm0500610"
        ],
        [
         "Tom McCarthy",
         "7.0",
         5,
         "https://www.imdb.com/pt/name/nm0565336"
        ],
        [
         "Gary Ross",
         "7.0",
         5,
         "https://www.imdb.com/pt/name/nm0002657"
        ],
        [
         "William Friedkin",
         "7.0",
         5,
         "https://www.imdb.com/pt/name/nm0001243"
        ],
        [
         "Oliver Stone",
         "6.9",
         14,
         "https://www.imdb.com/pt/name/nm0000231"
        ],
        [
         "Tony Scott",
         "6.9",
         14,
         "https://www.imdb.com/pt/name/nm0001716"
        ],
        [
         "Richard Donner",
         "6.9",
         14,
         "https://www.imdb.com/pt/name/nm0001149"
        ],
        [
         "David Cronenberg",
         "6.9",
         12,
         "https://www.imdb.com/pt/name/nm0000343"
        ],
        [
         "Chris Columbus",
         "6.9",
         11,
         "https://www.imdb.com/pt/name/nm0001060"
        ],
        [
         "Gore Verbinski",
         "6.9",
         10,
         "https://www.imdb.com/pt/name/nm0893659"
        ],
        [
         "Wolfgang Petersen",
         "6.9",
         9,
         "https://www.imdb.com/pt/name/nm0000583"
        ],
        [
         "Francis Lawrence",
         "6.9",
         8,
         "https://www.imdb.com/pt/name/nm1349376"
        ],
        [
         "Paul Verhoeven",
         "6.9",
         8,
         "https://www.imdb.com/pt/name/nm0000682"
        ],
        [
         "Gus Van Sant",
         "6.9",
         7,
         "https://www.imdb.com/pt/name/nm0001814"
        ],
        [
         "Cameron Crowe",
         "6.9",
         7,
         "https://www.imdb.com/pt/name/nm0001081"
        ],
        [
         "George A. Romero",
         "6.9",
         6,
         "https://www.imdb.com/pt/name/nm0001681"
        ],
        [
         "Sylvester Stallone",
         "6.9",
         6,
         "https://www.imdb.com/pt/name/nm0000230"
        ],
        [
         "Jerry Zucker",
         "6.9",
         5,
         "https://www.imdb.com/pt/name/nm0958387"
        ],
        [
         "Scott Cooper",
         "6.9",
         5,
         "https://www.imdb.com/pt/name/nm0178376"
        ],
        [
         "Gavin Hood",
         "6.9",
         5,
         "https://www.imdb.com/pt/name/nm0004303"
        ],
        [
         "Jim Sheridan",
         "6.9",
         5,
         "https://www.imdb.com/pt/name/nm0006487"
        ],
        [
         "Steven Soderbergh",
         "6.8",
         16,
         "https://www.imdb.com/pt/name/nm0001752"
        ],
        [
         "John Carpenter",
         "6.8",
         14,
         "https://www.imdb.com/pt/name/nm0000118"
        ],
        [
         "Antoine Fuqua",
         "6.8",
         13,
         "https://www.imdb.com/pt/name/nm0298807"
        ],
        [
         "James Wan",
         "6.8",
         11,
         "https://www.imdb.com/pt/name/nm1490123"
        ],
        [
         "Doug Liman",
         "6.8",
         10,
         "https://www.imdb.com/pt/name/nm0510731"
        ],
        [
         "Joe Wright",
         "6.8",
         8,
         "https://www.imdb.com/pt/name/nm0942504"
        ],
        [
         "Frank Oz",
         "6.8",
         8,
         "https://www.imdb.com/pt/name/nm0000568"
        ],
        [
         "Lana Wachowski",
         "6.8",
         8,
         "https://www.imdb.com/pt/name/nm0905154"
        ],
        [
         "Nancy Meyers",
         "6.8",
         6,
         "https://www.imdb.com/pt/name/nm0583600"
        ],
        [
         "Rob Marshall",
         "6.8",
         6,
         "https://www.imdb.com/pt/name/nm0551128"
        ],
        [
         "Paul Feig",
         "6.8",
         6,
         "https://www.imdb.com/pt/name/nm0082450"
        ],
        [
         "Brad Anderson",
         "6.8",
         6,
         "https://www.imdb.com/pt/name/nm0026442"
        ],
        [
         "Jeff Tremaine",
         "6.8",
         6,
         "https://www.imdb.com/pt/name/nm0871860"
        ],
        [
         "Ric Roman Waugh",
         "6.8",
         5,
         "https://www.imdb.com/pt/name/nm0006846"
        ],
        [
         "Alex Proyas",
         "6.8",
         5,
         "https://www.imdb.com/pt/name/nm0001639"
        ],
        [
         "Tom McGrath",
         "6.8",
         5,
         "https://www.imdb.com/pt/name/nm0569891"
        ],
        [
         "Peter Berg",
         "6.7",
         11,
         "https://www.imdb.com/pt/name/nm0000916"
        ],
        [
         "Todd Phillips",
         "6.7",
         10,
         "https://www.imdb.com/pt/name/nm0680846"
        ],
        [
         "F. Gary Gray",
         "6.7",
         9,
         "https://www.imdb.com/pt/name/nm0336620"
        ],
        [
         "Roger Donaldson",
         "6.7",
         9,
         "https://www.imdb.com/pt/name/nm0002044"
        ],
        [
         "Kenneth Branagh",
         "6.7",
         9,
         "https://www.imdb.com/pt/name/nm0000110"
        ],
        [
         "John Woo",
         "6.7",
         8,
         "https://www.imdb.com/pt/name/nm0000247"
        ],
        [
         "David Zucker",
         "6.7",
         7,
         "https://www.imdb.com/pt/name/nm0001878"
        ],
        [
         "Chris Renaud",
         "6.7",
         6,
         "https://www.imdb.com/pt/name/nm0719208"
        ],
        [
         "Andrew Niccol",
         "6.7",
         6,
         "https://www.imdb.com/pt/name/nm0629272"
        ],
        [
         "George Clooney",
         "6.7",
         5,
         "https://www.imdb.com/pt/name/nm0000123"
        ],
        [
         "Carlos Saldanha",
         "6.7",
         5,
         "https://www.imdb.com/pt/name/nm0757858"
        ],
        [
         "David Dobkin",
         "6.7",
         5,
         "https://www.imdb.com/pt/name/nm0229694"
        ],
        [
         "Sofia Coppola",
         "6.7",
         5,
         "https://www.imdb.com/pt/name/nm0001068"
        ],
        [
         "Joe Dante",
         "6.7",
         5,
         "https://www.imdb.com/pt/name/nm0001102"
        ],
        [
         "Eric Darnell",
         "6.7",
         5,
         "https://www.imdb.com/pt/name/nm0201509"
        ],
        [
         "Zack Snyder",
         "6.6",
         12,
         "https://www.imdb.com/pt/name/nm0811583"
        ],
        [
         "Kevin Smith",
         "6.6",
         11,
         "https://www.imdb.com/pt/name/nm0003620"
        ],
        [
         "Jay Roach",
         "6.6",
         9,
         "https://www.imdb.com/pt/name/nm0005366"
        ],
        [
         "David Ayer",
         "6.6",
         8,
         "https://www.imdb.com/pt/name/nm0043742"
        ],
        [
         "Joe Johnston",
         "6.6",
         8,
         "https://www.imdb.com/pt/name/nm0002653"
        ],
        [
         "Martin Campbell",
         "6.6",
         8,
         "https://www.imdb.com/pt/name/nm0132709"
        ],
        [
         "Wes Craven",
         "6.6",
         7,
         "https://www.imdb.com/pt/name/nm0000127"
        ],
        [
         "Scott Derrickson",
         "6.6",
         7,
         "https://www.imdb.com/pt/name/nm0220600"
        ],
        [
         "Harold Ramis",
         "6.6",
         7,
         "https://www.imdb.com/pt/name/nm0000601"
        ],
        [
         "Andrew Davis",
         "6.6",
         7,
         "https://www.imdb.com/pt/name/nm0001112"
        ],
        [
         "Ruben Fleischer",
         "6.6",
         6,
         "https://www.imdb.com/pt/name/nm0281508"
        ],
        [
         "Judd Apatow",
         "6.6",
         6,
         "https://www.imdb.com/pt/name/nm0031976"
        ],
        [
         "Phillip Noyce",
         "6.6",
         6,
         "https://www.imdb.com/pt/name/nm0637518"
        ],
        [
         "John Glen",
         "6.6",
         5,
         "https://www.imdb.com/pt/name/nm0322515"
        ],
        [
         "Robert Rodriguez",
         "6.5",
         16,
         "https://www.imdb.com/pt/name/nm0001675"
        ],
        [
         "Joel Schumacher",
         "6.5",
         12,
         "https://www.imdb.com/pt/name/nm0001708"
        ],
        [
         "Peter Farrelly",
         "6.5",
         11,
         "https://www.imdb.com/pt/name/nm0268380"
        ],
        [
         "Jaume Collet-Serra",
         "6.5",
         10,
         "https://www.imdb.com/pt/name/nm1429471"
        ],
        [
         "Brett Ratner",
         "6.5",
         9,
         "https://www.imdb.com/pt/name/nm0711840"
        ],
        [
         "Louis Leterrier",
         "6.5",
         8,
         "https://www.imdb.com/pt/name/nm0504642"
        ],
        [
         "Jon Turteltaub",
         "6.5",
         8,
         "https://www.imdb.com/pt/name/nm0005509"
        ],
        [
         "Adrian Lyne",
         "6.5",
         7,
         "https://www.imdb.com/pt/name/nm0001490"
        ],
        [
         "Mike Flanagan",
         "6.5",
         6,
         "https://www.imdb.com/pt/name/nm1093039"
        ],
        [
         "Peyton Reed",
         "6.5",
         6,
         "https://www.imdb.com/pt/name/nm0715636"
        ],
        [
         "Justin Lin",
         "6.5",
         6,
         "https://www.imdb.com/pt/name/nm0510912"
        ],
        [
         "Nicolas Winding Refn",
         "6.5",
         5,
         "https://www.imdb.com/pt/name/nm0716347"
        ],
        [
         "Tarsem Singh",
         "6.5",
         5,
         "https://www.imdb.com/pt/name/nm0802248"
        ],
        [
         "Martin Brest",
         "6.5",
         5,
         "https://www.imdb.com/pt/name/nm0000976"
        ],
        [
         "Walter Hill",
         "6.5",
         5,
         "https://www.imdb.com/pt/name/nm0001353"
        ],
        [
         "Michael Bay",
         "6.4",
         15,
         "https://www.imdb.com/pt/name/nm0000881"
        ],
        [
         "Shawn Levy",
         "6.4",
         13,
         "https://www.imdb.com/pt/name/nm0506613"
        ],
        [
         "Barry Sonnenfeld",
         "6.4",
         8,
         "https://www.imdb.com/pt/name/nm0001756"
        ],
        [
         "Bill Condon",
         "6.4",
         7,
         "https://www.imdb.com/pt/name/nm0174374"
        ],
        [
         "Sean Anders",
         "6.4",
         7,
         "https://www.imdb.com/pt/name/nm1890845"
        ],
        [
         "Rob Minkoff",
         "6.4",
         6,
         "https://www.imdb.com/pt/name/nm0591450"
        ],
        [
         "Tom Shadyac",
         "6.4",
         6,
         "https://www.imdb.com/pt/name/nm0001723"
        ],
        [
         "Ben Stiller",
         "6.4",
         6,
         "https://www.imdb.com/pt/name/nm0001774"
        ],
        [
         "Nicholas Stoller",
         "6.4",
         6,
         "https://www.imdb.com/pt/name/nm0831557"
        ],
        [
         "Tyler Gillett",
         "6.4",
         5,
         "https://www.imdb.com/pt/name/nm2419470"
        ],
        [
         "Rawson Marshall Thurber",
         "6.4",
         5,
         "https://www.imdb.com/pt/name/nm1098493"
        ],
        [
         "Stephen Sommers",
         "6.4",
         5,
         "https://www.imdb.com/pt/name/nm0814085"
        ],
        [
         "Matt Bettinelli-Olpin",
         "6.4",
         5,
         "https://www.imdb.com/pt/name/nm2366012"
        ],
        [
         "John G. Avildsen",
         "6.4",
         5,
         "https://www.imdb.com/pt/name/nm0000814"
        ],
        [
         "David Koepp",
         "6.4",
         5,
         "https://www.imdb.com/pt/name/nm0462895"
        ],
        [
         "Ivan Reitman",
         "6.3",
         12,
         "https://www.imdb.com/pt/name/nm0718645"
        ],
        [
         "Peter Segal",
         "6.3",
         8,
         "https://www.imdb.com/pt/name/nm0781842"
        ],
        [
         "Mark Waters",
         "6.3",
         7,
         "https://www.imdb.com/pt/name/nm0914132"
        ],
        [
         "Robert Schwentke",
         "6.3",
         6,
         "https://www.imdb.com/pt/name/nm0777881"
        ],
        [
         "Simon West",
         "6.3",
         6,
         "https://www.imdb.com/pt/name/nm0922346"
        ],
        [
         "Neil Marshall",
         "6.3",
         5,
         "https://www.imdb.com/pt/name/nm0551076"
        ],
        [
         "John Singleton",
         "6.3",
         5,
         "https://www.imdb.com/pt/name/nm0005436"
        ],
        [
         "Bobby Farrelly",
         "6.2",
         8,
         "https://www.imdb.com/pt/name/nm0125803"
        ],
        [
         "Garry Marshall",
         "6.2",
         7,
         "https://www.imdb.com/pt/name/nm0005190"
        ],
        [
         "Jake Kasdan",
         "6.2",
         7,
         "https://www.imdb.com/pt/name/nm0440458"
        ],
        [
         "Mike Mitchell",
         "6.2",
         7,
         "https://www.imdb.com/pt/name/nm0593610"
        ],
        [
         "Lee Tamahori",
         "6.2",
         6,
         "https://www.imdb.com/pt/name/nm0848414"
        ],
        [
         "Alexandre Aja",
         "6.2",
         6,
         "https://www.imdb.com/pt/name/nm0014960"
        ],
        [
         "D.J. Caruso",
         "6.2",
         6,
         "https://www.imdb.com/pt/name/nm0142286"
        ],
        [
         "Andy Tennant",
         "6.2",
         5,
         "https://www.imdb.com/pt/name/nm0855035"
        ],
        [
         "Robert Luketic",
         "6.2",
         5,
         "https://www.imdb.com/pt/name/nm0525659"
        ],
        [
         "M. Night Shyamalan",
         "6.1",
         14,
         "https://www.imdb.com/pt/name/nm0796117"
        ],
        [
         "Roland Emmerich",
         "6.1",
         12,
         "https://www.imdb.com/pt/name/nm0000386"
        ],
        [
         "McG",
         "6.1",
         8,
         "https://www.imdb.com/pt/name/nm0629334"
        ],
        [
         "David Gordon Green",
         "6.1",
         8,
         "https://www.imdb.com/pt/name/nm0337773"
        ],
        [
         "Adam Shankman",
         "6.1",
         7,
         "https://www.imdb.com/pt/name/nm0788202"
        ],
        [
         "Anne Fletcher",
         "6.1",
         5,
         "https://www.imdb.com/pt/name/nm0281945"
        ],
        [
         "Marc Webb",
         "6.1",
         5,
         "https://www.imdb.com/pt/name/nm1989536"
        ],
        [
         "Donald Petrie",
         "6.1",
         5,
         "https://www.imdb.com/pt/name/nm0677953"
        ],
        [
         "Jon M. Chu",
         "6.0",
         8,
         "https://www.imdb.com/pt/name/nm0160840"
        ],
        [
         "Frank Coraci",
         "6.0",
         8,
         "https://www.imdb.com/pt/name/nm0178997"
        ],
        [
         "Renny Harlin",
         "6.0",
         8,
         "https://www.imdb.com/pt/name/nm0001317"
        ],
        [
         "Tim Story",
         "6.0",
         6,
         "https://www.imdb.com/pt/name/nm1103162"
        ],
        [
         "Rob Letterman",
         "6.0",
         5,
         "https://www.imdb.com/pt/name/nm1224299"
        ],
        [
         "Eli Roth",
         "5.9",
         9,
         "https://www.imdb.com/pt/name/nm0744834"
        ],
        [
         "Adam Wingard",
         "5.9",
         6,
         "https://www.imdb.com/pt/name/nm1417392"
        ],
        [
         "Rob Cohen",
         "5.9",
         6,
         "https://www.imdb.com/pt/name/nm0003418"
        ],
        [
         "Seth Gordon",
         "5.9",
         5,
         "https://www.imdb.com/pt/name/nm1164861"
        ],
        [
         "Steve Miner",
         "5.9",
         5,
         "https://www.imdb.com/pt/name/nm0591171"
        ],
        [
         "Paul W.S. Anderson",
         "5.8",
         12,
         "https://www.imdb.com/pt/name/nm0027271"
        ],
        [
         "Dennis Dugan",
         "5.7",
         10,
         "https://www.imdb.com/pt/name/nm0240797"
        ],
        [
         "Jan de Bont",
         "5.7",
         5,
         "https://www.imdb.com/pt/name/nm0000957"
        ],
        [
         "John Moore",
         "5.7",
         5,
         "https://www.imdb.com/pt/name/nm0601382"
        ],
        [
         "James Foley",
         "5.7",
         5,
         "https://www.imdb.com/pt/name/nm0001226"
        ],
        [
         "Steven Brill",
         "5.5",
         8,
         "https://www.imdb.com/pt/name/nm0109359"
        ],
        [
         "Betty Thomas",
         "5.4",
         5,
         "https://www.imdb.com/pt/name/nm0858525"
        ],
        [
         "Raja Gosnell",
         "5.3",
         6,
         "https://www.imdb.com/pt/name/nm0331532"
        ],
        [
         "Aaron Seltzer",
         "2.7",
         5,
         "https://www.imdb.com/pt/name/nm0783536"
        ]
       ],
       "datasetInfos": [],
       "dbfsResultPath": null,
       "isJsonSchema": true,
       "metadata": {},
       "overflow": false,
       "plotOptions": {
        "customPlotOptions": {},
        "displayType": "table",
        "pivotAggregation": null,
        "pivotColumns": null,
        "xColumns": null,
        "yColumns": null
       },
       "removedWidgets": [],
       "schema": [
        {
         "metadata": "{}",
         "name": "Nome do(a) Direto(a)",
         "type": "\"string\""
        },
        {
         "metadata": "{}",
         "name": "Avaliação",
         "type": "\"string\""
        },
        {
         "metadata": "{}",
         "name": "Quantidade de Filmes",
         "type": "\"long\""
        },
        {
         "metadata": "{}",
         "name": "Link para o(a) Diretor(a)",
         "type": "\"string\""
        }
       ],
       "type": "table"
      }
     },
     "output_type": "display_data"
    }
   ],
   "source": [
    "%sql\n",
    "--Quais diretores que possuem a maior média de avaliação em seus filmes?\n",
    "SELECT \n",
    "  `Nome do(a) Direto(a)`,\n",
    "   FORMAT_NUMBER(`Avaliação`,1) AS `Avaliação`,\n",
    "  `Quantidade de Filmes`,\n",
    "  'https://www.imdb.com/pt/name/' || id_pessoa AS `Link para o(a) Diretor(a)`\n",
    "FROM\n",
    "  (\n",
    "    SELECT \n",
    "        dir.tx_nome AS `Nome do(a) Direto(a)`,\n",
    "        dir.id_pessoa,\n",
    "        AVG(ff1.vl_avaliacao_media) AS `Avaliação`,\n",
    "        COUNT(*) AS `Quantidade de Filmes`\n",
    "    FROM \n",
    "        curado.fato_filmes ff1\n",
    "          INNER JOIN curado.diretores_filmes dirf\n",
    "            ON ff1.id_obra = dirf.id_obra\n",
    "              INNER JOIN curado.dim_diretores dir\n",
    "                ON dirf.id_pessoa = dir.id_pessoa\n",
    "    WHERE \n",
    "        ff1.vl_avaliacao_media IS NOT NULL\n",
    "        AND ff1.nu_votos > 50000\n",
    "    GROUP BY \n",
    "        dir.id_pessoa,\n",
    "        dir.tx_nome\n",
    "  )\n",
    "WHERE\n",
    "  `Quantidade de Filmes` >= 5\n",
    "ORDER BY 2 DESC,3 DESC"
   ]
  },
  {
   "cell_type": "markdown",
   "metadata": {
    "application/vnd.databricks.v1+cell": {
     "cellMetadata": {
      "byteLimit": 2048000,
      "rowLimit": 10000
     },
     "inputWidgets": {},
     "nuid": "366ecc7d-e683-4078-a574-bd9f3c6cc5fe",
     "showTitle": false,
     "tableResultSettingsMap": {},
     "title": ""
    }
   },
   "source": [
    "**Comentário:** o objetivo dessa pergunta é verificar quais diretores tem a maior média de avaliação das suas obras mais populares. O critério de desempate quando a nota é igual é quantidade de filmes. Foram selecionados diretores que possuem ao menos 5 filmes com popularidade relevante."
   ]
  },
  {
   "cell_type": "markdown",
   "metadata": {
    "application/vnd.databricks.v1+cell": {
     "cellMetadata": {
      "byteLimit": 2048000,
      "rowLimit": 10000
     },
     "inputWidgets": {},
     "nuid": "a92ced72-1e7b-42ae-a844-26e0f300394b",
     "showTitle": false,
     "tableResultSettingsMap": {},
     "title": ""
    }
   },
   "source": [
    "#Quais filmes após 2010 foram encenados apenas por atrizes?"
   ]
  },
  {
   "cell_type": "code",
   "execution_count": 0,
   "metadata": {
    "application/vnd.databricks.v1+cell": {
     "cellMetadata": {
      "byteLimit": 2048000,
      "implicitDf": true,
      "rowLimit": 10000
     },
     "inputWidgets": {},
     "nuid": "291c581e-76d5-4416-9c89-f34c52d76910",
     "showTitle": false,
     "tableResultSettingsMap": {},
     "title": ""
    }
   },
   "outputs": [
    {
     "output_type": "display_data",
     "data": {
      "text/html": [
       "<style scoped>\n",
       "  .table-result-container {\n",
       "    max-height: 300px;\n",
       "    overflow: auto;\n",
       "  }\n",
       "  table, th, td {\n",
       "    border: 1px solid black;\n",
       "    border-collapse: collapse;\n",
       "  }\n",
       "  th, td {\n",
       "    padding: 5px;\n",
       "  }\n",
       "  th {\n",
       "    text-align: left;\n",
       "  }\n",
       "</style><div class='table-result-container'><table class='table-result'><thead style='background-color: white'><tr><th>Identificador da Obra</th><th>Nome do Filme</th><th>Quantidade de Atrizes</th><th>Link para o Filme</th></tr></thead><tbody><tr><td>tt1034415</td><td>Suspiria</td><td>10</td><td>https://www.imdb.com/pt/title/tt1034415</td></tr><tr><td>tt1454029</td><td>The Help</td><td>10</td><td>https://www.imdb.com/pt/title/tt1454029</td></tr><tr><td>tt4765284</td><td>Pitch Perfect 3</td><td>10</td><td>https://www.imdb.com/pt/title/tt4765284</td></tr></tbody></table></div>"
      ]
     },
     "metadata": {
      "application/vnd.databricks.v1+output": {
       "addedWidgets": {},
       "aggData": [],
       "aggError": "",
       "aggOverflow": false,
       "aggSchema": [],
       "aggSeriesLimitReached": false,
       "aggType": "",
       "arguments": {},
       "columnCustomDisplayInfos": {},
       "data": [
        [
         "tt1034415",
         "Suspiria",
         10,
         "https://www.imdb.com/pt/title/tt1034415"
        ],
        [
         "tt1454029",
         "The Help",
         10,
         "https://www.imdb.com/pt/title/tt1454029"
        ],
        [
         "tt4765284",
         "Pitch Perfect 3",
         10,
         "https://www.imdb.com/pt/title/tt4765284"
        ]
       ],
       "datasetInfos": [],
       "dbfsResultPath": null,
       "isJsonSchema": true,
       "metadata": {},
       "overflow": false,
       "plotOptions": {
        "customPlotOptions": {},
        "displayType": "table",
        "pivotAggregation": null,
        "pivotColumns": null,
        "xColumns": null,
        "yColumns": null
       },
       "removedWidgets": [],
       "schema": [
        {
         "metadata": "{}",
         "name": "Identificador da Obra",
         "type": "\"string\""
        },
        {
         "metadata": "{}",
         "name": "Nome do Filme",
         "type": "\"string\""
        },
        {
         "metadata": "{}",
         "name": "Quantidade de Atrizes",
         "type": "\"long\""
        },
        {
         "metadata": "{}",
         "name": "Link para o Filme",
         "type": "\"string\""
        }
       ],
       "type": "table"
      }
     },
     "output_type": "display_data"
    }
   ],
   "source": [
    "%sql\n",
    "--Quais filmes após 2010 foram encenados apenas por atrizes?\n",
    "SELECT \n",
    "  id_obra AS `Identificador da Obra`,\n",
    "  tx_nome_obra AS `Nome do Filme`,\n",
    "  (\n",
    "      SELECT \n",
    "        COUNT(DISTINCT id_pessoa) \n",
    "      FROM\n",
    "        curado.dim_personagens_filmes pers \n",
    "      WHERE \n",
    "        pers.tx_categoria='actress' \n",
    "        AND pers.id_obra = ff.id_obra\n",
    "  ) AS `Quantidade de Atrizes`,\n",
    "  'https://www.imdb.com/pt/title/' || id_obra AS `Link para o Filme`\n",
    "FROM\n",
    "  curado.fato_filmes ff\n",
    "WHERE\n",
    "  ff.nu_votos > 50000\n",
    "  AND ff.nu_ano_inicial >= 2010\n",
    "  AND \n",
    "    (\n",
    "      SELECT \n",
    "        COUNT(DISTINCT id_pessoa) \n",
    "      FROM \n",
    "        curado.dim_personagens_filmes pers \n",
    "      WHERE \n",
    "        pers.tx_categoria='actor' \n",
    "        AND pers.id_obra = ff.id_obra\n",
    "    ) = 0 --verificando se não tem homens\n",
    "  AND \n",
    "    (\n",
    "        SELECT \n",
    "          COUNT(DISTINCT id_pessoa)\n",
    "        FROM \n",
    "          curado.dim_personagens_filmes pers \n",
    "        WHERE \n",
    "          pers.tx_categoria='actress' \n",
    "          AND pers.id_obra = ff.id_obra\n",
    "    ) > 1 --verificando se há ao menos duas mulheres"
   ]
  },
  {
   "cell_type": "markdown",
   "metadata": {
    "application/vnd.databricks.v1+cell": {
     "cellMetadata": {
      "byteLimit": 2048000,
      "rowLimit": 10000
     },
     "inputWidgets": {},
     "nuid": "d710f2ed-1118-4dd4-8196-4996cfdacbfc",
     "showTitle": false,
     "tableResultSettingsMap": {},
     "title": ""
    }
   },
   "source": [
    "**Comentário:** verificou-se no site do IMDB que os filmes “The Help” e “Pitch Perfect 3” possuem homens no elenco, mas eles não aparecem no _dataset_. Foi verificado que o IMDB apenas inclui 10 artistas do elenco por filme no _dataset_ (nesses casos todas mulheres), o que inviabiliza essa análise."
   ]
  },
  {
   "cell_type": "markdown",
   "metadata": {
    "application/vnd.databricks.v1+cell": {
     "cellMetadata": {
      "byteLimit": 2048000,
      "rowLimit": 10000
     },
     "inputWidgets": {},
     "nuid": "74b8cdec-9bb1-428e-b6c8-dc251113f606",
     "showTitle": false,
     "tableResultSettingsMap": {},
     "title": ""
    }
   },
   "source": [
    "#Quais filmes anteriores ao ano 2000 que foram dirigidos por mulheres?\n",
    "\n",
    "**Comentário:** Esta questão não pode ser respondida, pois o _dataset_ não possui a diferenciação da categoria diretor e diretora (diretor). Com ator e atriz é possível fazer essa divisão, pois existem categorias distintas para ator/atriz (actor/actress)."
   ]
  },
  {
   "cell_type": "markdown",
   "metadata": {
    "application/vnd.databricks.v1+cell": {
     "cellMetadata": {
      "byteLimit": 2048000,
      "rowLimit": 10000
     },
     "inputWidgets": {},
     "nuid": "6f08eb98-0b3d-4e18-80ed-eff0bf6f2887",
     "showTitle": false,
     "tableResultSettingsMap": {},
     "title": ""
    }
   },
   "source": [
    "#Qual filme teve o maior número de atores e atrizes?\n",
    "\n",
    "**Comentário:** Esta questão não pode ser respondida, pois verificou-se que o IMDB apenas inclui no _dataset_ o subconjunto de 10 artistas do elenco por filme e não o elenco completo."
   ]
  },
  {
   "cell_type": "markdown",
   "metadata": {
    "application/vnd.databricks.v1+cell": {
     "cellMetadata": {
      "byteLimit": 2048000,
      "rowLimit": 10000
     },
     "inputWidgets": {},
     "nuid": "57c76e2a-b2f1-4986-9f5d-9d32748c7c18",
     "showTitle": false,
     "tableResultSettingsMap": {},
     "title": ""
    }
   },
   "source": [
    "#Quantos filmes foram produzidos por década?"
   ]
  },
  {
   "cell_type": "code",
   "execution_count": 0,
   "metadata": {
    "application/vnd.databricks.v1+cell": {
     "cellMetadata": {
      "byteLimit": 2048000,
      "implicitDf": true,
      "rowLimit": 10000
     },
     "inputWidgets": {},
     "nuid": "a85fb73a-3eaf-4c51-82f5-43d3393cd7d1",
     "showTitle": false,
     "tableResultSettingsMap": {},
     "title": ""
    }
   },
   "outputs": [
    {
     "output_type": "display_data",
     "data": {
      "image/png": "[encoded data removed]"
     },
     "metadata": {
      "application/vnd.databricks.v1+output": {
       "addedWidgets": {},
       "arguments": {},
       "data": "data:image/png;base64,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\n",
       "datasetInfos": [],
       "metadata": {},
       "removedWidgets": [],
       "type": "image"
      }
     },
     "output_type": "display_data"
    },
    {
     "output_type": "display_data",
     "data": {
      "text/html": [
       "<style scoped>\n",
       "  .table-result-container {\n",
       "    max-height: 300px;\n",
       "    overflow: auto;\n",
       "  }\n",
       "  table, th, td {\n",
       "    border: 1px solid black;\n",
       "    border-collapse: collapse;\n",
       "  }\n",
       "  th, td {\n",
       "    padding: 5px;\n",
       "  }\n",
       "  th {\n",
       "    text-align: left;\n",
       "  }\n",
       "</style><div class='table-result-container'><table class='table-result'><thead style='background-color: white'><tr><th>Década</th><th>Quantidade de Filmes</th></tr></thead><tbody><tr><td>1910</td><td>53</td></tr><tr><td>1920</td><td>226</td></tr><tr><td>1930</td><td>777</td></tr><tr><td>1940</td><td>1095</td></tr><tr><td>1950</td><td>1521</td></tr><tr><td>1960</td><td>1918</td></tr><tr><td>1970</td><td>2457</td></tr><tr><td>1980</td><td>3244</td></tr><tr><td>1990</td><td>4252</td></tr><tr><td>2000</td><td>8338</td></tr><tr><td>2010</td><td>14111</td></tr><tr><td>2020</td><td>7249</td></tr></tbody></table></div>"
      ]
     },
     "metadata": {
      "application/vnd.databricks.v1+output": {
       "addedWidgets": {},
       "aggData": [],
       "aggError": "",
       "aggOverflow": false,
       "aggSchema": [],
       "aggSeriesLimitReached": false,
       "aggType": "",
       "arguments": {},
       "columnCustomDisplayInfos": {},
       "data": [
        [
         1910,
         53
        ],
        [
         1920,
         226
        ],
        [
         1930,
         777
        ],
        [
         1940,
         1095
        ],
        [
         1950,
         1521
        ],
        [
         1960,
         1918
        ],
        [
         1970,
         2457
        ],
        [
         1980,
         3244
        ],
        [
         1990,
         4252
        ],
        [
         2000,
         8338
        ],
        [
         2010,
         14111
        ],
        [
         2020,
         7249
        ]
       ],
       "datasetInfos": [],
       "dbfsResultPath": null,
       "isJsonSchema": true,
       "metadata": {},
       "overflow": false,
       "plotOptions": {
        "customPlotOptions": {},
        "displayType": "table",
        "pivotAggregation": null,
        "pivotColumns": null,
        "xColumns": null,
        "yColumns": null
       },
       "removedWidgets": [],
       "schema": [
        {
         "metadata": "{}",
         "name": "Década",
         "type": "\"integer\""
        },
        {
         "metadata": "{}",
         "name": "Quantidade de Filmes",
         "type": "\"long\""
        }
       ],
       "type": "table"
      }
     },
     "output_type": "display_data"
    }
   ],
   "source": [
    "import matplotlib.pyplot as plt\n",
    "import pandas as pd\n",
    "\n",
    "#Quantos filmes foram produzidos por década?\n",
    "query = \"\"\"\n",
    "SELECT \n",
    "    CAST(ff1.nu_ano_inicial / 10 AS INT) * 10 AS `Década`,\n",
    "    COUNT(*) AS `Quantidade de Filmes`\n",
    "FROM \n",
    "    curado.fato_filmes ff1\n",
    "WHERE \n",
    "    ff1.vl_avaliacao_media IS NOT NULL\n",
    "    AND ff1.nu_votos > 1000\n",
    "GROUP BY \n",
    "    CAST(ff1.nu_ano_inicial / 10 AS INT) * 10\n",
    "ORDER BY 1 ASC\n",
    "\"\"\"\n",
    "\n",
    "# Executando a query no Databricks\n",
    "_sqldf = spark.sql(query)\n",
    "\n",
    "# Convertendo para Pandas\n",
    "df_pandas = _sqldf.toPandas()\n",
    "\n",
    "# Criando o gráfico de barras\n",
    "plt.figure(figsize=(10, 6))\n",
    "bars = plt.bar(df_pandas['Década'], df_pandas['Quantidade de Filmes'], color='royalblue', width=8)\n",
    "\n",
    "# Adicionando os labels nas barras\n",
    "for bar in bars:\n",
    "    yval = bar.get_height()\n",
    "    plt.text(bar.get_x() + bar.get_width()/2, yval, f'{yval}', \n",
    "             ha='center', va='bottom', fontsize=10, color='black')\n",
    "\n",
    "# Personalização do gráfico\n",
    "plt.xlabel('Década')\n",
    "plt.ylabel('Quantidade de Filmes')\n",
    "plt.title('Quantidade de Filmes Produzidos por Década')\n",
    "plt.grid(axis='y', linestyle='--', alpha=0.7)\n",
    "\n",
    "# Exibir gráfico\n",
    "plt.show()\n",
    "\n",
    "# Exibir dados\n",
    "display(df_pandas)\n"
   ]
  },
  {
   "cell_type": "markdown",
   "metadata": {
    "application/vnd.databricks.v1+cell": {
     "cellMetadata": {
      "byteLimit": 2048000,
      "rowLimit": 10000
     },
     "inputWidgets": {},
     "nuid": "af7d4193-eb18-4e05-b7ae-559d54206f3c",
     "showTitle": false,
     "tableResultSettingsMap": {},
     "title": ""
    }
   },
   "source": [
    "**Comentário:** o objetivo dessa pergunta é analisar o ritmo de produção dos filmes ao longo das décadas. Pode-se perceber que ao longo das décadas o número de filmes é cada vez maior. Como ainda estamos em 2025, a década de 2020 aparece menor, mas aparentemente o ritmo não diminuiu tanto, mesmo com a pandemia em 2020."
   ]
  },
  {
   "cell_type": "markdown",
   "metadata": {
    "application/vnd.databricks.v1+cell": {
     "cellMetadata": {
      "byteLimit": 2048000,
      "rowLimit": 10000
     },
     "inputWidgets": {},
     "nuid": "c273723b-91a4-4990-974e-0b8e8b57b4e8",
     "showTitle": false,
     "tableResultSettingsMap": {},
     "title": ""
    }
   },
   "source": [
    "#Quais o ranking do número de filmes produzidos por país e por ano?\n",
    "\n",
    "**Comentário:** Esta questão não pode ser respondida, pois o _dataset_ não possui a informação de que país produziu a obra.\n"
   ]
  },
  {
   "cell_type": "markdown",
   "metadata": {
    "application/vnd.databricks.v1+cell": {
     "cellMetadata": {
      "byteLimit": 2048000,
      "rowLimit": 10000
     },
     "inputWidgets": {},
     "nuid": "ae4e5fad-c8be-4a97-8fcb-07a9ef666cd6",
     "showTitle": false,
     "tableResultSettingsMap": {},
     "title": ""
    }
   },
   "source": [
    "#Qual a avaliação média dos filmes produzidos por gênero?"
   ]
  },
  {
   "cell_type": "code",
   "execution_count": 0,
   "metadata": {
    "application/vnd.databricks.v1+cell": {
     "cellMetadata": {
      "byteLimit": 2048000,
      "implicitDf": true,
      "rowLimit": 10000
     },
     "inputWidgets": {},
     "nuid": "fd9525e3-4a14-4424-9025-a3861de58fe7",
     "showTitle": false,
     "tableResultSettingsMap": {},
     "title": ""
    }
   },
   "outputs": [
    {
     "output_type": "display_data",
     "data": {
      "text/html": [
       "<style scoped>\n",
       "  .table-result-container {\n",
       "    max-height: 300px;\n",
       "    overflow: auto;\n",
       "  }\n",
       "  table, th, td {\n",
       "    border: 1px solid black;\n",
       "    border-collapse: collapse;\n",
       "  }\n",
       "  th, td {\n",
       "    padding: 5px;\n",
       "  }\n",
       "  th {\n",
       "    text-align: left;\n",
       "  }\n",
       "</style><div class='table-result-container'><table class='table-result'><thead style='background-color: white'><tr><th>tx_nome_genero</th><th>Avaliação</th></tr></thead><tbody><tr><td>Film-Noir</td><td>7.95</td></tr><tr><td>News</td><td>7.80</td></tr><tr><td>War</td><td>7.55</td></tr><tr><td>Western</td><td>7.53</td></tr><tr><td>Documentary</td><td>7.49</td></tr><tr><td>Biography</td><td>7.34</td></tr><tr><td>History</td><td>7.31</td></tr><tr><td>Animation</td><td>7.16</td></tr><tr><td>Drama</td><td>7.13</td></tr><tr><td>Musical</td><td>7.06</td></tr><tr><td>Sport</td><td>7.01</td></tr><tr><td>Music</td><td>6.97</td></tr><tr><td>Crime</td><td>6.92</td></tr><tr><td>Romance</td><td>6.82</td></tr><tr><td>Mystery</td><td>6.76</td></tr><tr><td>Thriller</td><td>6.71</td></tr><tr><td>Adventure</td><td>6.70</td></tr><tr><td>Family</td><td>6.67</td></tr><tr><td>Comedy</td><td>6.66</td></tr><tr><td>Action</td><td>6.57</td></tr><tr><td>Sci-Fi</td><td>6.56</td></tr><tr><td>Fantasy</td><td>6.55</td></tr><tr><td>Horror</td><td>6.35</td></tr></tbody></table></div>"
      ]
     },
     "metadata": {
      "application/vnd.databricks.v1+output": {
       "addedWidgets": {},
       "aggData": [],
       "aggError": "",
       "aggOverflow": false,
       "aggSchema": [],
       "aggSeriesLimitReached": false,
       "aggType": "",
       "arguments": {},
       "columnCustomDisplayInfos": {},
       "data": [
        [
         "Film-Noir",
         "7.95"
        ],
        [
         "News",
         "7.80"
        ],
        [
         "War",
         "7.55"
        ],
        [
         "Western",
         "7.53"
        ],
        [
         "Documentary",
         "7.49"
        ],
        [
         "Biography",
         "7.34"
        ],
        [
         "History",
         "7.31"
        ],
        [
         "Animation",
         "7.16"
        ],
        [
         "Drama",
         "7.13"
        ],
        [
         "Musical",
         "7.06"
        ],
        [
         "Sport",
         "7.01"
        ],
        [
         "Music",
         "6.97"
        ],
        [
         "Crime",
         "6.92"
        ],
        [
         "Romance",
         "6.82"
        ],
        [
         "Mystery",
         "6.76"
        ],
        [
         "Thriller",
         "6.71"
        ],
        [
         "Adventure",
         "6.70"
        ],
        [
         "Family",
         "6.67"
        ],
        [
         "Comedy",
         "6.66"
        ],
        [
         "Action",
         "6.57"
        ],
        [
         "Sci-Fi",
         "6.56"
        ],
        [
         "Fantasy",
         "6.55"
        ],
        [
         "Horror",
         "6.35"
        ]
       ],
       "datasetInfos": [],
       "dbfsResultPath": null,
       "isJsonSchema": true,
       "metadata": {},
       "overflow": false,
       "plotOptions": {
        "customPlotOptions": {},
        "displayType": "table",
        "pivotAggregation": null,
        "pivotColumns": null,
        "xColumns": null,
        "yColumns": null
       },
       "removedWidgets": [],
       "schema": [
        {
         "metadata": "{}",
         "name": "tx_nome_genero",
         "type": "\"string\""
        },
        {
         "metadata": "{}",
         "name": "Avaliação",
         "type": "\"string\""
        }
       ],
       "type": "table"
      }
     },
     "output_type": "display_data"
    }
   ],
   "source": [
    "%sql\n",
    "-- Qual a avaliação média dos filmes produzidos por gênero?\n",
    "SELECT\n",
    "  gen.tx_nome_genero,\n",
    "  FORMAT_NUMBER(AVG(ff.vl_avaliacao_media),2) AS `Avaliação` \n",
    "FROM\n",
    "  curado.fato_filmes ff\n",
    "    INNER JOIN curado.generos_filmes go\n",
    "      ON go.id_obra = ff.id_obra\n",
    "        INNER JOIN curado.dim_generos gen\n",
    "          ON go.id_genero = gen.id_genero\n",
    "WHERE\n",
    "  ff.vl_avaliacao_media IS NOT NULL\n",
    "  AND ff.nu_votos > 50000\n",
    "GROUP BY\n",
    "  tx_nome_genero\n",
    "ORDER BY 2 DESC\n"
   ]
  },
  {
   "cell_type": "markdown",
   "metadata": {
    "application/vnd.databricks.v1+cell": {
     "cellMetadata": {
      "byteLimit": 2048000,
      "rowLimit": 10000
     },
     "inputWidgets": {},
     "nuid": "a9af1a47-ac03-4758-a3c8-13deeae4f732",
     "showTitle": false,
     "tableResultSettingsMap": {},
     "title": ""
    }
   },
   "source": [
    "**Comentário:** o objetivo dessa pergunta é verificar quais gêneros têm a maior média de avaliação das suas obras mais populares."
   ]
  },
  {
   "cell_type": "markdown",
   "metadata": {
    "application/vnd.databricks.v1+cell": {
     "cellMetadata": {
      "byteLimit": 2048000,
      "rowLimit": 10000
     },
     "inputWidgets": {},
     "nuid": "79ffc449-9db2-42fb-b912-8a7a8ffeb93b",
     "showTitle": false,
     "tableResultSettingsMap": {},
     "title": ""
    }
   },
   "source": [
    "#Quais os 3 gêneros mais bem avaliados por década?"
   ]
  },
  {
   "cell_type": "code",
   "execution_count": 0,
   "metadata": {
    "application/vnd.databricks.v1+cell": {
     "cellMetadata": {
      "byteLimit": 2048000,
      "implicitDf": true,
      "rowLimit": 10000
     },
     "inputWidgets": {},
     "nuid": "8485ba25-28a5-479e-9b91-0afee7a1f9d7",
     "showTitle": false,
     "tableResultSettingsMap": {},
     "title": ""
    }
   },
   "outputs": [
    {
     "output_type": "display_data",
     "data": {
      "text/html": [
       "<style scoped>\n",
       "  .table-result-container {\n",
       "    max-height: 300px;\n",
       "    overflow: auto;\n",
       "  }\n",
       "  table, th, td {\n",
       "    border: 1px solid black;\n",
       "    border-collapse: collapse;\n",
       "  }\n",
       "  th, td {\n",
       "    padding: 5px;\n",
       "  }\n",
       "  th {\n",
       "    text-align: left;\n",
       "  }\n",
       "</style><div class='table-result-container'><table class='table-result'><thead style='background-color: white'><tr><th>Década</th><th>Gênero</th><th>Avaliação</th></tr></thead><tbody><tr><td>1920</td><td>Sci-Fi</td><td>8.30</td></tr><tr><td>1920</td><td>Family</td><td>8.20</td></tr><tr><td>1920</td><td>Comedy</td><td>8.15</td></tr><tr><td>1930</td><td>Romance</td><td>8.24</td></tr><tr><td>1930</td><td>War</td><td>8.15</td></tr><tr><td>1930</td><td>Comedy</td><td>8.12</td></tr><tr><td>1940</td><td>War</td><td>8.33</td></tr><tr><td>1940</td><td>Western</td><td>8.20</td></tr><tr><td>1940</td><td>Fantasy</td><td>8.15</td></tr><tr><td>1950</td><td>Action</td><td>8.60</td></tr><tr><td>1950</td><td>Music</td><td>8.20</td></tr><tr><td>1950</td><td>Thriller</td><td>8.18</td></tr><tr><td>1960</td><td>Sci-Fi</td><td>8.15</td></tr><tr><td>1960</td><td>Western</td><td>8.15</td></tr><tr><td>1960</td><td>Biography</td><td>8.00</td></tr><tr><td>1970</td><td>Fantasy</td><td>7.95</td></tr><tr><td>1970</td><td>Biography</td><td>7.83</td></tr><tr><td>1970</td><td>War</td><td>7.81</td></tr><tr><td>1980</td><td>War</td><td>7.82</td></tr><tr><td>1980</td><td>Biography</td><td>7.65</td></tr><tr><td>1980</td><td>Animation</td><td>7.61</td></tr><tr><td>1990</td><td>Western</td><td>7.62</td></tr><tr><td>1990</td><td>History</td><td>7.62</td></tr><tr><td>1990</td><td>War</td><td>7.57</td></tr><tr><td>2000</td><td>News</td><td>7.80</td></tr><tr><td>2000</td><td>Documentary</td><td>7.61</td></tr><tr><td>2000</td><td>Musical</td><td>7.40</td></tr><tr><td>2010</td><td>Sport</td><td>7.43</td></tr><tr><td>2010</td><td>Documentary</td><td>7.38</td></tr><tr><td>2010</td><td>War</td><td>7.29</td></tr><tr><td>2020</td><td>Biography</td><td>7.40</td></tr><tr><td>2020</td><td>Documentary</td><td>7.40</td></tr><tr><td>2020</td><td>War</td><td>7.20</td></tr></tbody></table></div>"
      ]
     },
     "metadata": {
      "application/vnd.databricks.v1+output": {
       "addedWidgets": {},
       "aggData": [],
       "aggError": "",
       "aggOverflow": false,
       "aggSchema": [],
       "aggSeriesLimitReached": false,
       "aggType": "",
       "arguments": {},
       "columnCustomDisplayInfos": {},
       "data": [
        [
         1920,
         "Sci-Fi",
         "8.30"
        ],
        [
         1920,
         "Family",
         "8.20"
        ],
        [
         1920,
         "Comedy",
         "8.15"
        ],
        [
         1930,
         "Romance",
         "8.24"
        ],
        [
         1930,
         "War",
         "8.15"
        ],
        [
         1930,
         "Comedy",
         "8.12"
        ],
        [
         1940,
         "War",
         "8.33"
        ],
        [
         1940,
         "Western",
         "8.20"
        ],
        [
         1940,
         "Fantasy",
         "8.15"
        ],
        [
         1950,
         "Action",
         "8.60"
        ],
        [
         1950,
         "Music",
         "8.20"
        ],
        [
         1950,
         "Thriller",
         "8.18"
        ],
        [
         1960,
         "Sci-Fi",
         "8.15"
        ],
        [
         1960,
         "Western",
         "8.15"
        ],
        [
         1960,
         "Biography",
         "8.00"
        ],
        [
         1970,
         "Fantasy",
         "7.95"
        ],
        [
         1970,
         "Biography",
         "7.83"
        ],
        [
         1970,
         "War",
         "7.81"
        ],
        [
         1980,
         "War",
         "7.82"
        ],
        [
         1980,
         "Biography",
         "7.65"
        ],
        [
         1980,
         "Animation",
         "7.61"
        ],
        [
         1990,
         "Western",
         "7.62"
        ],
        [
         1990,
         "History",
         "7.62"
        ],
        [
         1990,
         "War",
         "7.57"
        ],
        [
         2000,
         "News",
         "7.80"
        ],
        [
         2000,
         "Documentary",
         "7.61"
        ],
        [
         2000,
         "Musical",
         "7.40"
        ],
        [
         2010,
         "Sport",
         "7.43"
        ],
        [
         2010,
         "Documentary",
         "7.38"
        ],
        [
         2010,
         "War",
         "7.29"
        ],
        [
         2020,
         "Biography",
         "7.40"
        ],
        [
         2020,
         "Documentary",
         "7.40"
        ],
        [
         2020,
         "War",
         "7.20"
        ]
       ],
       "datasetInfos": [],
       "dbfsResultPath": null,
       "isJsonSchema": true,
       "metadata": {},
       "overflow": false,
       "plotOptions": {
        "customPlotOptions": {},
        "displayType": "table",
        "pivotAggregation": null,
        "pivotColumns": null,
        "xColumns": null,
        "yColumns": null
       },
       "removedWidgets": [],
       "schema": [
        {
         "metadata": "{}",
         "name": "Década",
         "type": "\"integer\""
        },
        {
         "metadata": "{}",
         "name": "Gênero",
         "type": "\"string\""
        },
        {
         "metadata": "{}",
         "name": "Avaliação",
         "type": "\"string\""
        }
       ],
       "type": "table"
      }
     },
     "output_type": "display_data"
    }
   ],
   "source": [
    "%sql\n",
    "\n",
    "--Quais os 3 gêneros mais bem avaliados por década?\n",
    "WITH AvaliacoesPorDecada AS (\n",
    "  SELECT \n",
    "    CAST(ff.nu_ano_inicial / 10 AS INT) * 10 AS `Década`,\n",
    "    gen.tx_nome_genero AS `Gênero`,\n",
    "    AVG(ff.vl_avaliacao_media) AS `Avaliação`,\n",
    "    ROW_NUMBER() OVER (PARTITION BY CAST(ff.nu_ano_inicial / 10 AS INT) * 10 \n",
    "                        ORDER BY AVG(ff.vl_avaliacao_media) DESC) AS rank\n",
    "  FROM \n",
    "    curado.fato_filmes ff\n",
    "    INNER JOIN curado.generos_filmes go ON go.id_obra = ff.id_obra\n",
    "    INNER JOIN curado.dim_generos gen ON go.id_genero = gen.id_genero\n",
    "  WHERE \n",
    "    ff.vl_avaliacao_media IS NOT NULL\n",
    "    AND ff.nu_votos > 50000\n",
    "  GROUP BY\n",
    "    CAST(ff.nu_ano_inicial / 10 AS INT) * 10,\n",
    "    gen.tx_nome_genero\n",
    ")\n",
    "SELECT \n",
    "  `Década`,\n",
    "  `Gênero`,\n",
    "  FORMAT_NUMBER(`Avaliação`, 2) AS `Avaliação`\n",
    "FROM \n",
    "  AvaliacoesPorDecada\n",
    "WHERE \n",
    "  rank <= 3\n",
    "ORDER BY \n",
    "  `Década` ASC, \n",
    "  `Avaliação` DESC;"
   ]
  },
  {
   "cell_type": "markdown",
   "metadata": {
    "application/vnd.databricks.v1+cell": {
     "cellMetadata": {
      "byteLimit": 2048000,
      "rowLimit": 10000
     },
     "inputWidgets": {},
     "nuid": "5234d406-c34f-4a33-9355-43e46a697526",
     "showTitle": false,
     "tableResultSettingsMap": {},
     "title": ""
    }
   },
   "source": [
    "**Comentário:** o objetivo dessa pergunta é verificar o ranking dos 3 gêneros preferidos por década e apresentar a média de suas avaliações. Essa análise demonstra as mudanças de preferência do público quando aos gêneros ao longo do tempo. O SQL desenvolvido utilizou _subquery_ com o WITH."
   ]
  },
  {
   "cell_type": "markdown",
   "metadata": {
    "application/vnd.databricks.v1+cell": {
     "cellMetadata": {
      "byteLimit": 2048000,
      "rowLimit": 10000
     },
     "inputWidgets": {},
     "nuid": "b4baa7a3-f7c5-4302-bd1e-9f0a7d3c1386",
     "showTitle": false,
     "tableResultSettingsMap": {},
     "title": ""
    }
   },
   "source": [
    "#Qual o tempo médio de duração dos filmes e como ele mudou ao longo dos anos?"
   ]
  },
  {
   "cell_type": "code",
   "execution_count": 0,
   "metadata": {
    "application/vnd.databricks.v1+cell": {
     "cellMetadata": {
      "byteLimit": 2048000,
      "implicitDf": true,
      "rowLimit": 10000
     },
     "inputWidgets": {},
     "nuid": "c70a67b1-40e6-4afc-ae27-ad43439b3b92",
     "showTitle": false,
     "tableResultSettingsMap": {},
     "title": ""
    }
   },
   "outputs": [
    {
     "output_type": "display_data",
     "data": {
      "image/png": "[encoded data removed]"
     },
     "metadata": {
      "application/vnd.databricks.v1+output": {
       "addedWidgets": {},
       "arguments": {},
       "data": "data:image/png;base64,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\n",
       "datasetInfos": [],
       "metadata": {},
       "removedWidgets": [],
       "type": "image"
      }
     },
     "output_type": "display_data"
    },
    {
     "output_type": "display_data",
     "data": {
      "text/html": [
       "<style scoped>\n",
       "  .table-result-container {\n",
       "    max-height: 300px;\n",
       "    overflow: auto;\n",
       "  }\n",
       "  table, th, td {\n",
       "    border: 1px solid black;\n",
       "    border-collapse: collapse;\n",
       "  }\n",
       "  th, td {\n",
       "    padding: 5px;\n",
       "  }\n",
       "  th {\n",
       "    text-align: left;\n",
       "  }\n",
       "</style><div class='table-result-container'><table class='table-result'><thead style='background-color: white'><tr><th>Ano</th><th>Duração Média</th><th>Quantidade de Filmes</th><th>Duração</th></tr></thead><tbody><tr><td>1911</td><td>71.0</td><td>1</td><td>71.0</td></tr><tr><td>1913</td><td>90.33333333333333</td><td>3</td><td>90.33</td></tr><tr><td>1914</td><td>108.5</td><td>6</td><td>108.5</td></tr><tr><td>1915</td><td>133.5</td><td>2</td><td>133.5</td></tr><tr><td>1916</td><td>189.33333333333334</td><td>3</td><td>189.33</td></tr><tr><td>1917</td><td>78.0</td><td>1</td><td>78.0</td></tr><tr><td>1918</td><td>88.2</td><td>5</td><td>88.2</td></tr><tr><td>1919</td><td>100.71428571428571</td><td>14</td><td>100.71</td></tr><tr><td>1920</td><td>98.6923076923077</td><td>13</td><td>98.69</td></tr><tr><td>1921</td><td>106.18181818181819</td><td>11</td><td>106.18</td></tr><tr><td>1922</td><td>115.45454545454545</td><td>11</td><td>115.45</td></tr><tr><td>1923</td><td>100.25</td><td>8</td><td>100.25</td></tr><tr><td>1924</td><td>107.80952380952381</td><td>21</td><td>107.81</td></tr><tr><td>1925</td><td>97.18181818181819</td><td>22</td><td>97.18</td></tr><tr><td>1926</td><td>95.71428571428571</td><td>21</td><td>95.71</td></tr><tr><td>1927</td><td>99.04761904761905</td><td>21</td><td>99.05</td></tr><tr><td>1928</td><td>92.79411764705883</td><td>34</td><td>92.79</td></tr><tr><td>1929</td><td>94.57142857142857</td><td>28</td><td>94.57</td></tr><tr><td>1930</td><td>91.91428571428571</td><td>35</td><td>91.91</td></tr><tr><td>1931</td><td>87.1076923076923</td><td>65</td><td>87.11</td></tr><tr><td>1932</td><td>84.21739130434783</td><td>69</td><td>84.22</td></tr><tr><td>1933</td><td>86.87301587301587</td><td>63</td><td>86.87</td></tr><tr><td>1934</td><td>91.79661016949153</td><td>59</td><td>91.8</td></tr><tr><td>1935</td><td>91.72602739726027</td><td>73</td><td>91.73</td></tr><tr><td>1936</td><td>96.05263157894737</td><td>76</td><td>96.05</td></tr><tr><td>1937</td><td>96.02816901408451</td><td>71</td><td>96.03</td></tr><tr><td>1938</td><td>98.70967741935483</td><td>62</td><td>98.71</td></tr><tr><td>1939</td><td>100.48235294117647</td><td>85</td><td>100.48</td></tr><tr><td>1940</td><td>98.86170212765957</td><td>94</td><td>98.86</td></tr><tr><td>1941</td><td>100.05050505050505</td><td>99</td><td>100.05</td></tr><tr><td>1942</td><td>95.6951219512195</td><td>82</td><td>95.7</td></tr><tr><td>1943</td><td>102.63736263736264</td><td>91</td><td>102.64</td></tr><tr><td>1944</td><td>102.47058823529412</td><td>85</td><td>102.47</td></tr><tr><td>1945</td><td>100.1125</td><td>80</td><td>100.11</td></tr><tr><td>1946</td><td>100.27659574468085</td><td>94</td><td>100.28</td></tr><tr><td>1947</td><td>99.8785046728972</td><td>107</td><td>99.88</td></tr><tr><td>1948</td><td>100.44166666666666</td><td>120</td><td>100.44</td></tr><tr><td>1949</td><td>97.31496062992126</td><td>127</td><td>97.31</td></tr><tr><td>1950</td><td>93.32089552238806</td><td>134</td><td>93.32</td></tr><tr><td>1951</td><td>95.17557251908397</td><td>131</td><td>95.18</td></tr><tr><td>1952</td><td>97.12295081967213</td><td>122</td><td>97.12</td></tr><tr><td>1953</td><td>93.71538461538462</td><td>130</td><td>93.72</td></tr><tr><td>1954</td><td>98.71212121212122</td><td>132</td><td>98.71</td></tr><tr><td>1955</td><td>101.64634146341463</td><td>164</td><td>101.65</td></tr><tr><td>1956</td><td>101.2375</td><td>160</td><td>101.24</td></tr><tr><td>1957</td><td>99.60625</td><td>160</td><td>99.61</td></tr><tr><td>1958</td><td>101.06134969325153</td><td>163</td><td>101.06</td></tr><tr><td>1959</td><td>101.78181818181818</td><td>165</td><td>101.78</td></tr><tr><td>1960</td><td>105.10526315789474</td><td>171</td><td>105.11</td></tr><tr><td>1961</td><td>104.60839160839161</td><td>143</td><td>104.61</td></tr><tr><td>1962</td><td>108.32748538011695</td><td>171</td><td>108.33</td></tr><tr><td>1963</td><td>104.40251572327044</td><td>159</td><td>104.4</td></tr><tr><td>1964</td><td>104.09045226130654</td><td>199</td><td>104.09</td></tr><tr><td>1965</td><td>108.66666666666667</td><td>192</td><td>108.67</td></tr><tr><td>1966</td><td>104.59615384615384</td><td>208</td><td>104.6</td></tr><tr><td>1967</td><td>103.69953051643192</td><td>213</td><td>103.7</td></tr><tr><td>1968</td><td>106.22897196261682</td><td>214</td><td>106.23</td></tr><tr><td>1969</td><td>105.87677725118483</td><td>211</td><td>105.88</td></tr><tr><td>1970</td><td>105.5304347826087</td><td>230</td><td>105.53</td></tr><tr><td>1971</td><td>102.45421245421245</td><td>273</td><td>102.45</td></tr><tr><td>1972</td><td>101.50187265917603</td><td>267</td><td>101.5</td></tr><tr><td>1973</td><td>101.76744186046511</td><td>258</td><td>101.77</td></tr><tr><td>1974</td><td>101.29838709677419</td><td>248</td><td>101.3</td></tr><tr><td>1975</td><td>105.84507042253522</td><td>213</td><td>105.85</td></tr><tr><td>1976</td><td>104.13765182186235</td><td>247</td><td>104.14</td></tr><tr><td>1977</td><td>104.77292576419214</td><td>229</td><td>104.77</td></tr><tr><td>1978</td><td>105.04273504273505</td><td>234</td><td>105.04</td></tr><tr><td>1979</td><td>106.2</td><td>235</td><td>106.2</td></tr><tr><td>1980</td><td>105.36059479553903</td><td>269</td><td>105.36</td></tr><tr><td>1981</td><td>104.56711409395973</td><td>298</td><td>104.57</td></tr><tr><td>1982</td><td>103.54838709677419</td><td>279</td><td>103.55</td></tr><tr><td>1983</td><td>103.15570934256056</td><td>289</td><td>103.16</td></tr><tr><td>1984</td><td>102.83881578947368</td><td>304</td><td>102.84</td></tr><tr><td>1985</td><td>102.12624584717608</td><td>301</td><td>102.13</td></tr><tr><td>1986</td><td>101.77399380804954</td><td>323</td><td>101.77</td></tr><tr><td>1987</td><td>100.21798365122616</td><td>367</td><td>100.22</td></tr><tr><td>1988</td><td>102.57462686567165</td><td>402</td><td>102.57</td></tr><tr><td>1989</td><td>104.33684210526316</td><td>380</td><td>104.34</td></tr><tr><td>1990</td><td>104.85511363636364</td><td>352</td><td>104.86</td></tr><tr><td>1991</td><td>107.10215053763442</td><td>372</td><td>107.1</td></tr><tr><td>1992</td><td>107.57223796033995</td><td>353</td><td>107.57</td></tr><tr><td>1993</td><td>108.37878787878788</td><td>396</td><td>108.38</td></tr><tr><td>1994</td><td>106.83068783068784</td><td>378</td><td>106.83</td></tr><tr><td>1995</td><td>106.91923990498812</td><td>421</td><td>106.92</td></tr><tr><td>1996</td><td>107.04176334106728</td><td>431</td><td>107.04</td></tr><tr><td>1997</td><td>107.1276150627615</td><td>478</td><td>107.13</td></tr><tr><td>1998</td><td>106.75050301810865</td><td>497</td><td>106.75</td></tr><tr><td>1999</td><td>108.63653483992466</td><td>531</td><td>108.64</td></tr><tr><td>2000</td><td>107.60347826086957</td><td>575</td><td>107.6</td></tr><tr><td>2001</td><td>108.01913875598086</td><td>627</td><td>108.02</td></tr><tr><td>2002</td><td>106.25768667642753</td><td>683</td><td>106.26</td></tr><tr><td>2003</td><td>107.45547445255474</td><td>685</td><td>107.46</td></tr><tr><td>2004</td><td>106.81472392638037</td><td>815</td><td>106.81</td></tr><tr><td>2005</td><td>106.51475796930342</td><td>847</td><td>106.51</td></tr><tr><td>2006</td><td>105.24872057318322</td><td>977</td><td>105.25</td></tr><tr><td>2007</td><td>105.36012207527976</td><td>983</td><td>105.36</td></tr><tr><td>2008</td><td>105.23302938196555</td><td>987</td><td>105.23</td></tr><tr><td>2009</td><td>103.25594149908592</td><td>1094</td><td>103.26</td></tr><tr><td>2010</td><td>104.73537604456824</td><td>1077</td><td>104.74</td></tr><tr><td>2011</td><td>104.18727915194346</td><td>1132</td><td>104.19</td></tr><tr><td>2012</td><td>103.375</td><td>1232</td><td>103.38</td></tr><tr><td>2013</td><td>104.88595166163142</td><td>1324</td><td>104.89</td></tr><tr><td>2014</td><td>104.8885754583921</td><td>1418</td><td>104.89</td></tr><tr><td>2015</td><td>104.64647887323943</td><td>1420</td><td>104.65</td></tr><tr><td>2016</td><td>104.90221031480242</td><td>1493</td><td>104.9</td></tr><tr><td>2017</td><td>105.71859296482413</td><td>1592</td><td>105.72</td></tr><tr><td>2018</td><td>107.02679658952496</td><td>1642</td><td>107.03</td></tr><tr><td>2019</td><td>107.64455264759586</td><td>1643</td><td>107.64</td></tr><tr><td>2020</td><td>104.196</td><td>1250</td><td>104.2</td></tr><tr><td>2021</td><td>109.2688713156003</td><td>1391</td><td>109.27</td></tr><tr><td>2022</td><td>112.31737262124003</td><td>1629</td><td>112.32</td></tr><tr><td>2023</td><td>113.6528980679547</td><td>1501</td><td>113.65</td></tr><tr><td>2024</td><td>116.29506802721089</td><td>1176</td><td>116.3</td></tr><tr><td>2025</td><td>118.1358024691358</td><td>162</td><td>118.14</td></tr></tbody></table></div>"
      ]
     },
     "metadata": {
      "application/vnd.databricks.v1+output": {
       "addedWidgets": {},
       "aggData": [],
       "aggError": "",
       "aggOverflow": false,
       "aggSchema": [],
       "aggSeriesLimitReached": false,
       "aggType": "",
       "arguments": {},
       "columnCustomDisplayInfos": {},
       "data": [
        [
         1911,
         71.0,
         1,
         71.0
        ],
        [
         1913,
         90.33333333333333,
         3,
         90.33
        ],
        [
         1914,
         108.5,
         6,
         108.5
        ],
        [
         1915,
         133.5,
         2,
         133.5
        ],
        [
         1916,
         189.33333333333334,
         3,
         189.33
        ],
        [
         1917,
         78.0,
         1,
         78.0
        ],
        [
         1918,
         88.2,
         5,
         88.2
        ],
        [
         1919,
         100.71428571428571,
         14,
         100.71
        ],
        [
         1920,
         98.6923076923077,
         13,
         98.69
        ],
        [
         1921,
         106.18181818181819,
         11,
         106.18
        ],
        [
         1922,
         115.45454545454545,
         11,
         115.45
        ],
        [
         1923,
         100.25,
         8,
         100.25
        ],
        [
         1924,
         107.80952380952381,
         21,
         107.81
        ],
        [
         1925,
         97.18181818181819,
         22,
         97.18
        ],
        [
         1926,
         95.71428571428571,
         21,
         95.71
        ],
        [
         1927,
         99.04761904761905,
         21,
         99.05
        ],
        [
         1928,
         92.79411764705883,
         34,
         92.79
        ],
        [
         1929,
         94.57142857142857,
         28,
         94.57
        ],
        [
         1930,
         91.91428571428571,
         35,
         91.91
        ],
        [
         1931,
         87.1076923076923,
         65,
         87.11
        ],
        [
         1932,
         84.21739130434783,
         69,
         84.22
        ],
        [
         1933,
         86.87301587301587,
         63,
         86.87
        ],
        [
         1934,
         91.79661016949153,
         59,
         91.8
        ],
        [
         1935,
         91.72602739726027,
         73,
         91.73
        ],
        [
         1936,
         96.05263157894737,
         76,
         96.05
        ],
        [
         1937,
         96.02816901408451,
         71,
         96.03
        ],
        [
         1938,
         98.70967741935483,
         62,
         98.71
        ],
        [
         1939,
         100.48235294117647,
         85,
         100.48
        ],
        [
         1940,
         98.86170212765957,
         94,
         98.86
        ],
        [
         1941,
         100.05050505050505,
         99,
         100.05
        ],
        [
         1942,
         95.6951219512195,
         82,
         95.7
        ],
        [
         1943,
         102.63736263736264,
         91,
         102.64
        ],
        [
         1944,
         102.47058823529412,
         85,
         102.47
        ],
        [
         1945,
         100.1125,
         80,
         100.11
        ],
        [
         1946,
         100.27659574468085,
         94,
         100.28
        ],
        [
         1947,
         99.8785046728972,
         107,
         99.88
        ],
        [
         1948,
         100.44166666666666,
         120,
         100.44
        ],
        [
         1949,
         97.31496062992126,
         127,
         97.31
        ],
        [
         1950,
         93.32089552238806,
         134,
         93.32
        ],
        [
         1951,
         95.17557251908397,
         131,
         95.18
        ],
        [
         1952,
         97.12295081967213,
         122,
         97.12
        ],
        [
         1953,
         93.71538461538462,
         130,
         93.72
        ],
        [
         1954,
         98.71212121212122,
         132,
         98.71
        ],
        [
         1955,
         101.64634146341463,
         164,
         101.65
        ],
        [
         1956,
         101.2375,
         160,
         101.24
        ],
        [
         1957,
         99.60625,
         160,
         99.61
        ],
        [
         1958,
         101.06134969325153,
         163,
         101.06
        ],
        [
         1959,
         101.78181818181818,
         165,
         101.78
        ],
        [
         1960,
         105.10526315789474,
         171,
         105.11
        ],
        [
         1961,
         104.60839160839161,
         143,
         104.61
        ],
        [
         1962,
         108.32748538011695,
         171,
         108.33
        ],
        [
         1963,
         104.40251572327044,
         159,
         104.4
        ],
        [
         1964,
         104.09045226130654,
         199,
         104.09
        ],
        [
         1965,
         108.66666666666667,
         192,
         108.67
        ],
        [
         1966,
         104.59615384615384,
         208,
         104.6
        ],
        [
         1967,
         103.69953051643192,
         213,
         103.7
        ],
        [
         1968,
         106.22897196261682,
         214,
         106.23
        ],
        [
         1969,
         105.87677725118483,
         211,
         105.88
        ],
        [
         1970,
         105.5304347826087,
         230,
         105.53
        ],
        [
         1971,
         102.45421245421245,
         273,
         102.45
        ],
        [
         1972,
         101.50187265917603,
         267,
         101.5
        ],
        [
         1973,
         101.76744186046511,
         258,
         101.77
        ],
        [
         1974,
         101.29838709677419,
         248,
         101.3
        ],
        [
         1975,
         105.84507042253522,
         213,
         105.85
        ],
        [
         1976,
         104.13765182186235,
         247,
         104.14
        ],
        [
         1977,
         104.77292576419214,
         229,
         104.77
        ],
        [
         1978,
         105.04273504273505,
         234,
         105.04
        ],
        [
         1979,
         106.2,
         235,
         106.2
        ],
        [
         1980,
         105.36059479553903,
         269,
         105.36
        ],
        [
         1981,
         104.56711409395973,
         298,
         104.57
        ],
        [
         1982,
         103.54838709677419,
         279,
         103.55
        ],
        [
         1983,
         103.15570934256056,
         289,
         103.16
        ],
        [
         1984,
         102.83881578947368,
         304,
         102.84
        ],
        [
         1985,
         102.12624584717608,
         301,
         102.13
        ],
        [
         1986,
         101.77399380804954,
         323,
         101.77
        ],
        [
         1987,
         100.21798365122616,
         367,
         100.22
        ],
        [
         1988,
         102.57462686567165,
         402,
         102.57
        ],
        [
         1989,
         104.33684210526316,
         380,
         104.34
        ],
        [
         1990,
         104.85511363636364,
         352,
         104.86
        ],
        [
         1991,
         107.10215053763442,
         372,
         107.1
        ],
        [
         1992,
         107.57223796033995,
         353,
         107.57
        ],
        [
         1993,
         108.37878787878788,
         396,
         108.38
        ],
        [
         1994,
         106.83068783068784,
         378,
         106.83
        ],
        [
         1995,
         106.91923990498812,
         421,
         106.92
        ],
        [
         1996,
         107.04176334106728,
         431,
         107.04
        ],
        [
         1997,
         107.1276150627615,
         478,
         107.13
        ],
        [
         1998,
         106.75050301810865,
         497,
         106.75
        ],
        [
         1999,
         108.63653483992466,
         531,
         108.64
        ],
        [
         2000,
         107.60347826086957,
         575,
         107.6
        ],
        [
         2001,
         108.01913875598086,
         627,
         108.02
        ],
        [
         2002,
         106.25768667642753,
         683,
         106.26
        ],
        [
         2003,
         107.45547445255474,
         685,
         107.46
        ],
        [
         2004,
         106.81472392638037,
         815,
         106.81
        ],
        [
         2005,
         106.51475796930342,
         847,
         106.51
        ],
        [
         2006,
         105.24872057318322,
         977,
         105.25
        ],
        [
         2007,
         105.36012207527976,
         983,
         105.36
        ],
        [
         2008,
         105.23302938196555,
         987,
         105.23
        ],
        [
         2009,
         103.25594149908592,
         1094,
         103.26
        ],
        [
         2010,
         104.73537604456824,
         1077,
         104.74
        ],
        [
         2011,
         104.18727915194346,
         1132,
         104.19
        ],
        [
         2012,
         103.375,
         1232,
         103.38
        ],
        [
         2013,
         104.88595166163142,
         1324,
         104.89
        ],
        [
         2014,
         104.8885754583921,
         1418,
         104.89
        ],
        [
         2015,
         104.64647887323943,
         1420,
         104.65
        ],
        [
         2016,
         104.90221031480242,
         1493,
         104.9
        ],
        [
         2017,
         105.71859296482413,
         1592,
         105.72
        ],
        [
         2018,
         107.02679658952496,
         1642,
         107.03
        ],
        [
         2019,
         107.64455264759586,
         1643,
         107.64
        ],
        [
         2020,
         104.196,
         1250,
         104.2
        ],
        [
         2021,
         109.2688713156003,
         1391,
         109.27
        ],
        [
         2022,
         112.31737262124003,
         1629,
         112.32
        ],
        [
         2023,
         113.6528980679547,
         1501,
         113.65
        ],
        [
         2024,
         116.29506802721089,
         1176,
         116.3
        ],
        [
         2025,
         118.1358024691358,
         162,
         118.14
        ]
       ],
       "datasetInfos": [],
       "dbfsResultPath": null,
       "isJsonSchema": true,
       "metadata": {},
       "overflow": false,
       "plotOptions": {
        "customPlotOptions": {},
        "displayType": "table",
        "pivotAggregation": null,
        "pivotColumns": null,
        "xColumns": null,
        "yColumns": null
       },
       "removedWidgets": [],
       "schema": [
        {
         "metadata": "{}",
         "name": "Ano",
         "type": "\"integer\""
        },
        {
         "metadata": "{}",
         "name": "Duração Média",
         "type": "\"double\""
        },
        {
         "metadata": "{}",
         "name": "Quantidade de Filmes",
         "type": "\"long\""
        },
        {
         "metadata": "{}",
         "name": "Duração",
         "type": "\"double\""
        }
       ],
       "type": "table"
      }
     },
     "output_type": "display_data"
    },
    {
     "output_type": "stream",
     "name": "stdout",
     "output_type": "stream",
     "text": [
      "Média Geral da Duração: 103.13 minutos\n"
     ]
    }
   ],
   "source": [
    "import matplotlib.pyplot as plt\n",
    "import pandas as pd\n",
    "\n",
    "#Qual o tempo médio de duração dos filmes e como ele mudou ao longo dos anos?\n",
    "query = \"\"\"\n",
    "SELECT \n",
    "  nu_ano_inicial AS `Ano`,\n",
    "  AVG(nu_duracao_min) AS `Duração Média`,\n",
    "  COUNT(*) AS `Quantidade de Filmes`\n",
    "FROM \n",
    "  curado.fato_filmes\n",
    "WHERE\n",
    "  1=1\n",
    "  AND nu_votos > 1000\n",
    "  AND nu_duracao_min BETWEEN 70 AND 300\n",
    "GROUP BY \n",
    "  nu_ano_inicial\n",
    "ORDER BY \n",
    "  nu_ano_inicial;\n",
    "\"\"\"\n",
    "\n",
    "# Executando a consulta no Databricks e convertendo para DataFrame Pandas\n",
    "df_pandas = spark.sql(query).toPandas()\n",
    "\n",
    "# Arredondando a coluna 'Duração' para 2 casas decimais\n",
    "df_pandas['Duração'] = df_pandas['Duração Média'].round(2)\n",
    "\n",
    "# Calculando a média geral da duração\n",
    "media_geral = df_pandas['Duração'].mean()\n",
    "\n",
    "# Criando o gráfico de linha\n",
    "plt.figure(figsize=(10, 6))\n",
    "plt.plot(df_pandas['Ano'], df_pandas['Duração Média'], marker='o', linestyle='-', color='b', label='Duração Média')\n",
    "\n",
    "# Adicionando título e rótulos aos eixos\n",
    "plt.title('Duração Média dos Filmes por Ano')\n",
    "plt.xlabel('Ano')\n",
    "plt.ylabel('Duração Média (minutos)')\n",
    "\n",
    "# Adicionando uma linha horizontal representando a média geral\n",
    "plt.axhline(y=media_geral, color='r', linestyle='--', label=f'Média Geral: {media_geral:.2f} min')\n",
    "\n",
    "# Adicionando uma legenda\n",
    "plt.legend()\n",
    "\n",
    "# Exibindo o gráfico\n",
    "plt.grid(True)\n",
    "plt.tight_layout()\n",
    "plt.show()\n",
    "\n",
    "# Exibindo a tabela de dados\n",
    "display(df_pandas)\n",
    "\n",
    "# Exibindo a média geral com duas casas decimais\n",
    "print(f'Média Geral da Duração: {media_geral:.2f} minutos')\n"
   ]
  },
  {
   "cell_type": "markdown",
   "metadata": {
    "application/vnd.databricks.v1+cell": {
     "cellMetadata": {
      "byteLimit": 2048000,
      "rowLimit": 10000
     },
     "inputWidgets": {},
     "nuid": "5db308f5-0431-4081-9ef1-4c0ac7d5d769",
     "showTitle": false,
     "tableResultSettingsMap": {},
     "title": ""
    }
   },
   "source": [
    "**Comentário:** foi observado um aumento do tempo médio nos últimos anos. Os valores discrepantes nos primeiros anos sofrem efeito da pouca quantidade de filmes que eram produzidos nessa época."
   ]
  }
 ],
 "metadata": {
  "application/vnd.databricks.v1+notebook": {
   "computePreferences": null,
   "dashboards": [],
   "environmentMetadata": {
    "base_environment": "",
    "environment_version": "1"
   },
   "inputWidgetPreferences": null,
   "language": "python",
   "notebookMetadata": {
    "mostRecentlyExecutedCommandWithImplicitDF": {
     "commandId": 3815135770817838,
     "dataframes": [
      "_sqldf"
     ]
    },
    "pythonIndentUnit": 4
   },
   "notebookName": "analises",
   "widgets": {}
  }
 },
 "nbformat": 4,
 "nbformat_minor": 0
}