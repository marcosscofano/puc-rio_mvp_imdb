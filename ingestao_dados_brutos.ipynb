{
 "cells": [
  {
   "cell_type": "code",
   "execution_count": 0,
   "metadata": {
    "application/vnd.databricks.v1+cell": {
     "cellMetadata": {
      "byteLimit": 2048000,
      "rowLimit": 10000
     },
     "inputWidgets": {},
     "nuid": "ee94c2e0-36b5-494f-8308-1e5b8148ac42",
     "showTitle": false,
     "tableResultSettingsMap": {},
     "title": ""
    }
   },
   "outputs": [
    {
     "output_type": "stream",
     "name": "stdout",
     "output_type": "stream",
     "text": [
      "--2025-03-27 13:06:10--  https://datasets.imdbws.com/title.principals.tsv.gz\r\nResolving datasets.imdbws.com (datasets.imdbws.com)... 13.224.14.11, 13.224.14.70, 13.224.14.33, ...\r\nConnecting to datasets.imdbws.com (datasets.imdbws.com)|13.224.14.11|:443... connected.\r\nHTTP request sent, awaiting response... 200 OK\r\nLength: 709174257 (676M) [binary/octet-stream]\r\nSaving to: ‘/mnt/imdb/title.principals.tsv.gz’\r\n\r\n\r          /mnt/imdb   0%[                    ]       0  --.-KB/s               \r         /mnt/imdb/   2%[                    ]  14.29M  71.4MB/s               \r        /mnt/imdb/t   4%[                    ]  29.51M  73.7MB/s               \r       /mnt/imdb/ti   5%[>                   ]  39.40M  65.5MB/s               \r      /mnt/imdb/tit   8%[>                   ]  54.96M  68.5MB/s               \r     /mnt/imdb/titl   9%[>                   ]  67.57M  67.4MB/s               \r    /mnt/imdb/title  11%[=>                  ]  79.32M  65.9MB/s               \r   /mnt/imdb/title.  13%[=>                  ]  92.31M  65.8MB/s               \r  /mnt/imdb/title.p  15%[==>                 ] 107.38M  66.9MB/s               \r /mnt/imdb/title.pr  18%[==>                 ] 122.69M  68.0MB/s               \r/mnt/imdb/title.pri  20%[===>                ] 137.18M  68.4MB/s               \rmnt/imdb/title.prin  22%[===>                ] 152.67M  69.2MB/s               \rnt/imdb/title.princ  24%[===>                ] 167.99M  69.9MB/s               \rt/imdb/title.princi  27%[====>               ] 183.36M  70.4MB/s               \r/imdb/title.princip  29%[====>               ] 198.43M  70.7MB/s               \rimdb/title.principa  31%[=====>              ] 213.81M  71.1MB/s    eta 7s     \rmdb/title.principal  33%[=====>              ] 229.24M  72.2MB/s    eta 7s     \rdb/title.principals  36%[======>             ] 244.24M  71.5MB/s    eta 7s     \rb/title.principals.  37%[======>             ] 252.06M  70.1MB/s    eta 7s     \r/title.principals.t  38%[======>             ] 263.74M  69.6MB/s    eta 7s     \rtitle.principals.ts  41%[=======>            ] 279.24M  69.9MB/s    eta 6s     \ritle.principals.tsv  43%[=======>            ] 294.81M  71.7MB/s    eta 6s     \rtle.principals.tsv.  45%[========>           ] 309.43M  72.1MB/s    eta 6s     \rle.principals.tsv.g  48%[========>           ] 324.99M  72.6MB/s    eta 6s     \re.principals.tsv.gz  50%[=========>          ] 339.95M  72.5MB/s    eta 6s     \r.principals.tsv.gz   52%[=========>          ] 355.51M  72.9MB/s    eta 5s     \rprincipals.tsv.gz    54%[=========>          ] 369.99M  72.5MB/s    eta 5s     \rrincipals.tsv.gz     56%[==========>         ] 382.37M  71.6MB/s    eta 5s     \rincipals.tsv.gz      58%[==========>         ] 397.24M  71.2MB/s    eta 5s     \rncipals.tsv.gz       60%[===========>        ] 411.36M  71.0MB/s    eta 5s     \rcipals.tsv.gz        62%[===========>        ] 420.62M  69.3MB/s    eta 4s     \ripals.tsv.gz         64%[===========>        ] 435.73M  68.9MB/s    eta 4s     \rpals.tsv.gz          66%[============>       ] 447.03M  67.6MB/s    eta 4s     \rals.tsv.gz           67%[============>       ] 459.11M  67.0MB/s    eta 4s     \rls.tsv.gz            69%[============>       ] 472.81M  69.6MB/s    eta 4s     \rs.tsv.gz             71%[=============>      ] 484.10M  68.5MB/s    eta 3s     \r.tsv.gz              72%[=============>      ] 489.35M  65.3MB/s    eta 3s     \rtsv.gz               73%[=============>      ] 498.41M  62.8MB/s    eta 3s     \rsv.gz                75%[==============>     ] 513.72M  63.3MB/s    eta 3s     \rv.gz                 78%[==============>     ] 528.85M  63.4MB/s    eta 3s     \r.gz                  80%[===============>    ] 544.16M  63.0MB/s    eta 2s     \rgz                   82%[===============>    ] 558.22M  63.1MB/s    eta 2s     \rz                    84%[===============>    ] 573.16M  63.4MB/s    eta 2s     \r                     86%[================>   ] 583.36M  62.0MB/s    eta 2s     \r                  /  88%[================>   ] 598.92M  62.9MB/s    eta 2s     \r                 /m  90%[=================>  ] 614.42M  63.1MB/s    eta 1s     \r                /mn  93%[=================>  ] 629.66M  64.6MB/s    eta 1s     \r               /mnt  95%[==================> ] 644.97M  65.2MB/s    eta 1s     \r              /mnt/  97%[==================> ] 659.72M  67.2MB/s    eta 1s     \r             /mnt/i  99%[==================> ] 674.03M  67.0MB/s    eta 1s     \r/mnt/imdb/title.pri 100%[===================>] 676.32M  67.1MB/s    in 9.8s    \r\n\r\n2025-03-27 13:06:20 (68.7 MB/s) - ‘/mnt/imdb/title.principals.tsv.gz’ saved [709174257/709174257]\r\n\r\n--2025-03-27 13:06:20--  https://datasets.imdbws.com/name.basics.tsv.gz\r\nResolving datasets.imdbws.com (datasets.imdbws.com)... 13.224.14.12, 13.224.14.33, 13.224.14.70, ...\r\nConnecting to datasets.imdbws.com (datasets.imdbws.com)|13.224.14.12|:443... connected.\r\nHTTP request sent, awaiting response... 200 OK\r\nLength: 282166040 (269M) [binary/octet-stream]\r\nSaving to: ‘/mnt/imdb/name.basics.tsv.gz’\r\n\r\n\r          /mnt/imdb   0%[                    ]       0  --.-KB/s               \r         /mnt/imdb/   5%[>                   ]  14.06M  70.1MB/s               \r        /mnt/imdb/n  10%[=>                  ]  27.94M  69.8MB/s               \r       /mnt/imdb/na  14%[=>                  ]  40.29M  67.1MB/s               \r      /mnt/imdb/nam  20%[===>                ]  54.17M  67.6MB/s               \r     /mnt/imdb/name  24%[===>                ]  67.17M  67.1MB/s               \r    /mnt/imdb/name.  30%[=====>              ]  80.79M  67.2MB/s               \r   /mnt/imdb/name.b  35%[======>             ]  94.67M  67.5MB/s               \r  /mnt/imdb/name.ba  40%[=======>            ] 108.76M  67.8MB/s               \r /mnt/imdb/name.bas  45%[========>           ] 122.11M  67.7MB/s               \r/mnt/imdb/name.basi  50%[=========>          ] 136.54M  68.1MB/s               \rmnt/imdb/name.basic  54%[=========>          ] 145.92M  66.1MB/s               \rnt/imdb/name.basics  56%[==========>         ] 152.11M  63.2MB/s               \rt/imdb/name.basics.  61%[===========>        ] 166.41M  63.8MB/s               \r/imdb/name.basics.t  66%[============>       ] 177.90M  63.0MB/s               \rimdb/name.basics.ts  71%[=============>      ] 191.97M  63.5MB/s    eta 1s     \rmdb/name.basics.tsv  76%[==============>     ] 205.40M  63.4MB/s    eta 1s     \rdb/name.basics.tsv.  81%[===============>    ] 219.34M  63.4MB/s    eta 1s     \rb/name.basics.tsv.g  86%[================>   ] 233.19M  63.7MB/s    eta 1s     \r/name.basics.tsv.gz  91%[=================>  ] 246.16M  63.6MB/s    eta 1s     \rname.basics.tsv.gz   96%[==================> ] 260.65M  64.3MB/s    eta 0s     \r/mnt/imdb/name.basi 100%[===================>] 269.09M  64.1MB/s    in 4.1s    \r\n\r\n2025-03-27 13:06:24 (65.0 MB/s) - ‘/mnt/imdb/name.basics.tsv.gz’ saved [282166040/282166040]\r\n\r\n--2025-03-27 13:06:25--  https://datasets.imdbws.com/title.akas.tsv.gz\r\nResolving datasets.imdbws.com (datasets.imdbws.com)... 13.224.14.11, 13.224.14.12, 13.224.14.33, ...\r\nConnecting to datasets.imdbws.com (datasets.imdbws.com)|13.224.14.11|:443... connected.\r\nHTTP request sent, awaiting response... 200 OK\r\nLength: 449001650 (428M) [binary/octet-stream]\r\nSaving to: ‘/mnt/imdb/title.akas.tsv.gz’\r\n\r\n\r          /mnt/imdb   0%[                    ]       0  --.-KB/s               \r         /mnt/imdb/   4%[                    ]  21.16M   106MB/s               \r        /mnt/imdb/t  15%[==>                 ]  68.31M   171MB/s               \r       /mnt/imdb/ti  28%[====>               ] 120.47M   201MB/s               \r      /mnt/imdb/tit  39%[======>             ] 169.28M   211MB/s               \r     /mnt/imdb/titl  49%[========>           ] 214.04M   214MB/s               \r    /mnt/imdb/title  60%[===========>        ] 260.74M   217MB/s               \r   /mnt/imdb/title.  71%[=============>      ] 304.08M   217MB/s               \r  /mnt/imdb/title.a  80%[===============>    ] 345.37M   216MB/s               \r /mnt/imdb/title.ak  89%[================>   ] 384.13M   213MB/s               \r/mnt/imdb/title.aka  99%[==================> ] 425.02M   212MB/s               \r/mnt/imdb/title.aka 100%[===================>] 428.20M   213MB/s    in 2.0s    \r\n\r\n2025-03-27 13:06:27 (213 MB/s) - ‘/mnt/imdb/title.akas.tsv.gz’ saved [449001650/449001650]\r\n\r\n--2025-03-27 13:06:28--  https://datasets.imdbws.com/title.basics.tsv.gz\r\nResolving datasets.imdbws.com (datasets.imdbws.com)... 13.224.14.70, 13.224.14.11, 13.224.14.12, ...\r\nConnecting to datasets.imdbws.com (datasets.imdbws.com)|13.224.14.70|:443... connected.\r\nHTTP request sent, awaiting response... 200 OK\r\nLength: 203662694 (194M) [binary/octet-stream]\r\nSaving to: ‘/mnt/imdb/title.basics.tsv.gz’\r\n\r\n\r          /mnt/imdb   0%[                    ]       0  --.-KB/s               \r         /mnt/imdb/   7%[>                   ]  13.68M  68.3MB/s               \r        /mnt/imdb/t  14%[=>                  ]  27.92M  69.7MB/s               \r       /mnt/imdb/ti  21%[===>                ]  41.88M  69.7MB/s               \r      /mnt/imdb/tit  28%[====>               ]  54.43M  68.0MB/s               \r     /mnt/imdb/titl  35%[======>             ]  69.06M  69.0MB/s               \r    /mnt/imdb/title  42%[=======>            ]  81.74M  68.1MB/s               \r   /mnt/imdb/title.  49%[========>           ]  95.62M  68.2MB/s               \r  /mnt/imdb/title.b  56%[==========>         ] 109.81M  68.5MB/s               \r /mnt/imdb/title.ba  63%[===========>        ] 123.23M  68.4MB/s               \r/mnt/imdb/title.bas  70%[=============>      ] 136.92M  68.4MB/s               \rmnt/imdb/title.basi  77%[==============>     ] 151.11M  68.6MB/s               \rnt/imdb/title.basic  85%[================>   ] 165.20M  68.8MB/s               \rt/imdb/title.basics  92%[=================>  ] 179.15M  68.8MB/s               \r/imdb/title.basics.  98%[==================> ] 190.40M  67.9MB/s               \r/mnt/imdb/title.bas 100%[===================>] 194.23M  68.0MB/s    in 2.9s    \r\n\r\n2025-03-27 13:06:31 (68.0 MB/s) - ‘/mnt/imdb/title.basics.tsv.gz’ saved [203662694/203662694]\r\n\r\n--2025-03-27 13:06:32--  https://datasets.imdbws.com/title.crew.tsv.gz\r\nResolving datasets.imdbws.com (datasets.imdbws.com)... 13.224.14.33, 13.224.14.70, 13.224.14.11, ...\r\nConnecting to datasets.imdbws.com (datasets.imdbws.com)|13.224.14.33|:443... connected.\r\nHTTP request sent, awaiting response... 200 OK\r\nLength: 75455023 (72M) [binary/octet-stream]\r\nSaving to: ‘/mnt/imdb/title.crew.tsv.gz’\r\n\r\n\r          /mnt/imdb   0%[                    ]       0  --.-KB/s               \r         /mnt/imdb/  20%[===>                ]  14.56M  72.5MB/s               \r        /mnt/imdb/t  43%[=======>            ]  31.25M  78.0MB/s               \r       /mnt/imdb/ti  67%[============>       ]  48.63M  80.9MB/s               \r      /mnt/imdb/tit  92%[=================>  ]  66.46M  83.0MB/s               \r/mnt/imdb/title.cre 100%[===================>]  71.96M  82.9MB/s    in 0.9s    \r\n\r\n2025-03-27 13:06:33 (82.9 MB/s) - ‘/mnt/imdb/title.crew.tsv.gz’ saved [75455023/75455023]\r\n\r\n--2025-03-27 13:06:34--  https://datasets.imdbws.com/title.episode.tsv.gz\r\nResolving datasets.imdbws.com (datasets.imdbws.com)... 13.224.14.12, 13.224.14.33, 13.224.14.70, ...\r\nConnecting to datasets.imdbws.com (datasets.imdbws.com)|13.224.14.12|:443... connected.\r\nHTTP request sent, awaiting response... 200 OK\r\nLength: 48969400 (47M) [binary/octet-stream]\r\nSaving to: ‘/mnt/imdb/title.episode.tsv.gz’\r\n\r\n\r          /mnt/imdb   0%[                    ]       0  --.-KB/s               \r         /mnt/imdb/  35%[======>             ]  16.75M  83.7MB/s               \r        /mnt/imdb/t  71%[=============>      ]  33.62M  84.0MB/s               \r/mnt/imdb/title.epi 100%[===================>]  46.70M  85.2MB/s    in 0.5s    \r\n\r\n2025-03-27 13:06:34 (85.2 MB/s) - ‘/mnt/imdb/title.episode.tsv.gz’ saved [48969400/48969400]\r\n\r\n--2025-03-27 13:06:35--  https://datasets.imdbws.com/title.ratings.tsv.gz\r\nResolving datasets.imdbws.com (datasets.imdbws.com)... 13.224.14.11, 13.224.14.12, 13.224.14.33, ...\r\nConnecting to datasets.imdbws.com (datasets.imdbws.com)|13.224.14.11|:443... connected.\r\nHTTP request sent, awaiting response... 200 OK\r\nLength: 7799458 (7.4M) [binary/octet-stream]\r\nSaving to: ‘/mnt/imdb/title.ratings.tsv.gz’\r\n\r\n\r          /mnt/imdb   0%[                    ]       0  --.-KB/s               \r/mnt/imdb/title.rat 100%[===================>]   7.44M  --.-KB/s    in 0.1s    \r\n\r\n2025-03-27 13:06:35 (70.6 MB/s) - ‘/mnt/imdb/title.ratings.tsv.gz’ saved [7799458/7799458]\r\n\r\n"
     ]
    }
   ],
   "source": [
    "#criando o diretório de dados brutos\n",
    "dbutils.fs.mkdirs(\"file:/mnt/imdb\")\n",
    "\n",
    "#baixando arquivos dos datasets da IMDB\n",
    "!wget -O /mnt/imdb/title.principals.tsv.gz \"https://datasets.imdbws.com/title.principals.tsv.gz\"\n",
    "!wget -O /mnt/imdb/name.basics.tsv.gz \"https://datasets.imdbws.com/name.basics.tsv.gz\"\n",
    "!wget -O /mnt/imdb/title.akas.tsv.gz \"https://datasets.imdbws.com/title.akas.tsv.gz\"\n",
    "!wget -O /mnt/imdb/title.basics.tsv.gz \"https://datasets.imdbws.com/title.basics.tsv.gz\"\n",
    "!wget -O /mnt/imdb/title.crew.tsv.gz \"https://datasets.imdbws.com/title.crew.tsv.gz\"\n",
    "!wget -O /mnt/imdb/title.episode.tsv.gz \"https://datasets.imdbws.com/title.episode.tsv.gz\"\n",
    "!wget -O /mnt/imdb/title.ratings.tsv.gz \"https://datasets.imdbws.com/title.ratings.tsv.gz\""
   ]
  },
  {
   "cell_type": "code",
   "execution_count": 0,
   "metadata": {
    "application/vnd.databricks.v1+cell": {
     "cellMetadata": {
      "byteLimit": 2048000,
      "rowLimit": 10000
     },
     "inputWidgets": {},
     "nuid": "f387ffc6-0deb-4f1a-b332-1e2e7b520d56",
     "showTitle": false,
     "tableResultSettingsMap": {},
     "title": ""
    }
   },
   "outputs": [
    {
     "output_type": "stream",
     "name": "stdout",
     "output_type": "stream",
     "text": [
      "/mnt/imdb/name.basics.tsv.gz:\t 67.9% -- replaced with /mnt/imdb/name.basics.tsv\r\n/mnt/imdb/title.akas.tsv.gz:\t 82.8% -- replaced with /mnt/imdb/title.akas.tsv\r\n/mnt/imdb/title.basics.tsv.gz:\t 79.6% -- replaced with /mnt/imdb/title.basics.tsv\r\n/mnt/imdb/title.crew.tsv.gz:\t 80.2% -- replaced with /mnt/imdb/title.crew.tsv\r\n/mnt/imdb/title.episode.tsv.gz:\t 79.0% -- replaced with /mnt/imdb/title.episode.tsv\r\n/mnt/imdb/title.principals.tsv.gz:\t 82.6% -- replaced with /mnt/imdb/title.principals.tsv\r\n/mnt/imdb/title.ratings.tsv.gz:\t 71.1% -- replaced with /mnt/imdb/title.ratings.tsv\r\n"
     ]
    }
   ],
   "source": [
    "#descompactando os arquivos\n",
    "!gunzip -v /mnt/imdb/*.gz"
   ]
  },
  {
   "cell_type": "code",
   "execution_count": 0,
   "metadata": {
    "application/vnd.databricks.v1+cell": {
     "cellMetadata": {
      "byteLimit": 2048000,
      "rowLimit": 10000
     },
     "inputWidgets": {},
     "nuid": "a87dfa62-973c-414e-8ea0-9af19759c36c",
     "showTitle": false,
     "tableResultSettingsMap": {},
     "title": ""
    }
   },
   "outputs": [
    {
     "output_type": "display_data",
     "data": {
      "text/html": [
       "<style scoped>\n",
       "  .table-result-container {\n",
       "    max-height: 300px;\n",
       "    overflow: auto;\n",
       "  }\n",
       "  table, th, td {\n",
       "    border: 1px solid black;\n",
       "    border-collapse: collapse;\n",
       "  }\n",
       "  th, td {\n",
       "    padding: 5px;\n",
       "  }\n",
       "  th {\n",
       "    text-align: left;\n",
       "  }\n",
       "</style><div class='table-result-container'><table class='table-result'><thead style='background-color: white'><tr><th>path</th><th>name</th><th>size</th><th>modificationTime</th></tr></thead><tbody><tr><td>file:/mnt/imdb/title.crew.tsv</td><td>title.crew.tsv</td><td>380354655</td><td>1742992914000</td></tr><tr><td>file:/mnt/imdb/title.episode.tsv</td><td>title.episode.tsv</td><td>232753230</td><td>1742992873000</td></tr><tr><td>file:/mnt/imdb/name.basics.tsv</td><td>name.basics.tsv</td><td>878523384</td><td>1742992789000</td></tr><tr><td>file:/mnt/imdb/title.basics.tsv</td><td>title.basics.tsv</td><td>997333505</td><td>1742992828000</td></tr><tr><td>file:/mnt/imdb/title.ratings.tsv</td><td>title.ratings.tsv</td><td>26966662</td><td>1742992845000</td></tr><tr><td>file:/mnt/imdb/title.principals.tsv</td><td>title.principals.tsv</td><td>4083748583</td><td>1742992767000</td></tr><tr><td>file:/mnt/imdb/title.akas.tsv</td><td>title.akas.tsv</td><td>2604017603</td><td>1742992940000</td></tr></tbody></table></div>"
      ]
     },
     "metadata": {
      "application/vnd.databricks.v1+output": {
       "addedWidgets": {},
       "aggData": [],
       "aggError": "",
       "aggOverflow": false,
       "aggSchema": [],
       "aggSeriesLimitReached": false,
       "aggType": "",
       "arguments": {},
       "columnCustomDisplayInfos": {},
       "data": [
        [
         "file:/mnt/imdb/title.crew.tsv",
         "title.crew.tsv",
         380354655,
         1742992914000
        ],
        [
         "file:/mnt/imdb/title.episode.tsv",
         "title.episode.tsv",
         232753230,
         1742992873000
        ],
        [
         "file:/mnt/imdb/name.basics.tsv",
         "name.basics.tsv",
         878523384,
         1742992789000
        ],
        [
         "file:/mnt/imdb/title.basics.tsv",
         "title.basics.tsv",
         997333505,
         1742992828000
        ],
        [
         "file:/mnt/imdb/title.ratings.tsv",
         "title.ratings.tsv",
         26966662,
         1742992845000
        ],
        [
         "file:/mnt/imdb/title.principals.tsv",
         "title.principals.tsv",
         4083748583,
         1742992767000
        ],
        [
         "file:/mnt/imdb/title.akas.tsv",
         "title.akas.tsv",
         2604017603,
         1742992940000
        ]
       ],
       "datasetInfos": [],
       "dbfsResultPath": null,
       "isJsonSchema": true,
       "metadata": {},
       "overflow": false,
       "plotOptions": {
        "customPlotOptions": {},
        "displayType": "table",
        "pivotAggregation": null,
        "pivotColumns": null,
        "xColumns": null,
        "yColumns": null
       },
       "removedWidgets": [],
       "schema": [
        {
         "metadata": "{}",
         "name": "path",
         "type": "\"string\""
        },
        {
         "metadata": "{}",
         "name": "name",
         "type": "\"string\""
        },
        {
         "metadata": "{}",
         "name": "size",
         "type": "\"long\""
        },
        {
         "metadata": "{}",
         "name": "modificationTime",
         "type": "\"long\""
        }
       ],
       "type": "table"
      }
     },
     "output_type": "display_data"
    }
   ],
   "source": [
    "#apresentando os arquivos baixados no diretório\n",
    "display(dbutils.fs.ls(\"file:/mnt/imdb/\"))"
   ]
  }
 ],
 "metadata": {
  "application/vnd.databricks.v1+notebook": {
   "computePreferences": null,
   "dashboards": [],
   "environmentMetadata": {
    "base_environment": "",
    "environment_version": "1"
   },
   "inputWidgetPreferences": null,
   "language": "python",
   "notebookMetadata": {
    "pythonIndentUnit": 4
   },
   "notebookName": "ingestao_dados_brutos",
   "widgets": {}
  }
 },
 "nbformat": 4,
 "nbformat_minor": 0
}